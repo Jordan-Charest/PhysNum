{
 "cells": [
  {
   "cell_type": "markdown",
   "metadata": {},
   "source": [
    "\n",
    "\n",
    "Pouvoir d'arrêt collisionnel des protons:\n",
    "\n",
    "$$\\frac{S_{col}}{\\rho}=-\\left(\\frac{d T}{\\rho dx}\\right)_{col}=NZ\\int_0^{T_e^{max}}T'\\left(\\frac{d\\sigma}{dT'}\\right)_{col}d T'$$"
   ]
  },
  {
   "cell_type": "markdown",
   "metadata": {},
   "source": [
    "$$T_e^{max}=\\frac{2m_e c^2(\\gamma^2 -1)}{1+2\\gamma\\frac{m_e}{m_p}+\\left(\\frac{m_e}{m_p}\\right)^2}$$"
   ]
  },
  {
   "cell_type": "markdown",
   "metadata": {},
   "source": [
    "$$-\\left(\\frac{dT}{dx}\\right)_{col}=2\\pi r^2_em_ec^2n_e\\frac{Z^2}{\\beta^2}\\left[\\ln\\left(\\frac{2m_ec^2(\\gamma^2-1)T_e^{max}}{I^2}\\right)-2\\beta^2-\\delta-2\\frac{C}{Z}+2ZL_1+2Z^2L_2\\right]$$"
   ]
  },
  {
   "cell_type": "markdown",
   "metadata": {},
   "source": [
    "$$S_{col}(T)=2\\pi r_e^2 m_e c^2 n_e\\beta^{-2}\\left[\\ln\\left(\\frac{2m_ec^2\\beta^2\\gamma^2 T_e^{max}}{I^2}\\right)-2\\beta^2\\right]$$"
   ]
  },
  {
   "cell_type": "markdown",
   "metadata": {},
   "source": [
    "CONSTANTES:\n",
    "\n",
    "Définissons d'abord toutes les constantes qui seront utilisées par les fonction définies ci-après, et importons les packages nécessaire (METTRE SOURCES):"
   ]
  },
  {
   "cell_type": "code",
   "execution_count": 34,
   "metadata": {},
   "outputs": [],
   "source": [
    "import numpy as np\n",
    "\n",
    "c = 2.99792458 * 10**8                  # vitesse de la lumière [m/s]\n",
    "re = 2.8179409238 * 10**(-15)           # rayon classique de l'électron [m]\n",
    "me = 9.1093837015 * 10**(-31)           # masse au repos de l'électron [kg]\n",
    "mp = 1.6726219236951 * 10**(-27)        # masse au repos du proton [kg]"
   ]
  },
  {
   "cell_type": "markdown",
   "metadata": {},
   "source": [
    "QUESTION 1:\n",
    "\n",
    "On cherche à obtenir la densité électronique pour un milieu donné, en nombre d'électrons par centimètre cube. Pour ce faire, on a besoin de trois données pour chaque composant distinct du milieu: le numéro atomique ($Z_n$), la fraction massique ($F_n$) et la masse volumique ($M_n$). Toutes ces données sont tabulées sur diverses pages web, notamment celle du NIST.\n",
    "\n",
    "Pour obtenir la densité électronique à partir de ces trois données, on doit déterminer le nombre d'électrons de chaque composant distinct indépendamment. Cela se traduit mathématiquement par:\n",
    "\n",
    "$$N_e=\\sum_{i=1}^{n}\\frac{\\rho}{M_i}Z_i\\cdot F_n\\cdot N_A$$"
   ]
  },
  {
   "cell_type": "markdown",
   "metadata": {},
   "source": [
    "Où $N_e$ est la densité électronique en électrons/cm^3, et $N_A=6.02214076\\times10^{23}$ atomes/mol est le nombre d'Avogadro. On peut coder cette expression de la façon suivante:"
   ]
  },
  {
   "cell_type": "code",
   "execution_count": 35,
   "metadata": {},
   "outputs": [],
   "source": [
    "# Format de données: données = [[Z1, P1, M1], [Z2, P2, M2], ...]\n",
    "# où Zn est le numéro atomique, Fn est la fraction massique et Mn est la masse volumique\n",
    "# Chaque liste individuelle dans la liste \"données\" représente un composant\n",
    "# distinct du milieu (par exemple, H et O pour l'eau).\n",
    "\n",
    "def densiteelec(rho, donnees):\n",
    "    nombreelec = []\n",
    "    for i in donnees:\n",
    "        nombreelec.append(i[1]*rho/i[2]*i[0]*6.02214076*10**(23))\n",
    "    return sum(nombreelec)"
   ]
  },
  {
   "cell_type": "markdown",
   "metadata": {},
   "source": [
    "Cette fonction prend en entrée la masse volumique en $g/cm^3$ du milieu et des listes de $Z$, $F$ et $M$ pour chaque composant du milieu, et retourne la densité électronique en électrons/$cm^3$"
   ]
  },
  {
   "cell_type": "markdown",
   "metadata": {},
   "source": [
    "Pouvant maintenant calculer les densités électroniques, il sera utile de les calculer et d'enregistrer ces valeurs dans un dictionnaire afin de pouvoir y accéder aisément plus tard. Définissons donc le dictionnaire \"milieu\", qui contiendra trois valeurs: la densité électronique (que nous pouvons maintenant calculer), ainsi que la masse volumique et l'énergie d'excitation moyenne, toutes deux tirées directement du site du NIST. Toutes les données utilisées pour faire les calculs de densité électronique ont aussi été tirées du site web du NIST:"
   ]
  },
  {
   "cell_type": "code",
   "execution_count": 36,
   "metadata": {},
   "outputs": [],
   "source": [
    "# milieu = {\"milieu1\": (densité électronique [e/c,^3], rho [g/cm^3], énergie moy d'activation [J])}\n",
    "\n",
    "rho_eau = 1\n",
    "donnees_eau = [[1, 0.111894, 1.0079], [8, 0.888106, 15.999]]\n",
    "I_eau = 75 / (6.242*10**18)\n",
    "\n",
    "rho_os = 1.85\n",
    "donnees_os = [\n",
    "    [1, 0.063984, 1.0079], \n",
    "    [6, 0.278000, 12.011], \n",
    "    [7, 0.027000, 14.007], \n",
    "    [8, 0.410016, 15.999], \n",
    "    [12, 0.002000, 24.305], \n",
    "    [15, 0.070000, 30.974], \n",
    "    [16, 0.002000, 32.06], \n",
    "    [20, 0.147000, 40.078]\n",
    "    ]\n",
    "I_os = 91.9 / (6.242*10**18)\n",
    "\n",
    "milieu = {}\n",
    "milieu[\"eau\"] = (densiteelec(rho_eau, donnees_eau), rho_eau, I_eau)\n",
    "milieu[\"os\"] = (densiteelec(rho_os, donnees_os), rho_os, I_os)"
   ]
  },
  {
   "cell_type": "markdown",
   "metadata": {},
   "source": [
    "Lorsqu'on aura des fonctions qui feront appel à l'une de ces deux variables, on pourra donc simplement passer en argument le milieu dans lequel on souhaite évaluer la fonction; cela nous évitera d'avoir à \"hard-code\" des valeurs ou encore à propgrammer plusieurs fonctions distinctes. Les valeurs de densité électronique pour l'eau et l'os compact sont donc:"
   ]
  },
  {
   "cell_type": "code",
   "execution_count": 37,
   "metadata": {},
   "outputs": [
    {
     "name": "stdout",
     "output_type": "stream",
     "text": [
      "densité électronique de l'eau = 3.342876611513782e+23 électrons / cm^3\n",
      "densité électronique de l'os compact = 5.9059477632844346e+23 électrons / cm^3\n"
     ]
    }
   ],
   "source": [
    "print(\"densité électronique de l'eau =\", milieu[\"eau\"][0], \"électrons / cm^3\")\n",
    "print(\"densité électronique de l'os compact =\", milieu[\"os\"][0], \"électrons / cm^3\")"
   ]
  },
  {
   "cell_type": "markdown",
   "metadata": {},
   "source": [
    "Voici les graphiques demandés à la question 1, IL RESTERA À AJOUTER LE TEXTE EXPLICATIF ET LA DÉMARCHE, GENRE JE PENSE QU'IL FAUDRA PARLER DE COMMENT ON FAIT LA FONCTION DU POUVOIR D'ARRÊT, JSP? ET AUSSI PARLER DE LA FONCTION QUI CALCULE LA DENSITÉ D'ÉLECTRONS"
   ]
  },
  {
   "cell_type": "markdown",
   "metadata": {},
   "source": [
    "<center><img src=\"Q1_fig_eau.png\"/></center>\n",
    "<center>Figure 1. Pouvoir d'arrêt selon l'énergie cinétique initiale dans l'eau liquide"
   ]
  },
  {
   "cell_type": "markdown",
   "metadata": {},
   "source": [
    "<center><img src=\"Q1_fig_os.png\"/></center>\n",
    "<center>Figure 2. Pouvoir d'arrêt selon l'énergie cinétique initiale dans l'os compact"
   ]
  },
  {
   "cell_type": "markdown",
   "metadata": {},
   "source": [
    "QUESTION 2\n",
    "\n",
    "Le fait de considérer seulement l'effet de l'interaction entre les électrons et les protons sur le pouvoir est légitime car cet effet dépasse largement les autres effets qui influencent le pouvoir d'arrêt. Les deux autres phénomènes principaux sont l'effet Bremsstrahlung, qui cause des pertes radiatives, et l'interaction entre les protons et les noyaux atomiques. Selon les données du NIST (SOURCE) représentées à la figure 4, on observe que l'effet de l'interaction entre les protons et les noyaux atomiques dans l'os compact est faible comparée à l'interaction entre les protons et les électrons, spécialement pour la plage d'intérêt, c'est-à-dire pour une énergie cinétique de 3 à 250 MeV. Les données du NIST pour l'eau liquide (SOURCE ET FIGURE 3!!???) montrent un comportement similaire. Par exemple, pour une énergie cinétique de 100 MeV, selon le NIST, les pertes causées par l'interaction proton-électron dans l'eau liquide sont de 45,6 MeV tandis que les pertes causées par l'intéraction proton-noyaux atomiques est de 26,0 keV. Les pertes causées par les interactions avec les électrons sont donc environ 1754 fois plus grandes que celles causées par les interactions avec les noyaux atomiques dans cette situation."
   ]
  },
  {
   "cell_type": "markdown",
   "metadata": {},
   "source": [
    "<center><img src=\"PouvoirArretTotalEau.png\"/></center>\n",
    "<center>Figure 3. AJOUTER UN TITRE ET UNE RÉFÉRENCE AU NIST"
   ]
  },
  {
   "cell_type": "markdown",
   "metadata": {},
   "source": [
    "<center><img src=\"PouvoirArretTotalOS.png\"/></center>\n",
    "<center>Figure 4. AJOUTER UN TITRE ET UNE RÉFÉRENCE AU NIST\n"
   ]
  },
  {
   "cell_type": "markdown",
   "metadata": {},
   "source": [
    "Pour l'effet Bremsstrahlung, on peut déterminer l'ordre de grandeur des pertes radiatives des protons à partir des données sur les pertes radiatives des faisceaux d'électrons dans les différents milieux. Selon les données du NIST (SOURCE), les pertes radiatives maximales pour un faisceau d'électron dans l'eau liquide pour des énergies de 3 à 250 MeV sont de l'ordre de 1 MeV. Pour un faisceau de protons, la force électromagnétique issue de l'intéraction entre les protons et les électrons sera du même ordre de grandeur que pour un faisceau d'électrons, mais, comme la masse du proton est environ 1836 fois (SOURCE) plus grande que celle de l'électron, l'accélération des protons sera alors environ 1836 fois plus petit par la deuxième loi de Newton. Comme l'accélération cause les pertes radiatives, celles-ci seront également 1836 fois plus petites que pour un faisceau d'électrons. Les pertes seront alors de l'ordre du keV et seront négligeables comparées aux pertes dues aux interactions proton-électron, qui sont de l'ordre du MeV. On peut effectuer le même raisonnement pour l'os compact à partir des données du NIST et en arriver à la même conclusion."
   ]
  },
  {
   "cell_type": "markdown",
   "metadata": {},
   "source": [
    "QUESTION 3\n",
    "\n",
    "Comme le pouvoir d'arrêt du milieu représente la quantité d'énergie que le proton perd lorsqu'il se propage dans le milieu, on voit logiquement que le proton pourra se propager plus loin si le pouvoir d'arrêt du milieu est faible. Il se propagera moins loin si le pouvoir d'arrêt est grand. Il est donc cohérent d'intégrer sur l'inverse du pouvoir d'arrêt afin de déterminer la portée du proton.\n",
    "\n",
    "AJOUTER PLUS D'EXPLICATIONS???"
   ]
  },
  {
   "cell_type": "markdown",
   "metadata": {},
   "source": [
    "QUESTION 4\n",
    "\n",
    "On peut réécrire l'équation du pouvoir d'arrêt en fonction de $\\gamma$ à l'aide des relations suivantes:\n",
    "$$U = 2\\pi r_e^2m_ec^2n_e$$\n",
    "$$T = (\\gamma-1)m_pc^2$$\n",
    "$$T_e^{max} = \\frac{a(\\gamma^2-1)}{b + \\delta\\gamma}$$\n",
    "$$\\beta^2\\gamma^2 = (\\gamma^2-1)$$\n",
    "où $a$, $b$ et $\\delta$ sont des constantes qui dépendent des masses de l'électron et du proton. On En remplaçant dans dans l'équation du pouvoir d'arrêt, on a\n",
    "$$S_{col} = U\\frac{\\gamma^2}{(\\gamma^2-1)}\\Bigg[\\ln\\bigg(\\frac{2m_ec^2a(\\gamma^2-1)^2}{I^2(b + \\delta)}\\bigg)\\Bigg] - 2U$$\n",
    "En posant les changements de variable d'intégration $T = T_i - T$ et $T = (\\gamma-1)m_pc^2$, on obtient une intégrale de la forme suivante pour la portée:\n",
    "$$R_{CSDA} = \\rho m_pc^2\\int \\frac{\\text{d}\\gamma}{U\\frac{\\gamma^2}{(\\gamma^2-1)}\\Bigg[\\ln\\bigg(\\frac{2m_ec^2a(\\gamma^2-1)^2}{I^2(b + \\delta)}\\bigg)\\Bigg] - 2U}$$\n",
    "Une intégrale de cette forme ne possède pas de solution analytique connue, donc on doit la résoudre numériquement. On peut vérifier qu'elle n'a pas de solution analytique avec un logiciel de calcul tel que WolframAlpha."
   ]
  },
  {
   "cell_type": "markdown",
   "metadata": {},
   "source": [
    "QUESTION 5\n",
    "\n",
    "Implémentons d'abord la méthode des trapèzes, étant donné que celle-ci sera nécessaire au fonctionnement de la méthode de Romberg:"
   ]
  },
  {
   "cell_type": "code",
   "execution_count": 38,
   "metadata": {},
   "outputs": [],
   "source": [
    "def trapeze(f, N, a, b, *args):\n",
    "    h = (b-a)/N\n",
    "\n",
    "    s = 0.5*f(a, *args)+0.5*f(b, *args)\n",
    "    for i in range(1,N):\n",
    "        s += f(a+i*h, *args)\n",
    "    \n",
    "    return h*s"
   ]
  },
  {
   "cell_type": "markdown",
   "metadata": {},
   "source": [
    "Cette fonction prend en argument la fonction à intégrer f, le nombre de tranches N, les deux bornes d'intégration a et b, ainsi que des arguments optionnels propre à la fonction à intégrer. On peut maintenant implémenter la méthode de Romberg:"
   ]
  },
  {
   "cell_type": "code",
   "execution_count": 39,
   "metadata": {},
   "outputs": [],
   "source": [
    "def romberg(f, i_max, a, b, *args):\n",
    "    Rn = []\n",
    "    N = 1\n",
    "    for i in range(i_max):\n",
    "        Rn.append([trapeze(f, N, a, b, *args)])\n",
    "        N = 2 * N\n",
    "        for m in range(i):\n",
    "            Rn[i].append(Rn[i][m] + (Rn[i][m] - Rn[i-1][m]) / (4**(m+1) - 1))\n",
    "    return Rn[-1][-1]"
   ]
  },
  {
   "cell_type": "markdown",
   "metadata": {},
   "source": [
    "On veut maintenant, à l'aide de ces deux algorithmes, évaluer la portée des protons dans l'eau et dans l'os compact. La portée est donnée par:\n",
    "\n",
    "$$R_{CSDA}=\\rho\\int_0^{T_i}\\frac{1}{S_{col}}$$\n",
    "\n",
    "Où $\\rho$ est la masse volumique du milieu en $kg/m^3$, $T_i$ est l'énergie d'entrée du proton en MeV, et $S_{col}$ est le pouvoir d'arrêt en MeV par mètre. On doit donc d'abord implémenter une fonction calculant le pouvoir d'arrêt d'un matériau donné avant de pouvoir déterminer la portée. Le pouvoir d'arrêt est donné par:\n",
    "\n",
    "$$S_{col}(T)=2\\pi r_e^2 m_e c^2 n_e\\beta^{-2}\\left[\\ln\\left(\\frac{2m_ec^2\\beta^2\\gamma^2 T_e^{max}}{I^2}\\right)-2\\beta^2\\right]$$\n",
    "\n",
    "En remplaçant $\\gamma$ et $\\beta$ avec les expressions suivantes afin que l'expression soit en fonction de $T$:\n",
    "\n",
    "$$\\gamma = \\frac{T}{m_p c^2}+1 \\qquad \\beta = \\sqrt{1-\\gamma^{-2}}$$\n",
    "\n",
    "On implémente une fonction calculant l'énergie de transfert maximale, soit:\n",
    "\n",
    "$$T_e^{max}=\\frac{2 m_e c^2 (\\gamma^2 - 1)}{1+2\\gamma\\frac{m_e}{m_p}+\\left(\\frac{m_e}{m_p}\\right)^2}$$"
   ]
  },
  {
   "cell_type": "code",
   "execution_count": 40,
   "metadata": {},
   "outputs": [],
   "source": [
    "def e_transf_max(gamma):\n",
    "    te_max = 2 * me * c**2 * (gamma**2 - 1) / (1 + 2*gamma*me/mp + (me/mp)**2)\n",
    "    return te_max"
   ]
  },
  {
   "cell_type": "markdown",
   "metadata": {},
   "source": [
    "On peut ensuite implémenter la fonction pouvoir_arret retournant le pouvoir d'arrêt en MeV/m et prenant en entrée $T$ ainsi que le milieu:"
   ]
  },
  {
   "cell_type": "code",
   "execution_count": 41,
   "metadata": {},
   "outputs": [],
   "source": [
    "def pouvoir_arret(T, mil): # Pouvoir d'arrêt [MeV/m]\n",
    "\n",
    "    # T de MeV à J\n",
    "    T = T / 6241506479963.2\n",
    "\n",
    "    # densité électronique de g/cm-3 à kg/m-3\n",
    "    ne = milieu[mil][0]*10**6\n",
    "\n",
    "    # Calcul de gamma et beta\n",
    "    gamma = T / (mp * c**2) + 1\n",
    "    beta = np.sqrt(1 - gamma**(-2))\n",
    "\n",
    "    # Calcul de l'énergie de transfert maximal\n",
    "    te_max = e_transf_max(gamma)\n",
    "    #print(\"te_max=\",te_max)\n",
    "\n",
    "    const = 2 * np.pi * re**2 * me * c**2 * ne / beta**2\n",
    "    parenth = np.log(2 * me * c**2 * gamma**2 * te_max / milieu[mil][2]**2) - (2 * beta**2)\n",
    "    #print(\"const=\",const)\n",
    "    #print(\"parenth=\",parenth)\n",
    "\n",
    "    return (const * parenth) * 6241506479963.2"
   ]
  },
  {
   "cell_type": "markdown",
   "metadata": {},
   "source": [
    "À noter qu'on convertit d'abord les MeV en J afin que toutes les unités soient SI, puis qu'on reconvertit la réponse en MeV à la ligne où se trouve le return. Ayant maintenant les fonctions requises, on peut maintenant calculer la portée à l'aide des deux méthodes d'intégration pour une énergie d'entrée de 150 MeV:"
   ]
  },
  {
   "cell_type": "code",
   "execution_count": 42,
   "metadata": {},
   "outputs": [],
   "source": [
    "def inv_pouvoir_arret(T, mil):\n",
    "    return pouvoir_arret(T, mil)**(-1)\n",
    "\n",
    "#TODO: Hardcoder a=0 vu que c'est un calcul de la portée???\n",
    "\n",
    "def portee(i, a, b, mil, methode):\n",
    "    N = 2 ** i\n",
    "    if methode == \"trapeze\":\n",
    "        return milieu[mil][1] * 1000 * trapeze(inv_pouvoir_arret, N, a, b, mil)\n",
    "    elif methode == \"romberg\":\n",
    "        return milieu[mil][1] * 1000 * romberg(inv_pouvoir_arret, i, a, b, mil)"
   ]
  },
  {
   "cell_type": "markdown",
   "metadata": {},
   "source": [
    "Il est à noter que puisque les éléments de chaque liste du dictionnaire \"dens\" (défini à la question 1) sont en électrons/$cm^3$ et en $g/cm^3$ respectivement; il est donc important de se rappeler de les convertir de façon appropriée dans les fonctions."
   ]
  },
  {
   "cell_type": "markdown",
   "metadata": {},
   "source": [
    "On peut donc spécifier tous les paramètres pour obtenir la portée. Si par exemple on veut la portée dans l'os compact avec la méthode des trapèzes, avec N=256 tranches entre 0 et 150 MeV, on écrira:"
   ]
  },
  {
   "cell_type": "code",
   "execution_count": 43,
   "metadata": {},
   "outputs": [
    {
     "name": "stdout",
     "output_type": "stream",
     "text": [
      "portée dans l'os compact avec la méthode des trapèzes= 150.7889894360246\n",
      "portée dans l'os compact avec la méthode des trapèzes= 150.78930095842023\n",
      "portée dans l'eau avec la méthode des trapèzes= 140.60611085038943\n",
      "portée dans l'eau avec la méthode des trapèzes= 140.60639790093995\n"
     ]
    },
    {
     "name": "stderr",
     "output_type": "stream",
     "text": [
      "C:\\Users\\benja\\Anaconda3\\lib\\site-packages\\ipykernel_launcher.py:17: RuntimeWarning: divide by zero encountered in double_scalars\n",
      "C:\\Users\\benja\\Anaconda3\\lib\\site-packages\\ipykernel_launcher.py:18: RuntimeWarning: divide by zero encountered in log\n"
     ]
    }
   ],
   "source": [
    "print(\"portée dans l'os compact avec la méthode des trapèzes=\", portee(8, 0, 150, \"os\", \"trapeze\"))\n",
    "print(\"portée dans l'os compact avec la méthode des trapèzes=\", portee(8, 0, 150, \"os\", \"romberg\"))\n",
    "\n",
    "print(\"portée dans l'eau avec la méthode des trapèzes=\", portee(8, 0, 150, \"eau\", \"trapeze\"))\n",
    "print(\"portée dans l'eau avec la méthode des trapèzes=\", portee(8, 0, 150, \"eau\", \"romberg\"))"
   ]
  },
  {
   "cell_type": "markdown",
   "metadata": {},
   "source": [
    "Maintenant, on veut estimer le nombre de tranches nécessaires pour atteindre la précision machine pour chacune de ces méthodes. On prendra, comme suggéré dans les notes de cours, une valeur conservatrice de $10^{-16}$ pour l'erreur d'arrondi, et on estimera le nombre de tranches nécessaires pour que l'erreur d'approximation se retrouve en déça de cette valeur.\n",
    "\n",
    "MÉTHODE DES TRAPÈZES\n",
    "\n",
    "On peut tirer des notes de cours une expression estimant l'erreur d'approximation commise par une intégration numérique, soit:\n",
    "\n",
    "$$\\epsilon_{2N}=\\frac{1}{3}(I_{2N}-I_N)$$\n",
    "\n",
    "On cherche donc la valeur 2N pour que l'expression suivante soit vraie:\n",
    "\n",
    "$$\\frac{1}{3}(I_{2N}-I_N) < 10^{-16}$$\n",
    "\n",
    "On peut programmer une fonction qui détermine ce nombre 2N de tranches par itération. On débutera donc en évaluant la fonction à 1 et 2 tranches, puis nous augmenterons le nombre de tranches de 10% à chaque évaluation de la fonction."
   ]
  },
  {
   "cell_type": "code",
   "execution_count": 44,
   "metadata": {},
   "outputs": [],
   "source": [
    "import math\n",
    "\n",
    "def estim_trapeze(Ni, a, b, mil):\n",
    "    N = Ni\n",
    "    I1 = 0\n",
    "    I2 = trapeze(inv_pouvoir_arret, N, a, b, mil) * 1000 * milieu[mil][1]\n",
    "    while I2 - I1 > 3*10**(-16):\n",
    "        N = math.ceil(N*1.15)\n",
    "        I1 = I2\n",
    "        I2 = trapeze(inv_pouvoir_arret, N, a, b, mil) * 1000 * milieu[mil][1]\n",
    "    return N"
   ]
  },
  {
   "cell_type": "markdown",
   "metadata": {},
   "source": [
    "Si on veut estimer le nombre de tranches requises pour l'eau, on aura donc:"
   ]
  },
  {
   "cell_type": "code",
   "execution_count": 45,
   "metadata": {},
   "outputs": [],
   "source": [
    "#nb = estim_trapeze(1, 0, 150, \"eau\")\n",
    "#print(\"Estimé du nombre de tranches requises:\",nb)"
   ]
  },
  {
   "cell_type": "markdown",
   "metadata": {},
   "source": [
    "QUESTION 7\n",
    "\n",
    "On utilise l'expression pour le pouvoir d'arrêt en fonction de $\\gamma$ déterminé à la question 4:\n",
    "$$S_{col} = U\\frac{\\gamma^2}{(\\gamma^2-1)}\\Bigg[\\ln\\bigg(\\frac{2m_ec^2a(\\gamma^2-1)^2}{I^2(b + \\delta\\gamma)}\\bigg)\\Bigg] - 2U$$\n",
    "On désire utiliser la formule pour la dérivée d'une multiplication et la dérivation en chaîne. On calcule les dérivées nécessaires:\n",
    "$$\\frac{\\text{d}}{\\text{d}\\gamma} \\frac{\\gamma^2}{\\gamma^2-1} = \\Bigg(\\frac{2\\gamma}{\\gamma^2-1} - \\frac{2\\gamma^3}{(\\gamma^2-1)^2}\\Bigg) = \\frac{-2\\gamma}{(\\gamma^2-1)^2}$$\n",
    "$$\\frac{\\text{d}}{\\text{d}\\gamma} \\ln\\bigg(\\frac{2m_ec^2a(\\gamma^2-1)^2}{I^2(b + \\delta\\gamma)}\\bigg)= \\frac{I^2(b+\\delta\\gamma)}{2m_ec^2a(\\gamma^2-1)} \\Bigg(\\frac{8m_ec^2a\\gamma(\\gamma^2-1)}{I^2(b+\\delta\\gamma)} - \\frac{2\\delta}{\\delta(b+\\delta \\gamma)}\\Bigg)$$\n",
    "$$\\frac{\\text{d}}{\\text{d}\\gamma} \\ln\\bigg(\\frac{2m_ec^2a(\\gamma^2-1)^2}{I^2(b + \\delta\\gamma)}\\bigg) = \\Bigg(\\frac{4\\gamma}{\\gamma^2-1} - \\frac{\\delta}{\\delta(b+\\delta \\gamma)}\\Bigg)$$\n",
    "$$\\frac{\\text{d}\\gamma}{\\text{d}T} = \\frac{1}{m_pc^2}$$\n",
    "On peut alors déterminer la dérivée première du pouvoir d'arrêt:\n",
    "$$\\frac{\\text{d}S_{col}}{\\text{d}T} = \\frac{\\text{d}S_{col}}{\\text{d}\\gamma}\\frac{\\text{d}\\gamma}{\\text{d}T}$$\n",
    "$$\\frac{\\text{d}S_{col}}{\\text{d}T} = \\frac{U}{m_pc^2}\\Bigg[\\frac{-2\\gamma}{(\\gamma^2-1)^2}\\ln\\bigg(\\frac{2m_ec^2a(\\gamma^2-1)^2}{I^2(b + \\delta\\gamma)}\\bigg) + \\frac{\\gamma^2}{(\\gamma^2-1)}\\Bigg(\\frac{4\\gamma}{\\gamma^2-1} - \\frac{\\delta}{b+\\delta \\gamma}\\Bigg)\\Bigg]$$\n",
    "$$\\frac{\\text{d}S_{col}}{\\text{d}T} = \\frac{U}{m_pc^2}\\frac{\\gamma}{(\\gamma^2-1)^2}\\Bigg[4\\gamma^2 - 2\\ln\\bigg(\\frac{2m_ec^2a(\\gamma^2-1)^2}{I^2(b + \\delta\\gamma)}\\bigg) - \\frac{\\delta\\gamma(\\gamma^2-1)}{b+\\delta\\gamma}\\Bigg]$$"
   ]
  },
  {
   "cell_type": "markdown",
   "metadata": {},
   "source": [
    "QUESTION 8\n",
    "\n",
    "BONJOUR ASLDFH ASJDFHKAJSHFAXOCV UIZKDFSLJ APWSUOJFVNSLKAFIZSPKLDCJXDOAE:<!-- V  -->"
   ]
  },
  {
   "cell_type": "markdown",
   "metadata": {},
   "source": [
    "QUESTION 8\n",
    "\n",
    "On définit une méthode pour déterminer analytiquement l'erreur sur l'intégration par la méthode des trapèzes en utilisant la dérivée de la fonction à intégrer:"
   ]
  },
  {
   "cell_type": "code",
   "execution_count": 46,
   "metadata": {},
   "outputs": [],
   "source": [
    "def erreur_trapeze(f, N, a, b, *args):\n",
    "    return 1/12 * (N / (b - a))**2 * (f(a, *args) - f(b, *args))"
   ]
  },
  {
   "cell_type": "markdown",
   "metadata": {},
   "source": [
    "Dans le cas présent, la dérivée du pouvoir d'arrêt a été déterminée analytiquement. On définit la dérivée de l'inverse de la fonction à intégrer :"
   ]
  },
  {
   "cell_type": "code",
   "execution_count": 47,
   "metadata": {},
   "outputs": [],
   "source": [
    "def dS_dT(T, mil):\n",
    "    T = T / 6241506479963.2\n",
    "    ne = milieu[mil][0]*10**6\n",
    "    gamma = T / (mp*c**2) + 1\n",
    "    a = 2*me*c**2\n",
    "    b = 1 + (me/mp)**2\n",
    "    d = 2 * (me/mp)\n",
    "    return 2*np.pi*re**2*me*ne*1000 / mp * gamma / (gamma**2-1) * (4*gamma**2 - 2*np.log(2*me*c**2*a*(gamma-1) / (milieu[mil][2]**2*(b+d))) - (d*gamma*(gamma**2-1)) / (b + d*gamma))\n",
    "\n",
    "def derivee_integrande(T, mil):\n",
    "    return -milieu[mil][1]*1000 * inv_pouvoir_arret(T, mil)**2 * dS_dT(T, mil)"
   ]
  },
  {
   "cell_type": "markdown",
   "metadata": {},
   "source": [
    "On peut donc déterminer analytiquement l'erreur sur la portée des protons avec une énergie de 150 MeV déterminée par la méthode des trapèzes avec 256 tranches :"
   ]
  },
  {
   "cell_type": "code",
   "execution_count": 48,
   "metadata": {},
   "outputs": [
    {
     "name": "stdout",
     "output_type": "stream",
     "text": [
      "erreur sur la méthode des trapèzes dans l'eau : -0.6182191672067192\n",
      "erreur sur la méthode des trapèzes dans l'os compact : -0.6590463628407133\n"
     ]
    }
   ],
   "source": [
    "print(\"erreur sur la méthode des trapèzes dans l'eau :\", erreur_trapeze(derivee_integrande, 256, 0.1, 150, \"eau\"))\n",
    "print(\"erreur sur la méthode des trapèzes dans l'os compact :\", erreur_trapeze(derivee_integrande, 256, 0.1, 150, \"os\"))"
   ]
  },
  {
   "cell_type": "markdown",
   "metadata": {},
   "source": [
    "# Optimisation\n",
    "\n",
    "On veut maintenant comparer les performances des différentes méthodes d'intégration à des fins d'optimisation. Dans cette section, comme le milieu n'a pas d'impact sur la performance, tous les calculs sont effectués en considérant que le milieu est l'eau liquide. Tout d'abord, on génère aléatoirement une distribution de 10 000 protons où l'énergie cinétique initiale est donnée par une distribution de Moyal et on la représente sur un histogramme:"
   ]
  },
  {
   "cell_type": "code",
   "execution_count": 49,
   "metadata": {},
   "outputs": [
    {
     "data": {
      "image/png": "[encoded data removed]",
      "text/plain": [
       "<Figure size 720x480 with 1 Axes>"
      ]
     },
     "metadata": {
      "needs_background": "light"
     },
     "output_type": "display_data"
    }
   ],
   "source": [
    "from scipy.stats import moyal\n",
    "import matplotlib.pyplot as plt\n",
    "%matplotlib inline\n",
    "\n",
    "\n",
    "sample = moyal(loc=150, scale=4).rvs(size=10000)\n",
    "\n",
    "plt.figure(dpi=120)\n",
    "groupes = [120, 130, 140, 150, 160, 170, 180, 200, 210, 220, 240]\n",
    "plt.hist(sample, bins=groupes)\n",
    "plt.xlabel('Énergie cinétique initiale [MeV]')\n",
    "plt.ylabel('Nombre de protons')\n",
    "plt.show()"
   ]
  },
  {
   "cell_type": "markdown",
   "metadata": {},
   "source": [
    "On veut ensuite déterminer le nombre de portées de protons que chaque méthode d'intégration peut calculer en 1 seconde. Pour ce faire, on utilise le module *timeit* et on calcule le temps nécessaire pour calculer les 10 000 portées pour chaque méthode d'intégration:"
   ]
  },
  {
   "cell_type": "code",
   "execution_count": 50,
   "metadata": {},
   "outputs": [
    {
     "name": "stderr",
     "output_type": "stream",
     "text": [
      "C:\\Users\\benja\\Anaconda3\\lib\\site-packages\\ipykernel_launcher.py:17: RuntimeWarning: divide by zero encountered in double_scalars\n",
      "C:\\Users\\benja\\Anaconda3\\lib\\site-packages\\ipykernel_launcher.py:18: RuntimeWarning: divide by zero encountered in log\n"
     ]
    },
    {
     "name": "stdout",
     "output_type": "stream",
     "text": [
      "Temps pour la méthode des trapèzes : 1.0677835999999843 secondes\n",
      "Temps pour la méthode de Romberg : 0.6746056000001772 secondes\n",
      "Temps pour la fonction native de scipy : 29.494658300000083 secondes\n"
     ]
    }
   ],
   "source": [
    "import timeit\n",
    "import scipy as sp\n",
    "\n",
    "\n",
    "#TODO: Déterminer le nombre de tranches nécessaire pour atteindre la précision de la fonction de scipy (2**i)\n",
    "\n",
    "# Méthode des trapèzes\n",
    "\n",
    "portees_trapeze = []\n",
    "\n",
    "t_1 = timeit.default_timer()\n",
    "for p in sample:\n",
    "    portees_trapeze.append(portee(1, 0, p, 'eau', 'trapeze'))\n",
    "t_2 = timeit.default_timer()\n",
    "\n",
    "\n",
    "# Méthode de Romberg\n",
    "\n",
    "portees_romberg = []\n",
    "\n",
    "t_3 = timeit.default_timer()\n",
    "for p in sample:\n",
    "    portees_romberg.append(portee(1, 0, p, 'eau', 'romberg'))\n",
    "t_4 = timeit.default_timer()\n",
    "\n",
    "\n",
    "# Fonction scipy.integrate.quad\n",
    "\n",
    "portees_scipy = []\n",
    "\n",
    "def integrande(T):\n",
    "    return 1000 * milieu['eau'][1] * inv_pouvoir_arret(T, 'eau')\n",
    "\n",
    "t_5 = timeit.default_timer()\n",
    "for p in sample:\n",
    "    portees_scipy.append(sp.integrate.quad(integrande, 0, p)[0])\n",
    "t_6 = timeit.default_timer()\n",
    "\n",
    "\n",
    "print(\"Temps pour la méthode des trapèzes :\", t_2-t_1, \"secondes\")\n",
    "print(\"Temps pour la méthode de Romberg :\", t_4-t_3, \"secondes\")\n",
    "print(\"Temps pour la fonction native de scipy :\", t_6-t_5, \"secondes\")"
   ]
  },
  {
   "cell_type": "markdown",
   "metadata": {},
   "source": [
    "On trace un histogramme des portées obtenues pour les 10 000 protons:"
   ]
  },
  {
   "cell_type": "code",
   "execution_count": 51,
   "metadata": {},
   "outputs": [
    {
     "data": {
      "image/png": "[encoded data removed]",
      "text/plain": [
       "<Figure size 720x480 with 1 Axes>"
      ]
     },
     "metadata": {
      "needs_background": "light"
     },
     "output_type": "display_data"
    },
    {
     "data": {
      "image/png": "[encoded data removed]",
      "text/plain": [
       "<Figure size 720x480 with 1 Axes>"
      ]
     },
     "metadata": {
      "needs_background": "light"
     },
     "output_type": "display_data"
    },
    {
     "data": {
      "image/png": "[encoded data removed]",
      "text/plain": [
       "<Figure size 720x480 with 1 Axes>"
      ]
     },
     "metadata": {
      "needs_background": "light"
     },
     "output_type": "display_data"
    }
   ],
   "source": [
    "groupes_2 = [110, 120, 130, 140, 150, 160, 170, 180, 200, 210, 220, 240, 250, 260]\n",
    "\n",
    "plt.figure(dpi=120)\n",
    "plt.hist(portees_trapeze, bins=groupes_2)\n",
    "plt.title(\"Méthode des trapèzes\")\n",
    "plt.xlabel('Portée [cm]')\n",
    "plt.ylabel('Nombre de protons')\n",
    "plt.show()\n",
    "\n",
    "plt.figure(dpi=120)\n",
    "plt.hist(portees_romberg, bins=groupes_2)\n",
    "plt.title(\"Méthode de Romberg\")\n",
    "plt.xlabel('Portée [cm]')\n",
    "plt.ylabel('Nombre de protons')\n",
    "plt.show()\n",
    "\n",
    "plt.figure(dpi=120)\n",
    "plt.hist(portees_scipy, bins=groupes_2)\n",
    "plt.title(\"Fonction native de scipy\")\n",
    "plt.xlabel('Portée [cm]')\n",
    "plt.ylabel('Nombre de protons')\n",
    "plt.show()"
   ]
  },
  {
   "cell_type": "markdown",
   "metadata": {},
   "source": [
    "ICI IL VA FALLOIR EXPLIQUER DU STOCK QUAND ON AURA LES DONNÉES AVEC LE BON NOMBRE DE TRANCHES"
   ]
  },
  {
   "cell_type": "markdown",
   "metadata": {},
   "source": [
    "# Énergie déposée"
   ]
  },
  {
   "cell_type": "markdown",
   "metadata": {},
   "source": [
    "On veut maintenant caractériser le dépôt d'énergie dans le milieu. On sait que, lorsque le proton passe d'une énergie $T_i$ à une énergie $T_f$, le pas de déplacement $s$ du proton est donné par\n",
    "$$s = \\int_{T_f}^{T_i}\\frac{\\text{d}T'}{S_{col}}$$"
   ]
  },
  {
   "cell_type": "markdown",
   "metadata": {},
   "source": [
    "On crée d'abord une fonction qui calcule le pas de déplacement en fonction de l'énergie transférée au milieu:"
   ]
  },
  {
   "cell_type": "code",
   "execution_count": 52,
   "metadata": {},
   "outputs": [],
   "source": [
    "def pas(T_i, T_f, mil):\n",
    "    def fonction(T):\n",
    "         return inv_pouvoir_arret(T, mil)\n",
    "    scipy.integrate.quad(fonction, T_f, T_i)"
   ]
  },
  {
   "cell_type": "markdown",
   "metadata": {},
   "source": [
    "On conçoit ensuite un algorithme qui détermine le pas de déplacement selon l'énergie déposée pour tout le parcours du proton:"
   ]
  },
  {
   "cell_type": "code",
   "execution_count": 53,
   "metadata": {},
   "outputs": [
    {
     "ename": "NameError",
     "evalue": "name 'scipy' is not defined",
     "output_type": "error",
     "traceback": [
      "\u001b[1;31m---------------------------------------------------------------------------\u001b[0m",
      "\u001b[1;31mNameError\u001b[0m                                 Traceback (most recent call last)",
      "\u001b[1;32m<ipython-input-53-41b29334351f>\u001b[0m in \u001b[0;36m<module>\u001b[1;34m\u001b[0m\n\u001b[0;32m      5\u001b[0m     \u001b[1;32mreturn\u001b[0m \u001b[0ms\u001b[0m\u001b[1;33m\u001b[0m\u001b[1;33m\u001b[0m\u001b[0m\n\u001b[0;32m      6\u001b[0m \u001b[1;33m\u001b[0m\u001b[0m\n\u001b[1;32m----> 7\u001b[1;33m \u001b[0malgo_s\u001b[0m\u001b[1;33m(\u001b[0m\u001b[1;36m150\u001b[0m\u001b[1;33m,\u001b[0m \u001b[1;36m1000\u001b[0m\u001b[1;33m,\u001b[0m \u001b[1;34m\"eau\"\u001b[0m\u001b[1;33m)\u001b[0m\u001b[1;33m\u001b[0m\u001b[1;33m\u001b[0m\u001b[0m\n\u001b[0m",
      "\u001b[1;32m<ipython-input-53-41b29334351f>\u001b[0m in \u001b[0;36malgo_s\u001b[1;34m(T_i, n, mil)\u001b[0m\n\u001b[0;32m      2\u001b[0m     \u001b[0ms\u001b[0m \u001b[1;33m=\u001b[0m \u001b[1;33m[\u001b[0m\u001b[1;33m]\u001b[0m\u001b[1;33m\u001b[0m\u001b[1;33m\u001b[0m\u001b[0m\n\u001b[0;32m      3\u001b[0m     \u001b[1;32mfor\u001b[0m \u001b[0mi\u001b[0m \u001b[1;32min\u001b[0m \u001b[0mrange\u001b[0m\u001b[1;33m(\u001b[0m\u001b[0mn\u001b[0m\u001b[1;33m)\u001b[0m\u001b[1;33m:\u001b[0m\u001b[1;33m\u001b[0m\u001b[1;33m\u001b[0m\u001b[0m\n\u001b[1;32m----> 4\u001b[1;33m         \u001b[0ms\u001b[0m\u001b[1;33m.\u001b[0m\u001b[0mappend\u001b[0m\u001b[1;33m(\u001b[0m\u001b[0mpas\u001b[0m\u001b[1;33m(\u001b[0m\u001b[0mT_i\u001b[0m \u001b[1;33m-\u001b[0m \u001b[0mi\u001b[0m\u001b[1;33m*\u001b[0m\u001b[0mT_i\u001b[0m\u001b[1;33m/\u001b[0m\u001b[0mn\u001b[0m\u001b[1;33m,\u001b[0m \u001b[0mT_i\u001b[0m\u001b[1;33m-\u001b[0m\u001b[1;33m(\u001b[0m\u001b[0mi\u001b[0m\u001b[1;33m+\u001b[0m\u001b[1;36m1\u001b[0m\u001b[1;33m)\u001b[0m\u001b[1;33m*\u001b[0m\u001b[0mT_i\u001b[0m\u001b[1;33m/\u001b[0m\u001b[0mn\u001b[0m\u001b[1;33m,\u001b[0m \u001b[0mmil\u001b[0m\u001b[1;33m)\u001b[0m\u001b[1;33m)\u001b[0m\u001b[1;33m\u001b[0m\u001b[1;33m\u001b[0m\u001b[0m\n\u001b[0m\u001b[0;32m      5\u001b[0m     \u001b[1;32mreturn\u001b[0m \u001b[0ms\u001b[0m\u001b[1;33m\u001b[0m\u001b[1;33m\u001b[0m\u001b[0m\n\u001b[0;32m      6\u001b[0m \u001b[1;33m\u001b[0m\u001b[0m\n",
      "\u001b[1;32m<ipython-input-52-743c52a5752e>\u001b[0m in \u001b[0;36mpas\u001b[1;34m(T_i, T_f, mil)\u001b[0m\n\u001b[0;32m      2\u001b[0m     \u001b[1;32mdef\u001b[0m \u001b[0mfonction\u001b[0m\u001b[1;33m(\u001b[0m\u001b[0mT\u001b[0m\u001b[1;33m)\u001b[0m\u001b[1;33m:\u001b[0m\u001b[1;33m\u001b[0m\u001b[1;33m\u001b[0m\u001b[0m\n\u001b[0;32m      3\u001b[0m          \u001b[1;32mreturn\u001b[0m \u001b[0minv_pouvoir_arret\u001b[0m\u001b[1;33m(\u001b[0m\u001b[0mT\u001b[0m\u001b[1;33m,\u001b[0m \u001b[0mmil\u001b[0m\u001b[1;33m)\u001b[0m\u001b[1;33m\u001b[0m\u001b[1;33m\u001b[0m\u001b[0m\n\u001b[1;32m----> 4\u001b[1;33m     \u001b[0mscipy\u001b[0m\u001b[1;33m.\u001b[0m\u001b[0mintegrate\u001b[0m\u001b[1;33m.\u001b[0m\u001b[0mquad\u001b[0m\u001b[1;33m(\u001b[0m\u001b[0mfonction\u001b[0m\u001b[1;33m,\u001b[0m \u001b[0mT_f\u001b[0m\u001b[1;33m,\u001b[0m \u001b[0mT_i\u001b[0m\u001b[1;33m)\u001b[0m\u001b[1;33m\u001b[0m\u001b[1;33m\u001b[0m\u001b[0m\n\u001b[0m",
      "\u001b[1;31mNameError\u001b[0m: name 'scipy' is not defined"
     ]
    }
   ],
   "source": [
    "def algo_s(T_i, n, mil):\n",
    "    s = []\n",
    "    for i in range(n):\n",
    "        s.append(pas(T_i - i*T_i/n, T_i-(i+1)*T_i/n, mil))\n",
    "    return s\n",
    "\n",
    "algo_s(150, 1000, \"eau\")"
   ]
  }
 ],
 "metadata": {
  "interpreter": {
   "hash": "5f106e3fe48bc89d6ec00d4b7b471cc3e52c569cd06a7f87d50c33db7823905d"
  },
  "kernelspec": {
   "display_name": "Python 3.7.4 64-bit ('base': conda)",
   "language": "python",
   "name": "python3"
  },
  "language_info": {
   "codemirror_mode": {
    "name": "ipython",
    "version": 3
   },
   "file_extension": ".py",
   "mimetype": "text/x-python",
   "name": "python",
   "nbconvert_exporter": "python",
   "pygments_lexer": "ipython3",
   "version": "3.7.4"
  },
  "orig_nbformat": 4
 },
 "nbformat": 4,
 "nbformat_minor": 2
}
