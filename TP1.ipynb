{
 "cells": [
  {
   "cell_type": "markdown",
   "metadata": {},
   "source": [
    "## Préface\n",
    "\n",
    "Dans ce travail pratique, les sources seront notées entre crochets ([X]) et détaillées dans la section *Médiagraphie* à la fin du document"
   ]
  },
  {
   "cell_type": "markdown",
   "metadata": {},
   "source": [
    "## Constantes et modules\n",
    "\n",
    "Définissons d'abord toutes les constantes qui seront utilisées par les fonction définies ci-après [1], et importons les modules nécessaires:"
   ]
  },
  {
   "cell_type": "code",
   "execution_count": 2,
   "metadata": {},
   "outputs": [],
   "source": [
    "import math\n",
    "import timeit\n",
    "import numpy as np\n",
    "import scipy as sp\n",
    "import matplotlib.pyplot as plt\n",
    "import seaborn as sns\n",
    "import pandas as pd # peut être à enlever\n",
    "from scipy.stats import moyal\n",
    "\n",
    "\n",
    "c = 2.99792458 * 10**8                  # vitesse de la lumière [m/s]\n",
    "re = 2.8179409238 * 10**(-15)           # rayon classique de l'électron [m]\n",
    "me = 9.1093837015 * 10**(-31)           # masse au repos de l'électron [kg]\n",
    "mp = 1.6726219236951 * 10**(-27)        # masse au repos du proton [kg]"
   ]
  },
  {
   "cell_type": "markdown",
   "metadata": {},
   "source": [
    "## Densité électronique d'un milieu\n",
    "\n",
    "En premier lieu, on cherche à déterminer la densité électronique pour un milieu donné, en nombre d'électrons par centimètre cube. Pour ce faire, on a besoin de trois données pour chaque composant distinct du milieu: le numéro atomique ($Z_n$), la fraction massique ($F_n$) et la masse volumique ($M_n$). Toutes ces données sont tabulées sur diverses pages web, notamment celle du NIST [2].\n",
    "\n",
    "Pour obtenir la densité électronique à partir de ces trois données, on doit déterminer le nombre d'électrons de chaque composant distinct indépendamment. Cela se traduit mathématiquement par :\n",
    "\n",
    "$$N_e=\\sum_{i=1}^{n}\\frac{\\rho}{M_i}Z_i\\cdot F_n\\cdot N_A$$"
   ]
  },
  {
   "cell_type": "markdown",
   "metadata": {},
   "source": [
    "Où $N_e$ est la densité électronique en $\\text{électrons/cm}^3$, et $N_A=6.02214076\\times10^{23}$ atomes/mol est le nombre d'Avogadro. On code cette expression dans la fonction *densiteelec* qui prend en entrée la masse volumique en $\\text{g/cm}^3$ du milieu et une liste comprenant $Z$, $F$ et $M$ pour chaque composant du milieu et retourne la densité électronique en $\\text{électrons/cm}^3$."
   ]
  },
  {
   "cell_type": "code",
   "execution_count": 3,
   "metadata": {},
   "outputs": [],
   "source": [
    "# Format de données: données = [[Z1, P1, M1], [Z2, P2, M2], ...]\n",
    "# où Zn est le numéro atomique, Fn est la fraction massique et Mn est la masse volumique\n",
    "# Chaque liste individuelle dans la liste \"données\" représente un composant\n",
    "# distinct du milieu (par exemple, H et O pour l'eau).\n",
    "\n",
    "def densiteelec(rho, donnees):\n",
    "    nombreelec = []\n",
    "    for i in donnees:\n",
    "        nombreelec.append(i[1]*rho/i[2]*i[0]*6.02214076*10**(23))\n",
    "    return sum(nombreelec)"
   ]
  },
  {
   "cell_type": "markdown",
   "metadata": {},
   "source": [
    "Pouvant maintenant calculer les densités électroniques, il sera utile de les calculer et d'enregistrer ces valeurs dans un dictionnaire afin de pouvoir y accéder aisément plus tard. Définissons donc le dictionnaire *milieu*, qui contiendra trois valeurs : la densité électronique (que nous pouvons maintenant calculer), ainsi que la masse volumique et l'énergie d'excitation moyenne, toutes deux tirées directement du site du NIST [2]. Toutes les données utilisées pour faire les calculs de densité électronique ont aussi été tirées du site web du NIST:"
   ]
  },
  {
   "cell_type": "code",
   "execution_count": 4,
   "metadata": {},
   "outputs": [],
   "source": [
    "# milieu = {\"milieu1\": (densité électronique [e/cm^3], rho [g/cm^3], énergie moy d'activation [J])}\n",
    "\n",
    "rho_eau = 1\n",
    "donnees_eau = [[1, 0.111894, 1.0079], [8, 0.888106, 15.999]]\n",
    "I_eau = 75 / (6.242*10**18)\n",
    "\n",
    "rho_os = 1.85\n",
    "donnees_os = [\n",
    "    [1, 0.063984, 1.0079], \n",
    "    [6, 0.278000, 12.011], \n",
    "    [7, 0.027000, 14.007], \n",
    "    [8, 0.410016, 15.999], \n",
    "    [12, 0.002000, 24.305], \n",
    "    [15, 0.070000, 30.974], \n",
    "    [16, 0.002000, 32.06], \n",
    "    [20, 0.147000, 40.078]\n",
    "    ]\n",
    "I_os = 91.9 / (6.242*10**18)\n",
    "\n",
    "milieu = {}\n",
    "milieu[\"eau\"] = (densiteelec(rho_eau, donnees_eau), rho_eau, I_eau)\n",
    "milieu[\"os\"] = (densiteelec(rho_os, donnees_os), rho_os, I_os)"
   ]
  },
  {
   "cell_type": "markdown",
   "metadata": {},
   "source": [
    "Lorsqu'on aura des fonctions qui feront appel à l'une de ces deux variables, on pourra donc simplement passer en argument le milieu dans lequel on souhaite évaluer la fonction; cela nous évitera d'avoir à \"hard-code\" des valeurs ou encore à programmer plusieurs fonctions distinctes. Les valeurs de densité électronique pour l'eau et l'os compact sont donc :"
   ]
  },
  {
   "cell_type": "code",
   "execution_count": 5,
   "metadata": {},
   "outputs": [
    {
     "name": "stdout",
     "output_type": "stream",
     "text": [
      "densité électronique de l'eau : 3.342876611513782e+23 électrons / cm^3\n",
      "densité électronique de l'os compact : 5.9059477632844346e+23 électrons / cm^3\n"
     ]
    }
   ],
   "source": [
    "print(\"densité électronique de l'eau :\", milieu[\"eau\"][0], \"électrons / cm^3\")\n",
    "print(\"densité électronique de l'os compact :\", milieu[\"os\"][0], \"électrons / cm^3\")"
   ]
  },
  {
   "cell_type": "markdown",
   "metadata": {},
   "source": [
    "## Pouvoir d'arrêt\n",
    "\n",
    "On veut maintenant coder une fonction qui calcule le pouvoir d'arrêt d'un milieu en fonction de l'énergie cinétique du proton qui s'y trouve. On sait que le pouvoir d'arrêt est donné par la fonction mathématique suivante :\n",
    "$$S_{col}(T)=2\\pi r_e^2 m_e c^2 n_e\\beta^{-2}\\left[\\ln\\left(\\frac{2m_ec^2\\beta^2\\gamma^2 T_e^{max}}{I^2}\\right)-2\\beta^2\\right]$$\n",
    "avec les quantités suivantes :\n",
    "$$T^{max}_e = \\frac{2m_ec^2(\\gamma^2-1)}{1+\\big(\\frac{m_e}{m_p})^2 + 2\\frac{m_e}{m_p}\\gamma}$$\n",
    "$$\\gamma = \\frac{T}{m_pc^2} + 1$$\n",
    "$$\\beta = \\sqrt{1-\\gamma^{-2}}$$\n",
    "où $r_e$ est le rayon classique de l'électron, $n_e$ est la densité électronique du milieu, $Z$ est la charge de la particule, $I$ est l'énergie moyenne d'excitation du milieu et $T$ est l'énergie cinétique de la particule. On commence par coder une fonction qui retourne l'énergie maximale transférable $T_e^{max}$ :"
   ]
  },
  {
   "cell_type": "code",
   "execution_count": 6,
   "metadata": {},
   "outputs": [],
   "source": [
    "def e_transf_max(gamma):\n",
    "    te_max = 2 * me * c**2 * (gamma**2 - 1) / (1 + 2*gamma*me/mp + (me/mp)**2)\n",
    "    return te_max"
   ]
  },
  {
   "cell_type": "markdown",
   "metadata": {},
   "source": [
    "On définit ensuite la fonction *pouvoir_arret* qui retourne le pouvoir d'arrêt pour un proton en fonction du milieu et de l'énergie cinétique du proton en MeV. Tout d'abord, la fonction convertit l'énergie cinétique et la densité électronique en unités SI. Elle calcule ensuite les quantités $\\gamma$, $\\beta$ et $T_e^{max}$. Finalement elle calcule le pouvoir d'arrêt et retourne la valeur convertie en MeV."
   ]
  },
  {
   "cell_type": "code",
   "execution_count": 16,
   "metadata": {},
   "outputs": [],
   "source": [
    "# Pouvoir d'arrêt [MeV/m]\n",
    "# Arguments :\n",
    "# T : énergie cinétique du proton [MeV]\n",
    "# mil : clé pour appeler le bon milieu dans le dictionnaire \"milieu\" (\"eau\" ou \"os\")\n",
    "\n",
    "def pouvoir_arret(T, mil): \n",
    "\n",
    "    # T de MeV à J\n",
    "    T = T / 6241506479963.2\n",
    "\n",
    "    # densité électronique de g/cm-3 à kg/m-3\n",
    "    ne = milieu[mil][0]*10**6\n",
    "\n",
    "    # Calcul de gamma et beta\n",
    "    gamma = T / (mp * c**2) + 1\n",
    "    beta = np.sqrt(1 - gamma**(-2))\n",
    "\n",
    "    # Calcul de l'énergie de transfert maximal\n",
    "    te_max = e_transf_max(gamma)\n",
    "\n",
    "    const = 2 * np.pi * re**2 * me * c**2 * ne / beta**2\n",
    "    parenth = np.log(2 * me * c**2 * beta**2 * gamma**2 * te_max / milieu[mil][2]**2) - (2 * beta**2)\n",
    "\n",
    "    return (const * parenth) * 6241506479963.2"
   ]
  },
  {
   "cell_type": "markdown",
   "metadata": {},
   "source": [
    "Maintenant qu'on a une fonction qui permet de calculer le pouvoir d'arrêt, on peut tracer le pouvoir d'arrêt en fonction de l'énergie cinétique du proton pour l'eau liquide et pour l'os compact. On considère un intervalle de 3-250 MeV pour l'énergie cinétique du proton, car les faisceaux de protonthérapie ont typiquement une énergie cinétique initiale de 70-250 MeV et car notre modèle théorique ne s'applique pas pour des protons avec une énergie cinétique de moins de 3 MeV."
   ]
  },
  {
   "cell_type": "code",
   "execution_count": 8,
   "metadata": {},
   "outputs": [
    {
     "data": {
      "image/png": "[encoded data removed]",
      "text/plain": [
       "<Figure size 576x360 with 1 Axes>"
      ]
     },
     "metadata": {},
     "output_type": "display_data"
    }
   ],
   "source": [
    "# Énergie cinétique du proton\n",
    "T = np.linspace(3, 250, 1000)\n",
    "\n",
    "# Pouvoir d'arrêt de l'eau liquide en MeV/cm\n",
    "pouv_arr_eau = []\n",
    "for i in T:\n",
    "    pouv_arr_eau.append(pouvoir_arret(i, 'eau') / 100)\n",
    "\n",
    "# Pouvoir d'arrêt de l'os compact en MeV/cm\n",
    "pouv_arr_os = []\n",
    "for i in T:\n",
    "    pouv_arr_os.append(pouvoir_arret(i, 'os') / 100)\n",
    "\n",
    "sns.set_style(\"ticks\")\n",
    "pouv_arr_fig = plt.figure(figsize=(8,5))\n",
    "plt.plot(T, pouv_arr_eau, label='Eau liquide')\n",
    "plt.plot(T,pouv_arr_os, label='Os compact')\n",
    "plt.xlabel('Énergie cinétique du proton [MeV]', fontsize=14)\n",
    "plt.ylabel(\"Pouvoir d'arrêt [MeV/cm]\", fontsize=14)\n",
    "plt.xscale('log')\n",
    "plt.legend()\n",
    "plt.show()"
   ]
  },
  {
   "cell_type": "markdown",
   "metadata": {},
   "source": [
    "Il est pertinent de souligner que le modèle ne considère que l'effet de l'interaction entre les électrons et les protons sur le pouvoir d'arrêt. Toutefois, cette approximation est légitime, car cet effet dépasse largement les autres effets qui influencent le pouvoir d'arrêt. Les deux autres phénomènes principaux sont l'effet Bremsstrahlung, qui cause des pertes radiatives, et l'interaction entre les protons et les noyaux atomiques. Selon les données du NIST [3] représentées à la figure 1, on observe que l'effet de l'interaction entre les protons et les noyaux atomiques dans l'os compact est faible comparée à l'interaction entre les protons et les électrons, spécialement pour la plage d'intérêt, c'est-à-dire pour une énergie cinétique de 3 à 250 MeV. Les données du NIST pour l'eau liquide [3], représentées à la figure 2, montrent un comportement similaire. Par exemple, pour une énergie cinétique de 100 MeV, selon le NIST, les pertes causées par l'interaction proton-électron dans l'eau liquide sont de 45,6 MeV tandis que les pertes causées par l'intéraction proton-noyaux atomiques est de 26,0 keV. Les pertes causées par les interactions avec les électrons sont donc environ 1754 fois plus grandes que celles causées par les interactions avec les noyaux atomiques dans cette situation."
   ]
  },
  {
   "cell_type": "markdown",
   "metadata": {},
   "source": [
    "<center><img src=\"PouvoirArretTotalOS.png\" style=\"width: 600px;\"/></center>\n",
    "<center>Figure 1. Pouvoir d'arrêt dans l'os compact [3]"
   ]
  },
  {
   "cell_type": "markdown",
   "metadata": {},
   "source": [
    "<center><img src=\"PouvoirArretTotalEau.png\" style=\"width: 600px;\"/></center>\n",
    "<center>Figure 2. Pouvoir d'arrêt dans l'eau liquide [3]"
   ]
  },
  {
   "cell_type": "markdown",
   "metadata": {},
   "source": [
    "Pour l'effet Bremsstrahlung, on peut déterminer l'ordre de grandeur des pertes radiatives des protons à partir des données sur les pertes radiatives des faisceaux d'électrons dans les différents milieux. Selon les données du NIST [4], les pertes radiatives maximales pour un faisceau d'électron dans l'eau liquide pour des énergies de 3 à 250 MeV sont de l'ordre de 1 MeV. Pour un faisceau de protons, la force électromagnétique issue de l'intéraction entre les protons et les électrons sera du même ordre de grandeur que pour un faisceau d'électrons, mais, comme la masse du proton est environ 1836 fois [1] plus grande que celle de l'électron, l'accélération des protons sera alors environ 1836 fois plus petit par la deuxième loi de Newton. Comme l'accélération cause les pertes radiatives, celles-ci seront également 1836 fois plus petites que pour un faisceau d'électrons. Les pertes seront alors de l'ordre du keV et seront négligeables comparées aux pertes dues aux interactions proton-électron, qui sont de l'ordre du MeV. On peut effectuer le même raisonnement pour l'os compact à partir des données du NIST et en arriver à la même conclusion."
   ]
  },
  {
   "cell_type": "markdown",
   "metadata": {},
   "source": [
    "## Portée des protons dans la matière\n",
    "\n",
    "On cherche maintenant à déterminer la portée des protons dans l'eau liquide et l'os compact. On sait que la portée est donnée par l'intégrale suivante :\n",
    "$$R_{CSDA}=\\rho\\int_0^{T_i}\\frac{1}{S_{col}}$$\n",
    "Comme le pouvoir d'arrêt du milieu représente la quantité d'énergie que le proton perd lorsqu'il se propage dans le milieu, on voit logiquement que le proton pourra se propager plus loin si le pouvoir d'arrêt du milieu est faible. Il se propagera moins loin si le pouvoir d'arrêt est grand. Il est donc cohérent d'intégrer sur l'inverse du pouvoir d'arrêt afin de déterminer la portée du proton."
   ]
  },
  {
   "cell_type": "markdown",
   "metadata": {},
   "source": [
    "On veut maintenant déterminer si on doit utiliser une méthode numérique pour calculer l'intégrale. Tout d'abord, on peut réécrire l'équation du pouvoir d'arrêt en fonction de $\\gamma$ à l'aide des relations suivantes:\n",
    "$$U = 2\\pi r_e^2m_ec^2n_e$$\n",
    "$$T = (\\gamma-1)m_pc^2$$\n",
    "$$T_e^{max} = \\frac{a(\\gamma^2-1)}{b + \\delta\\gamma}$$\n",
    "$$\\beta^2\\gamma^2 = (\\gamma^2-1)$$\n",
    "où $a$, $b$ et $\\delta$ sont des constantes qui dépendent des masses de l'électron et du proton. On En remplaçant dans dans l'équation du pouvoir d'arrêt, on a\n",
    "$$S_{col} = U\\frac{\\gamma^2}{(\\gamma^2-1)}\\Bigg[\\ln\\bigg(\\frac{2m_ec^2a(\\gamma^2-1)^2}{I^2(b + \\delta)}\\bigg)\\Bigg] - 2U$$\n",
    "En posant les changements de variable d'intégration $T = T_i - T$ et $T = (\\gamma-1)m_pc^2$, on obtient une intégrale de la forme suivante pour la portée:\n",
    "$$R_{CSDA} = \\rho m_pc^2\\int \\frac{\\text{d}\\gamma}{U\\frac{\\gamma^2}{(\\gamma^2-1)}\\Bigg[\\ln\\bigg(\\frac{2m_ec^2a(\\gamma^2-1)^2}{I^2(b + \\delta)}\\bigg)\\Bigg] - 2U}$$\n",
    "Une intégrale de cette forme ne possède pas de solution analytique connue, donc on doit la résoudre numériquement. On peut vérifier qu'elle n'a pas de solution analytique avec un logiciel de calcul tel que WolframAlpha. Pour calculer l'intégrale numériquement, on veut utiliser deux méthodes d'intégration numérique : la méthode des trapèzes et la méthode de Romberg. Implémentons d'abord la méthode des trapèzes, étant donné que celle-ci sera nécessaire au fonctionnement de la méthode de Romberg :"
   ]
  },
  {
   "cell_type": "code",
   "execution_count": 9,
   "metadata": {},
   "outputs": [],
   "source": [
    "# Intègre une fonction selon la méthode des trapèzes\n",
    "# Arguments:\n",
    "# f : fonction à intégrer\n",
    "# N : nombre de tranches\n",
    "# a, b : bornes d'intégration\n",
    "# *args : arguments supplémentaires de f\n",
    "\n",
    "def trapeze(f, N, a, b, *args):\n",
    "    h = (b-a)/N\n",
    "\n",
    "    s = 0.5*f(a, *args)+0.5*f(b, *args)\n",
    "    for i in range(1,N):\n",
    "        s += f(a+i*h, *args)\n",
    "    \n",
    "    return h*s"
   ]
  },
  {
   "cell_type": "markdown",
   "metadata": {},
   "source": [
    "Cette fonction prend en argument la fonction à intégrer f, le nombre de tranches N, les deux bornes d'intégration a et b, ainsi que des arguments optionnels propre à la fonction à intégrer. Elle retourne la valeur de l'intégrale calculée par la méthode des trapèzes. On peut maintenant implémenter la méthode de Romberg. En partant de $N=2$ tranches, la fonction calcule l'intégrale par la méthode des trapèzes de façon itérative pour le double de tranches à chaque itération jusqu'à obtenir le nombre de tranches maximal souhaité. Pour la $i$-ième valeur donnée par la méthode des trapèzes, elle calcule $i$ valeurs $R_{i,m}$ plus précises de l'intégrales de manière itérative par l'équation suivante [5]:\n",
    "$$R_{i, m+1} = R_{i,m} + \\frac{1}{4^m-1}(R_{i,m}-R_{i-1,m})$$\n",
    "La fonction retourne ensuite la dernière valeur calculée, qui correspond à la valeur la plus précise. La fonction retourne également l'erreur sur l'avant-dernière itération telle que donnée par l'équation suivante [5] :\n",
    "$$\\epsilon = \\frac{1}{4^m-1}(R_{i,m}-R_{i-1,m})$$\n",
    "Comme la dernière itération sera plus précise que l'avant-dernière, on peut utiliser cette valeur d'erreur surestimée pour la dernière itération. L'erreur sur la dernière itération ne peut pas être calculée directement, car la valeur $R_{i-1, m}$ n'existe pas pour $m=i$."
   ]
  },
  {
   "cell_type": "code",
   "execution_count": 10,
   "metadata": {},
   "outputs": [],
   "source": [
    "# Intègre une fonction selon la méthode de Romberg\n",
    "# Retourne la valeur de l'intégrale et l'erreur\n",
    "# Arguments:\n",
    "# f : fonction à intégrer\n",
    "# i_max : nombre d'itérations (2^i tranches au maximum)\n",
    "# a, b : bornes d'intégration\n",
    "# *args : arguments supplémentaires de f\n",
    "\n",
    "def romberg(f, i_max, a, b, *args):\n",
    "    Rn = []\n",
    "    N = 1\n",
    "    for i in range(i_max):\n",
    "        Rn.append([trapeze(f, N, a, b, *args)])\n",
    "        N = 2 * N\n",
    "        for m in range(i):\n",
    "            Rn[i].append(Rn[i][m] + (Rn[i][m] - Rn[i-1][m]) / (4**(m+1) - 1))\n",
    "    err = (Rn[-1][-2] - Rn[-2][-1]) / (4**(i_max-1) - 1)\n",
    "    return Rn[-1][-1], err"
   ]
  },
  {
   "cell_type": "markdown",
   "metadata": {},
   "source": [
    "On veut maintenant, à l'aide de ces deux algorithmes, évaluer la portée des protons dans l'eau et dans l'os compact. La portée est donnée par :\n",
    "\n",
    "$$R_{CSDA}=\\rho\\int_0^{T_i}\\frac{1}{S_{col}}$$\n",
    "\n",
    "Où $\\rho$ est la masse volumique du milieu en $\\text{kg/m}^3$, $T_i$ est l'énergie d'entrée du proton en MeV, et $S_{col}$ est le pouvoir d'arrêt en MeV par mètre. On définit donc tout d'abord une fonction qui retourne l'inverse du pouvoir d'arrêt. On définit ensuite une fonction *portee* qui peut calculer la portée d'un proton par la méthode des trapèzes ou par la méthode de Romberg. Cette fonction prend en argument un paramètre $i$ qui fixe à $2^i$ le nombre de tranches pour la méthode des trapèzes et le nombre de tranches maximal pour la méthode de Romberg, le nom du milieu, les bornes d'intégration et la méthode (trapèzes ou Romberg)."
   ]
  },
  {
   "cell_type": "code",
   "execution_count": 11,
   "metadata": {},
   "outputs": [],
   "source": [
    "# Retourne l'inverse du pouvoir d'arrêt\n",
    "# Arguments :\n",
    "# T : énergie cinétique du proton\n",
    "# mil : nom du milieu de propagation (\"eau\" ou \"os\")\n",
    "\n",
    "def inv_pouvoir_arret(T, mil):\n",
    "    return pouvoir_arret(T, mil)**(-1)\n",
    "\n",
    "# Calcule la portée\n",
    "# Arguments :\n",
    "# T : énergie cinétique du proton\n",
    "# a, b : énergie cinétique finale et initiale du proton\n",
    "# mil : nom du milieu de propagation (\"eau\" ou \"os\")\n",
    "\n",
    "def portee(i, a, b, mil, methode):\n",
    "    N = 2 ** i\n",
    "    if methode == \"trapeze\":\n",
    "        return milieu[mil][1] * 1000 * trapeze(inv_pouvoir_arret, N, a, b, mil)\n",
    "    elif methode == \"romberg\":\n",
    "        return milieu[mil][1] * 1000 * romberg(inv_pouvoir_arret, i, a, b, mil)[0]"
   ]
  },
  {
   "cell_type": "markdown",
   "metadata": {},
   "source": [
    "Il est à noter que puisque les éléments de chaque liste du dictionnaire *dens* (défini au début du document) sont en $\\text{électrons/cm}^3$ et en $\\text{g/cm}^3$ respectivement; il est donc important de se rappeler de les convertir de façon appropriée dans les fonctions."
   ]
  },
  {
   "cell_type": "markdown",
   "metadata": {},
   "source": [
    "On peut donc spécifier tous les paramètres pour obtenir la portée. Si par exemple on veut la portée dans l'os compact avec la méthode des trapèzes, avec $N=2^8=256$ tranches avec une énergie variant de 150 MeV à 3 MeV, on écrira :"
   ]
  },
  {
   "cell_type": "code",
   "execution_count": 17,
   "metadata": {},
   "outputs": [
    {
     "name": "stdout",
     "output_type": "stream",
     "text": [
      "portée dans l'os compact avec la méthode des trapèzes = 169.44513437407602\n",
      "portée dans l'os compact avec la méthode de Romberg = 169.44552495579194\n",
      "portée dans l'eau avec la méthode des trapèzes = 157.52313194071118\n",
      "portée dans l'eau avec la méthode de Romberg = 157.52349026303548\n"
     ]
    }
   ],
   "source": [
    "print(\"portée dans l'os compact avec la méthode des trapèzes =\", portee(8, 3, 150, \"os\", \"trapeze\"))\n",
    "print(\"portée dans l'os compact avec la méthode de Romberg =\", portee(8, 3, 150, \"os\", \"romberg\"))\n",
    "\n",
    "print(\"portée dans l'eau avec la méthode des trapèzes =\", portee(8, 3, 150, \"eau\", \"trapeze\"))\n",
    "print(\"portée dans l'eau avec la méthode de Romberg =\", portee(8, 3, 150, \"eau\", \"romberg\"))"
   ]
  },
  {
   "cell_type": "markdown",
   "metadata": {},
   "source": [
    "Maintenant, on veut estimer le nombre de tranches nécessaires pour atteindre la précision machine pour chacune de ces méthodes. On prendra, comme suggéré dans les notes de cours, une valeur conservatrice de $10^{-16}$ pour l'erreur d'arrondi et on estimera le nombre de tranches nécessaires pour que l'erreur d'approximation se retrouve en déça de cette valeur.\n",
    "\n",
    "Tout d'abord, on s'attarde à la méthode des trapèzes. On peut tirer des notes de cours [6] une expression estimant l'erreur d'approximation commise par une intégration numérique, soit :\n",
    "\n",
    "$$\\epsilon_{2N}=\\frac{1}{3}(I_{2N}-I_N)$$\n",
    "\n",
    "On cherche donc la valeur 2N pour que l'expression suivante soit vraie:\n",
    "\n",
    "$$\\frac{1}{3}(I_{2N}-I_N) < 10^{-16}$$\n",
    "\n",
    "On peut programmer une fonction qui détermine ce nombre 2N de tranches par itération. On débutera donc en évaluant la fonction à 1 et 2 tranches, puis nous augmenterons le nombre de tranches d'un facteur *pas* à chaque évaluation de la fonction.\n",
    "\n",
    "Afin de discuter du temps d'éxécution des fonctions, nous calculerons aussi le temps d'éxécution à l'aide de la fonction *default_timer* du module *timeit*."
   ]
  },
  {
   "cell_type": "code",
   "execution_count": 13,
   "metadata": {},
   "outputs": [],
   "source": [
    "# Estimation le nombre de tranches requises pour atteindre la\n",
    "# précision machine avec la méthode des trapèzes\n",
    "# Arguments:\n",
    "# Ni: nombre initial de tranches à la première itération\n",
    "# a, b: énergie cinétique finale et initiale du proton\n",
    "# mil: milieu (\"eau\" ou \"os\")\n",
    "# pas: facteur multiplicatif du nombre de tranches à chaque itération\n",
    "\n",
    "def estim_trapeze(Ni, a, b, mil, pas):\n",
    "    t1 = timeit.default_timer()\n",
    "    N = Ni\n",
    "    I1 = 0\n",
    "    I2 = trapeze(inv_pouvoir_arret, N, a, b, mil) * 1000 * milieu[mil][1]\n",
    "    while (I2 - I1)/3 > precision:\n",
    "        N = math.ceil(N*pas)\n",
    "        I1 = I2\n",
    "        I2 = trapeze(inv_pouvoir_arret, N, a, b, mil) * 1000 * milieu[mil][1]\n",
    "    t2 = timeit.default_timer()\n",
    "    return N, t2-t1"
   ]
  },
  {
   "cell_type": "markdown",
   "metadata": {},
   "source": [
    "Si on veut estimer le nombre de tranches requises pour l'eau, on aura donc:"
   ]
  },
  {
   "cell_type": "code",
   "execution_count": 14,
   "metadata": {},
   "outputs": [],
   "source": [
    "# ATTENTION : Le code cette cellule a été commenté, car il prend trop de temps à s'exécuter!\n",
    "\n",
    "#nb = estim_trapeze(1, 0, 150, \"eau\", 1.15, 1*10**(-16))\n",
    "#print(\"Estimé du nombre de tranches requises:\",nb)"
   ]
  },
  {
   "cell_type": "markdown",
   "metadata": {},
   "source": [
    "On remarque rapidement que la fonction ne semble pas trouver le nombre de tranches requises dans un intervalle de temps raisonnable. Même si on laisse le code fonctionner pendant plus d'une heure, on n'a toujours pas de sortie. Évaluons l'erreur à dix millions de tranches:"
   ]
  },
  {
   "cell_type": "code",
   "execution_count": 20,
   "metadata": {},
   "outputs": [
    {
     "name": "stdout",
     "output_type": "stream",
     "text": [
      "l'erreur à dix millions de tranches est de 9.748646334628575e-12\n"
     ]
    }
   ],
   "source": [
    "\n",
    "N1 = 5000000\n",
    "N2 = 10000000\n",
    "I1 = trapeze(inv_pouvoir_arret, N1, 3, 150, \"eau\") * 1000 * milieu[\"eau\"][1]\n",
    "I2 = trapeze(inv_pouvoir_arret, N2, 3, 150, \"eau\") * 1000 * milieu[\"eau\"][1]\n",
    "err = np.abs(I2 - I1)/3\n",
    "print(\"l'erreur à dix millions de tranches est de\",err)"
   ]
  },
  {
   "cell_type": "markdown",
   "metadata": {},
   "source": [
    "Ce qui n'est pas du tout près de l'ordre de grandeur requis pour atteindre la précision machine: nous avons une erreur plus de trois ordres de grandeur plus grande que ce qu'on souhaiterait avoir, et il faut déjà quelques minutes pour effectuer le calcul. On peut donc conclure tentativement qu'il n'est pas raisonnable de pousser le calcul avec la méthode des trapèzes jusqu'à obtenir la précision machine: le temps de calcul serait extrêmement élevé à moins de posséder une machine extrêmement performante (ce qui n'est pas notre cas, mais pourrait l'être avec l'aide d'une grappe de calcul par exemple). Cependant, au #6, il est demandé d'effectuer un graphique comportant l'estimation de l'erreur en fonction du nombre de tranches. On se réfèrera donc à ce graphique une fois qu'il sera fait, et nous reviendrons sur notre conclusion quant au nombre de tranches requises pour la méthode des trapèzes."
   ]
  },
  {
   "cell_type": "markdown",
   "metadata": {},
   "source": [
    "On implémente maintenant la fonction évaluant le nombre de tranches nécessaires pour obtenir la précision machine avec la méthode de Romberg. La précision est la même que précédemment, alors on conserve le critère que l'erreur estimée doit être inférieure à $10^{-16}$. Or, comme la fonction de la méthode de Romberg renvoie déjà une estimation de l'erreur, on peut simplement réécrire la méthode de Romberg de façon à ce qu'elle boucle tant que la précision n'est pas atteinte :"
   ]
  },
  {
   "cell_type": "code",
   "execution_count": 75,
   "metadata": {},
   "outputs": [
    {
     "name": "stdout",
     "output_type": "stream",
     "text": [
      "Estimé du nombre de tranches requises: 2048\n",
      "Calculé en  0.0321719000057783  secondes\n"
     ]
    }
   ],
   "source": [
    "# Estimation le nombre de tranches requises pour atteindre la\n",
    "# précision machine avec la méthode de Romberg\n",
    "# Arguments:\n",
    "# imax_i: dimensions initiales de la matrice de Romberg\n",
    "# a, b: énergie cinétique finale et initiale du proton\n",
    "# mil: milieu (\"eau\" ou \"os\")\n",
    "\n",
    "def estim_romberg(imax_i, a, b, mil):\n",
    "    t1 = timeit.default_timer()\n",
    "    i_max = imax_i\n",
    "    err = romberg(inv_pouvoir_arret, i_max, a, b, mil)[1] * 1000 * milieu[mil][1]\n",
    "    while err > 1*10**(-16):\n",
    "        i_max += 1\n",
    "        err = romberg(inv_pouvoir_arret, i_max, a, b, mil)[1] * 1000 * milieu[mil][1]\n",
    "    t2 = timeit.default_timer()\n",
    "    return i_max, t2-t1\n",
    "\n",
    "\n",
    "i_eau = estim_romberg(2, 3, 150, \"eau\")\n",
    "print(\"Estimé du nombre de tranches requises:\",(2**i_eau[0]))\n",
    "print(\"Calculé en \", i_eau[1], \" secondes\")"
   ]
  },
  {
   "cell_type": "markdown",
   "metadata": {},
   "source": [
    "On constate qu'on atteint la précision machine beaucoup plus rapidement avec la méthode de Romberg: il faut seulement *i_max*=11, soit $N=2^{i_{max}}=2048$ tranches afin d'atteindre la précision machine. De plus, il faut moins d'une seconde avant d'atteindre cet estimé plutôt que plusieurs heures avec la méthode des trapèzes. Le temps de calcul avec la méthode de Romberg semble donc être beaucoup plus court qu'avec la méthode des trapèzes; nous validerons cette conclusion à la lumière des résultats obtenus au #6."
   ]
  },
  {
   "cell_type": "markdown",
   "metadata": {},
   "source": [
    "#### Portée et erreur en fonction du nombre de tranches\n",
    "\n",
    "On peut grapher la portée et l'erreur estimée en fonction du nombre de tranches pour les deux méthodes. On programme donc une fonction *donnees* qui itère sur la méthode souhaitée et qui retourne une liste des portées et des erreurs estimées à chaque itération. On double le nombre de tranches à chaque itération (ce qui correspond à doubler *N* pour la méthode des trapèzes et à augmenter *i* de 1 pour la méthode de Romberg)."
   ]
  },
  {
   "cell_type": "code",
   "execution_count": 76,
   "metadata": {},
   "outputs": [],
   "source": [
    "# Retourner sous forme de liste la portée et l'erreur estimée à chaque itération de la fonction\n",
    "# Arguments:\n",
    "# a, b: énergie cinétique finale et initiale du proton\n",
    "# mil: milieu (\"eau\" ou \"os\")\n",
    "# methode: méthode d'intégration (\"trapeze\" ou \"romberg\")\n",
    "# max: nombre maximal d'itérations de la fonction\n",
    "\n",
    "def donnees(a, b, mil, methode, max):\n",
    "    max = int(max)\n",
    "    N = 1\n",
    "    liste_portee = []\n",
    "    liste_err = []\n",
    "    if methode == \"trapeze\":\n",
    "        port1 = 0\n",
    "        for n in range(max+1):\n",
    "            port2 = milieu[mil][1] * 1000 * trapeze(inv_pouvoir_arret, N, a, b, mil)\n",
    "            err = (port2 - port1)/3\n",
    "            liste_portee.append(port2)\n",
    "            liste_err.append(abs(err))\n",
    "            N = N*2\n",
    "            port1 = port2\n",
    "    elif methode == \"romberg\":\n",
    "        for n in range(max):\n",
    "            N += 1\n",
    "            liste_portee.append(1000*milieu[mil][1]*romberg(inv_pouvoir_arret, N, a, b, mil)[0])\n",
    "            liste_err.append(abs(1000*milieu[mil][1]*romberg(inv_pouvoir_arret, N, a, b, mil)[1]))\n",
    "    return liste_portee, liste_err"
   ]
  },
  {
   "cell_type": "markdown",
   "metadata": {},
   "source": [
    "À titre d'exemple, prenons l'os compact. On doit choisir une valeur de *max* qui correspond au nombre fois qu'on doublera les tranches avant que la fonction s'arrête, tel que le nombre de tranches maximal est $N=2^{max}$ (en se souvenant que le temps d'éxécution augmente exponentiellement à chaque fois qu'on augmente *max*).\n",
    "\n",
    "On éxécute la fonction *donnees* une fois pour chaque méthode, en insérant au premier élément des listes de la méthode de Romberg les valeurs obtenues avec la méthode des trapèzes (la méthode de Romberg se réduit à la méthode des trapèzes lorsque $i_{max}=1$ étant donné que la matrice de Romberg devient une matrice 1x1, soit simplement un scalaire). On produit aussi *liste_tranches*, une liste contenant le nombre de tranches calculées à chaque itération de la fonction, qui constituera l'axe horizontal du graphique."
   ]
  },
  {
   "cell_type": "code",
   "execution_count": 77,
   "metadata": {},
   "outputs": [],
   "source": [
    "max = 10\n",
    "\n",
    "portee_trapeze, err_trapeze = donnees(3, 150, \"os\", \"trapeze\", max)\n",
    "portee_romberg, err_romberg = donnees(3, 150, \"os\", \"romberg\", max)\n",
    "portee_romberg.insert(0, portee_trapeze[0])\n",
    "err_romberg.insert(0, err_trapeze[0])\n",
    "liste_tranches = [2**n for n in range(max+1)]"
   ]
  },
  {
   "cell_type": "markdown",
   "metadata": {},
   "source": [
    "À l'aide des données obtenues, on peut grapher les erreurs et la portée pour chaque fonction. Étant donné que la portée converge rapidement et que l'erreur diminue aussi très rapidement, le graphique sera en échelle logarithmique, qui permet mieux d'examiner le comportement des courbes."
   ]
  },
  {
   "cell_type": "code",
   "execution_count": 78,
   "metadata": {},
   "outputs": [
    {
     "data": {
      "image/png": "[encoded data removed]",
      "text/plain": [
       "<Figure size 576x360 with 2 Axes>"
      ]
     },
     "metadata": {},
     "output_type": "display_data"
    },
    {
     "data": {
      "text/plain": [
       "<Figure size 432x288 with 0 Axes>"
      ]
     },
     "metadata": {},
     "output_type": "display_data"
    }
   ],
   "source": [
    "sns.set_style(\"ticks\")\n",
    "portee_fig, ax = plt.subplots(figsize=(8,5))\n",
    "\n",
    "# On graphe les erreurs\n",
    "ax.plot(liste_tranches, err_trapeze, label='Erreur trapèze', linestyle='dashed', color='red')\n",
    "ax.plot(liste_tranches, err_romberg, label='Erreur Romberg', linestyle='dashed', color='blue')\n",
    "ax.set_xlabel('Nombre de tranches', fontsize=14)\n",
    "ax.set_ylabel(\"Erreur\", fontsize=14)\n",
    "\n",
    "# Pour une meilleure lisibilité, le graphique doit être en log-log\n",
    "ax.set_xscale('log')\n",
    "ax.set_yscale('log')\n",
    "\n",
    "# On crée un autre axe pour grapher la portée\n",
    "ax2 = ax.twinx()\n",
    "ax2.plot(liste_tranches, portee_trapeze, label='Portée trapèze', color='red')\n",
    "ax2.plot(liste_tranches, portee_romberg, label='Portée Romberg', color='blue')\n",
    "ax2.set_ylabel(\"Portée\", fontsize=14)\n",
    "\n",
    "# On positionne la légende\n",
    "ax.legend(loc='lower right')\n",
    "ax2.legend(loc='lower left')\n",
    "plt.show()\n",
    "\n",
    "plt.savefig('portee_err.png')"
   ]
  },
  {
   "cell_type": "markdown",
   "metadata": {},
   "source": [
    "#### Temps d'éxécution\n",
    "\n",
    "Maintenant qu'on connaît le nombre de tranches nécessaires pour atteindre la précision machine pour chaque méthode, on peut déterminer le temps nécessaire au calcul à l'aide de la fonction *default_timer* du module *timeit*:"
   ]
  },
  {
   "cell_type": "code",
   "execution_count": 22,
   "metadata": {},
   "outputs": [],
   "source": [
    "# i: puissance de 2 du nombre de tranches (par exemple, N=16 tranches pour i=4)\n",
    "\n",
    "def temps_execution(a, b, mil, methode, i):\n",
    "    if methode == \"trapeze\":\n",
    "        t1 = timeit.default_timer()\n",
    "        rep = milieu[mil][1] * 1000 * trapeze(inv_pouvoir_arret, 2**i, a, b, mil)\n",
    "        t2 = timeit.default_timer()\n",
    "    elif methode == \"romberg\":\n",
    "        t1 = timeit.default_timer()\n",
    "        rep = 1000*milieu[mil][1]*romberg(inv_pouvoir_arret, i, a, b, mil)[0]\n",
    "        t2 = timeit.default_timer()\n",
    "    return rep, t2-t1"
   ]
  },
  {
   "cell_type": "markdown",
   "metadata": {},
   "source": [
    "Prenons par exemple l'os compact. Nous avons calculé qu'on doit avoir $i=11$, soit $N=2048$ tranches pour obtenir la précision machine. Le temps d'éxécution est:"
   ]
  },
  {
   "cell_type": "code",
   "execution_count": 24,
   "metadata": {},
   "outputs": [
    {
     "name": "stdout",
     "output_type": "stream",
     "text": [
      "L'intégrale est estimée à: 169.44552544310704\n",
      "Le temps d'éxécution est de: 0.028031199995893985 secondes pour 2048 tranches\n"
     ]
    }
   ],
   "source": [
    "i = 11\n",
    "\n",
    "rep, t = temps_execution(3, 150, \"os\", \"romberg\", i)\n",
    "\n",
    "print(\"L'intégrale est estimée à:\",rep)\n",
    "print(\"Le temps d'éxécution est de:\",t,\"secondes pour\",2**i,\"tranches\")"
   ]
  },
  {
   "cell_type": "markdown",
   "metadata": {},
   "source": [
    "Comme mentionné à la question précédente, il n'est pas raisonnable, avec le matériel dont nous disposons, de déterminer le nombre de tranches nécessaires pour atteindre avec la précision machine avec la méthode des trapèzes. Cependant, on peut déterminer le temps nécessaire pour évaluer la fonction jusqu'à quelques millions de tranches sans problème. Nous pourrons alors faire un graphique de ces valeurs, ce qui nous permettra potentiellement d'extrapoler une estimation du temps nécessaire pour atteindre une erreur de l'ordre de $1\\times 10^{-16}$"
   ]
  },
  {
   "cell_type": "code",
   "execution_count": null,
   "metadata": {},
   "outputs": [],
   "source": []
  },
  {
   "cell_type": "markdown",
   "metadata": {},
   "source": [
    "## Estimation analytique de l'erreur\n",
    "\n",
    "On veut maintenant déterminer de façon analytique l'erreur pour la méthode des trapèzes. Pour ce faire, on doit connaître la dérivée analytique de la fonction à intégrer, donc on doit connaître la dérivée analytique du pouvoir d'arrêt. On utilise l'expression pour le pouvoir d'arrêt en fonction de $\\gamma$ déterminée plus haut :\n",
    "$$S_{col} = U\\frac{\\gamma^2}{(\\gamma^2-1)}\\Bigg[\\ln\\bigg(\\frac{2m_ec^2a(\\gamma^2-1)^2}{I^2(b + \\delta\\gamma)}\\bigg)\\Bigg] - 2U$$\n",
    "On désire utiliser la formule pour la dérivée d'une multiplication et la dérivation en chaîne. On calcule les dérivées nécessaires:\n",
    "$$\\frac{\\text{d}}{\\text{d}\\gamma} \\frac{\\gamma^2}{\\gamma^2-1} = \\Bigg(\\frac{2\\gamma}{\\gamma^2-1} - \\frac{2\\gamma^3}{(\\gamma^2-1)^2}\\Bigg) = \\frac{-2\\gamma}{(\\gamma^2-1)^2}$$\n",
    "$$\\frac{\\text{d}}{\\text{d}\\gamma} \\ln\\bigg(\\frac{2m_ec^2a(\\gamma^2-1)^2}{I^2(b + \\delta\\gamma)}\\bigg)= \\frac{I^2(b+\\delta\\gamma)}{2m_ec^2a(\\gamma^2-1)} \\Bigg(\\frac{8m_ec^2a\\gamma(\\gamma^2-1)}{I^2(b+\\delta\\gamma)} - \\frac{2\\delta}{\\delta(b+\\delta \\gamma)}\\Bigg)$$\n",
    "$$\\frac{\\text{d}}{\\text{d}\\gamma} \\ln\\bigg(\\frac{2m_ec^2a(\\gamma^2-1)^2}{I^2(b + \\delta\\gamma)}\\bigg) = \\Bigg(\\frac{4\\gamma}{\\gamma^2-1} - \\frac{\\delta}{\\delta(b+\\delta \\gamma)}\\Bigg)$$\n",
    "$$\\frac{\\text{d}\\gamma}{\\text{d}T} = \\frac{1}{m_pc^2}$$\n",
    "On peut alors déterminer la dérivée première du pouvoir d'arrêt:\n",
    "$$\\frac{\\text{d}S_{col}}{\\text{d}T} = \\frac{\\text{d}S_{col}}{\\text{d}\\gamma}\\frac{\\text{d}\\gamma}{\\text{d}T}$$\n",
    "$$\\frac{\\text{d}S_{col}}{\\text{d}T} = \\frac{U}{m_pc^2}\\Bigg[\\frac{-2\\gamma}{(\\gamma^2-1)^2}\\ln\\bigg(\\frac{2m_ec^2a(\\gamma^2-1)^2}{I^2(b + \\delta\\gamma)}\\bigg) + \\frac{\\gamma^2}{(\\gamma^2-1)}\\Bigg(\\frac{4\\gamma}{\\gamma^2-1} - \\frac{\\delta}{b+\\delta \\gamma}\\Bigg)\\Bigg]$$\n",
    "$$\\frac{\\text{d}S_{col}}{\\text{d}T} = \\frac{U}{m_pc^2}\\frac{\\gamma}{(\\gamma^2-1)^2}\\Bigg[4\\gamma^2 - 2\\ln\\bigg(\\frac{2m_ec^2a(\\gamma^2-1)^2}{I^2(b + \\delta\\gamma)}\\bigg) - \\frac{\\delta\\gamma(\\gamma^2-1)}{b+\\delta\\gamma}\\Bigg]$$"
   ]
  },
  {
   "cell_type": "markdown",
   "metadata": {},
   "source": [
    "On définit maintenant une fonction pour déterminer analytiquement l'erreur sur l'intégration par la méthode des trapèzes en utilisant la dérivée de la fonction à intégrer. On sait que la formule qui donne l'erreur correspond à [6] :\n",
    "$$\\epsilon = \\frac{1}{12}\\bigg(\\frac{N}{b-a}\\bigg)^2(f'(a)-f'(b))$$\n",
    "On code la fonction :"
   ]
  },
  {
   "cell_type": "code",
   "execution_count": 79,
   "metadata": {},
   "outputs": [],
   "source": [
    "# Retourne l'erreur analytique pour la méthode des trapèzes\n",
    "# Arguments :\n",
    "# f : dérivée de la fonction à intégrer\n",
    "# N : nombre de tranches de la méthode des trapèzes\n",
    "# a, b : bornes d'intégration\n",
    "# *args : autres arguments de f\n",
    "\n",
    "def erreur_trapeze(f, N, a, b, *args):\n",
    "    return 1/12 * (N / (b - a))**2 * (f(a, *args) - f(b, *args))"
   ]
  },
  {
   "cell_type": "markdown",
   "metadata": {},
   "source": [
    "Dans le cas présent, la dérivée du pouvoir d'arrêt a déjà été déterminée analytiquement. On code la fonction *dS_dT*, qui correspond à la dérivée du pouvoir d'arrêt déterminée analytiquement. Celle-ci fonctionne de la même façon que la fonction *pouvoir_arret* et prend les mêmes arguments. On définit par la suite la dérivée de l'intégrande selon l'équation suivante :\n",
    "$$\\frac{\\text{d}}{\\text{d}T}\\frac{1}{S_{col}} = -\\frac{1}{(S_{col})^2}\\bigg(\\frac{\\text{d}S_{col}}{\\text{d}T}\\bigg)"
   ]
  },
  {
   "cell_type": "code",
   "execution_count": 80,
   "metadata": {},
   "outputs": [],
   "source": [
    "# Retourne la dérivée du pouvoir d'arrêt\n",
    "# Arguments :\n",
    "# T : énergie cinétique du proton\n",
    "# mil : milieu de propagation (\"eau\" ou \"os\")\n",
    "\n",
    "def dS_dT(T, mil):\n",
    "    T = T / 6241506479963.2\n",
    "    ne = milieu[mil][0]*10**6\n",
    "    gamma = T / (mp*c**2) + 1\n",
    "    a = 2*me*c**2\n",
    "    b = 1 + (me/mp)**2\n",
    "    d = 2 * (me/mp)\n",
    "    return 2*np.pi*re**2*me*ne*1000 / mp * gamma / (gamma**2-1) * (4*gamma**2 - 2*np.log(2*me*c**2*a*(gamma-1) / (milieu[mil][2]**2*(b+d))) - (d*gamma*(gamma**2-1)) / (b + d*gamma))\n",
    "\n",
    "# Retourne la dérivée de l'intégrande dans l'équation de la portée\n",
    "# Arguments :\n",
    "# T : énergie cinétique du proton\n",
    "# mil : milieu de programmation (\"eau\" ou \"os\")\n",
    "\n",
    "def derivee_integrande(T, mil):\n",
    "    return -milieu[mil][1]*1000 * inv_pouvoir_arret(T, mil)**2 * dS_dT(T, mil)"
   ]
  },
  {
   "cell_type": "markdown",
   "metadata": {},
   "source": [
    "On peut donc déterminer analytiquement l'erreur sur la portée des protons avec une énergie de 150 MeV déterminée par la méthode des trapèzes avec 256 tranches :"
   ]
  },
  {
   "cell_type": "code",
   "execution_count": 81,
   "metadata": {},
   "outputs": [
    {
     "name": "stdout",
     "output_type": "stream",
     "text": [
      "erreur sur la méthode des trapèzes dans l'eau : -0.6182191672067192\n",
      "erreur sur la méthode des trapèzes dans l'os compact : -0.6590463628407133\n"
     ]
    }
   ],
   "source": [
    "print(\"erreur sur la méthode des trapèzes dans l'eau :\", erreur_trapeze(derivee_integrande, 256, 0.1, 150, \"eau\"))\n",
    "print(\"erreur sur la méthode des trapèzes dans l'os compact :\", erreur_trapeze(derivee_integrande, 256, 0.1, 150, \"os\"))"
   ]
  },
  {
   "cell_type": "markdown",
   "metadata": {},
   "source": [
    "## Optimisation\n",
    "\n",
    "On veut maintenant comparer les performances des différentes méthodes d'intégration à des fins d'optimisation. Dans cette section, comme le milieu n'a pas d'impact sur la performance, tous les calculs sont effectués en considérant que le milieu est l'eau liquide. Tout d'abord, on génère aléatoirement une distribution de 10 000 protons où l'énergie cinétique initiale est donnée par une distribution de Moyal et on la représente sur un histogramme :"
   ]
  },
  {
   "cell_type": "code",
   "execution_count": 82,
   "metadata": {},
   "outputs": [
    {
     "data": {
      "image/png": "[encoded data removed]",
      "text/plain": [
       "<Figure size 432x288 with 1 Axes>"
      ]
     },
     "metadata": {},
     "output_type": "display_data"
    }
   ],
   "source": [
    "# On définit la distribution de Moyal et on prend un échantillon de 10 000 protons\n",
    "sample = moyal(loc=150, scale=4).rvs(size=10000)\n",
    "\n",
    "# On représente l'échantillon sur un histogramme\n",
    "sns.set_style(\"ticks\")\n",
    "plt.figure(figsize=(6,4))\n",
    "groupes = [120, 130, 140, 150, 160, 170, 180, 200, 210, 220]\n",
    "plt.hist(sample, bins=groupes)\n",
    "plt.xlabel('Énergie cinétique initiale [MeV]', fontsize=12)\n",
    "plt.ylabel('Nombre de protons', fontsize=12)\n",
    "plt.show()"
   ]
  },
  {
   "cell_type": "markdown",
   "metadata": {},
   "source": [
    "Pour pouvoir bien comparer les performances des différentes méthodes d'intégration, on doit faire en sorte que la précision de chaque méthode est similaire. Une précision plus grande implique généralement un temps de calcul plus grand pour une même méthode, donc il est souhaitable de comparer les méthodes lorsqu'elles donnent des résultats avec la même précision. Comme on veut comparer la méthode des trapèzes, la méthode de Romberg et la méthode *scipy.integrate.quad*, on va se fier sur la précision de cette dernière pour ajuster le nombre de tranches des deux autres méthodes. La méthode *scipy.integrate.quad* retourne aussi l'incertitude sur l'intégrale, donc on peut calculer cette incertitude pour les 10 000 protons et déterminer l'incertitude moyenne. Pour intégrer avec *scipy*, on doit par contre avoir une fonction à un argument, donc on définit la fonction *integrande*. On utilise ensuite les fonctions définies plus haut pour déterminer le nombre de tranches nécessaires pour atteindre cette précision pour les deux autres méthodes. On choisit arbitrairement d'utiliser l'eau liquide comme milieu pour comparer les méthodes, mais ce choix ne devrait pas affecter les performances."
   ]
  },
  {
   "cell_type": "code",
   "execution_count": 83,
   "metadata": {},
   "outputs": [
    {
     "name": "stdout",
     "output_type": "stream",
     "text": [
      "Erreur moyenne de scipy : 2.793616973093549e-08\n"
     ]
    }
   ],
   "source": [
    "# Erreur moyenne de scipy\n",
    "\n",
    "erreur_scipy = []\n",
    "\n",
    "def integrande(T):\n",
    "    return 1000 * milieu['eau'][1] * inv_pouvoir_arret(T, 'eau')\n",
    "\n",
    "for i in sample:\n",
    "    erreur_scipy.append(sp.integrate.quad(integrande, 0, i)[1])\n",
    "\n",
    "err_sp = sum(erreur_scipy) / len(erreur_scipy)\n",
    "\n",
    "print(\"Erreur moyenne de scipy :\", err_sp)"
   ]
  },
  {
   "cell_type": "code",
   "execution_count": 84,
   "metadata": {},
   "outputs": [
    {
     "name": "stdout",
     "output_type": "stream",
     "text": [
      "7502 7\n"
     ]
    }
   ],
   "source": [
    "# Nombre de tranches, méthode des trapèzes\n",
    "\n",
    "N_trap = estim_trapeze(2, 3, 150, \"eau\", 1.15, err_sp)\n",
    "i_romb = estim_romberg(2, 3, 150, \"eau\", err_sp)\n",
    "print(i_trap, i_romb)"
   ]
  },
  {
   "cell_type": "markdown",
   "metadata": {},
   "source": [
    "On veut ensuite déterminer le nombre de portées de protons que chaque méthode d'intégration peut calculer en 1 seconde. Pour ce faire, on utilise le module *timeit* pour calculer le temps nécessaire pour calculer les 10 000 portées pour chaque méthode d'intégration. On utilise la fonction *default_timer* qui retourne une valeur de temps au moment où elle est appelée. On prend donc une mesure de temps avant et après avoir appelé chaque méthode d'intégration avec le bon nombre de tranches et on soustrait les deux valeurs pour obtenir le temps nécessaire au calcul. Pour la méthode des trapèzes, on utilise $2^{13}=8192$ tranches pour avoir au moins la précision requise. Pour la méthode des trapèzes, par contre, comme le temps de calcul est très long, on calcule seulement les 100 premières portées. On détermine ensuite le temps nécessaire pour la méthode de Romberg et pour la méthode *scipy.integrate.quad* pour les 10 000 protons. On divise ensuite 10 000 (ou 100) protons par le temps obtenu pour connaître le nombre de protons par seconde pour chaque méthode."
   ]
  },
  {
   "cell_type": "code",
   "execution_count": 102,
   "metadata": {},
   "outputs": [
    {
     "name": "stderr",
     "output_type": "stream",
     "text": [
      "C:\\Users\\benja\\Anaconda3\\lib\\site-packages\\ipykernel_launcher.py:21: RuntimeWarning: divide by zero encountered in double_scalars\n",
      "C:\\Users\\benja\\Anaconda3\\lib\\site-packages\\ipykernel_launcher.py:22: RuntimeWarning: divide by zero encountered in log\n"
     ]
    },
    {
     "name": "stdout",
     "output_type": "stream",
     "text": [
      "Temps pour la méthode des trapèzes : 13.135266799999954 secondes\n",
      "Temps pour la méthode de Romberg : 19.936020299999655 secondes\n",
      "Temps pour scipy.integrate.quad : 23.66958429999977 secondes\n",
      "Protons par seconde pour la méthode des trapèzes : 7.613092411644075 protons par seconde\n",
      "Protons par seconde pour la méthode de Romberg : 501.6046256734687 protons par seconde\n",
      "Protons par seconde pour scipy.integrate.quad : 422.483127428651 protons par seconde\n"
     ]
    }
   ],
   "source": [
    "# Méthode des trapèzes\n",
    "\n",
    "portees_trapeze = []\n",
    "\n",
    "t_1 = timeit.default_timer()\n",
    "for p in sample[:100]:\n",
    "    portees_trapeze.append(portee(13, 0, p, 'eau', 'trapeze'))\n",
    "t_2 = timeit.default_timer()\n",
    "\n",
    "\n",
    "# Méthode de Romberg\n",
    "\n",
    "portees_romberg = []\n",
    "\n",
    "t_3 = timeit.default_timer()\n",
    "for p in sample:\n",
    "    portees_romberg.append(portee(i_romb, 0, p, 'eau', 'romberg'))\n",
    "t_4 = timeit.default_timer()\n",
    "\n",
    "\n",
    "# Fonction scipy.integrate.quad\n",
    "\n",
    "portees_scipy = []\n",
    "\n",
    "t_5 = timeit.default_timer()\n",
    "for p in sample:\n",
    "    portees_scipy.append(sp.integrate.quad(integrande, 0, p)[0])\n",
    "t_6 = timeit.default_timer()\n",
    "\n",
    "\n",
    "print(\"Temps pour la méthode des trapèzes :\", t_2-t_1, \"secondes\")\n",
    "print(\"Temps pour la méthode de Romberg :\", t_4-t_3, \"secondes\")\n",
    "print(\"Temps pour scipy.integrate.quad :\", t_6-t_5, \"secondes\")\n",
    "\n",
    "print(\"Protons par seconde pour la méthode des trapèzes :\", 100 / (t_2-t_1), \"protons par seconde\")\n",
    "print(\"Protons par seconde pour la méthode de Romberg :\", 10000 / (t_4-t_3), \"protons par seconde\")\n",
    "print(\"Protons par seconde pour scipy.integrate.quad :\", 10000 / (t_6-t_5), \"protons par seconde\")"
   ]
  },
  {
   "cell_type": "markdown",
   "metadata": {},
   "source": [
    "On trace un histogramme des portées obtenues pour les 10 000 protons:"
   ]
  },
  {
   "cell_type": "code",
   "execution_count": 103,
   "metadata": {},
   "outputs": [
    {
     "data": {
      "image/png": "[encoded data removed]",
      "text/plain": [
       "<Figure size 432x288 with 1 Axes>"
      ]
     },
     "metadata": {},
     "output_type": "display_data"
    },
    {
     "data": {
      "image/png": "[encoded data removed]",
      "text/plain": [
       "<Figure size 432x288 with 1 Axes>"
      ]
     },
     "metadata": {},
     "output_type": "display_data"
    },
    {
     "data": {
      "image/png": "[encoded data removed]",
      "text/plain": [
       "<Figure size 432x288 with 1 Axes>"
      ]
     },
     "metadata": {},
     "output_type": "display_data"
    }
   ],
   "source": [
    "groupes_2 = [110, 120, 130, 140, 150, 160, 170, 180, 200, 210, 220, 240, 250, 260]\n",
    "\n",
    "sns.set_style(\"ticks\")\n",
    "\n",
    "plt.figure(figsize=(6,4))\n",
    "plt.hist(portees_trapeze, bins=groupes_2)\n",
    "plt.title(\"Méthode des trapèzes\", fontsize=12)\n",
    "plt.xlabel('Portée [cm]', fontsize=12)\n",
    "plt.ylabel('Nombre de protons', fontsize=12)\n",
    "plt.show()\n",
    "\n",
    "plt.figure(figsize=(6,4))\n",
    "plt.hist(portees_romberg, bins=groupes_2)\n",
    "plt.title(\"Méthode de Romberg\", fontsize=12)\n",
    "plt.xlabel('Portée [cm]', fontsize=12)\n",
    "plt.ylabel('Nombre de protons', fontsize=12)\n",
    "plt.show()\n",
    "\n",
    "plt.figure(figsize=(6,4))\n",
    "plt.hist(portees_scipy, bins=groupes_2)\n",
    "plt.title(\"Fonction native de scipy\", fontsize=12)\n",
    "plt.xlabel('Portée [cm]', fontsize=12)\n",
    "plt.ylabel('Nombre de protons', fontsize=12)\n",
    "plt.show()"
   ]
  },
  {
   "cell_type": "markdown",
   "metadata": {},
   "source": [
    "Tout d'abord, on observe que, dans les trois cas, le pic se situe entre 14 et 15 cm, ce qui concorde avec la portée calculée pour un proton de 150 MeV. On observe aussi que les trois méthodes semblent former une distribution de Moyal. Cela est logique, car les données étaient basées sur un échantillon d'une distribution de Moyal. Il est intéressant de noter que la distribution semble se rapprocher plus de Moyal pour Romberg et *scipy*. Cela est encore une fois conforme aux attentes, car, pour des raisons de temps d'exécution, l'échantillon de la méthode des trapèzes est 10 fois plus petit que celui des deux autres méthodes. On observe aussi, tel que prévu, que les résultats de Romberg et de *scipy* sont très similaires."
   ]
  },
  {
   "cell_type": "markdown",
   "metadata": {},
   "source": [
    "## Énergie déposée"
   ]
  },
  {
   "cell_type": "markdown",
   "metadata": {},
   "source": [
    "Comme le but de caractériser le passage des protons dans le milieu est important pour les applications en protonthérapie, on veut maintenant caractériser le dépôt d'énergie dans le milieu. On sait que, lorsque le proton passe d'une énergie $T_i$ à une énergie $T_f$, le pas de déplacement $s$ du proton est donné par\n",
    "$$s = \\int_{T_f}^{T_i}\\frac{\\text{d}T'}{S_{col}}$$\n",
    "Pour un pas infinitésimal $\\text{d}s$, on a donc\n",
    "$$\\text{d}s = \\frac{\\text{d}T'}{S_{col}(T)}$$\n",
    "$$\\text{d}T' = S_{col}(T)\\text{d}s$$\n",
    "On a donc une expression pour le dépôt infinitésimal d'énergie pour un pas infinitésimal à une énergie $T$ donnée. La fonction *energie_dep* représente cette expression en prenant en argument une valeur de pas $\\text{d}s$, une énergie cinétique initiale $T_i$ et le milieu de propagation. Elle retourne ensuite un *array numpy* à 1 dimensions de valeurs de profondeur allant de 0 à 20 cm avec une liste de valeurs d'énergie déposée. La fonction calcule de façon itérative l'énergie déposée pour chaque pas et soustrait la valeur calculée à l'énergie cinétique du proton avant la prochaine itération. Le processus itératif arrête lorsque la valeur d'énergie cinétique est égale ou inférieure à $T_f$. On considère donc l'énergie cinétique de tout proton ayant une énergie cinétique égale ou inférieur à $T_f$ comme nulle."
   ]
  },
  {
   "cell_type": "code",
   "execution_count": 87,
   "metadata": {},
   "outputs": [],
   "source": [
    "# Retourne l'énergie déposée en fonction de la profondeur [cm] et [MeV]\n",
    "# T_i : énergie cinétique initiale [MeV]\n",
    "# T_f : valeur minimale d'énergie [MeV]\n",
    "# ds : longueur du pas [cm], 15 doit être un multiple de ds\n",
    "# mil : milieu de propagation (\"eau\" ou \"os\")\n",
    "\n",
    "def energie_dep(T_i, T_f, ds, mil):\n",
    "    N = 15 / ds\n",
    "    x = np.linspace(0, 15, int(N))\n",
    "    T = T_i\n",
    "    dT = []\n",
    "    for i in x:\n",
    "        if T > 3:\n",
    "            dT.append(pouvoir_arret(T, mil) / 100)\n",
    "            T = T - pouvoir_arret(T, mil) * ds/100\n",
    "        else:\n",
    "            dT.append(0)\n",
    "    return x, dT"
   ]
  },
  {
   "cell_type": "markdown",
   "metadata": {},
   "source": [
    "On peut maintenant déterminer l'énergie déposée en foonction de la profondeur pour un proton ayant une énergie initiale de 150 MeV. Comme notre modèle théorique ne représente pas bien la réalité pour des protons ayant une énergie égale ou inférieure à 3 MeV, on utilise cette valeur comme borne inférieure. On utilise un pas de 0,01 mm. On trace l'énergie déposée obtenue en fonction de la profondeur."
   ]
  },
  {
   "cell_type": "code",
   "execution_count": 88,
   "metadata": {},
   "outputs": [
    {
     "data": {
      "image/png": "[encoded data removed]",
      "text/plain": [
       "<Figure size 576x360 with 1 Axes>"
      ]
     },
     "metadata": {},
     "output_type": "display_data"
    }
   ],
   "source": [
    "# Eau liquide\n",
    "x_e, dT_e = energie_dep(150, 3, 0.001, \"eau\")\n",
    "\n",
    "# Os compact\n",
    "x_o, dT_o = energie_dep(150, 3, 0.001, \"os\")\n",
    "\n",
    "sns.set_style(\"ticks\")\n",
    "energie_dep_fig = plt.figure(figsize=(8,5))\n",
    "plt.plot(x_e, dT_e, label='Eau liquide')\n",
    "plt.plot(x_o, dT_o, label='Os compact')\n",
    "plt.xlabel('Profondeur [cm]', fontsize=14)\n",
    "plt.ylabel(\"Énergie déposée [MeV/cm]\", fontsize=14)\n",
    "plt.legend()\n",
    "plt.show()"
   ]
  },
  {
   "cell_type": "markdown",
   "metadata": {},
   "source": [
    "On observe que l'énergie déposée dans l'os compact tombe à 0 autour de 8 cm, tandis que celle dans l'eau liquide tombe à 0 autour de 14 cm. Cela est conforme avec les portées calculées plus haut, car celles-ci étaient de .\n",
    "\n",
    "On remarque également que l'énergie déposée augmente drastiquement lorsque l'énergie cinétique du proton est faible. Ce comportement se nomme le pic de Bragg du proton [7] et a des applications importantes en protonthérapie. Lorsque l'on envoie des protons dans un patient, on veut causer le plus de dommages possibles à la tumeur ciblée tout en causant le moins de dommages possibles au reste du corps. Grâce au comportement des protons, il est possible de leur donner une énergie cinétique particulière afin que le pic de Bragg se situe dans la zone ciblée. Ce faisant, on maximise le dépot d'énergie et donc les dommages causés dans la zone ciblée tout en minimisant le dépot d'énergie sur le reste du trajet du proton."
   ]
  },
  {
   "cell_type": "markdown",
   "metadata": {},
   "source": [
    "Toutefois, il n'est pas nécessaire de calculer la portée des protons jusqu'à la précision machine en protonthérapie, car ce calcul ne serait pas significatif de toute façon. Tout d'abord, notre modèle théorique ne représente pas bien ce que se passe lorsque la proton a une énergie inférieur à 3 MeV et ne tient pas compte de toutes les causes du pouvoir d'arrêt, donc il y a plusieurs incertitudes qui sont plus importantes que la précision machine. Même si utilisait un modèle théorique qui nous permet de calculer la portée du proton jusqu'à une énergie de 0 MeV avec la précision machine, ce calcul serait quand même beaucoup plus précis que nécessaire, car les faisceaux de protons utilisés en pratique vont varier de plus que la précision machine. En effet, la variation dans la portée d'un faisceau de protons d'une énergie cinétique de 50 MeV est d'environ 1 mm [8], ce qui est environ $10^{15}$ fois plus grand que la précision machine. Il n'y a donc pas de raisons pratiques de calculer la portée avec une telle précision."
   ]
  },
  {
   "cell_type": "markdown",
   "metadata": {},
   "source": [
    "À cause de sa grande précision dans son dépot d'énergie, la protonthérapie est souvent utilisée pour traiter les mélanomes oculaires. Cette méthode de traitement permet de causer des dommages à la tumeur en déposant moins d'énergie dans les structures sensibles de l'oeil [9]. La radiothérapie classique, qui consiste à envoyer des photons sur la tumeur, cause plus de dommages aux tissus non ciblés. En effet, en protonthérapie, les dommages aux tissus en santé seraient réduis de 60 % par rapport à l'envoi de photons [10]. Cet effet est causé entre autres par le pic de Bragg des protons, qui permet de concentrer le dépôt d'énergie. Cette caractéristique est très importante dans le cas d'un mélanome oculaire, car elle permet de mieux protéger les structures de l'oeil qui sont en santé."
   ]
  },
  {
   "cell_type": "markdown",
   "metadata": {},
   "source": [
    "Dans notre modèle, il est important de souligner que nous avons considéré que les protons voyagaient simplement en ligne droite dans la matière. Ce n'est évidemment pas totalement réaliste, car les interactions entre les protons est les électrons du milieu peuvent faire dévier le proton de sa trajectoire. Pour améliorer notre modèle, il faudrait modéliser la trajectoire des protons en 3D en prenant en compte les effets qui peuvent modifier la trajectoire de celui-ci. On pourrait alors avoir une meilleure idée de la proportion de protons qui seront déviés de leur trajectoire et de la distribution du dépôt d'énergie en 3D. Il serait important de modéliser ces aspects pour des traitements en protonthérapie, car elles permettraient d'évaluer les dommages possibles causés aux structures qui ne se situent pas directement sur la trajectoire du faisceau de protons."
   ]
  },
  {
   "cell_type": "markdown",
   "metadata": {},
   "source": [
    "## Médiagraphie\n",
    "\n",
    "[1] NIST. “Fundamental Physical Constants from NIST”. Consulté le 15 février 2022. https://physics.nist.gov/cuu/Constants/.\n",
    "\n",
    "[2] NIST. “Compositions of Materials Used in STAR Databases”. Consulté le 15 février 2022. https://physics.nist.gov/cgi-bin/Star/compos.pl?ap.\n",
    "\n",
    "[3] NIST. “Stopping-power and range tables for protons”. Consulté le 16 février 2022. https://physics.nist.gov/PhysRefData/Star/Text/PSTAR.html.\n",
    "\n",
    "[4] NIST. “Stopping-power and range tables for electrons”. Consulté le 16 février 2022. https://physics.nist.gov/PhysRefData/Star/Text/ESTAR.html.\n",
    "\n",
    "[5] NEWMANN, M. 2013. “Computational physics”. Section 5.4 : *Romberg Integration*.\n",
    "\n",
    "[6] NEWMANN, M. 2013. “Computational physics”. Section 5.2 : *Errors on Integrals*.\n",
    "\n",
    "[7] PROTON THERAPY TODAY, “Why is proton therapy a preferable option, and what is the Bragg peak?”. Consulté le 17 février 2022. http://www.proton-therapy-today.com/what-is-proton-therapy/why-is-proton-therapy-a-preferable-option-and-what-is-the-bragg-peak/.\n",
    "\n",
    "[8] KIM, J-W. 2009. “Why is proton therapy a preferable option, and what is the Bragg peak?”. *Journal of the Korean Physical Society* Consulté le 17 février 2022. https://www.jkps.or.kr/journal/view.html?volume=55&number=4&spage=1673&year=2009.\n",
    "\n",
    "[9] PAPAKOSTAS, T. D. LANE, A-M. MORRISON, M. 2017. “Long-term Outcomes After Proton Beam Irradiation in Patients With Large Choroidal Melanomas”. Consulté le 17 février 2022. https://jamanetwork.com/journals/jamaophthalmology/fullarticle/2657208.\n",
    "\n",
    "[10] MEDICAL NEWS TODAY. “Proton therapy as an option for treating cancer”. Consulté le 17 février 2022. https://www.medicalnewstoday.com/articles/268629."
   ]
  }
 ],
 "metadata": {
  "interpreter": {
   "hash": "5f106e3fe48bc89d6ec00d4b7b471cc3e52c569cd06a7f87d50c33db7823905d"
  },
  "kernelspec": {
   "display_name": "Python 3.7.4 64-bit ('base': conda)",
   "language": "python",
   "name": "python3"
  },
  "language_info": {
   "codemirror_mode": {
    "name": "ipython",
    "version": 3
   },
   "file_extension": ".py",
   "mimetype": "text/x-python",
   "name": "python",
   "nbconvert_exporter": "python",
   "pygments_lexer": "ipython3",
   "version": "3.7.4"
  },
  "orig_nbformat": 4
 },
 "nbformat": 4,
 "nbformat_minor": 2
}
