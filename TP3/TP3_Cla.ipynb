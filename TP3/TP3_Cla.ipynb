{
 "cells": [
  {
   "cell_type": "markdown",
   "metadata": {},
   "source": [
    "## Constantes et modules"
   ]
  },
  {
   "cell_type": "code",
   "execution_count": 44,
   "metadata": {},
   "outputs": [],
   "source": [
    "## À REMPLIR AU FUR ET À MESURE\n",
    "\n",
    "import numpy as np\n",
    "import matplotlib.pyplot as plt\n",
    "\n",
    "g = 9.80665"
   ]
  },
  {
   "cell_type": "markdown",
   "metadata": {},
   "source": [
    "## Question 3"
   ]
  },
  {
   "cell_type": "markdown",
   "metadata": {},
   "source": [
    "On veut maintenant déterminer l'énergie totale du système. On sait que l'énergie potentielle du pendule double est donnée par :\n",
    "$$V = -mgl(2\\cos\\theta_1 + \\cos\\theta_2)$$\n",
    "L'énergie cinétique du système est donnée par :\n",
    "$$T = ml^2\\bigg[\\dot{\\theta}_1^2 + \\frac{1}{2}\\dot{\\theta}_2^2 + \\dot{\\theta}_1\\dot{\\theta}_2\\cos(\\theta_1 - \\theta_2)\\bigg]$$\n",
    "On remplace $\\dot{\\theta}_1$ et $\\dot{\\theta}_2$ par $\\omega_1$ et $\\omega_1$ :\n",
    "$$T = ml^2\\bigg[\\omega_1^2 + \\frac{1}{2}\\omega_2^2 + \\omega_1\\omega_2\\cos(\\theta_1 - \\theta_2)\\bigg]$$\n",
    "On peut donc facilement déterminer l'énergie totale du système :\n",
    "$$E = T + V$$\n",
    "$$E = ml^2\\bigg[\\omega_1^2 + \\frac{1}{2}\\omega_2^2 + \\omega_1\\omega_2\\cos(\\theta_1 - \\theta_2)\\bigg] - mgl(2\\cos\\theta_1 + \\cos\\theta_2)$$"
   ]
  },
  {
   "cell_type": "markdown",
   "metadata": {},
   "source": [
    "Comme on ne considère pas de friction dans le système, l'énergie totale devrait être constante en tout temps. Toutefois, à cause des différentes méthodes numériques que nous allons utiliser, cette grandeur variera légèrement. À partir de maintenant, on considérera qu'une variation d'énergie de moins de $10^{-5}$ J est négligeable. La précision des méthodes numériques que nous utiliserons devront donc comporter une erreur qui cause une variation au-dessous de ce seuil. Cette valeur sert donc de critère de précision pour les méthodes utilisées."
   ]
  },
  {
   "cell_type": "markdown",
   "metadata": {},
   "source": [
    "$$\\textcolor{red}{\\text{C'est court, mais jsp qu'est-ce qu'on peut ajouter ici}}$$"
   ]
  },
  {
   "cell_type": "markdown",
   "metadata": {},
   "source": [
    "## Question 4"
   ]
  },
  {
   "cell_type": "markdown",
   "metadata": {},
   "source": [
    "#### 4.1 Méthode Runge-Kutta\n",
    "\n",
    "On veut maintenant résoudre les équations du mouvement du pendule. Pour ce faire, on souhaite implémenter une méthode numérique de résolution d'équations différentielles ordinaires d'ordre 1. On choisit la méthode de Runge-Kutta de quatrième ordre , car celle-ci permet d'obtenir une grande précision tout en restant simple à implémenter. On commence donc par coder la fonction *runge_kutta_4* qui prend en argument une fonction *f* représentant l'expression de $\\frac{\\text{d}x}{\\text{d}t}$ où $x(t)$ est la solution de l'équation différentielle, la valeur initiale $x_0$ de la fonction au début de l'intervalle d'intérêt, l'intervalle $a,\\ b$ où on veut connaître la fonction $x(t)$ et un nombre $N$ correspondant au nombre de tranches souhaité dans l'intervalle. La fonction *runge_kutta_4* utilise ensuite la méthode Runge-Kutta de quatrième ordre $\\textcolor{red}{text{[Newmann, Section 8.1.3]}}$ pour déterminer $x(t)$. Elle retourne ensuite *t* et *x*, qui sont respectivement un *array numpy* à une dimension comprenant les valeurs de temps et une liste comprenant les valeurs de $x(t)$ sur l'intervalle de *a* à *b*."
   ]
  },
  {
   "cell_type": "code",
   "execution_count": 45,
   "metadata": {},
   "outputs": [],
   "source": [
    "# Implémentation de la méthode Runge-Kutta de quantrième ordre\n",
    "# Arguments :\n",
    "# f : fonction f(x, t) représentant l'expression de la première dérivée de x\n",
    "# x_0 : valeur initiale x(a) de la fonction au début de l'intervalle\n",
    "# a, b : intervalle où on veut connaître x\n",
    "# N : nombre de tranches souhaité dans l'intervalle a, b\n",
    "# Retourne :\n",
    "# x : liste des valeurs de la fonction x(t)\n",
    "# t : array 1D des valeurs de temps\n",
    "\n",
    "def runge_kutta_4(f, x_0, a, b, N):\n",
    "    t = np.linspace(a, b, N)\n",
    "    x = [x_0]\n",
    "    # calcul du pas h\n",
    "    h = (b - a) / N\n",
    "    for i in range(len(t)):\n",
    "        # grandeurs k_1, k_2, k_3, k_4 propres à Runge-Kutta de 4e ordre\n",
    "        k_1 = h * f(x[i], t[i])\n",
    "        k_2 = h * f(x[i] + k_1/2, t[i] + h/2)\n",
    "        k_3 = h * f(x[i] + k_2/2, t[i] + h/2)\n",
    "        k_4 = h * f(x[i] + k_3, t[i] + h)\n",
    "        # calcul de la prochaine valeur de x\n",
    "        x.append(x[i] + (k_1 + 2*k_2 + 2*k_3 + k_4) / 6)\n",
    "    return x, t"
   ]
  },
  {
   "cell_type": "markdown",
   "metadata": {},
   "source": [
    "#### 4.2 Équations du mouvement\n",
    "\n",
    "On veut maintenant coder les équations du mouvement. Le pendule double comporte 4 équations du mouvement, qui sont données plus haut. Pour résoudre un système d'équations différentielles à plusieurs variables, on peut utiliser la fonction *runge-kutta_4* en lui passant une fonction *f* qui prend en argument une liste *x* comprenant les valeurs des 4 variables et une valeur de *t*. Dans notre cas, on nomme cette fonction *equations_penddouble* et celle-ci prend en argument une liste *x* qui comprend les valeurs de $\\theta_1$, $\\theta_2$, $\\omega_1$ et $\\omega_2$ et une valeur de temps *t*. Celle-ci utilise alors les 4 équations du mouvement pour construire la liste *dot_x* qui comprend les valeurs de $\\dot{\\theta}_1$, $\\dot{\\theta}_2$, $\\dot{\\omega}_1$ et $\\dot{\\omega}_2$. la fonction retourne ensuite *array_dot_x*, qui correspond à *dot_x* convertie en *array*. On considère ici que les tiges des pendules sont de longueur $l=40$ cm."
   ]
  },
  {
   "cell_type": "code",
   "execution_count": 46,
   "metadata": {},
   "outputs": [],
   "source": [
    "# Équations du mouvement du pendule double\n",
    "# Arguments :\n",
    "# x : liste comprenant les valeurs de theta_1 [rad], theta_2 [rad], omega_1 [rad/s], omega_2 [rad/s] (dans cet ordre)\n",
    "# t : valeur de temps [s] (non-utilisée, mais doit être présente pour la compatibilité avec runge_kutta_4)\n",
    "# Retourne :\n",
    "# array_dot_x : array 1D comprenant les dérivées temporelles des 4 variables dépendantes (même ordre et mêmes unités que x)\n",
    "\n",
    "def equations_penddouble(x, t):\n",
    "    # on renomme les variables pour simplifier la notation\n",
    "    t1 = x[0]\n",
    "    t2 = x[1]\n",
    "    o1 = x[2]\n",
    "    o2 = x[3]\n",
    "    # on définit la longueur de 40 cm\n",
    "    l = 0.40\n",
    "    # on crée la liste des dérivées\n",
    "    dot_x = []\n",
    "    # dérivées de theta_1 et theta_2\n",
    "    dot_x.append(o1)\n",
    "    dot_x.append(o2)\n",
    "    # dérivées de omega_1 et omega_2\n",
    "    dot_omega_1 = -(o1**2 * np.sin(2*t1-2*t2) + 2*o2**2*np.sin(t1-t2) + g/l * (np.sin(t1-2*t2) + 3*np.sin(t1))) / (3-np.cos(2*t1-2*t2))\n",
    "    dot_omega_2 = (4*o1**2 * np.sin(t1-t2) + o2**2*np.sin(2*t1-2*t2) + 2*g/l * (np.sin(2*t1-t2) - np.sin(t2))) / (3-np.cos(2*t1-2*t2))\n",
    "    dot_x.append(dot_omega_1)\n",
    "    dot_x.append(dot_omega_2)\n",
    "    return np.array(dot_x)"
   ]
  },
  {
   "cell_type": "markdown",
   "metadata": {},
   "source": [
    "#### 4.3 Résolution des équations du mouvement\n",
    "\n",
    "On peut maintenant utiliser la méthode *runge_kutta_4* et la fonction *equations_penddouble* pour résoudre les équations du mouvement selon la méthode de Runge-Kutta du quatrième ordre. On considère les conditions initiales suivantes : $\\theta_1 = \\theta_2 = 90\\degree$, $\\omega_1=\\omega_2=0$. On s'intéresse au comportement du pendule de $t=0$ à $t=100$ s avec $N=10\\ 000$ tranches. On trace ensuite les positions angulaires $\\theta_1$ et $\\theta_2$ sur l'intervalle d'intérêt."
   ]
  },
  {
   "cell_type": "code",
   "execution_count": 52,
   "metadata": {},
   "outputs": [
    {
     "data": {
      "image/png": "[encoded data removed]",
      "text/plain": [
       "<Figure size 432x288 with 1 Axes>"
      ]
     },
     "metadata": {},
     "output_type": "display_data"
    }
   ],
   "source": [
    "# définition des conditions initiales (en radians)\n",
    "cond_init = [np.pi/2, np.pi/2, 0, 0]\n",
    "\n",
    "# résolution des équations du mouvement\n",
    "vars, t = runge_kutta_4(equations_penddouble, cond_init, 0, 100, 10000)\n",
    "\n",
    "# on trace le résultat\n",
    "\n",
    "theta_1 = []\n",
    "for v in vars:\n",
    "    theta_1.append(v[0])\n",
    "\n",
    "theta_2 = []\n",
    "for v in vars:\n",
    "    theta_2.append(v[1])\n",
    "\n",
    "fig = plt.figure()\n",
    "fig.patch.set_facecolor('white')\n",
    "plt.title('Position angulaire des pendules')\n",
    "plt.ylabel('$θ$ [rad]')\n",
    "plt.xlabel('$t$ [s]')\n",
    "plt.plot(t, theta_1[:-1], label=\"$θ_1$\")\n",
    "plt.plot(t, theta_2[:-1], label=\"$θ_2$\")\n",
    "plt.legend()\n",
    "plt.show()"
   ]
  },
  {
   "cell_type": "markdown",
   "metadata": {},
   "source": [
    "SENSIBILITÉ AUX CONDITIONS INITIALES, CHAOS, RÉSULTATS AVEC g ARRONDI"
   ]
  }
 ],
 "metadata": {
  "interpreter": {
   "hash": "6537d6febe7fb1246163fe1377d17bbfd38b19cd973b106333eb66b4dd5f3e76"
  },
  "kernelspec": {
   "display_name": "Python 3.8.2 64-bit",
   "language": "python",
   "name": "python3"
  },
  "language_info": {
   "codemirror_mode": {
    "name": "ipython",
    "version": 3
   },
   "file_extension": ".py",
   "mimetype": "text/x-python",
   "name": "python",
   "nbconvert_exporter": "python",
   "pygments_lexer": "ipython3",
   "version": "3.8.2"
  },
  "orig_nbformat": 4
 },
 "nbformat": 4,
 "nbformat_minor": 2
}
