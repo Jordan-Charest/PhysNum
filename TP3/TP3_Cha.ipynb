{
 "cells": [
  {
   "cell_type": "markdown",
   "metadata": {},
   "source": [
    "### 1. Démontrez comment on obtient la deuxième équation du mouvement ci-haut\n",
    "\n",
    "Étant donné que le pendule est dans le plan $xy$, la vitesse de la masse $n$ est donnée par:\n",
    "\n",
    "$$v_n=\\sqrt{\\dot{x}_n^2+\\dot{y}_n^2}$$\n",
    "\n",
    "On doit donc déterminer $x_2$ et $y_2$, les coordonnées de la masse 2. Or, puisque la masse 2 se trouve au bout du pendule, on obtient les coordonnées en additionnant les coordonnées de la masse 1 ($x_1$, $y_1$) aux coordonnées de la masse 2 *par rapport* à la masse 1 ($x_{21}$, $y_{21}$). Par trigonométrie (voir figure 1), on trouve les expressions suivantes:\n",
    "\n",
    "$$x_1=\\ell \\sin\\theta_1$$\n",
    "$$y_1=\\ell \\cos\\theta_1$$\n",
    "\n",
    "$$x_{21}=\\ell \\sin\\theta_2$$\n",
    "$$y_{21}=\\ell \\cos\\theta_2$$\n",
    "\n",
    "Et on obtient les coordonnées suivantes pour la masse 2:\n",
    "\n",
    "$$x_2=x_1+x_{21}=\\ell(\\sin\\theta_1+\\sin\\theta_2)$$\n",
    "$$y_2=y_1+y_{21}=\\ell(\\cos\\theta_1+\\cos\\theta_2)$$\n",
    "\n",
    "On dérive par rapport au temps les expressions obtenues en se souvenant que $\\ell$ est une constante et que $\\theta_1$, $\\theta_2$ varient:\n",
    "\n",
    "$$\\dot{x}_2=\\ell(\\dot{\\theta}_1\\cos\\theta_1+\\dot{\\theta}_2\\cos\\theta_2)$$\n",
    "$$\\dot{y}_2=-\\ell(\\dot{\\theta}_1\\sin\\theta_1+\\dot{\\theta}_2\\sin\\theta_2)$$\n",
    "\n",
    "On met au carré:\n",
    "\n",
    "$$\\dot{x}_2^2=\\ell^2(\\dot{\\theta}_1^2\\cos^2\\theta_1+\\dot{\\theta}_2^2\\cos^2\\theta_2+2\\dot{\\theta}_1\\dot{\\theta}_2\\cos\\theta_1\\cos\\theta_2)$$\n",
    "$$\\dot{y}_2^2=\\ell^2(\\dot{\\theta}_1^2\\sin^2\\theta_1+\\dot{\\theta}_2^2\\sin^2\\theta_2+2\\dot{\\theta}_1\\dot{\\theta}_2\\sin\\theta_1\\sin\\theta_2)$$\n",
    "\n",
    "Et on obtient la vitesse en additionnant les deux expressions:\n",
    "\n",
    "$$v_2^2=\\dot{x}_2^2+\\dot{y}_2^2$$\n",
    "\n",
    "$$v_2^2=\\ell^2(\\dot{\\theta}_1^2\\cos^2\\theta_1+\\dot{\\theta}_2^2\\cos^2\\theta_2+2\\dot{\\theta_1}\\dot{\\theta_2}\\cos\\theta_1\\cos\\theta_2)+\\ell^2(\\dot{\\theta}_1^2\\sin^2\\theta_1+\\dot{\\theta}_2^2\\sin^2\\theta_2+2\\dot{\\theta}_1\\dot{\\theta}_2\\sin\\theta_1\\sin\\theta_2)$$\n",
    "\n",
    "$$v_2^2=\\ell^2(\\dot{\\theta}_1^2(\\sin^2\\theta_1+\\cos^2\\theta_1)+\\dot{\\theta}_2(^2\\sin^2\\theta_2+\\cos^2\\theta_2)+2\\dot{\\theta}_1\\dot{\\theta}_2(\\cos\\theta_1\\cos\\theta_2+\\sin\\theta_1\\sin\\theta_2))$$\n",
    "\n",
    "On simplifie avec les identités $\\sin^2\\alpha+\\cos^2\\alpha=1$ et $\\cos\\alpha\\cos\\beta+\\sin\\alpha\\sin\\beta=\\cos(\\alpha-\\beta)$:\n",
    "\n",
    "$$v_2^2=\\ell^2(\\dot{\\theta}_1^2+\\dot{\\theta}_2^2+2\\dot{\\theta}_1\\dot{\\theta}_2\\cos(\\theta_1-\\theta_2))$$\n",
    "\n",
    "C.Q.F.D."
   ]
  }
 ],
 "metadata": {
  "language_info": {
   "name": "python"
  },
  "orig_nbformat": 4
 },
 "nbformat": 4,
 "nbformat_minor": 2
}
