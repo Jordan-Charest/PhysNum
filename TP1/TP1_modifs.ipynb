{
 "cells": [
  {
   "cell_type": "markdown",
   "metadata": {},
   "source": [
    "## Préface\n",
    "\n",
    "Dans ce travail pratique, les sources seront notées entre crochets ([X]) et détaillées dans la section *Médiagraphie* à la fin du document"
   ]
  },
  {
   "cell_type": "markdown",
   "metadata": {},
   "source": [
    "## Constantes et modules\n",
    "\n",
    "Définissons d'abord toutes les constantes qui seront utilisées par les fonction définies ci-après [1], et importons les modules nécessaires:"
   ]
  },
  {
   "cell_type": "code",
   "execution_count": 1,
   "metadata": {},
   "outputs": [],
   "source": [
    "import math\n",
    "import timeit\n",
    "import numpy as np\n",
    "import scipy as sp\n",
    "import matplotlib.pyplot as plt\n",
    "import seaborn as sns\n",
    "import pandas as pd # peut être à enlever\n",
    "from scipy.stats import moyal\n",
    "\n",
    "\n",
    "c = 2.99792458 * 10**8                  # vitesse de la lumière [m/s]\n",
    "re = 2.8179409238 * 10**(-15)           # rayon classique de l'électron [m]\n",
    "me = 9.1093837015 * 10**(-31)           # masse au repos de l'électron [kg]\n",
    "mp = 1.6726219236951 * 10**(-27)        # masse au repos du proton [kg]"
   ]
  },
  {
   "cell_type": "markdown",
   "metadata": {},
   "source": [
    "## Densité électronique d'un milieu\n",
    "\n",
    "En premier lieu, on cherche à déterminer la densité électronique pour un milieu donné, en nombre d'électrons par centimètre cube. Pour ce faire, on a besoin de trois données pour chaque composant distinct du milieu: le numéro atomique ($Z_n$), la fraction massique ($F_n$) et la masse volumique ($M_n$). Toutes ces données sont tabulées sur diverses pages web, notamment celle du NIST [2].\n",
    "\n",
    "Pour obtenir la densité électronique à partir de ces trois données, on doit déterminer le nombre d'électrons de chaque composant distinct indépendamment. Cela se traduit mathématiquement par :\n",
    "\n",
    "$$N_e=\\sum_{i=1}^{n}\\frac{\\rho}{M_i}Z_i\\cdot F_n\\cdot N_A$$"
   ]
  },
  {
   "cell_type": "markdown",
   "metadata": {},
   "source": [
    "Où $N_e$ est la densité électronique en $\\text{électrons/cm}^3$, et $N_A=6.02214076\\times10^{23}$ atomes/mol est le nombre d'Avogadro. On code cette expression dans la fonction *densiteelec* qui prend en entrée la masse volumique en $\\text{g/cm}^3$ du milieu et une liste comprenant $Z$, $F$ et $M$ pour chaque composant du milieu et retourne la densité électronique en $\\text{électrons/cm}^3$."
   ]
  },
  {
   "cell_type": "code",
   "execution_count": 2,
   "metadata": {},
   "outputs": [],
   "source": [
    "# Format de données: données = [[Z1, P1, M1], [Z2, P2, M2], ...]\n",
    "# où Zn est le numéro atomique, Fn est la fraction massique et Mn est la masse volumique\n",
    "# Chaque liste individuelle dans la liste \"données\" représente un composant\n",
    "# distinct du milieu (par exemple, H et O pour l'eau).\n",
    "\n",
    "def densiteelec(rho, donnees):\n",
    "    nombreelec = []\n",
    "    for i in donnees:\n",
    "        nombreelec.append(i[1]*rho/i[2]*i[0]*6.02214076*10**(23))\n",
    "    return sum(nombreelec)"
   ]
  },
  {
   "cell_type": "markdown",
   "metadata": {},
   "source": [
    "Pouvant maintenant calculer les densités électroniques, il sera utile de les calculer et d'enregistrer ces valeurs dans un dictionnaire afin de pouvoir y accéder aisément plus tard. Définissons donc le dictionnaire *milieu*, qui contiendra trois valeurs : la densité électronique (que nous pouvons maintenant calculer), ainsi que la masse volumique et l'énergie d'excitation moyenne, toutes deux tirées directement du site du NIST [2]. Toutes les données utilisées pour faire les calculs de densité électronique ont aussi été tirées du site web du NIST:"
   ]
  },
  {
   "cell_type": "code",
   "execution_count": 3,
   "metadata": {},
   "outputs": [],
   "source": [
    "# milieu = {\"milieu1\": (densité électronique [e/cm^3], rho [g/cm^3], énergie moy d'activation [J])}\n",
    "\n",
    "rho_eau = 1\n",
    "donnees_eau = [[1, 0.111894, 1.0079], [8, 0.888106, 15.999]]\n",
    "I_eau = 75 / (6.242*10**18)\n",
    "\n",
    "rho_os = 1.85\n",
    "donnees_os = [\n",
    "    [1, 0.063984, 1.0079], \n",
    "    [6, 0.278000, 12.011], \n",
    "    [7, 0.027000, 14.007], \n",
    "    [8, 0.410016, 15.999], \n",
    "    [12, 0.002000, 24.305], \n",
    "    [15, 0.070000, 30.974], \n",
    "    [16, 0.002000, 32.06], \n",
    "    [20, 0.147000, 40.078]\n",
    "    ]\n",
    "I_os = 91.9 / (6.242*10**18)\n",
    "\n",
    "milieu = {}\n",
    "milieu[\"eau\"] = (densiteelec(rho_eau, donnees_eau), rho_eau, I_eau)\n",
    "milieu[\"os\"] = (densiteelec(rho_os, donnees_os), rho_os, I_os)"
   ]
  },
  {
   "cell_type": "markdown",
   "metadata": {},
   "source": [
    "Lorsqu'on aura des fonctions qui feront appel à l'une de ces deux variables, on pourra donc simplement passer en argument le milieu dans lequel on souhaite évaluer la fonction; cela nous évitera d'avoir à \"hard-code\" des valeurs ou encore à programmer plusieurs fonctions distinctes. Les valeurs de densité électronique pour l'eau et l'os compact sont donc :"
   ]
  },
  {
   "cell_type": "code",
   "execution_count": 4,
   "metadata": {},
   "outputs": [
    {
     "name": "stdout",
     "output_type": "stream",
     "text": [
      "densité électronique de l'eau : 3.342876611513782e+23 électrons / cm^3\n",
      "densité électronique de l'os compact : 5.9059477632844346e+23 électrons / cm^3\n"
     ]
    }
   ],
   "source": [
    "print(\"densité électronique de l'eau :\", milieu[\"eau\"][0], \"électrons / cm^3\")\n",
    "print(\"densité électronique de l'os compact :\", milieu[\"os\"][0], \"électrons / cm^3\")"
   ]
  },
  {
   "cell_type": "markdown",
   "metadata": {},
   "source": [
    "## Pouvoir d'arrêt\n",
    "\n",
    "On veut maintenant coder une fonction qui calcule le pouvoir d'arrêt d'un milieu en fonction de l'énergie cinétique du proton qui s'y trouve. On sait que le pouvoir d'arrêt est donné par la fonction mathématique suivante :\n",
    "$$S_{col}(T)=2\\pi r_e^2 m_e c^2 n_e\\beta^{-2}\\left[\\ln\\left(\\frac{2m_ec^2\\beta^2\\gamma^2 T_e^{max}}{I^2}\\right)-2\\beta^2\\right]$$\n",
    "avec les quantités suivantes :\n",
    "$$T^{max}_e = \\frac{2m_ec^2(\\gamma^2-1)}{1+\\big(\\frac{m_e}{m_p})^2 + 2\\frac{m_e}{m_p}\\gamma}$$\n",
    "$$\\gamma = \\frac{T}{m_pc^2} + 1$$\n",
    "$$\\beta = \\sqrt{1-\\gamma^{-2}}$$\n",
    "où $r_e$ est le rayon classique de l'électron, $n_e$ est la densité électronique du milieu, $Z$ est la charge de la particule, $I$ est l'énergie moyenne d'excitation du milieu et $T$ est l'énergie cinétique de la particule. On commence par coder une fonction qui retourne l'énergie maximale transférable $T_e^{max}$ :"
   ]
  },
  {
   "cell_type": "code",
   "execution_count": 5,
   "metadata": {},
   "outputs": [],
   "source": [
    "def e_transf_max(gamma):\n",
    "    te_max = 2 * me * c**2 * (gamma**2 - 1) / (1 + 2*gamma*me/mp + (me/mp)**2)\n",
    "    return te_max"
   ]
  },
  {
   "cell_type": "markdown",
   "metadata": {},
   "source": [
    "On définit ensuite la fonction *pouvoir_arret* qui retourne le pouvoir d'arrêt pour un proton en fonction du milieu et de l'énergie cinétique du proton en MeV. Tout d'abord, la fonction convertit l'énergie cinétique et la densité électronique en unités SI. Elle calcule ensuite les quantités $\\gamma$, $\\beta$ et $T_e^{max}$. Finalement elle calcule le pouvoir d'arrêt et retourne la valeur convertie en MeV."
   ]
  },
  {
   "cell_type": "code",
   "execution_count": 6,
   "metadata": {},
   "outputs": [],
   "source": [
    "# Pouvoir d'arrêt [MeV/m]\n",
    "# Arguments :\n",
    "# T : énergie cinétique du proton [MeV]\n",
    "# mil : clé pour appeler le bon milieu dans le dictionnaire \"milieu\" (\"eau\" ou \"os\")\n",
    "\n",
    "def pouvoir_arret(T, mil): \n",
    "\n",
    "    # T de MeV à J\n",
    "    T = T / 6241506479963.2\n",
    "\n",
    "    # densité électronique de g/cm-3 à kg/m-3\n",
    "    ne = milieu[mil][0]*10**6\n",
    "\n",
    "    # Calcul de gamma et beta\n",
    "    gamma = T / (mp * c**2) + 1\n",
    "    beta = np.sqrt(1 - gamma**(-2))\n",
    "\n",
    "    # Calcul de l'énergie de transfert maximal\n",
    "    te_max = e_transf_max(gamma)\n",
    "\n",
    "    const = 2 * np.pi * re**2 * me * c**2 * ne / beta**2\n",
    "    parenth = np.log(2 * me * c**2 * beta**2 * gamma**2 * te_max / milieu[mil][2]**2) - (2 * beta**2)\n",
    "\n",
    "    return (const * parenth) * 6241506479963.2"
   ]
  },
  {
   "cell_type": "markdown",
   "metadata": {},
   "source": [
    "Maintenant qu'on a une fonction qui permet de calculer le pouvoir d'arrêt, on peut tracer le pouvoir d'arrêt en fonction de l'énergie cinétique du proton pour l'eau liquide et pour l'os compact. On considère un intervalle de 3-250 MeV pour l'énergie cinétique du proton, car les faisceaux de protonthérapie ont typiquement une énergie cinétique initiale de 70-250 MeV et car notre modèle théorique ne s'applique pas pour des protons avec une énergie cinétique de moins de 3 MeV."
   ]
  },
  {
   "cell_type": "code",
   "execution_count": 7,
   "metadata": {},
   "outputs": [
    {
     "data": {
      "image/png": "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",
      "text/plain": [
       "<Figure size 576x360 with 1 Axes>"
      ]
     },
     "metadata": {},
     "output_type": "display_data"
    }
   ],
   "source": [
    "# Énergie cinétique du proton\n",
    "T = np.linspace(3, 250, 1000)\n",
    "\n",
    "# Pouvoir d'arrêt de l'eau liquide en MeV/cm\n",
    "pouv_arr_eau = []\n",
    "for i in T:\n",
    "    pouv_arr_eau.append(pouvoir_arret(i, 'eau') / 100)\n",
    "\n",
    "# Pouvoir d'arrêt de l'os compact en MeV/cm\n",
    "pouv_arr_os = []\n",
    "for i in T:\n",
    "    pouv_arr_os.append(pouvoir_arret(i, 'os') / 100)\n",
    "\n",
    "sns.set_style(\"ticks\")\n",
    "pouv_arr_fig = plt.figure(figsize=(8,5))\n",
    "plt.plot(T, pouv_arr_eau, label='Eau liquide')\n",
    "plt.plot(T,pouv_arr_os, label='Os compact')\n",
    "plt.xlabel('Énergie cinétique du proton [MeV]', fontsize=14)\n",
    "plt.ylabel(\"Pouvoir d'arrêt [MeV/cm]\", fontsize=14)\n",
    "plt.xscale('log')\n",
    "plt.legend()\n",
    "plt.show()"
   ]
  },
  {
   "cell_type": "markdown",
   "metadata": {},
   "source": [
    "Il est pertinent de souligner que le modèle ne considère que l'effet de l'interaction entre les électrons et les protons sur le pouvoir d'arrêt. Toutefois, cette approximation est légitime, car cet effet dépasse largement les autres effets qui influencent le pouvoir d'arrêt. Les deux autres phénomènes principaux sont l'effet Bremsstrahlung, qui cause des pertes radiatives, et l'interaction entre les protons et les noyaux atomiques. Selon les données du NIST [3] représentées à la figure 1, on observe que l'effet de l'interaction entre les protons et les noyaux atomiques dans l'os compact est faible comparée à l'interaction entre les protons et les électrons, spécialement pour la plage d'intérêt, c'est-à-dire pour une énergie cinétique de 3 à 250 MeV. Les données du NIST pour l'eau liquide [3], représentées à la figure 2, montrent un comportement similaire. Par exemple, pour une énergie cinétique de 100 MeV, selon le NIST, les pertes causées par l'interaction proton-électron dans l'eau liquide sont de 45,6 MeV tandis que les pertes causées par l'intéraction proton-noyaux atomiques est de 26,0 keV. Les pertes causées par les interactions avec les électrons sont donc environ 1754 fois plus grandes que celles causées par les interactions avec les noyaux atomiques dans cette situation."
   ]
  },
  {
   "cell_type": "markdown",
   "metadata": {},
   "source": [
    "<center><img src=\"PouvoirArretTotalOS.png\" style=\"width: 600px;\"/></center>\n",
    "<center>Figure 1. Pouvoir d'arrêt dans l'os compact [3]"
   ]
  },
  {
   "cell_type": "markdown",
   "metadata": {},
   "source": [
    "<center><img src=\"PouvoirArretTotalEau.png\" style=\"width: 600px;\"/></center>\n",
    "<center>Figure 2. Pouvoir d'arrêt dans l'eau liquide [3]"
   ]
  },
  {
   "cell_type": "markdown",
   "metadata": {},
   "source": [
    "Pour l'effet Bremsstrahlung, on peut déterminer l'ordre de grandeur des pertes radiatives des protons à partir des données sur les pertes radiatives des faisceaux d'électrons dans les différents milieux. Selon les données du NIST [4], les pertes radiatives maximales pour un faisceau d'électron dans l'eau liquide pour des énergies de 3 à 250 MeV sont de l'ordre de 1 MeV. Pour un faisceau de protons, la force électromagnétique issue de l'intéraction entre les protons et les électrons sera du même ordre de grandeur que pour un faisceau d'électrons, mais, comme la masse du proton est environ 1836 fois [1] plus grande que celle de l'électron, l'accélération des protons sera alors environ 1836 fois plus petit par la deuxième loi de Newton. Comme l'accélération cause les pertes radiatives, celles-ci seront également 1836 fois plus petites que pour un faisceau d'électrons. Les pertes seront alors de l'ordre du keV et seront négligeables comparées aux pertes dues aux interactions proton-électron, qui sont de l'ordre du MeV. On peut effectuer le même raisonnement pour l'os compact à partir des données du NIST et en arriver à la même conclusion."
   ]
  },
  {
   "cell_type": "markdown",
   "metadata": {},
   "source": [
    "## Portée des protons dans la matière\n",
    "\n",
    "On cherche maintenant à déterminer la portée des protons dans l'eau liquide et l'os compact. On sait que la portée est donnée par l'intégrale suivante :\n",
    "$$R_{CSDA}=\\rho\\int_0^{T_i}\\frac{1}{S_{col}}$$\n",
    "Comme le pouvoir d'arrêt du milieu représente la quantité d'énergie que le proton perd lorsqu'il se propage dans le milieu, on voit logiquement que le proton pourra se propager plus loin si le pouvoir d'arrêt du milieu est faible. Il se propagera moins loin si le pouvoir d'arrêt est grand. Il est donc cohérent d'intégrer sur l'inverse du pouvoir d'arrêt afin de déterminer la portée du proton."
   ]
  },
  {
   "cell_type": "markdown",
   "metadata": {},
   "source": [
    "On veut maintenant déterminer si on doit utiliser une méthode numérique pour calculer l'intégrale. Tout d'abord, on peut réécrire l'équation du pouvoir d'arrêt en fonction de $\\gamma$ à l'aide des relations suivantes:\n",
    "$$U = 2\\pi r_e^2m_ec^2n_e$$\n",
    "$$T = (\\gamma-1)m_pc^2$$\n",
    "$$T_e^{max} = \\frac{a(\\gamma^2-1)}{b + \\delta\\gamma}$$\n",
    "$$\\beta^2\\gamma^2 = (\\gamma^2-1)$$\n",
    "où $a$, $b$ et $\\delta$ sont des constantes qui dépendent des masses de l'électron et du proton. On En remplaçant dans dans l'équation du pouvoir d'arrêt, on a\n",
    "$$S_{col} = U\\frac{\\gamma^2}{(\\gamma^2-1)}\\Bigg[\\ln\\bigg(\\frac{2m_ec^2a(\\gamma^2-1)^2}{I^2(b + \\delta)}\\bigg)\\Bigg] - 2U$$\n",
    "En posant les changements de variable d'intégration $T = T_i - T$ et $T = (\\gamma-1)m_pc^2$, on obtient une intégrale de la forme suivante pour la portée:\n",
    "$$R_{CSDA} = \\rho m_pc^2\\int \\frac{\\text{d}\\gamma}{U\\frac{\\gamma^2}{(\\gamma^2-1)}\\Bigg[\\ln\\bigg(\\frac{2m_ec^2a(\\gamma^2-1)^2}{I^2(b + \\delta)}\\bigg)\\Bigg] - 2U}$$\n",
    "Une intégrale de cette forme ne possède pas de solution analytique connue, donc on doit la résoudre numériquement. On peut vérifier qu'elle n'a pas de solution analytique avec un logiciel de calcul tel que WolframAlpha. Pour calculer l'intégrale numériquement, on veut utiliser deux méthodes d'intégration numérique : la méthode des trapèzes et la méthode de Romberg. Implémentons d'abord la méthode des trapèzes, étant donné que celle-ci sera nécessaire au fonctionnement de la méthode de Romberg :"
   ]
  },
  {
   "cell_type": "code",
   "execution_count": 8,
   "metadata": {},
   "outputs": [],
   "source": [
    "# Intègre une fonction selon la méthode des trapèzes\n",
    "# Arguments:\n",
    "# f : fonction à intégrer\n",
    "# N : nombre de tranches\n",
    "# a, b : bornes d'intégration\n",
    "# *args : arguments supplémentaires de f\n",
    "\n",
    "def trapeze(f, N, a, b, *args):\n",
    "    h = (b-a)/N\n",
    "\n",
    "    s = 0.5*f(a, *args)+0.5*f(b, *args)\n",
    "    for i in range(1,N):\n",
    "        s += f(a+i*h, *args)\n",
    "    \n",
    "    return h*s"
   ]
  },
  {
   "cell_type": "markdown",
   "metadata": {},
   "source": [
    "Cette fonction prend en argument la fonction à intégrer f, le nombre de tranches N, les deux bornes d'intégration a et b, ainsi que des arguments optionnels propre à la fonction à intégrer. Elle retourne la valeur de l'intégrale calculée par la méthode des trapèzes. On peut maintenant implémenter la méthode de Romberg. En partant de $N=2$ tranches, la fonction calcule l'intégrale par la méthode des trapèzes de façon itérative pour le double de tranches à chaque itération jusqu'à obtenir le nombre de tranches maximal souhaité. Pour la $i$-ième valeur donnée par la méthode des trapèzes, elle calcule $i$ valeurs $R_{i,m}$ plus précises de l'intégrales de manière itérative par l'équation suivante [5]:\n",
    "$$R_{i, m+1} = R_{i,m} + \\frac{1}{4^m-1}(R_{i,m}-R_{i-1,m})$$\n",
    "La fonction retourne ensuite la dernière valeur calculée, qui correspond à la valeur la plus précise. La fonction retourne également l'erreur sur l'avant-dernière itération telle que donnée par l'équation suivante [5] :\n",
    "$$\\epsilon = \\frac{1}{4^m-1}(R_{i,m}-R_{i-1,m})$$\n",
    "Comme la dernière itération sera plus précise que l'avant-dernière, on peut utiliser cette valeur d'erreur surestimée pour la dernière itération. L'erreur sur la dernière itération ne peut pas être calculée directement, car la valeur $R_{i-1, m}$ n'existe pas pour $m=i$."
   ]
  },
  {
   "cell_type": "code",
   "execution_count": 9,
   "metadata": {},
   "outputs": [],
   "source": [
    "# Intègre une fonction selon la méthode de Romberg\n",
    "# Retourne la valeur de l'intégrale et l'erreur\n",
    "# Arguments:\n",
    "# f : fonction à intégrer\n",
    "# i_max : nombre d'itérations (2^i tranches au maximum)\n",
    "# a, b : bornes d'intégration\n",
    "# *args : arguments supplémentaires de f\n",
    "\n",
    "def romberg(f, i_max, a, b, *args):\n",
    "    Rn = []\n",
    "    N = 1\n",
    "    for i in range(i_max):\n",
    "        Rn.append([trapeze(f, N, a, b, *args)])\n",
    "        N = 2 * N\n",
    "        for m in range(i):\n",
    "            Rn[i].append(Rn[i][m] + (Rn[i][m] - Rn[i-1][m]) / (4**(m+1) - 1))\n",
    "    err = (Rn[-1][-2] - Rn[-2][-1]) / (4**(i_max-1) - 1)\n",
    "    return Rn[-1][-1], err"
   ]
  },
  {
   "cell_type": "markdown",
   "metadata": {},
   "source": [
    "On veut maintenant, à l'aide de ces deux algorithmes, évaluer la portée des protons dans l'eau et dans l'os compact. La portée est donnée par :\n",
    "\n",
    "$$R_{CSDA}=\\rho\\int_0^{T_i}\\frac{1}{S_{col}}$$\n",
    "\n",
    "Où $\\rho$ est la masse volumique du milieu en $\\text{kg/m}^3$, $T_i$ est l'énergie d'entrée du proton en MeV, et $S_{col}$ est le pouvoir d'arrêt en MeV par mètre. On définit donc tout d'abord une fonction qui retourne l'inverse du pouvoir d'arrêt. On définit ensuite une fonction *portee* qui peut calculer la portée d'un proton par la méthode des trapèzes ou par la méthode de Romberg. Cette fonction prend en argument un paramètre $i$ qui fixe à $2^i$ le nombre de tranches pour la méthode des trapèzes et le nombre de tranches maximal pour la méthode de Romberg, le nom du milieu, les bornes d'intégration et la méthode (trapèzes ou Romberg)."
   ]
  },
  {
   "cell_type": "code",
   "execution_count": 10,
   "metadata": {},
   "outputs": [],
   "source": [
    "# Retourne l'inverse du pouvoir d'arrêt\n",
    "# Arguments :\n",
    "# T : énergie cinétique du proton\n",
    "# mil : nom du milieu de propagation (\"eau\" ou \"os\")\n",
    "\n",
    "def inv_pouvoir_arret(T, mil):\n",
    "    return pouvoir_arret(T, mil)**(-1)\n",
    "\n",
    "# Calcule la portée\n",
    "# Arguments :\n",
    "# T : énergie cinétique du proton\n",
    "# a, b : énergie cinétique finale et initiale du proton\n",
    "# mil : nom du milieu de propagation (\"eau\" ou \"os\")\n",
    "\n",
    "def portee(i, a, b, mil, methode):\n",
    "    N = 2 ** i\n",
    "    if methode == \"trapeze\":\n",
    "        return milieu[mil][1] * 1000 * trapeze(inv_pouvoir_arret, N, a, b, mil)\n",
    "    elif methode == \"romberg\":\n",
    "        return milieu[mil][1] * 1000 * romberg(inv_pouvoir_arret, i, a, b, mil)[0]"
   ]
  },
  {
   "cell_type": "markdown",
   "metadata": {},
   "source": [
    "Il est à noter que puisque les éléments de chaque liste du dictionnaire *dens* (défini au début du document) sont en $\\text{électrons/cm}^3$ et en $\\text{g/cm}^3$ respectivement; il est donc important de se rappeler de les convertir de façon appropriée dans les fonctions."
   ]
  },
  {
   "cell_type": "markdown",
   "metadata": {},
   "source": [
    "On peut donc spécifier tous les paramètres pour obtenir la portée. Si par exemple on veut la portée dans l'os compact avec la méthode des trapèzes, avec $N=2^8=256$ tranches avec une énergie variant de 150 MeV à 3 MeV, on écrira :"
   ]
  },
  {
   "cell_type": "code",
   "execution_count": 11,
   "metadata": {},
   "outputs": [
    {
     "name": "stdout",
     "output_type": "stream",
     "text": [
      "portée dans l'os compact avec la méthode des trapèzes = 169.44513437407602\n",
      "portée dans l'os compact avec la méthode de Romberg = 169.44552495579194\n",
      "portée dans l'eau avec la méthode des trapèzes = 157.52313194071118\n",
      "portée dans l'eau avec la méthode de Romberg = 157.52349026303548\n"
     ]
    }
   ],
   "source": [
    "print(\"portée dans l'os compact avec la méthode des trapèzes =\", portee(8, 3, 150, \"os\", \"trapeze\"))\n",
    "print(\"portée dans l'os compact avec la méthode de Romberg =\", portee(8, 3, 150, \"os\", \"romberg\"))\n",
    "\n",
    "print(\"portée dans l'eau avec la méthode des trapèzes =\", portee(8, 3, 150, \"eau\", \"trapeze\"))\n",
    "print(\"portée dans l'eau avec la méthode de Romberg =\", portee(8, 3, 150, \"eau\", \"romberg\"))"
   ]
  },
  {
   "cell_type": "markdown",
   "metadata": {},
   "source": [
    "Maintenant, on veut estimer le nombre de tranches nécessaires pour atteindre la précision machine pour chacune de ces méthodes. On prendra, comme suggéré dans les notes de cours, une valeur conservatrice de $10^{-16}$ pour l'erreur d'arrondi et on estimera le nombre de tranches nécessaires pour que l'erreur d'approximation se retrouve en déça de cette valeur.\n",
    "\n",
    "Tout d'abord, on s'attarde à la méthode des trapèzes. On peut tirer des notes de cours [6] une expression estimant l'erreur d'approximation commise par une intégration numérique, soit :\n",
    "\n",
    "$$\\epsilon_{2N}=\\frac{1}{3}(I_{2N}-I_N)$$\n",
    "\n",
    "On cherche donc la valeur 2N pour que l'expression suivante soit vraie:\n",
    "\n",
    "$$\\frac{1}{3}(I_{2N}-I_N) < 10^{-16}$$\n",
    "\n",
    "On peut programmer une fonction qui détermine ce nombre 2N de tranches par itération. On débutera donc en évaluant la fonction à 1 et 2 tranches, puis nous augmenterons le nombre de tranches d'un facteur *pas* à chaque évaluation de la fonction.\n",
    "\n",
    "Afin de discuter du temps d'éxécution des fonctions, nous calculerons aussi le temps d'éxécution à l'aide de la fonction *default_timer* du module *timeit*."
   ]
  },
  {
   "cell_type": "code",
   "execution_count": 12,
   "metadata": {},
   "outputs": [],
   "source": [
    "# Estimation le nombre de tranches requises pour atteindre la\n",
    "# précision machine avec la méthode des trapèzes\n",
    "# Arguments:\n",
    "# Ni: nombre initial de tranches à la première itération\n",
    "# a, b: énergie cinétique finale et initiale du proton\n",
    "# mil: milieu (\"eau\" ou \"os\")\n",
    "# pas: facteur multiplicatif du nombre de tranches à chaque itération\n",
    "\n",
    "def estim_trapeze(Ni, a, b, mil, pas):\n",
    "    t1 = timeit.default_timer()\n",
    "    N = Ni\n",
    "    I1 = 0\n",
    "    I2 = trapeze(inv_pouvoir_arret, N, a, b, mil) * 1000 * milieu[mil][1]\n",
    "    while (I2 - I1)/3 > precision:\n",
    "        N = math.ceil(N*pas)\n",
    "        I1 = I2\n",
    "        I2 = trapeze(inv_pouvoir_arret, N, a, b, mil) * 1000 * milieu[mil][1]\n",
    "    t2 = timeit.default_timer()\n",
    "    return N, t2-t1"
   ]
  },
  {
   "cell_type": "markdown",
   "metadata": {},
   "source": [
    "Si on veut estimer le nombre de tranches requises pour l'eau, on aura donc:"
   ]
  },
  {
   "cell_type": "code",
   "execution_count": 13,
   "metadata": {},
   "outputs": [
    {
     "name": "stderr",
     "output_type": "stream",
     "text": [
      "<ipython-input-6-98b2c9e6f2e0>:21: RuntimeWarning: divide by zero encountered in double_scalars\n",
      "  const = 2 * np.pi * re**2 * me * c**2 * ne / beta**2\n",
      "<ipython-input-6-98b2c9e6f2e0>:22: RuntimeWarning: divide by zero encountered in log\n",
      "  parenth = np.log(2 * me * c**2 * beta**2 * gamma**2 * te_max / milieu[mil][2]**2) - (2 * beta**2)\n"
     ]
    },
    {
     "name": "stdout",
     "output_type": "stream",
     "text": [
      "Estimé du nombre de tranches requises: 4932\n"
     ]
    }
   ],
   "source": [
    "# ATTENTION : Le code cette cellule a été commenté, car il prend trop de temps à s'exécuter!\n",
    "\n",
    "#nb = estim_trapeze(1, 0, 150, \"eau\", 1.15, 1*10**(-16))\n",
    "#print(\"Estimé du nombre de tranches requises:\",nb)"
   ]
  },
  {
   "cell_type": "markdown",
   "metadata": {},
   "source": [
    "On remarque rapidement que la fonction ne semble pas trouver le nombre de tranches requises dans un intervalle de temps raisonnable. Même si on laisse le code fonctionner pendant plus d'une heure, on n'a toujours pas de sortie. Évaluons l'erreur à dix millions de tranches:"
   ]
  },
  {
   "cell_type": "code",
   "execution_count": 14,
   "metadata": {},
   "outputs": [
    {
     "ename": "KeyboardInterrupt",
     "evalue": "",
     "output_type": "error",
     "traceback": [
      "\u001b[1;31m---------------------------------------------------------------------------\u001b[0m",
      "\u001b[1;31mKeyboardInterrupt\u001b[0m                         Traceback (most recent call last)",
      "\u001b[1;32m<ipython-input-14-05f3b93949fd>\u001b[0m in \u001b[0;36m<module>\u001b[1;34m\u001b[0m\n\u001b[0;32m      1\u001b[0m \u001b[0mN1\u001b[0m \u001b[1;33m=\u001b[0m \u001b[1;36m5000000\u001b[0m\u001b[1;33m\u001b[0m\u001b[1;33m\u001b[0m\u001b[0m\n\u001b[0;32m      2\u001b[0m \u001b[0mN2\u001b[0m \u001b[1;33m=\u001b[0m \u001b[1;36m10000000\u001b[0m\u001b[1;33m\u001b[0m\u001b[1;33m\u001b[0m\u001b[0m\n\u001b[1;32m----> 3\u001b[1;33m \u001b[0mI1\u001b[0m \u001b[1;33m=\u001b[0m \u001b[0mtrapeze\u001b[0m\u001b[1;33m(\u001b[0m\u001b[0minv_pouvoir_arret\u001b[0m\u001b[1;33m,\u001b[0m \u001b[0mN1\u001b[0m\u001b[1;33m,\u001b[0m \u001b[1;36m3\u001b[0m\u001b[1;33m,\u001b[0m \u001b[1;36m150\u001b[0m\u001b[1;33m,\u001b[0m \u001b[1;34m\"eau\"\u001b[0m\u001b[1;33m)\u001b[0m \u001b[1;33m*\u001b[0m \u001b[1;36m1000\u001b[0m \u001b[1;33m*\u001b[0m \u001b[0mmilieu\u001b[0m\u001b[1;33m[\u001b[0m\u001b[1;34m\"eau\"\u001b[0m\u001b[1;33m]\u001b[0m\u001b[1;33m[\u001b[0m\u001b[1;36m1\u001b[0m\u001b[1;33m]\u001b[0m\u001b[1;33m\u001b[0m\u001b[1;33m\u001b[0m\u001b[0m\n\u001b[0m\u001b[0;32m      4\u001b[0m \u001b[0mI2\u001b[0m \u001b[1;33m=\u001b[0m \u001b[0mtrapeze\u001b[0m\u001b[1;33m(\u001b[0m\u001b[0minv_pouvoir_arret\u001b[0m\u001b[1;33m,\u001b[0m \u001b[0mN2\u001b[0m\u001b[1;33m,\u001b[0m \u001b[1;36m3\u001b[0m\u001b[1;33m,\u001b[0m \u001b[1;36m150\u001b[0m\u001b[1;33m,\u001b[0m \u001b[1;34m\"eau\"\u001b[0m\u001b[1;33m)\u001b[0m \u001b[1;33m*\u001b[0m \u001b[1;36m1000\u001b[0m \u001b[1;33m*\u001b[0m \u001b[0mmilieu\u001b[0m\u001b[1;33m[\u001b[0m\u001b[1;34m\"eau\"\u001b[0m\u001b[1;33m]\u001b[0m\u001b[1;33m[\u001b[0m\u001b[1;36m1\u001b[0m\u001b[1;33m]\u001b[0m\u001b[1;33m\u001b[0m\u001b[1;33m\u001b[0m\u001b[0m\n\u001b[0;32m      5\u001b[0m \u001b[0merr\u001b[0m \u001b[1;33m=\u001b[0m \u001b[0mnp\u001b[0m\u001b[1;33m.\u001b[0m\u001b[0mabs\u001b[0m\u001b[1;33m(\u001b[0m\u001b[0mI2\u001b[0m \u001b[1;33m-\u001b[0m \u001b[0mI1\u001b[0m\u001b[1;33m)\u001b[0m\u001b[1;33m/\u001b[0m\u001b[1;36m3\u001b[0m\u001b[1;33m\u001b[0m\u001b[1;33m\u001b[0m\u001b[0m\n",
      "\u001b[1;32m<ipython-input-8-9a463005874c>\u001b[0m in \u001b[0;36mtrapeze\u001b[1;34m(f, N, a, b, *args)\u001b[0m\n\u001b[0;32m     11\u001b[0m     \u001b[0ms\u001b[0m \u001b[1;33m=\u001b[0m \u001b[1;36m0.5\u001b[0m\u001b[1;33m*\u001b[0m\u001b[0mf\u001b[0m\u001b[1;33m(\u001b[0m\u001b[0ma\u001b[0m\u001b[1;33m,\u001b[0m \u001b[1;33m*\u001b[0m\u001b[0margs\u001b[0m\u001b[1;33m)\u001b[0m\u001b[1;33m+\u001b[0m\u001b[1;36m0.5\u001b[0m\u001b[1;33m*\u001b[0m\u001b[0mf\u001b[0m\u001b[1;33m(\u001b[0m\u001b[0mb\u001b[0m\u001b[1;33m,\u001b[0m \u001b[1;33m*\u001b[0m\u001b[0margs\u001b[0m\u001b[1;33m)\u001b[0m\u001b[1;33m\u001b[0m\u001b[1;33m\u001b[0m\u001b[0m\n\u001b[0;32m     12\u001b[0m     \u001b[1;32mfor\u001b[0m \u001b[0mi\u001b[0m \u001b[1;32min\u001b[0m \u001b[0mrange\u001b[0m\u001b[1;33m(\u001b[0m\u001b[1;36m1\u001b[0m\u001b[1;33m,\u001b[0m\u001b[0mN\u001b[0m\u001b[1;33m)\u001b[0m\u001b[1;33m:\u001b[0m\u001b[1;33m\u001b[0m\u001b[1;33m\u001b[0m\u001b[0m\n\u001b[1;32m---> 13\u001b[1;33m         \u001b[0ms\u001b[0m \u001b[1;33m+=\u001b[0m \u001b[0mf\u001b[0m\u001b[1;33m(\u001b[0m\u001b[0ma\u001b[0m\u001b[1;33m+\u001b[0m\u001b[0mi\u001b[0m\u001b[1;33m*\u001b[0m\u001b[0mh\u001b[0m\u001b[1;33m,\u001b[0m \u001b[1;33m*\u001b[0m\u001b[0margs\u001b[0m\u001b[1;33m)\u001b[0m\u001b[1;33m\u001b[0m\u001b[1;33m\u001b[0m\u001b[0m\n\u001b[0m\u001b[0;32m     14\u001b[0m \u001b[1;33m\u001b[0m\u001b[0m\n\u001b[0;32m     15\u001b[0m     \u001b[1;32mreturn\u001b[0m \u001b[0mh\u001b[0m\u001b[1;33m*\u001b[0m\u001b[0ms\u001b[0m\u001b[1;33m\u001b[0m\u001b[1;33m\u001b[0m\u001b[0m\n",
      "\u001b[1;32m<ipython-input-10-0e7a7fbff5ad>\u001b[0m in \u001b[0;36minv_pouvoir_arret\u001b[1;34m(T, mil)\u001b[0m\n\u001b[0;32m      5\u001b[0m \u001b[1;33m\u001b[0m\u001b[0m\n\u001b[0;32m      6\u001b[0m \u001b[1;32mdef\u001b[0m \u001b[0minv_pouvoir_arret\u001b[0m\u001b[1;33m(\u001b[0m\u001b[0mT\u001b[0m\u001b[1;33m,\u001b[0m \u001b[0mmil\u001b[0m\u001b[1;33m)\u001b[0m\u001b[1;33m:\u001b[0m\u001b[1;33m\u001b[0m\u001b[1;33m\u001b[0m\u001b[0m\n\u001b[1;32m----> 7\u001b[1;33m     \u001b[1;32mreturn\u001b[0m \u001b[0mpouvoir_arret\u001b[0m\u001b[1;33m(\u001b[0m\u001b[0mT\u001b[0m\u001b[1;33m,\u001b[0m \u001b[0mmil\u001b[0m\u001b[1;33m)\u001b[0m\u001b[1;33m**\u001b[0m\u001b[1;33m(\u001b[0m\u001b[1;33m-\u001b[0m\u001b[1;36m1\u001b[0m\u001b[1;33m)\u001b[0m\u001b[1;33m\u001b[0m\u001b[1;33m\u001b[0m\u001b[0m\n\u001b[0m\u001b[0;32m      8\u001b[0m \u001b[1;33m\u001b[0m\u001b[0m\n\u001b[0;32m      9\u001b[0m \u001b[1;31m# Calcule la portée\u001b[0m\u001b[1;33m\u001b[0m\u001b[1;33m\u001b[0m\u001b[1;33m\u001b[0m\u001b[0m\n",
      "\u001b[1;32m<ipython-input-6-98b2c9e6f2e0>\u001b[0m in \u001b[0;36mpouvoir_arret\u001b[1;34m(T, mil)\u001b[0m\n\u001b[0;32m     20\u001b[0m \u001b[1;33m\u001b[0m\u001b[0m\n\u001b[0;32m     21\u001b[0m     \u001b[0mconst\u001b[0m \u001b[1;33m=\u001b[0m \u001b[1;36m2\u001b[0m \u001b[1;33m*\u001b[0m \u001b[0mnp\u001b[0m\u001b[1;33m.\u001b[0m\u001b[0mpi\u001b[0m \u001b[1;33m*\u001b[0m \u001b[0mre\u001b[0m\u001b[1;33m**\u001b[0m\u001b[1;36m2\u001b[0m \u001b[1;33m*\u001b[0m \u001b[0mme\u001b[0m \u001b[1;33m*\u001b[0m \u001b[0mc\u001b[0m\u001b[1;33m**\u001b[0m\u001b[1;36m2\u001b[0m \u001b[1;33m*\u001b[0m \u001b[0mne\u001b[0m \u001b[1;33m/\u001b[0m \u001b[0mbeta\u001b[0m\u001b[1;33m**\u001b[0m\u001b[1;36m2\u001b[0m\u001b[1;33m\u001b[0m\u001b[1;33m\u001b[0m\u001b[0m\n\u001b[1;32m---> 22\u001b[1;33m     \u001b[0mparenth\u001b[0m \u001b[1;33m=\u001b[0m \u001b[0mnp\u001b[0m\u001b[1;33m.\u001b[0m\u001b[0mlog\u001b[0m\u001b[1;33m(\u001b[0m\u001b[1;36m2\u001b[0m \u001b[1;33m*\u001b[0m \u001b[0mme\u001b[0m \u001b[1;33m*\u001b[0m \u001b[0mc\u001b[0m\u001b[1;33m**\u001b[0m\u001b[1;36m2\u001b[0m \u001b[1;33m*\u001b[0m \u001b[0mbeta\u001b[0m\u001b[1;33m**\u001b[0m\u001b[1;36m2\u001b[0m \u001b[1;33m*\u001b[0m \u001b[0mgamma\u001b[0m\u001b[1;33m**\u001b[0m\u001b[1;36m2\u001b[0m \u001b[1;33m*\u001b[0m \u001b[0mte_max\u001b[0m \u001b[1;33m/\u001b[0m \u001b[0mmilieu\u001b[0m\u001b[1;33m[\u001b[0m\u001b[0mmil\u001b[0m\u001b[1;33m]\u001b[0m\u001b[1;33m[\u001b[0m\u001b[1;36m2\u001b[0m\u001b[1;33m]\u001b[0m\u001b[1;33m**\u001b[0m\u001b[1;36m2\u001b[0m\u001b[1;33m)\u001b[0m \u001b[1;33m-\u001b[0m \u001b[1;33m(\u001b[0m\u001b[1;36m2\u001b[0m \u001b[1;33m*\u001b[0m \u001b[0mbeta\u001b[0m\u001b[1;33m**\u001b[0m\u001b[1;36m2\u001b[0m\u001b[1;33m)\u001b[0m\u001b[1;33m\u001b[0m\u001b[1;33m\u001b[0m\u001b[0m\n\u001b[0m\u001b[0;32m     23\u001b[0m \u001b[1;33m\u001b[0m\u001b[0m\n\u001b[0;32m     24\u001b[0m     \u001b[1;32mreturn\u001b[0m \u001b[1;33m(\u001b[0m\u001b[0mconst\u001b[0m \u001b[1;33m*\u001b[0m \u001b[0mparenth\u001b[0m\u001b[1;33m)\u001b[0m \u001b[1;33m*\u001b[0m \u001b[1;36m6241506479963.2\u001b[0m\u001b[1;33m\u001b[0m\u001b[1;33m\u001b[0m\u001b[0m\n",
      "\u001b[1;31mKeyboardInterrupt\u001b[0m: "
     ]
    }
   ],
   "source": [
    "\n",
    "N1 = 5000000\n",
    "N2 = 10000000\n",
    "I1 = trapeze(inv_pouvoir_arret, N1, 3, 150, \"eau\") * 1000 * milieu[\"eau\"][1]\n",
    "I2 = trapeze(inv_pouvoir_arret, N2, 3, 150, \"eau\") * 1000 * milieu[\"eau\"][1]\n",
    "err = np.abs(I2 - I1)/3\n",
    "print(\"l'erreur à dix millions de tranches est de\",err)"
   ]
  },
  {
   "cell_type": "markdown",
   "metadata": {},
   "source": [
    "Ce qui n'est pas du tout près de l'ordre de grandeur requis pour atteindre la précision machine: nous avons une erreur plus de trois ordres de grandeur plus grande que ce qu'on souhaiterait avoir, et il faut déjà quelques minutes pour effectuer le calcul. On peut donc conclure tentativement qu'il n'est pas raisonnable de pousser le calcul avec la méthode des trapèzes jusqu'à obtenir la précision machine: le temps de calcul serait extrêmement élevé à moins de posséder une machine extrêmement performante (ce qui n'est pas notre cas, mais pourrait l'être avec l'aide d'une grappe de calcul par exemple). Cependant, au #6, il est demandé d'effectuer un graphique comportant l'estimation de l'erreur en fonction du nombre de tranches. On se réfèrera donc à ce graphique une fois qu'il sera fait, et nous reviendrons sur notre conclusion quant au nombre de tranches requises pour la méthode des trapèzes."
   ]
  },
  {
   "cell_type": "markdown",
   "metadata": {},
   "source": [
    "On implémente maintenant la fonction évaluant le nombre de tranches nécessaires pour obtenir la précision machine avec la méthode de Romberg. La précision est la même que précédemment, alors on conserve le critère que l'erreur estimée doit être inférieure à $10^{-16}$. Or, comme la fonction de la méthode de Romberg renvoie déjà une estimation de l'erreur, on peut simplement réécrire la méthode de Romberg de façon à ce qu'elle boucle tant que la précision n'est pas atteinte :"
   ]
  },
  {
   "cell_type": "code",
<<<<<<< HEAD
   "execution_count": 15,
=======
   "execution_count": 75,
>>>>>>> bbb070ed82127933564e174f3d4a75503eb0d6de
   "metadata": {},
   "outputs": [
    {
     "name": "stdout",
     "output_type": "stream",
     "text": [
      "Estimé du nombre de tranches requises: 2048\n",
      "Calculé en  0.047910225999999057  secondes\n"
     ]
    }
   ],
   "source": [
    "# Estimation le nombre de tranches requises pour atteindre la\n",
    "# précision machine avec la méthode de Romberg\n",
    "# Arguments:\n",
    "# imax_i: dimensions initiales de la matrice de Romberg\n",
    "# a, b: énergie cinétique finale et initiale du proton\n",
    "# mil: milieu (\"eau\" ou \"os\")\n",
    "\n",
    "def estim_romberg(imax_i, a, b, mil):\n",
    "    t1 = timeit.default_timer()\n",
    "    i_max = imax_i\n",
    "    err = romberg(inv_pouvoir_arret, i_max, a, b, mil)[1] * 1000 * milieu[mil][1]\n",
    "    while err > 1*10**(-16):\n",
    "        i_max += 1\n",
    "        err = romberg(inv_pouvoir_arret, i_max, a, b, mil)[1] * 1000 * milieu[mil][1]\n",
    "    t2 = timeit.default_timer()\n",
    "    return i_max, t2-t1\n",
    "\n",
    "\n",
    "i_eau = estim_romberg(2, 3, 150, \"eau\")\n",
    "print(\"Estimé du nombre de tranches requises:\",(2**i_eau[0]))\n",
    "print(\"Calculé en \", i_eau[1], \" secondes\")"
   ]
  },
  {
   "cell_type": "markdown",
   "metadata": {},
   "source": [
    "On constate qu'on atteint la précision machine beaucoup plus rapidement avec la méthode de Romberg: il faut seulement *i_max*=11, soit $N=2^{i_{max}}=2048$ tranches afin d'atteindre la précision machine. De plus, il faut moins d'une seconde avant d'atteindre cet estimé plutôt que plusieurs heures avec la méthode des trapèzes. Le temps de calcul avec la méthode de Romberg semble donc être beaucoup plus court qu'avec la méthode des trapèzes; nous validerons cette conclusion à la lumière des résultats obtenus au #6."
   ]
  },
  {
   "cell_type": "markdown",
   "metadata": {},
   "source": [
    "#### Portée et erreur en fonction du nombre de tranches\n",
    "\n",
    "On peut grapher la portée et l'erreur estimée en fonction du nombre de tranches pour les deux méthodes. On programme donc une fonction *donnees* qui itère sur la méthode souhaitée et qui retourne une liste des portées et des erreurs estimées à chaque itération. On double le nombre de tranches à chaque itération (ce qui correspond à doubler *N* pour la méthode des trapèzes et à augmenter *i* de 1 pour la méthode de Romberg)."
   ]
  },
  {
   "cell_type": "code",
<<<<<<< HEAD
   "execution_count": 16,
=======
   "execution_count": 76,
>>>>>>> bbb070ed82127933564e174f3d4a75503eb0d6de
   "metadata": {},
   "outputs": [],
   "source": [
    "# Retourner sous forme de liste la portée et l'erreur estimée à chaque itération de la fonction\n",
    "# Arguments:\n",
    "# a, b: énergie cinétique finale et initiale du proton\n",
    "# mil: milieu (\"eau\" ou \"os\")\n",
    "# methode: méthode d'intégration (\"trapeze\" ou \"romberg\")\n",
    "# max: nombre maximal d'itérations de la fonction\n",
    "\n",
    "def donnees(a, b, mil, methode, max):\n",
    "    max = int(max)\n",
    "    N = 1\n",
    "    liste_portee = []\n",
    "    liste_err = []\n",
    "    if methode == \"trapeze\":\n",
    "        port1 = 0\n",
    "        for n in range(max+1):\n",
    "            port2 = milieu[mil][1] * 1000 * trapeze(inv_pouvoir_arret, N, a, b, mil)\n",
    "            err = (port2 - port1)/3\n",
    "            liste_portee.append(port2)\n",
    "            liste_err.append(abs(err))\n",
    "            N = N*2\n",
    "            port1 = port2\n",
    "    elif methode == \"romberg\":\n",
    "        for n in range(max):\n",
    "            N += 1\n",
    "            liste_portee.append(1000*milieu[mil][1]*romberg(inv_pouvoir_arret, N, a, b, mil)[0])\n",
    "            liste_err.append(abs(1000*milieu[mil][1]*romberg(inv_pouvoir_arret, N, a, b, mil)[1]))\n",
    "    return liste_portee, liste_err"
   ]
  },
  {
   "cell_type": "markdown",
   "metadata": {},
   "source": [
    "À titre d'exemple, prenons l'os compact. On doit choisir une valeur de *max* qui correspond au nombre fois qu'on doublera les tranches avant que la fonction s'arrête, tel que le nombre de tranches maximal est $N=2^{max}$ (en se souvenant que le temps d'éxécution augmente exponentiellement à chaque fois qu'on augmente *max*).\n",
    "\n",
    "On éxécute la fonction *donnees* une fois pour chaque méthode, en insérant au premier élément des listes de la méthode de Romberg les valeurs obtenues avec la méthode des trapèzes (la méthode de Romberg se réduit à la méthode des trapèzes lorsque $i_{max}=1$ étant donné que la matrice de Romberg devient une matrice 1x1, soit simplement un scalaire). On produit aussi *liste_tranches*, une liste contenant le nombre de tranches calculées à chaque itération de la fonction, qui constituera l'axe horizontal du graphique. Étant donné que le calcul est relativement long, on éxécute au préalable la fonction pour $max=26$, c'est-à-dire $N=67108864$ tranches, et on sauvegarde les variables ainsi obtenues."
   ]
  },
  {
   "cell_type": "code",
<<<<<<< HEAD
   "execution_count": 24,
   "metadata": {},
   "outputs": [],
   "source": [
    "max = 26\n",
=======
   "execution_count": 77,
   "metadata": {},
   "outputs": [],
   "source": [
    "max = 10\n",
>>>>>>> bbb070ed82127933564e174f3d4a75503eb0d6de
    "\n",
    "portee_trapeze, err_trapeze = donnees(3, 150, \"os\", \"trapeze\", max)\n",
    "portee_romberg, err_romberg = donnees(3, 150, \"os\", \"romberg\", max)\n",
    "portee_romberg.insert(0, portee_trapeze[0])\n",
    "err_romberg.insert(0, err_trapeze[0])\n",
    "liste_tranches = [2**n for n in range(max+1)]\n",
    "\n",
    "file = open(\"donnees_portee_err.txt\", \"w\")\n",
    "file.write(f\"Donnees pour max = {2**max} tranches:\\n\"\n",
    "            +\"portee_trapeze =\"+str(portee_trapeze)+\"\\n\"\n",
    "            +\"err_trapeze =\"+str(err_trapeze)+\"\\n\"\n",
    "            +\"portee_romberg =\"+str(portee_romberg)+\"\\n\"\n",
    "            +\"err_romberg =\"+str(err_romberg)+\"\\n\"\n",
    "            +\"liste_tranches =\"+str(liste_tranches)+\"\\n\")\n",
    "file.close()"
   ]
  },
  {
   "cell_type": "markdown",
   "metadata": {},
   "source": [
    "À l'aide des données obtenues, on peut grapher les erreurs et la portée pour chaque fonction. Étant donné que la portée converge rapidement et que l'erreur diminue aussi très rapidement, le graphique sera en échelle logarithmique, qui permet mieux d'examiner le comportement des courbes."
   ]
  },
  {
   "cell_type": "code",
<<<<<<< HEAD
   "execution_count": 25,
=======
   "execution_count": 78,
>>>>>>> bbb070ed82127933564e174f3d4a75503eb0d6de
   "metadata": {},
   "outputs": [
    {
     "data": {
<<<<<<< HEAD
      "image/png": "iVBORw0KGgoAAAANSUhEUgAAAjAAAAFNCAYAAAAepVXtAAAABHNCSVQICAgIfAhkiAAAAAlwSFlzAAALEgAACxIB0t1+/AAAADh0RVh0U29mdHdhcmUAbWF0cGxvdGxpYiB2ZXJzaW9uMy4yLjIsIGh0dHA6Ly9tYXRwbG90bGliLm9yZy+WH4yJAAAgAElEQVR4nOzdeVyU9fbA8c8wgKKouJYbLaaZmph2XW5pZSJXSy1KwYVCLc1WbXEt9ederknqTUy5LiVmlliWpeaOVnrB3Oq6hLlkamiCyjq/P44zgKIOMDPPDJz36zUv5pnlmYMCc+Z8l2OyWCwWlFJKKaU8iJfRASillFJKFZQmMEoppZTyOJrAKKWUUsrjaAKjlFJKKY+jCYxSSimlPI4mMEoppZTyOJrAKKWUUsrjeBsdQGHs2bOHBQsW4O3tzVtvvUWVKlWMDkkppZRSLmTyxI3sdu7cSd26ddmyZQu+vr60a9fO6JCUUkop5UIeOYTUrFkzDh48yPz587nnnnuMDkcppZRSLuaRCczu3btp1KgR0dHRLF682OhwlFJKKeVibpfAJCYmEhERAUB2djYjR44kLCyMiIgIkpKSAEhNTWX48OGMGzeOkJAQI8NVSimllAHcahJvdHQ0cXFx+Pn5AbB27VrS09OJjY0lISGBSZMmMWfOHFq1akWrVq3sPm/9+vUpVaqUs8JWSiml3E5aWhoHDhwwOgyncasEJjAwkKioKAYPHgzIZN3WrVsD0KRJE/bs2WP3uWJjY4mNjQXA29ubxMRExweslFJKuamgoKCbPiYxMZEpU6awaNEiBg0axJkzZwA4fvw4QUFBTJ8+nWXLlrF06VK8vb0ZMGAAjzzySJ5zJCUlMXToUEwmE3Xr1mXUqFF4eTl/gMetEpiQkBCOHTtmO05JScHf3992bDabyczMxNv75mGHhYURFhYG2PefqJRSSpUkV496TJ8+HYDz58/zzDPPMGzYME6fPs2iRYv47LPPSEtLo0ePHjzwwAP4+vrazjNx4kQGDhxIixYtGDlyJOvWrSM4ONjp8bvdHJjc/P39SU1NtR1nZ2fblbwopZRS6sasox5Xi4qKolevXlSrVo3du3dz33334evrS7ly5QgMDLxmWGrv3r00b94cgDZt2rBt2zaXxO/WCUzTpk3ZtGkTAAkJCdSrV8/giJRSSqniISQk5JqiwNmzZ4mPjyc0NBSQkZBy5crZ7i9btiwpKSl5nmOxWDCZTLb7L1y44OTIhVuXM4KDg9m6dSvh4eFYLBYmTJhgdEhKKaWUR8jKyrIlIpB3asX1fPPNNzz++OOYzWbg2pGQ1NTUPAkNkGe+S2pqKuXLl3dE+DfldglMrVq1WLZsGSD/KGPGjDE4IqWUUsrzmM1mVqxYUaDnxMfHM2DAANtx48aNmTFjBmlpaaSnp3Po0KFrRkMaNGjAjh07aNGiBZs2baJly5YOif9m3HoISSmllFKuc+TIEWrXrm07rlq1KhEREfTo0YNnn32WQYMGUapUKQ4ePMjo0aMBGDJkCFFRUYSFhZGRkeGy/dk8shdSQQUFBekyaqWUUiVKcX/v0wqMUkoppTyOJjBKKaWU8jhuN4nXE5zY9Qflbi1LuRrlbv5gN5GVBadPw19/QWYmZGTIV3uu574tOxssFrlA3q/XvZ6dDZcvY7mUJoFkZ0P2la9Z2TnHtutXLrbH5rrkeQELWLj2a37B5XajUdM891nyvaqUUo52b8uydBz1D6PD8CiawBRC35Df2f1XLaa+9DNhM1ph8jIZFktGBpw6BSdP5r2cOJH3+NQpyQeM4QWUuXJRSil1tRab99BxlNFReBZNYAph1EQ/Xnr1HN2j/smHi/5L1Hx/Gj1Z1+mv+/vvMHky/O9/OYnJ6dPXFhRMJqhaFWrUgOrVIShIvlavDlWqgK8veHvLxccn5/rVxz4pyXjv+gHvH+Px+WEr5r27MZMpr4EF05WyhAkL+JXBFFABU4XyEBAg1wMqQIUKmCrKMeXLYyp15cXN5usHYL3v6vu9vOSbK8ol9z9SftdvdN/Vj1NKKQfx9b/H6BA8jq5CKqSs9Czm9d7K8E8acd5Sns+G7aTLhBYOfQ2rtDSYNg3GjZNRlIYNJRmxJijWi/W4WjV53y+wU6dg0ybYuFEu1uaZfn7QqhU89BDUqwcVK0JAQM7XgADJipRSSrmN4r4KSSswhWT2NdN/SRueHv0XE7tv4ZEXmwJwMuEUtzSqipe3Y+ZHr1kDr7wiVZfQUElkbrvNIaeG48dzkpWNG+GXX+R2f3944AHo0QPatIF//EMTFKWUUm5FE5giqly3ElN+ehiAjIsZtGt5gQDfU8yKLkWTsLsLfd6jR2HQIFixAurWhW++gSLvDZSSIie0JiyHDsnt5ctD69bQt69UWZo2lSEbpZRSyk3pu5QDmX3NvNnjJENi6tMsvBIvjNvI2C8aU6lORbvPkZYGU6bA+PEy5WLCBHj9dShVqojBnTgB//oX/PyzDP20aQMvvSQJS1CQzDtRSimlPIQmMA7k5e1F7/mteeKdc4x6Yguzdj/IsrrJbPziIA0633XT53/9Nbz6Khw8CE89JcNFgYEOCOzXX6V8c/o0xMXBY4/JhFillFLKQ+m7mBNUvCOAmYkPsSv2IE/evY967W8H4PzR8/k+/rff4MknoWNHySvWrIHlyx2UvPz0Ezz4oAwfbdgAnTpp8qKUUsrj6TuZEwV1u5u5+9vgXdqb5CPnqHd7Os/X38SZfX8CcPkyjB0L99wD334LEyfC7t3Qvr2DAvjuO3jkEShbFrZuhfvvd9CJlVJKKWNpAuMi3qXMRDTdS8wvrWjR8AKL7x5Do1rJjBwpRZEDB2DoUAfMdbFaulSGiu68U5KXq9qfK6WUUp5MExgXKVejHFN+epjlH5wiyXQHEb+OxOvsab6be4Rly6D22QRYuxbS04v+YjNnQvfusnfLxo2yQYxSSilVjGgC42ILvquFt68XXl7w5IDqtHvudrlj5kwIDpYtdLt1g0WL4MyZgp3cYoERI+C112RSzZo1ssmcUkopVcxoAuNiR49Cu3awfj2MmV4uZ3v6qChYuVKSl82b4ZlnoGXLnCf+8ceNmxBmZsLzz8u663794NNPoXRp534zSimllEF0GbWLJSdLK4CHHpLjs2dhyRJ45ZWymDp3hs6dpV/Arl3wp0z2JSsL7r0XypWTCTOdO8s+LtZ+AZcuQXi4LJF+5x34v//Tvj1KKaWKNa3AuFhysuwjZ/XRRzLi8+67uR7k5SUrhjp2lOPMTGmE1KABzJ0rJZyqVSEmRk7Yvj2sWiVVnDFjNHlRSilV7GkFxoWysuD8+bwJzJtvQmIiDBsGt94KkZH5PLFUKejfXy6pqTLZNy5OWgC0aSNLmBo1kscePeqgDWSUUkop96UVGBc6f2Ufu9wJjJcXLFggRZXnnoOvvrrJScqWhS5dYPBg6THw229SdcnIkK6Pt90G990Ho0bB338761tRSimlDKUJjAslJ8vXile1RvL1lR6LQUGyF0xW1k1O9MMP0i360iVZJj1sGOzfL92k33tPuknPnJmzqUxcnKxISktz+PeklFJKGcGjE5j4+HhGjBhhdBh2u14CAzI/d/Vq2Tz3hn0V16yBtm2hQgXZoK5p05z76tWDt96SVUzHjuUkMGPHSiNH6xLtjz/OKQcppZRSHshjE5ikpCT27dtHmgdVFawJzPW2ZrnlFpkHk5kplZgTJ656wLFjsgLprrskebnrBg0iy5bNub5pE3z5paxU2rQJevaU8Sqr06cL9f0opZRSRvGYBCYmJob+/fvTv39/5syZw2233Ubfvn2NDqtAblSBye3QIZg1S4om587luuOLL2Sn3thYyXTs5ecnbQXmzpWsaNs2yZAAjhyRzKlVK1kK9csvBfqelFJKKSN4zCqkyMhIIvNdouM57E1g7r4bPv9cVlF36SKjRqVLIxvd1a8vDygsLy9JVqzKlpUhps8/l6Rm6FDpLrl4cd7hKaWUUsqNuEUFJjExkYiICACys7MZOXIkYWFhREREkJSUZHB0jmNvAgOyKmnhwpwRn6y/zsOGDZLROFK1atJ+4KefZAl2VJT0TrIuxV68GF56SSbnZGQ49rWVUkqpQjI8gYmOjubtt9+2zWVZu3Yt6enpxMbG8sYbbzBp0qQbPn/KlCmuCNMhzp2TzXPLlLHv8eHhMGOGVGBOfPS1TI7p3Nl5AdauDS+/LPvMVKkitx06JOu827eXScAREVIJUkoppQxkeAITGBhIVFSU7Xjnzp20bt0agCZNmrBnz55CnTc2NpbQ0FBCQ0PJuum6ZNew7sJbkI1yX3tN9qmrvWulVEtatHBegPkZNUqaSq5cKQ0iV6+WpdpW33+v+80opZSHyj0CcvbsWQYMGEDPnj0JDw/n6NGj7N+/n4iICNvl3nvvZdOmTXnOsXfvXlq3bm17zOrVq10Su+FzYEJCQjh27JjtOCUlBX9/f9ux2WwmMzMTb++ChRoWFkZYWBgAQUFBjgm2iK5uI2CvWtXS4euv2dvgabbNN/P8846P7YbKlJHKT+fOUgX64w+5/fx5CAmRjKxdOwgNlcdUreriAJVSShVUdHQ0cXFx+Pn5ATB58mQ6depEx44d2b59O4cPH+bhhx9m0aJFAHz99ddUq1aNNm3a5DnPvn376N27N3369HFp/IZXYK7m7+9Pamqq7Tg7O7vAyYu7KmwCw6ZNcP48y9M688ILspjoRo2pncrbG2rVkuvlysm8nFdegX37ZGn2rbfK5B2llFJu7eoRkF27dnHq1CkiIyNZtWoVzZs3t9138eJFoqKi8t17bc+ePWzYsIGePXsyfPhwUlJSXBK/2yUwTZs2tZWnEhISqFevnsEROU6hE5iVK8HPjze/aUdwsLREioyEixcdHWEBeXnBP/8JU6bA4cPSQXv48JxVTitWQMuWMuR06JCxsSqlVAmTlZVlm0oRGhpKbGxsnvtDQkLyFAiOHz9O+fLliYmJoXr16kRHR9vuW758Of/617+oVKnSNa/TuHFjBg8ezJIlS6hduzazZs1y3jeVi9uVNoKDg9m6dSvh4eFYLBYmTJhgdEgOk5xciBXQFou0AggOpmzVMnz1lTSm/r//g59/hh07ZGKw4Uwm6cF03305t5nNMuQ0ZIhcGjeGp56S69ZdgpVSSjmF2WxmxYoVdj8+ICCAtm3bAtC2bVumT59uu2/VqlXMnDkz3+cFBwdTvnx52/WxY8cWIWr7uUUFplatWixbtgwALy8vxowZw9KlS4mNjaVOnToGR+c4harAJCbK8uYry6fNZplX+8030K+fmyQv19OliyzPPnIEpk2TIadFi6T5E8jGfLt3GzgeppRSyqpZs2Zs3LgRgB9//JG7ruz2fuHCBdLT06levXq+z+vbty+7d+8GpMVPw4YNXRKvWyQwJUF2tiyjLnACs3KlVDcefzzPze3bwwsvyPVVq2DgQNmk1y3dfjsMGgRbtkjCYjLJP0i/ftLBsl49aUi5c6cmM0opZZAhQ4awcuVKwsPD2bx5My9ceZM5cuQINWvWzPPYgwcPMnr0aABGjx7NhAkTiIiIYNeuXbz44osuiddksRT/d4ygoCASExMNjcGavEydCq+/XoAnNmsm2/Bu3Xrdh4wcKZvptmwJy5bJdi4e4c8/pQqzfDmsXy9tuEeMkDEyi0UuXppjK6VUYbjDe58z6buDixRkF16b33+XibE32X13zBhJXPbskd3/v/228HG6VLVqUoX59ls4dQrmz4euXeW+bdvgttuktLRli1RslFJKqSs0gXGRQiUwcXHy1Y72AV27ynSTW2+VJpC7dhU8RkNVrgy9e8uQEsg8mWbN4N//htatZen2yy/DX38ZG6dSSim3oAmMixQ6galXz+6lS3ffLauS5s7NWQzkJpsQF9w//iHDS6dPwyefyHLtzz8H6yaHcXEy7JSZaWycSimlDKEJjIsUOIE5f1626S9g88YyZWQ/OZNJ9pZr1Aji4wsWq1spV06aQi1fDklJOSuYRo2CRx+VxpP9+0v/Jk1mlFKqxNAExkUKnMB88410fy5C9+mMDFmZ1KYNvP9+MVjgk3tH5i1b4NNPoW1bWLIEgoMlc7PSZEYppYo1TWBcxJrABATY+YS4OOkp1LJloV8zKEhWJj/2mMyFDQsrRn0Xy5aFp5+GpUtlNdOKFVKJATh4EG65Bfr2lUTQbdeXK6WUKixNYFwkOVk2ocvVp/L6MjKk6/Pjj8uTiiAgQKaOvPeevMfn2lix+ChTRjplW1sYZGdDhw5SoenQQWY29+4tq7qUUkoVC5rAuIh1F16TyY4Hb9okG8cUYfgoN5MJ3npLtpIZOlRuO3OmGAwpXU+9erB4sVRm4uIkEfzyS6nagMyX+eorrcwopZQH0wTGRQq0C29cnGxe166dQ2No0UJaEJ0/D82bw7PPQq7G38VP6dLQqZN0x/7jD7A2IZs6VZKaatXkH+HLLyEtzdhYlVJKFYgmMC5idx8ki0XaBwQH51QMHMzfX0ZUFi+W1cp79zrlZdxL7qG4L76QpOWJJ+TfulOnvNUuj117rpRSJYcmMC5idwKze7csF3bQ8FF+zGZ45x0ZSfnrL6nG/Oc/Tns591OqlMxsjomRYaavvoI33pD7kpNlzswzz0iTKa3MKKWUW9IExkXsTmDi4vJt3ugMbdtCQoIkMPPnl9Dd+n19oWNHqXiBjKk9/rgkL507yzBTRAT88ouxcSqllMpDExgXsTuBWblSlk7fcovTYwIpNqxdK6MqXl7SkujAAZe8tHuqVQsWLJB/iNWr4amnpEJjbSq5Y4ckmZcvGxunUkqVcJrAuIDFYuck3mPHZOMWJw4f5cdszonttdfg/vvh449dGoL78fWVJdjz50syU7eu3D57tvz/WCszmswopZQhNIFxgQsXZF7oTROYVavka+fOTo/peqZOlT5KPXvKvnCXLhkWivvw8cm5Pm8efP21dM/86itJZh54IOf+EjkOp5RSrqcJjAvY3UZg5Ur5pF+/vtNjup6aNaUF05Ah0hSyVSv47TfDwnE/Pj7S7vujj6Qy88038Pbbcl96Otx5J/TqJf+XWplRSimn0QTGBexKYP7+W7ord+5s5253zuPtDZMmyUpjLy/pp6jy4eMDISGyCzBIqa1dO6nQPPGEDDP16gWJicbGqZRSxZAmMC5gVwKzZk2Rmzc62mOPyZScypWluDBliq4qvqHKlWWI6Y8/5P+zWzdJZi5ckPv37dPKjFJKOYgmMC5gVwKzcqW8Af7zny6JyV7WYtA330g7gjZt4PhxY2Nyez4+0L59TjJj/T9dsCCnMtOzpyYzSilVBJrAuMBNE5iMDJkQ6oDmjc7SubM0g9y3D5o1k75Kyg4+PjlLsCdMkMpMWJh8feIJme9kbUpVbJtTKaWU43lkArN//3569uzJ0KFD2b59u9Hh3NRNE5gtWxzavNFZnnwStm+XOTGPPAKffGJ0RB7GWpmJjoaTJ+Hbb2H0aClzWSySGfbsKZvyaGVGKaVuyCMTmN27d1OlShW8vLyoa92fw40lJ99kMuzKlbK9ffv2Lo2rMBo2hB9+kFyrUSOjo/FgPj6y+29kpBxfuiQb8KxZI5li1arQo4dsnKeUUuoa3kYHYI+YmBji4+MBaNKkCcHBwXTs2JEzZ87w0UcfMXjwYIMjvLHkZAgIuM7iIotFNkNr185pzRsdrWJF+PRTuW6xwPTp8l57663GxuXRypSRdeuzZsGGDfIPvGIFhIZKG/Hff4effpIl3H5+RkerlFKG84gKTGRkJB9++CEffvghAwYMYP/+/WRnZ1OhQgWyPKBz8A3bCOzZA0eOuP3w0fUcPiyNIe+/XyozqoislZm5c2WYyfpzsXSpJDPVqkm2+PnnusugUqpEMzyBSUxMJCIiAoDs7GxGjhxJWFgYERERJCUl5fucmjVrMnbsWCZPnmx7rju7YRuBlSvla6dOLovHkerUgW3b5H23TRtp8KwcxMcnZxfgQYPgu++ge3eZOxMaKn2brHNldAKwUqqEMXQIKTo6mri4OPyulMTXrl1Leno6sbGxJCQkMGnSJObMmXPN85o2bUrTpk1dHW6h3bACExcnQwQePP4SFCSjG2Fh0Lu3NG6eONHoqIoZb28ZZmzXTvoxbdggS8JKl5b7H3sMKlSQvWd0mEkpVQIYWoEJDAwkKirKdrxz505at24NyFyXPXv2FPrcsbGxhIaGEhoaavgw03UTmBMn4McfPXb4KLfKlWWvmNdfl3xMOZE1mXn1VTnOzobbbpO24tZhpu7dYdMmY+NUSiknMjSBCQkJwds7pwiUkpKCv7+/7dhsNpOZmVmoc4eFhbFixQpWrFiB2eC9Va6bwMTFyddikMCAvK9OnSrbmwAsXCg7+Son8/KCOXNkzsx338kcmbVrYfduuT85WSYE65wZpdRVck/jOHv2LAMGDKBnz56Eh4dz9OhRAMaNG0doaCgRERFERERwwbq7+BVJSUl0796dHj16MGrUKLJd1NTWrVYh+fv7k5qaajvOzs7Ok+B4IovlJglMnTpwzz0uj8vZLl+G//s/KTLNmyfbmygnyz3MNGsWWJP/uDhZrl22rMy16toVOnTQYSalSrirp3FMnjyZTp060bFjR7Zv387hw4cJDAxk7969zJs3j0qVKuV7nokTJzJw4EBatGjByJEjWbduHcHBwU6P3/BJvLk1bdqUTVfK3gkJCdSrV8/giIouNVXeR65JYC5cgHXrpPpicPNGZyhdGuLjoXlz6Wf4xhs576fKBby9c+bH9OwpFZleveTrU0/JPjOnTxsbo1LKUFdP49i1axenTp0iMjKSVatW0bx5c7Kzs0lKSmLkyJGEh4ezfPnya86zd+9emjdvDkCbNm3Ytm2bS+J3qwQmODgYX19fwsPDmThxIsOGDTM6pCK77i68a9ZIh8RiMnyUn2rV5P3y5Zdh2jT50K9JjAG8veHRR+Hf/5ZhprVrYcgQSWJAZl6Hh8Nnn8HFi8bGqpRymKysLNtc0NDQUGJjY/Pcf/U0juPHj1O+fHliYmKoXr060dHRXLx4kV69ejF58mTmzZvHxx9/zIEDB/Kcx2KxYLryQbxs2bLXDDE5i+HjM7Vq1WLZsmUAeHl5MWbMGIMjcqzrJjBxcVCpkts1b3Q0Hx+IioKmTeUDv4ePCHo+azLz6KM5t1WsKL24YmNlmOnxx6FvX9mPRinlscxmMytWrLD78QEBAbRt2xaAtm3bMn36dPz8/HjmmWdsw0wtW7bkwIED1K9f3/Y8L6+cWkhqairly5d30HdwY25VgSmO8k1gMjNzmjeWkHf03r3BumHy1q2yf59yE9OmyWSldetkmGn9eti4Ue5LT9fKjFIlRLNmzdh45Xf/xx9/5K677uK3336jR48eZGVlkZGRwa5du2jYsGGe5zVo0IAdV9qebNq0ifvvv98l8WoC42T5JjBbtsBffxXr4aPryc6GF16ABx/MeY9UbsDbG9q2lWGmEydg6FC5fd06ePppGW4KC9NkRqlibMiQIaxcuZLw8HA2b97MCy+8QJ06dejUqRPdunUjIiKCLl26ULduXQ4ePMjo0aNtz4uKiiIsLIyMjAxCQkJcEq/JYin+W3gGBQWRmJhoyGsvWAB9+siW+3fcceXG11+XzcjOnIFcy8ZLiqNHZa+1Q4dg0SLZe025qcxM2U/G2pvpzz+lb9N//wvFYJK9UsWZke99rqAVGCe7pgJjsUj7gEcfLZHJC0BgoBShmjeXuaMzZhgdkboua2VmzhypzKxfDy++CHfdJfcPHSqVmeXLtTKjlHIpTWCcLDlZVknb5jTt3SvlmBI4fJRbpUqy59qTT8py6+JfBywGzGZ45BGYPFk2zwPw9ZW2Bl27yjBTt24yv0sppZxMExgnS06GgICcv/e23Xcff9ywmNxF6dKwbJkMI5lM8McfkJZmdFSqQMaMyanMPPusTGz6/HO5z2KRn/dcm1MqpZSjaALjZNfswvv993DffVCjhmExuROzWT7Ep6fLqFrHjnD+vNFRqQKxVmZmz5ZkZvJkuT0hQSqN1apJZebTTzWZUUo5jCYwTmatwNicOJFrNq+y8vWV6RSbNkGbNvLPpDyQ2ZyTsTdunLcy062bJDPbtxsbo1KqWNAExsmuqcCcOiV/xNU1IiJg9WqZItSqFezfb3REqkiursx8/70syWvcWO6fNk3mzmhlRilVCJrAONm5c7kSmMxMOHsWbrnF0JjcWXCwVGHS0+GVV4yORjmM2QwPPyzbMpcpI7dlZcHmzVKZqVpVkhnr/BmllLoJTWCcLE8Fxto8TyswN3TffbBtm0zuBV2hVGy99RYcPy6Vmd69JZn56KOc+7/7TiszSqnr0gTGiSyWqxKYP/+Ur1qBuak77oDq1aVo9eST8MEHRkeknMJamZk1S5KZBQvk9mPHoH17qcw8/bQsV9NkRimViyYwTnTpkgyF2BKYU6fkqyYwdsvIkETwlVdgxAitxhRrZnNOh+zq1WV/mT59pHlWWJjc9/XXhoaolHIfmsA40TW78ForMDqEZDc/P2m/89xzMGGCJjElhtkMDz0kpbdjx3KSmSZN5P7Fi6UyExsLKSmGhqqUMkbJaIVskGsSGK3AFIq3N3z4oWx2N3GidGAYPtzoqJTLWJOZhx7Kue3CBanMfPaZZLkdO8pk4K5d5QdFKVXsaQXGifJNYHx9c/UVUPby8pJGyQMHytQIVcINGJC3MrN1K7z3Xk7ysmWLVmaUKuY0gXGifIeQbrlFPyEWkpcXTJ8O998vx9u2GRuPMtjVw0zWNh0pKbIev2pVeOopHWZSqpjSBMaJ8q3A6PCRQ8TFwQMPyJCSUpjNOe05/PxgzRro21ey3PBwSWY+/tjYGJVSDqUJjBPlW4HRCbwO8dhj0KOHzIV57z2jo1FuxWyWfhTWyszGjTIL3DoBeM0aqcwsXaqVGaU8mE7idSJrAlOhwpUbTp2CoCDD4ilOzGb4z38gOxuGDJGJvq+/bnRUyu1Yk5k2bXJuO30a4uNhxQppid6hg0wAfvpp+UFSSnkErcA4UXKyJC9mM7L2VyswDuXtLSYgtacAACAASURBVLv1du0Kb74Je/caHZHyCL16SWVm0yapzGzfLrsCe135c7hzp6xyUkq5NU1gnCjPLrznzsmubDoHxqG8vWHJEvj2W2jY0OholMfw8oLWraU307Fj0sbAy0v6Mz32mHzQePJJ+OQTTWaUclOawDhRngTGugeMVmAczscH2rWT62vXynJrpezm5QW33y7XTSbpjv3cc7Bjh0y0qlZNOmorpdyKRyYwX331FW+++Sbjxo0jxY0n4WkfJNeLjpYtQj780OhIlEe6ujKzaRM8/zzce6/c/9//amVGKTfhkTPW1q9fz7vvvsuBAwdYuXIlPXv2NDqkfCUnwz33XDnQXXhdYuFC6fn3wgsy9+i554yOSHksazLTunXObb//Dj/8AF98AaVKyQTgrl1lVVOpUsbFqlQJ5BEJTExMDPHx8QA0adKEXr168c4773DrrbdiNpsNju76zp3TPkiuVqoULF8uH5L79ZMkpndvo6NSxUbnzvD447K/zKefyg/b2rXyAwcykzwwEMqVMzZOpUoAj0hgIiMjiYyMtB1/++23jBs3jh07dnDy5EnjAruJa+bAmExQpYqhMZUEpUvD559Dly6yw7wmMMqhvLzgwQflMn06HDwom+eBbJr3v//Bv/4llZlOnbR1iFJOYvgcmMTERCIiIgDIzs5m5MiRhIWFERERQVJSUr7PKVeuHEOHDiUuLo5OnTq5Mly7Xb4slzwJTJUqV9ZUK2crXRpWroS5c+U4Lc3YeFQx5eUF9erJdYtFZpC/8AL8+KMs165WTdqoK6UcztAKTHR0NHFxcfhd+fSydu1a0tPTiY2NJSEhgUmTJjFnzpxrnteqVStatWrl6nAL5Lp9kJTLlC4tX48dg0cegUmTZKqCUk5hMkl/iwcegGnTZLO8Tz+FBg3k/qNH4ZVXpDLTubNWZpQqIkMrMIGBgURFRdmOd+7cSesrE+aaNGnCnj17Cn3u2NhYQkNDCQ0NJSsrq8ixFpT2QXIfFStKK5xevWRlrFJO5+UlicyMGfDEE3Lb4cOwaxdERMgPZOfOshNjaqqxsaoSLfcoyNmzZxkwYAA9e/YkPDyco0ePAjIPtWvXrnTt2pUPPvjgmnPs3buX1q1bExERQUREBKtXr3ZJ7IZWYEJCQjh27JjtOCUlBX9/f9ux2WwmMzMT70Js7x0WFkZYWBgAQQZs359vBaZ5c5fHoaBsWRlOatlS3jN27MjZ9kMpl3n4YUhKkh9A6wTgr76C9u3lh/TgQUlsbL1HlHKuq0dBJk+eTKdOnejYsSPbt2/n8OHDmEwm4uLi+PTTTzGZTPTo0YN27dpRv35923n27dtH79696dOnj0vjN3wOTG7+/v6k5vo0kp2dXajkxR1oBca9VK0q7xXp6bLR6rlzRkekSiQvL2jVSoaYfvsNdu/O+bswYIDMmenUSfYDOH/e0FBV8Xf1KMiuXbs4deoUkZGRrFq1iubNm3Prrbcyb948zGYzXl5eZGZmUuqqLQP27NnDhg0b6NmzJ8OHD3fZ/mxulcA0bdqUTZs2AZCQkEA96+Q4D5Qngbl4Ubre6hJqQ9WvD599JslMZqbR0agSz8srb/+L8ePh5ZclqXn2Wfl7MXiwcfGpYi8kJCRPkeD48eOUL1+emJgYqlevTnR0ND4+PlSqVAmLxcK7775LgwYNuOOOO/Kcp3HjxgwePJglS5ZQu3ZtZs2a5ZL43SqBCQ4OxtfXl/DwcCZOnMiwYcOMDqnQ8iQwuguv22jbFr7/XhaEZWbKwhGl3ELz5jB1qlRm4uMlmbn7brnvwgXplv3xx7oDsLJbVlaWbS5oaGgosbGxN3x8QEAAbdu2BaBt27a2eahpaWm8+eabpKamMmrUqGueFxwcTKNGjWzX9+3b5+DvJH+Gj8/UqlWLZcuWAeDl5cWYMWMMjsgxrAlMQABwSPsguROTSeZNdukCISHSiFgpt2EyyYStli1zbvvf/6Rr9mefyfK6jh2hWzfZVK9sWeNiVW7NbDazYsUKux/frFkzNm7cyBNPPMGPP/7IXXfdhcVi4cUXX6RFixb069cv3+f17duXd955h8aNGxMfH09DF3XWNTyBKa6Sk2UzTm9vtALjhvz8oHJlqdDfeacur1ZurmlTWYa9bRssWyaTgFesgD17ZBjqxAmZ/KvJjCqCIUOG8Pbbb7N06VL8/f2ZOnUqa9eu5YcffiA9PZ3NmzcD8Prrr1OuXDkWL17M6NGjGT16NGPHjsXHx4cqVaowduxYl8RrsliKfxE9KCiIxMREl77ms8/Chg2y6IB586QhXFKSbDOu3MKlSzKklJAAGzfqIjHlQbKyZLM8a5UmIkISmscfl8pMhw5QpoyxMSrDGfHe50puNQemOMm3E7UOIbkVPz9ZXl29uiyvvs7Gz0q5H7M57xBT//7yqen772WuTJUqsmmeUsWYJjBOck0fpPLlc7aGVW6jWjVZXl21Kvz9t9HRKFVIDz4Is2fLUNK6ddC3L9SoIfdlZsrS7GnTZDM9pYoJnQPjJMnJOS1SOHVKqy9u7J57IDFRVrUCZGfnXFfKo3h7y7jolZUkAJw8KeXFN96Qy733ygz2Pn3gquWwSnkS/TPtJNcMIekEXrfm5SVLql99FV58UZdXq2Kkdm3ZW+bQIanCVKokDSat1Zj//Q+++052eVTKg2gC4yTXDCFpAuP2TCZZxPHhh/J3Xqli5c47YdAgWV1w6hS0aSO3f/SRtDOoVg169JBVTpcvGxqqUvbQBMYJ0tJkhUtAwJUb/vxTh5A8xPjx0iz4rbfgiy+MjkYpJ6lSBXx85PrIkTKb/amnpBITFibbVut21crJ0tLSiIuLY+bMmZw7d47t27dz+vRpu59vdwIzYsQIknSZhl2sfXYqVkT+CJw9qxUYD+HlBf/5jyyp7tEDfvrJ6IiUcrIyZWQZ3kcfwR9/wNq1MGKEzKexWGTezLp1Oq6qHCopKYkOHTowc+ZM5s6dy4ULF1i6dCmPP/64bQfgm7E7gfnuu+/w0pmNdsnTRuDMGfnF1wqMx7Aur77jDlnUoVSJYTbDo4/KvlUAx49LRt+unWyYN3u2tjJQDjFu3Djatm3Ld999h8+VauC0adMICQlhwoQJdp3D7owkMjKS0aNHs3HjRg4ePMjvv/+e56Jy5ElgTl1pI6AVGI9yyy2yMqlzZznWD5+qRKpVC44dg5gYqdS89BLUrAk7dhgdmXNs3+66Ty0XL0qCCPJ1/37XvK6b+O9//0vPnj0xmUy227y8vHjuuefYb+e/hd3LqGfOnAnA1q1bAWwvarFYMJlMdr9gSZBvAqMVGI9jbdI6f77Mh/n8c/mAqlSJUrq0bJL3zDPwww8y1NS4sdz3+efyi9Kxo+f9cvz5J3z5pSQP77wjt4WFScuGO++UvXVat4ZHHoE6dYr+etnZ8qno229lrtHmzbKcfdkySQovXiz6a3iQMmXKcPr06Ws6W//666+UL1/ernPYncCsW7euYNGVYHkSmIPaB8nTZWbCqlWy8tT6d06pEsdkghYt5GL1/vvSh+P222X/gT59pMmYuzp8WBpirlwpfaUsFtmwa9gwScCWL5fEYssW+PprWLgQXngB5syR9g0ffAD//Cfcd1/OJ5wbOXcuZzVHu3ayUzLIXjyvvCKtH6zq1nX89+vGwsPDGTlyJG+++SYAhw4dIj4+nhkzZtC9e3e7zmF3L6Ts7Owb3u/O82Nc3Q/igw/kZ/PUKai2aCq8+ab8IFeo4LIYlONYLNJq5pNP5O+PdfWpUiVeRoYkAx98IIlM6dIwdqz8zXMH2dky3NW4seyRMH48vP02NGkCTzwhFZCgIEnOrmaxwK+/SmJz112wb5/MAwI5V8uWUqHp0SMn+bh4ETZtkirLt9/KBoJnz4KvLyxdKnvtBAdL/xIXcPdeSIsWLeKjjz7ijz/+AKBy5cpERkbSt29fu3IKuxOY+vXr5xmrupo7DyG5+j9x7FhZmZieDj5vD4EZM2RfhRv8+yn3duECNGsmf58SEmQVqlIql59/lkTmiSekmeSZMzJM06CBa+O4dElWTa1cKaXTU6ek6hIaKvFcugS33Va4c584AVu3SpVm82YZEvrqK/l+58+HAQPkD3+pUpLctG8vt/n7O/Z7tJO7JzBWFy9eJCsri3LlyhXoeXYPIS1cuDDPcVZWFkePHiUmJoZBgwYV6EWLu+RkSdB9fMjZxE6TF49WrhzExkr1ePVqmQ6glMrl3ntlF0irGTNk3PWpp2RZdpMmzo8hKUkSposX5Ze2QwepslhbKxR1LmKNGrJRVNeucnz+fE6Pu6AgKb23by/Ji59f0V6rBDhw4ACLFy8mKSmJKVOmsHLlSgIDA2ljZ5nb7gSmefPm19zWqlUr7rjjDsaPH0/79u3tj7qYu6aNgE7gLRbuuw8OHpT5dkqpmxg0SD64zZwpc0sef1wSmdxdtIsiM1P2rFmyREqi06dDYKD0A3n4YbmUKuWY17qe3NMCmjWTi7qulJQU/K9UozZv3swrr7xChw4dSExMJD09nb/++otJkyYxceJEOnXqdNPzFXniSsWKFTly5EhRT1OsaBuB4suavGzerJvcKXVDlSvLeHpSknzdtg3ee6/o5/3pJ6l01KghFZYvv8yZUGsywcSJEBLi/ORFFViXLl3YvXs3ANOnT2fYsGFMnDgR85UVbK+++iojRoxg9uzZdp3P7grM8uXLr7ktJSWFpUuX0sQVpUEPck0CExRkaDzKsTIyIDJS5vj99786N1upGwoIkImzAwfKkAvAL7/I6p7hw2V1zs2G2Pfvh7vvztkqe9486NQJevaEf/1LkxUPERwcTP/+/Vm7di2HDx/mn//85zWPeeCBB5g4caJd57M7gbk6IzKZTPj4+HDvvfcycOBAe09TIiQnyzYCWCw6hFQM+fjAokWyGqlfP1lcoFOclLoJf/+cyay//y7jse3bS9+Ot9+WIabcv0hHj8ov18cfy2TZzZtlb5a335bVRHbuFaLcx9ChQ3n11VcpXbo0tWrVIiEhgdq1a+d5zPr166+57XrsTmDWr19fsEhLMFsF5tw5+biuQ0jFzj//KX9Dhw6Vndf79TM6IqU8SLt2ksAsXChDPp07y9yYrVtlY7levWQ5MsjtM2dKg0nQv6cerkyZMgAMHDiQwYMH8/PPP5OVlcVnn33G77//zpo1a5g8ebJd5yrQHJgzZ84wZ84chg4dytmzZ1m9ejW//PJLwb+DYs6WwPx5ZRM7rcAUS2+9JUPtr70mf4uVUgVQqpT0XPr1V0lknnxShohuuUUm6I4dK79Y8fEy50X3LihW2rVrx8cff8y5c+eoW7cuGzZsIDs7myVLltChQwe7zmF3Bebnn38mMjKShg0bsmvXLl566SV27NjB0KFDmT17Ng8++GChvxF7xMfH8+WXXzJ+/Hj27NnDggUL8Pb25q233qKKG/1gZ2RAaqr2QSoJvLzk7+7HH18ZMlRKFZy3t+wUaeXrK5UYVax98cUXdOzYkfeumth98eJFFi1aRETun4nrsLsCM2nSJPr168fChQttnSP/7//+j379+jF16tQChl4wSUlJ7Nu3j7S0NADS0tIYNWoUDz30EAkJCU597YI6d06+ah+kkqFaNZmb6OWV00JCKaXUtc6ePWtrAD1s2DAOHDhwTWPorVu32j2EZHcFZt++ffnODO7SpQvR0dH2fwd2iImJIT4+HoAmTZowYMAA+vbta+uZ0KxZM3bt2sX8+fN5//33HfraRWV9EwsIIGcISSswxd7+/bJ31YwZMnyvlFIqr59++onXXnsNk8mExWKhW7du+T7uySeftOt8dicwlStX5tChQwQGBua5fefOnVRzcIUhMjKSyMjI696/e/duGjVqRHR0NHPnzmXIkCEOff2iyNPI8ddTMqvejYa4lHPUrSsbgL7wgiyqqFfP6IiUUsq9hISEsH79erKzs2nXrh2ffvoplSpVst1vMpkoU6YMAdYGmDdhdwLz/PPP88477/D8889jsVjYunUrJ0+eZOHChbbKiD0SExOZMmUKixYtIjs7m9GjR/PLL7/g6+vLuHHjuM2OHhWpqakMHz4ci8Vi1ziZK+VJYP78U5IXT2szrwrM21vmwgQFQViYzDu07jCulFJK1KhRA5Cd/MuUKUPNImxtbncCExYWRtWqVfnoo48oXbo0U6dOtbUR6Nixo13niI6OJi4uDr8rPSLWrl1Leno6sbGxJCQkMGnSJObMmXPd50+ZMgWQb7xVq1b2hu5SeRIY3YW3RKlVC2JiZEXoW29BVJTRESmllHs6cOAA3t52pyD5svvZH3zwAaGhoSxZsqTQLxYYGEhUVBSDBw8GZPipdevWgMx12bNnT6HPfbXY2FhiY2MBaTzpKtdUYHQCb4nSqZO0gDlxArKytPimlFL5CQ8P59VXXyUsLIyaNWvi6+ub5357ihR2JzAxMTF06dKl4FHmEhISwrFjx2zHuRs7AZjNZjIzM4uclYFUjMLCwgBpKe4q11Rg8mmCqYq3yZNlVZLuzquUcne5p3WcPXuWt99+m7///pusrCzee+89AgMDWbZsGUuXLsXb25sBAwbwyCOP5DlHUlISQ4cOxWQyUbduXUaNGoWX140XOVtHW8aMGXPNfSaTif379980drszhS5dujBr1iyef/55atSoQamrek/cLNj8+Pv7k5qaajvOzs52SPJipORk6aJeqhQ6hFRCWasuv/4qyczs2dJ+QCml3MnV0zomT55Mp06d6NixI9u3b+fw4cP4+fmxaNEiPvvsM9LS0ujRowcPPPBAnorJxIkTGThwIC1atGDkyJGsW7eO4ODgG772gQMHihy/3dnC2rVrOXXqFCtXrsz3fnuypas1bdqU77//no4dO5KQkEC9YrB0w7YL78WLkJKiQ0glWGKi9JyrXBkmTTI6GqWUyuvqaR27du3i7rvvJjIykpo1azJixAji4+O577778PX1xdfXl8DAQA4cOEDjxo1t59m7dy/Nr4w2tGnThq1bt940gQHZtO6LL77g8OHDZGVlceedd/LYY4/lWZl0I3YnMJMmTbK1vHaU4OBgtm7dSnh4OBaLhQkTJjj0/Ea4po2AVmBKrK5dpUfSu+/Cww9L01yllHIXV0/rOH78OOXLlycmJoYPPviA6Ohobr/9dsqVK2d7TNmyZUlJSclzHovFgunKmHnZsmW5cOHCTV/7wIEDPPfcc/j4+NCoUSOysrJYv349s2bNYvHixdx11103PYfdCcz48eOZMmUK9a0NtQqpVq1aLFu2DJBhp/zGvzyZ9kFSuc2YIbuiP/cc7N0LFSoYHZFSqqTIysoiNDTUdpx7bmh+AgICaNu2LQBt27Zl+vTpNGrUKM9Uj9TU1DwJDeSdQpKamkp5OzqFjx8/ntatWzN27Fjb1JHMzEzeeecdxo8fz4IFC256Drsnrpw/f97hFZjiyJbAaB8khcyHmj9fViU5ueOGUkrlYTabWbFihe1yo+QFZJf7jRs3AvDjjz9y11130bhxY3bu3ElaWhoXLlzg0KFD10z3aNCgATt27ABg06ZN3H///TeNbffu3Tz//PN55r16e3vz/PPP290iyO4KTOfOnenTpw+dOnWiZs2a10ziffrpp+09VbGWnCybmWkfJGXVvDmsWgWPPmp0JEopdX1Dhgzh7bffZunSpfj7+zN16lQqVKhAREQEPXr0wGKxMGjQIEqVKsXBgwdZvHgxo0ePZsiQIbzzzjtMmzaNO++8k5CQkJu+VrVq1Th69Ch3XtUJ97fffsuzOvlGTBaLxWLPA61lpXxPYjKxbt06u17QCEFBQSQmJrrktcqXhz59YEa1CTBiBFy6pFuyKpvUVNm196r8XymlHM6V730FNW/ePGJiYnjllVdsE4ITExP54IMPCA8P5+WXX77pOW5YgVm3bh1t2rTBx8eH9evX5/uYlJQUZs+eXYjwi5/MTLhwIdcQUvnymrwom3Pn4L77ICICitnUL6WUKpC+ffty6dIlpk2bxvnz5wGoWrUqffv2vWEvxNxumMC8/PLLbNmyhcqVK9tue/jhh1myZImtf8Hly5dZsGCBbRlWSXbunHytWBE4oLvwqrwCAuDBB2HiRFmhdO+9RkeklFKuFRcXx7fffouvry9t27Zlx44dnD17llKlStk9dGR1w0m8+Y0unT9/nuzs7IJFXEJoHyR1M9OnSyLz/PPSakAppUqKuXPnMmzYMC5fvszFixcZNmwY06ZNo3LlygVOXqAAq5DUzeWpwGgfJJWPKlXg/fdhxw6YNcvoaJRSynWWLVvG+PHjmTdvHv/+97+ZOnUqS5YsybdYYg9NYBzIWoEJCEArMOq6uneHDh1gzRoo5O+tUkp5nD/++CNPk8a2bdty6dIl/rTum1ZAnt14yM3YhpDKZcLZs5rAqHyZTPDJJ1CunDZ8VEqVHFc3a/b29qZUqVKkp6cX6nw3TWC+/PJLypYtazvOzs7m66+/tvUquHpL4ZLMlsBY/pKP1jqEpK7DuiPvyZPS9PGhh4yNRymlPM0NE5gaNWrwn//8J89tlStXZunSpXluq169uuMj80C2BCbtD7miFRh1E717w86dsH+/zI9RSqni7GZFESt7Nse9YQJzvb1fVP6Sk2WDMr+/dRdeZZ8pU2RvmNdfh4ULjY5GKaWcx96iiMlkKnoCowpG+yCpgmrUCIYNg7FjoWdPsGMHbqWU8kiOLoroKiQHuqYTtSYwyg4jRkD9+tC/P+iUMqWUso8mMA6UpwLj6yutBJS6iVKlYN48aN0aMjKMjkYppTyDDiE5UHIy1KhBzh4wukZW2emBB+SilFLKPlqBcaA8Q0g6gVcVws8/w7PPQiG3RVBKqRJDExgHyjOEpPNfVCH89pusRpo82ehIlFLKvWkC4yBZWXD+vFZgVNF06gRhYTBmDBw4YHQ0SinlvjSBcZDz5+VrxQCLJDBagVGF9P77ULasdKzWxu9KKZU/TWAcxLYLb6mLMoFBExhVSLfcAtOmwZYtsHix0dEopZR70lVIDmJLYExXrugQkiqCZ5+FzEzo1s3oSJRSyj1pBcZBzp2TrxUzz8gVrcCoIjCZ4LnnoHRpuHRJeoMqpZTK4TEJTHx8PCNGjAAgJiaGoUOHEh4ezpIlSwyOTNgqMBlXduHVCoxygMOH4Z57IDbW6EiUUsq9eEQCk5SUxL59+0hLSwMgMjKSMWPGULduXbp3725wdMKawARcPCFXtAKjHCAwUH6UXnoJTp40OhqllHIfbpnAxMTE0L9/f/r378+cOXO47bbb6Nu3b57HfPXVVwQHB+Pl5R7fgq0Ck3pM6v9VqhgbkCoWvL3hP/+BixehXz8dSlJKKSu3nMQbGRlJZGTkDR/z008/MW7cONcEZIfkZPDxgTJ/HZPkxWw2OiRVTNSvDxMnwqBBkszc5FdDKaVKBJeXLxITE4mIiAAgOzubkSNHEhYWRkREBElJSXafJysrC5Mb9Rqy7sJr+lN34VWO9+qr0KYNfPGF0ZEopZR7cGkFJjo6mri4OPz8/ABYu3Yt6enpxMbGkpCQwKRJk5gzZ851nz9lyhTb9UmTJjk93oLQPkjKmby8JHmpUMHoSJRSyj24tAITGBhIVFSU7Xjnzp20bt0agCZNmrBnzx6HvVZsbCyhoaGEhoaSlZXlsPNej/ZBUs5WsaIkMidOwFdfGR2NUkoZy6UVmJCQEI4dO2Y7TklJwd/f33ZsNpvJzMzE27voYYWFhREWFgZAUFBQkc93M8nJVwove7UCo5xr4EBJYHbvhjp1jI5GKeXJEhMTmTJlCosWLWLv3r288MIL3H777QB0796dO+64gwkTJtgen5CQwKxZs2jTpo3ttvye17FjR6fHbugkXn9/f1JTU23H2dnZDklejJCcDHfflQkXLmgFRjnV1KmwZg307g3ff6/zxZVShXP1tI59+/bRu3dv+vTpk+dxixYtAuDrr7+mWrVqeZKXGz3P2Qxdg9y0aVM2bdoESFZXr149I8MpkuRkqOh7UQ40gVFOVLs2zJwJmzdL40ellCqMq6d17Nmzhw0bNtCzZ0+GDx9OSkqK7b6LFy8SFRVl21A2txs9z5kMTWCCg4Px9fUlPDyciRMnMmzYMCPDKbTsbGklUNH7gtygQ0jKyZ55Bjp1guHDYf9+o6NRSrmjrKws21zQ0NBQYq/a0jskJCTPqEfjxo0ZPHgwS5YsoXbt2syaNct23/Lly/nXv/5FpUqVrnmdGz3PmVw+XlOrVi2WLVsGgJeXF2PGjHF1CA7399+ywVhF05WGSFqBUU5mMsHcuTB6tP64KaXyZzabWbFihd2PDw4Opnz58rbrY8eOtd23atUqZs6cWeDnOZN7bGPr4Wy78GaflStagVEucOut8O9/Q6VKukOvUqro+vbty+7duwHpP9iwYUMALly4QHp6OtWrVy/Q85zNM2fMuplrGjnqR2LlQocPQ69eMGcOuGDBnVKqmBo9ejRjx47Fx8eHKlWq2CopR44coWbNmnkee/DgQRYvXszo0aOv+zxnM1ksxf+zW1BQEImJiU47/7p10K4dbHgqioe+exvOn3faayl1tbNnoWFDyZt//BF8fY2OSCnlDpz93mc0HUJygDyNHHX4SLlY5coyH2b3bigGU8qUUsoumsA4wLkrc3crnv9Nh4+UITp3liaPkybBDz8YHY1SSjmfJjAOYKvAJB/WCowyzIwZUKMGvPuu0ZEopZTz6SReB0hOBm9vKHv6N3j4fqPDUSVUhQrw7bdwZTdvpZQq1rQC4wDJyRAQYMH011mtwChD1a8PpUtLRwvd4E4pVZxpAuMAyclQsXyWbMahc2CUG3jySXj8cXDRjt5KKeVymsA4QHIyVCyTLgeawCg3MHIkHDkCQ4YYHYlSSjmHJjAOkJwMFUtfaeSoQ0jKDbRpAwMHwuzZ8M03D1mnPQAAIABJREFURkejlFKOpwmMAyQnQ0XvK7V6rcAoNzF+PNx9N3ToAF9+KbcdPSoTff/6y9jYlFKqqDSBcYDkZKjodWUzGK3AKDfh5wfr18PUqfCPf8htn38OISGy+V2dOhAWBpMnS0NSpZTyJLqMuogsFtnIrmL2X7KHe4UKRoeklE2NGvD66znHkZFw773w00/SduCHH+Czz+Cll+T+99+X2/7xD7j/frjvPihb1pDQlVLqhjSBKaILFyArCypmnpbhI5PJ6JCUuq4KFaBtW7lYJSdDmTJy/dw52LQJPv5Yjr284LHHYOVK/dFWSrkXHUIqItsuvJdP6vCR8kgVK+ZcHzUKfv8dTp6UeTNDhshQkzV5mTED9u41Jk6llMpNKzBFlKeRY6BO4FXFw623SuXlscdybjtxAgYPhowMaNkSnntO5tD4+xsXp1Kq5NIKTBHZEpgLR7UCo4q1GjXg+HGZFHz+vCQw1avD998bHZlSqiTSBKaIbAnMuSO6hFoVe1WryqTgvXth2zbo3l0m+oJMBp42DU6fNjZGpVTJoAlMEdkSmMw/tQKjSgyTCVq1grlzISBAbvvmG3jjDahZE7p1gzVrZIK7Uko5g86BKaJzV7Z/qUiyVmBUiRYdDa+9Bh99BAsXwqefQp8+cgxSualUSYaiqleXr7fdlpMAKaVUQWgCU0TJyWA2WyiXdUETGFXiNWoE06fDpEmy9NpikdvT0iSpOXs27+PffFM20ktJgeDgnMTGmuQ8/DDccYfLvw2llAfwmAQmPj6ezz//nMuXL/Piiy9Sv3594uPj+fLLLxk/frxhcSUnQ0CZdEwX0CEkpa4oVUqGkXIfnzkDly/DH3/IiqaTJ+HOO+X+1FRZzfTrr7BhQ87Q7IQJMGyYy8NXSnkAj0lgLl26xLvvvsv+/fvZsmULfn5+7Nu3j7S0NEPjkkaOl+ACWoFR6iZKl4bbb5dLbrfcAt99l3N86ZJ0065TR46/+kqSnK5ddUM9pZRw20m8MTEx9O/fn/79+zNnzhzatm3LpUuXWLRoEU8++SS33XYbffv2NTpMqcD4pMpf1cqVjQ5HqWLBzw8aNJDKDchk4bAwePRR2LPH2NiUUu7BbSswkZGRREZG2o6Tk5OZMmUKr776KpXdKFGQRo7noUoV8Hbbf06lPNqKFZLEjBgBTZrAK6/A6NHaekypksyQCkxiYiIREREAZGdnM3LkSMLCwoiIiCApKSnf50ycOJFTp04xdepUvvnmG1eGe0PJyVDRoiuQlHImsxkGDJA5Ms89J00n16wxOiqllJFcXjKIjo4mLi4OPz8/ANauXUt6ejqxsbEkJCQwadIk5syZc83z3nvvvXzPN2XKFKfGezNSgTmtE3iVcoEqVeDf/4ZXX4V77pHbPvkE6taV7tlKqZLD5RWYwMBAoqKibMc7d+6kdevWADRp0oQ9Dhrgjo2NJTQ0lNDQULKctJuWxXIlgUn7QyswSrlQgwYy7SwzE0aOhObNoV8/WemklCoZXJ7AhISE4J1rrkhKSgr+ubrBmc1mMjMzi/w6YWFhrFixghUrVmA2m4t8vvykpsof0IoXj2sFRikDeHvDTz/BwIEwfz7UqwezZ+sOwEqVBIavQvL39yc1NdV2nJ2dnSfBcWe2NgLpWoFRyigVKkgPpsRE6cv00kuQkGB0VEp5htxzUvfu3Uvr1q2JiIggIiKC1atXAzBu3DhCQ0Ntt1+4cCHPOZKSkujevTs9evRg1KhRZGdnuyR2wzOFpk2b8v3339OxY0cSEhKoV6+e0SHZzZbAkKwVGKUM1rAhrF0rFZlmzeS2Hj0gPV36NrVqBU2byl40Sqlr56Tu27eP3r1706dPnzyP27t3L/PmzaNSpUr5nmfixIkMHDiQFi1aMHLkSNatW0dwcLDT4ze8AhMcHIyvry/h4eFMnDiRYR607WaeBEYrMEoZzmSCf/wj57hcOdi1S1oWPPAAlC8v/ZqsTpzIaXegVElz9ZzUPXv2sGHDBnr27Mnw4cNJSUkhOzubpKQkRo4cSXh4OMuXL7/mPHv37qV58+YAtGnThm3btrkkfkMqMLVq1WLZsmUAeHl5MWbMGCPCKDJNYJRybx9+KF9PnYLt2yE+Pmf10vnzUKsW3HprToWmZUup3lz5QKqUR8vKyiI0NNR2HBYWRlhYmO04JCSEY8eO2Y4bN25M165dadSoEXPmzGHWrFm89NJL9OrVi969e5OVlcUzzzxDo0aNqF+/vu15FosF05UtssuWLXvNEJOzGD6E5Ml0CEkpz3DLLdCli1ysTCaIipKkJj5eNssDue3ll+Hvv2H/flnhpO0LlCcym82ssP5g2yE4OJjy5cvbro8dOxY/Pz+eeeYZ2zBTy5YtOXDgQJ4ExssrZzAnNTXVdg5nM3wIyZNpAqOU5ypfXib8Ll4Mhw5Jk8kvvoDOneX+zz+Xisztt8Mbb8COHTrcpIq3vn37snv3bkAaKDds2JDffvuNHj16kJWVRUZGBrt27aJhw4Z5ntegQQN27NgBwKZNm7jfRZsyaQJTBOfOgYlsyvtbtOaslIezVmkCA+W4SxeIiYF775WqjDWZsX5wUaq4GT16NBMmTCAiIoJdu3bx4osvUqdOHTp16kS3bt2IiIigS5cu1K1bl4MHDzJ69GgAhgwZQlRUFGFhYWRkZBASEuKSeE0WS/H/TBEUFERiYqLDz/vKK7Bkbgp/Bd4H//ufw8+vlHIP585BXBz88AN88IHc9vrrMrTUtSu0aFG0YaaMDPj9d6hdG3x84Lff4PRpmY/jpR8zVSE5673PXeivRhFIG4G/dQKvUsVcQAA880xO8gJw8qRUZlq1gttuk4Tmv/+9/jmSk+HyZbn+44+yc3C7dnDnnVLArVMHDh6U++fOlbk3t94Kzz4LsbFa+VHqajqJtwiSk3X+i1Il1Sef5FRmPv1UkhtfX9lM78gRWQF16BAcPiyXc+ekAWX79rJ8+4svJHlp2VL2q7nzzpw/Ja+/LvvarF4NX34JCxdKEnXmjDS2PHVKHquTi1VJpglMESQnQ8WsM1qBUaqEslZmnnlGEpSMDLk9ORmmT4c77pDEpFUruX7XXXJ/5855V0RdrUoV6NlTLllZMnR15IgkLyCVm7NnoWNHubRrJ5OSlSpJNIEpguRkCzUz/tQKjFKKgICc602awMWLOQnH1QpSOTGbc/apAVkJ9cYbUp1Zvhw++kh6Qr39NowalfMYrc6o4k4TmCJIPputm9gppa7hzIm3JhNERsolI0P2sPn6a2mTAFKpsW7I17RpztfAQE1qVPGiCUwhWSyQfM50ZQ5MHaPDUUqVQD4+0KaNXKwuXZJhpZ074dtvczpzf/GFDFsdPiz3NW0qw1ua1ChPpQlMIV26BOkZXlqBUUq5lQYNYMECuX7pEvz8syQs1iGouDgYNEiuV6iQU6UZNgyu06tPKbeky6gLSfsgKaXcnZ+fLMceMCBnqt6AAdKxe+5c6N4dUlJg9uycLt3jx8vk4dWrcyYlK+WOtAJTSNpGQCnliUqVkopLs2Y5t2Vl5Uw4Ll1a5tR8/LGshurWDSIiZF6NUu5EKzCFZEtgvFOkDquUUh4q92qpN96QvlArV0LbtjB/PkyYkHP/kSOuj0+p/GgFppBsCUwlk86CU0oVK76+sldN5878f3v3HhdllT9w/DMgiAgiildQBHUQxRto6lqhpWVeNqWLSuJi/nS9rWmamJckUSLULFHJSqPY2tDQXV3L3dQ27eI9YTVMIUHBFFRIUbnNnN8fzzKBgBdQBpzv+/XiJTPP85znzBznzJdz5epVbc0ZgLQ0beBv165aN9OoUdr2B0KYg7TAVJIpgGkqMaAQ4sHl6KhtYglaY/OqVVo305w52hYK/frB8ePmzKGwVBLAVJIpgGluZ96MCCFENWnYUNvEdt8+bd+m11/XWmeKhwF+9RXEx8vgX1E9JICppOIAxqllffNmRAghzKBtW1i4UJum3aSJ9ty6dfDss1qLzeLF2oaXQtwvEsBUUvZlhRM5WLeQGUhCCAHartnbtkGXLtq2Bq1bw/z55s6VeFBJAFNJOVmFMoVaCCFKsLaGoUO1adgnT2rdTR06aMeuXoUPPoBr18ybR/HgkACmkrIvFMgidkIIUYH27eGtt7Q1ZEBbAXjCBHBz06ZqJyebN3+i9pMAppKyLxkkgBFCiDsUGAh798KTT2ozmfR6bc+m69fNnTNRW+mUUsrcmbjfunbtSkJCQqnnCgsLSU9PJy8vr1Jpnks3YmPIo0mLOtqiCeK+srOzw83NDRsbG3NnRQiLUNU68lYMBq1LqbDw9wHAN25oqwTfz528H1QV1Y/lffc9SGrFIiY//PADW7ZsIS8vjylTpqCUYsmSJbRq1Yrhw4fTuxJrXKenp+Po6EibNm3QVWIhuoI8A06Gy7Tp2FDbElbcN0opLl26RHp6Oh4eHubOjhAWoap15N0oKoKEBMjL09adqVcP7O3BwUELakTFLLl+rBUBzI0bN3jzzTdJSkri22+/xdHRERcXF6ysrGjfvn2l0szLy6vSB7PIqKMOBqhTK97CWk2n09G4cWOysrLMnRUhLEZV68i7UacOeHvDxYva5pKZmaCUtspvs2ZQUAAZGVpQUxzcSNWrseT6sUb+F4iJieGHH34AoFu3bkyePJnr168TGxvL7Nmzyc7OZvDgwVy8eJH169czZ86cSt2nsh9MoxGUssLaSsk2AtWkOipRIURp1fm5s7fXpl2DFrzk5f0epBQUwJUrv29pAFrPvYeH1mJTWKh1S9Wta5lVsqXWjzUygAkODiY4ONj0ODs7m+XLlzN9+nQaN27M999/T5MmTXBycsJgMFR7/oqKtH+trSs/fGj//v3MmDGDdu3aAZCfn8+wYcMIKh6yfxs///wzV65coWfPnoD219KKFSsYP348zZs3v6M04uLiCAgIqPK4kn379pGUlMS4ceOqlI4QQoAWhCQmlq4jARo2dGbJklXcuKEN/i0efpidDWfOaNdZWf3+r5eXFtRcvAhZWb8fKz7epo029TsnRxuT06CBtl3CzfVrZV2+fJl169Yxbdo0HB0dq5SWKKvaA5iEhASWL19ObGwsRqOR0NBQfv75Z2xtbVmyZAnu7u5lrnnjjTe4fPkyK1asYMCAAbi6uhIWFoaNjQ1Tp06t7pdAccxU1SbM3r17s3LlSgAKCgoYNGgQTz/9NA0aNLjttf/+979xcXExfcDs7OyYf5crRq1bt47hw4fffcZv0rt370qNQxJCiFspWUeW5ORU9nGbNlqrjdZCrv0U77JtZaX9bjT+ftxo/P3669e1bqsLF7TZUTfXr5XVqFEjXn311SqlISpWrQHM+++/z9atW6lXrx4AO3fupKCggLi4OI4ePUpERATR0dFlrouMjCzznK+v773L2Mcfa3vG3yFbA3hdh3rWBWBfwQykF1+EsWPvOM3c3FysrKywtrbmp59+IiwsDGtra+rWrUtYWBhGo5HJkyfTsGFDevXqxZYtW7CxsaFTp07k5eWxcuVKrK2tadWqFYsXLwZg0aJFpKWlYTQamTFjBr169TLdb9OmTWRlZTFz5kz+9Kc/sXz5cmxsbHj++eexs7Pjk08+MZ37zjvvcOrUKd59912srKzIyspi5MiRvPDCC/z8888sWbIEgIYNGxIeHs6+ffv4+OOPATh//jzNmzcnNjaWFStWcPDgQZRSBAcH89RTT93x+yOEMLN+/co+9/zzMGWKFgEMHlz2eHCw9nPxorbHQEn/+U+lsxIUFISzszNXrlxhyJAh/P3vf8doNDJ9+nRycnKIiYnBysoKPz8/Zs+ezSefROHi4sLo0aNJSUkhNDSU2NhYhg4dSps2bbC1tWXZsrc4cQIOHrxAfPwW6tbV6td58+aZzpkzZw6hoaHk5+eTk5PD1KlTGTBgAIMHD6ZHjx6cOnUKJycn3nrrLWxsbMrUwV27dmXChAkAFBUVkZCQwI4dOzh//nyZOlxmXN5etQYwrVu3JioqyjRm5fDhwzzyyCOANtbl2LFj9+xecXFxxMXFAdzzbqbiiedV7Xbct28fQUFB6HQ6bGxsWLhwIfXr12fBggUsXboUb29vdu7cSUREBHPmzCErK4v4+HhsbW1RSuHi4kLnzp0ZNGgQn376KY0bN+btt99my5YtFBUV4ezsTHh4ONnZ2YwZM4bt27eb7v3cc88RHR3NypUrOXr0KPn5+WzatAmAd999l/fee4969erx2muv8e2339KsWTMuXLhgqiiGDRvGoEGDWLhwIeHh4bRr145NmzbxwQcfMHPmTAYOHEh6ejozZswgIiKCb775hvT0dD777DPy8/N5/vnn6du37x21NgkhLFNxHVnM39+f//u//wNg2LBhDBw4kM2bN9OgQQOio6PJyckhMDCQ+Ph46tWrxyuvvMJ3331XYfrXr19nypQpdOzYEYB27aCoqBkPPzwCb28XunTpUuqc77//nnHjxtGrVy+OHDlCVFQUAwYMIC8vj2HDhtGzZ08iIyOJi4ujbt265dbBsbGxKKV45ZVXGD58OK1atWLChAll6vDnn3/+/r65D4BqDWCefPJJ0tPTTY9zc3NxcHAwPba2tqaoqIg692B4+ciRIxk5ciSgzYW/pbFj76q15LcsI6fTrPBplol1q8pvJVBR82hmZibe3t4A9OzZkxUrVgDg5uaG7U1rzly+fJnMzExmzJgBaGNh+vbtS05ODocPHyYxMRHQov3s7GycnZ3LzUvJ6XeNGzcmJCSE+vXr88svv9CtWzcAunfvbrp/+/btOXPmDCkpKbz++uuAtm5EcTpZWVlMnz6dN954A1dXV7744guOHz9uqoyKioo4d+6cBDBC1Ba3ajGxt7/1cReXSrW4VFRHQuk6q/j3M2fOcPnyZSZOnAjAtWvXOHv27C3vUTKdunW1IMbRsfR6NMXnNGnShOjoaD7//HN0Oh1F/xsQWadOHVN3k6+vL3v27MHKyqrCOjgsLAwPDw9GjhzJpUuXyq3Dxe2ZdRCvg4MD10psjGE0Gu9J8HK/FRUaASusba3vS/pNmzblxIkTdOjQgYMHD9KmTRsArEp8onQ6HUajEWdnZ5o3b87atWtxdHRk165d2Nvbc+rUKZo3b86kSZPIy8sjOjoap5s6jovTKJn21atXWbVqFf/5X2Uzbtw4itc6TEpKwmAwUFBQQHJyMu7u7nh4ePDmm2/SsmVLDh8+TFZWFleuXGHq1Km8+uqreHl5AeDp6UmvXr1M3WFr167Fzc3tvrx/QogHX8mZN8X1l5ubGy1atGDDhg3Y2NiwefNmvL292bt3r2ma8fHjx0ulY3XTynn160P9+lrdeOOG1uJefM4777zDc889h7+/P/Hx8WzZsgXQgpPiOvvw4cOmgcfl1cFvv/02SinT+M2K6vDqUnJc6vHjx5k0aZLpO2f06NEMHjyYmJgYUwu+v78/06ZNK5VGRdfdb2aNFnx9ffn6668ZPHgwR48eRa/XmzM7d8xQoH3p16l7fwKYJUuWEBYWhlIKa2trwsPDy5zj4+NDZGQkbdu2Zf78+UycOBGlFPXr1ycyMhI/Pz8WLFjAmDFjyM3NJTAwsMwHtUePHkycOLHUQGgHBwd8fX0ZMWIE9vb2NGjQgMzMTNzc3CgqKmLChAnk5OQwefJkGjVqRGhoKCEhIaZuuqVLl7Jy5UoyMzNZvXo1RqMRGxsb1q9fz4EDBwgMDOT69esMGDCgVOubEELc7OYuJNDGUlakUaNGBAcHExQUhMFgwNXVlaeeegoHBwdmzJjBwYMH8fHxue19fXx8ePPNSAyGtpQcgTBo0CCWLl3KunXraNGiBdnZ2aXyde7cOVq2bMnMmTMBytTBx44d47333uOhhx4yva4pU6aUW4dXh5vHpf7000+MGzeOF1980XTO2bNn2bp1K5s2bUKn0xEYGMiAAQPoULxLZwXXVYdq30ogPT2dl19+mY0bN5pmIZ08eRKlFOHh4bRt2/ae37O85ZSTkpJM3TR360xyPhdz6uDrnaeF6xZg//79fPbZZxU251aHqpSZEOLuWPrnTSk4e1abndS6NTS9xWiBxx57jC+//JK6Zlw2uLzyut1WAv/617/w8vJizpw5bNy4kUWLFnH69GkMBgPu7u7MmzePunXrcvXqVRo1agTAs88+y7Jly0p1vZV3XXX8gVrtLTBubm5s3LgR0JrlimfM1CaGQkUdimQpSCGEeEDpdNpKwPn52hozdeuWnb5d0xkMBgICAkyPS44NhbLjUrt06cJzzz2Hj48P0dHRrFmzhpCQEBo1aoRSisjISDp27Fhmy4KKrrvf5Bu4EgwGsMYANnbmzkq16dWrV6lp2EII8aDT6cDTE37+GVJSoGNHsCun2t+9e3f1Z+4OWFtbs3nz5js+f+DAgaaJFQMHDiQsLAzQFlqdN28e9evXZ9GiRXd83f0m+35WQpEBbR8k2TZVCCEeaNbW2syk5s3vz8aSRqO2SrAZFpUvY/z48aZZUz/88AOdOnVCKcWUKVPw8vJi8eLFWFuXHftZ3nXVQVpgKsFg1FHXynj7E4UQQtR6trbQsqX2e0GBFtSU8z1+V5TStkDIyNC6qXQ6bba5OYWGhppWuXdxcSEsLIydO3dy4MABCgoK2Lt3LwAvv/wyjo6O/PWvfyU0NLTc66pDtQ/iNYd7PYg34XAhTtbXaNOt4b3InrhDlj6oUIjqJJ+3sgwGOH5cW/ambduqLWZqNGppWVmBq6s2vqYq6VVmEG9tJ30glWBQVlWOvoUQQtQu1tZaV1JODpQY+3rHrl3TxtIYjVrgotdr42oaNrTMXbSrSrqQ7pLRCEasqzwBqSbsRu3j40P37t0BbRVdo9HIihUraNWqVSVekaZv3763XLpbCCHuxM11JGiLvq1ateq+33vu3LkcP36chg0bopQiJyeHcePG8cwzz9C0qdblc+GCNibmVtOri924AbNmzcXPbzB+fo9y44a2AocZZ10/ECSAuUuGIgXosL4H75y5d6N2cnIiNjbW9Pizzz7jww8/5LXXXrurdIQQ4n641VYC99srr7zCo48+CkBOTg5Dhw4lICAAnU6Hm9vv06vt7KCiKtto1M65eBEKC6FxY+jcuerjZ4RGAhjubjNqo0Fx7boOOxuHW86ivsvNqKt9N+rylNybaOvWrXz00UfY2trSpk0bFi9ezLZt2/j666/Jy8sjKyuLsWPHsmvXLk6dOsWcOXMYMGAABQUFzJw5k19//RUvLy9CQ0PJzc1l/vz5plUrFyxYgJeXF/3798fT0xNPT0/GjBnD3LlzqVOnDq6urmRkZJQKroQQ5lWDNqO+692oo6Juvxv1W2+9VeH9Ll68iK2tLTqdjvT0dObPn09hYRGFhTpCQxfQqVMHBg4cSPfu3UlLS6NXr97k5l4lMTGRxo09WLBgGc7OsGPHp2zZsh6DwcDSpUtxd3cnNjaWf/7zn+h0OgYPHszYsWOZO3cuOTk55OTksG7dOlauXMmxY8dwcXEhIyOD6Oho2YoFCWDumvrf5KN70V9pzt2oAX777TeCgoLIzc0lJyeHJ554gunTp5OdnU1UVBRbtmzBwcGB8PBw4uLisLe359q1a2zYsIHt27cTExPDxo0b2b9/Px9//LFpV9bZs2fj6urKSy+9xO7duzly5Ai9e/cmMDCQ1NRUXn31Vf72t7/x66+/snnzZpydnZk6dSqTJk3C39+fjRs3kpGRUfU3WAhRq1X3btQlLVu2jHfffZdz587Rtm1b3nnnHQAiIyMJCgpiwIABJCUlMX/+PDZt2kxGRgYbNnwENGHo0IeIi9vEwoULefzxx3FyuoKVlbZ9zsSJE/nmm29YtmwZM2bM4IsvvuDTTz9Fp9MRHBzMww8/DGitT8HBwezcuZOcnBw+//xzLl++zBNPPHEP3+HaTQIY7m4z6t9+zeNUhj0dWhfg0LRqb5+5d6Mu7kIyGAzMnTsXGxsb6tevT0pKCu3atTMtBd2zZ0++/fZbunbtasqXo6Mjbdu2RafT4eTkRH5+PgAtW7bE1dUV0HavPn36NCdPnmTfvn18+eWXAFy5cgXQ+rOL85OSkmIaj+Pn58e2bduq9N4KIe4tM2xGXe27UZdU3IX0zTffsHz5clq3bg1odVVx1723tzfnz58nORkcHBpy+XJLCgvBzs4eD4926HRaXVlcP/bo0QPQ6sbIyEhOnjzJuXPnCA4OBrQ/Ks+cOVMqX7/88gvdunUDtL2ePD09b/l6LIkEMHfJug7oMFLXwea+3aO6dqM2vSZra8LCwnj66afp0aMHXbp0ISUlhevXr2Nvb8+BAwdMHybdbZqezp8/T2ZmJk2bNuXIkSM888wzZGVl8cc//pFhw4Zx6dIlNm3aVOb16PV6fvzxR/z9/R/oaX9CiHvjfu1GfTN/f39+/PFHFi5cyKpVq2jbti2HDh3i8ccfJykpCRcXF7R5Ezrq1tWmV9epU/4A3cTERHx9fTl06BDt27fH09OTdu3a8cEHH6DT6YiJiUGv17Njxw7T62vfvj3/+Mc/AC3ASU1Nrdwb9gCSAOYuOTSxp3sjI1bW9y+Aqa7dqEuys7Nj6dKlhISEsG3bNv7yl78wduxYrKysaN26NbNnzy7TBVWehg0bsmTJEi5cuED37t3x9/enS5cuzJ8/n40bN5Kbm1tmK3aA2bNnM2/ePDZs2ICjoyN1ZJ8pISyeuXajvtmUKVMICAjgP//5D3PmzGHhwoVs2LCBoqIili5dipOTFrR4ed16eEFCQgJjx45Fp9MRHh6Oq6srffr0YfTo0RQUFNClSxeaNWtW6pp+/fqxZ88eRo0ahYuLC3Z2dtjY3L/vn9pEFrITNcLWrVvp2rUr7u7ubNq0iSNHjvDGG2+UOkfKTIjqI5+3miElJYUTJ04wZMgQsrOzGTp0KF9//XV0AwwNAAANwklEQVSZ4QSWuJCd/JkraoQWLVowc+ZM6tWrh5WVVbmtTkIIYWlatGjB8uXL+eijjzAYDMyePbtM8GKpJIARNULPnj3vatdUIYSwBPb29kRHR5s7GzWSbCUghBBCiFrHogMYCxj+88CQshKi+snnrnaw1HKy2ADGzs6OS5cuWWzB1yZKKS5duoSd3S2WPhZC3FNSR9YOllw/WuwYGDc3N9LT001rA4iazc7OTpbOFqIaSR1Ze1hq/WixAYyNjU2FKzAKIYSlkzpS1HQW24UkhBBCiNpLAhghhBBC1DoSwAghhBCi1rGIMTD5+fl07drV3NmosQwGA9bW1ubOhqiAlE/NJuVTc1l62RTvgv2gsoi9kMStBQQEyCq4NZiUT80m5VNzSdk82KQLSQghhBC1jgQwQgghhKh1rENDQ0PNnQlhfj4+PubOgrgFKZ+aTcqn5pKyeXDJGBghhBBC1DrShSSEEEKIWkcCGCGEEELUOhLAiHL98MMPzJ8/39zZEDc5duwYs2bNIiQkhIsXL5o7O+ImSUlJvPDCC8ydO5d9+/aZOzviJjExMcydO5dRo0bxySefmDs7oookgBFlpKWl8dNPPz3wiyDVRvn5+SxatAh/f3+OHj1q7uyImyQmJuLi4oKVlRXt27c3d3bETYKDg1m8eDHt27dn9OjR5s6OqCIJYEQZ7u7ujB8/3tzZEOXw8/MjOTmZDRs24O3tbe7siJv4+fmxZMkSJkyYwPr1682dHVGO7du3M3DgQKys5OuvtpMSFKIWSUxMxMfHh/fff5+//vWv5s6OuElSUhJGoxEnJycMBoO5syPKcejQIR555BFzZ0PcAxLAWJiEhASCgoIAMBqNvPbaa4wcOZKgoCDS0tLMnDvLdidlc+3aNebNm8eSJUt48sknzZldi3Mn5ePq6kpYWBjLli0znSuqx53WbQaDAZ1OZ65sinvIIjZzFJr333+frVu3Uq9ePQB27txJQUEBcXFxHD16lIiICKKjo03nL1++3FxZtTh3WjZ9+vShT58+Zs6t5bnT8vH19cXX19fMubU8d1O3RUREmDOr4h6SFhgL0rp1a6KiokyPDx8+bGpK7datG8eOHTNX1iyelE3NJuVTs0n5WCYJYCzIk08+SZ06vze65ebm4uDgYHpsbW1NUVGRObJm8aRsajYpn5pNyscySQBjwRwcHLh27ZrpsdFoLFUJCPORsqnZpHxqNikfyyABjAXz9fVlz549ABw9ehS9Xm/mHIliUjY1m5RPzSblYxkkJLVgAwcO5LvvvmPUqFEopQgPDzd3lsT/SNnUbFI+NZuUj2WQ3aiFEEIIUetIF5IQQgghah0JYIQQQghR60gAI4QQQohaRwIYIYQQQtQ6EsAIIYQQotaRAEYIIYQQtY4EMEIIIYSodSSAEaIaPPbYY4wcOZKbl13av38/Xl5e92WflqCgIFauXHnP061IWloaXl5epKenV+r6HTt2kJWVdY9zdXubN2/m0Ucfrfb7CiGqRgIYIarJ0aNH2bRpk7mzUSNlZGTw0ksvcf36dXNnRQhRS0gAI0Q1cXV1ZcWKFVy+fNncWalxZEFwIcTdkgBGiGoSHBxM/fr1WbZsWYXn/PbbbyxcuJA//OEP+Pr6MmvWLHJycgCtu+nRRx8lPj6evn370rNnTzZs2MD+/fsZNGgQ3bt359VXX8VoNJrSy8zMJCgoiM6dOzNy5EhSU1NNx7y8vHj77bfp3bs3wcHBABw6dIhnn32WLl26MGTIEP7+979XmNfCwkIWL15Mjx498Pf3Z+/evaWOX716lZCQEPz8/Ojbty8LFy4kNze33LQef/xxAJ544gk2b95MVFQUkyZNIigoiJ49e7Jnzx4yMzOZPn06PXv2xMfHh+HDh3Pw4EEA0tPT8fLy4l//+hcDBw7Ez8+PSZMmlQoWv//+ewICAujatStDhgxh9+7dpfKwZs0aevfuTY8ePYiIiCgVVMXFxfH444/TvXt3Ro8eTWJiounY/v37CQgIoEuXLvTr149169ZV+J4JIe4hJYS47/r37682btyovvrqK+Xl5aUOHTqklFJq3759Sq/Xq8LCQqWUUmPGjFHPPPOMSkhIUAkJCWrEiBFqwoQJpnM7duyoJkyYoJKTk9W6deuUt7e3GjFihDp69Kj697//rTp27Kh27dplSqtDhw4qNjZWJScnq5dffln179/fdC+9Xq+GDh2qUlJS1MmTJ1VmZqbq3r27iomJUampqWr79u3Kz8/PlN7NVqxYofr3768OHDigjhw5op544gml1+vV2bNnlVJKTZs2TU2YMEElJSWp//73v+qFF15Q06ZNKzethIQEpdfr1Y8//qhu3LihVq1apfR6vYqNjVVJSUnq6tWr6k9/+pOaPHmySk5OVqdOnVJ//vOf1VNPPaWUUurs2bNKr9eb3osDBw6oPn36qMjISKWUUsnJyapTp04qKipKnT59WsXExCgfHx915swZFR8fr/R6vXrppZdUSkqK2r59u/Ly8lK7d+9WSim1a9cu1adPH/XVV1+p06dPq7Vr16pu3bqpCxcuqKKiIvXQQw+pVatWqbNnz6pdu3apzp07qz179lT5/4wQ4tYkgBGiGhQHMEop9ec//1kNGzZMFRYWlgpgkpKSlF6vV8nJyabrUlJSlF6vVydPnjSde+rUKaWUUlevXlV6vV59/vnnpvOHDRum3n//faWUFsCUDBiuXr2qunXrZvpiLg4Qiq1cuVJNmjSpVL6joqLU2LFjy7weo9GoevfureLj403P7d692xTApKWlKS8vL5WdnW06np6ervR6vTp37lyZ9IoDkNTUVKWUUqtWrVIPPfRQqXNiYmJKXbtnzx6l1+uV0Wg0XV8y2AoPD1dBQUFKKaUiIiLUqFGjSqW3Zs0alZSUpOLj41XHjh3V1atXTceefvpptXbtWqWUUqNHj1YffvhhqWvHjBmjVq9erbKzs5Ver1effPKJ6djhw4dVZmZmmdcohLi36pi7BUgIS7NgwQKGDBlCbGwsHTt2ND3/yy+/UL9+fdq2bWt6ztPTEycnJ1JSUnB2dgagVatWANjZ2QHQsmVL0/l2dnYUFBSYHnfu3Nn0u4ODAx4eHqSkpNC/f39AG5dT8v579+6le/fupueKiopo1KhRmdeQnZ3N5cuX6dChg+k5Hx8f0+8pKSkopUz3KSk1NZUWLVpU+P4UK5k3gNGjR/PFF19w5MgRTp8+zbFjxwAwGAymc1q3bl3q9RbP7kpJSaFTp06l0psyZQoAP/30E87Ozjg4OJiOOTo6kp+fb7r2rbfe4p133jEdLygooHnz5jRs2JCJEyfy+uuvEx0dTf/+/fnjH/9IkyZNbvv6hBBVIwGMENXMzc2NSZMmERUVRWhoqOl5W1vbcs83GAylxrVYW1uXOm5lVfFQNp1OV+qx0WjExsbG9Lhu3bqm34uKihgyZIjpi/1O0lclxonUqfN7dWIwGLC3ty93DM2dfrmXzJvRaOTFF1/kt99+Y/DgwTz22GMUFhYybdq0UteUfG0l83fz8zcr7zUWX2swGAgJCeHhhx8uddze3h6AWbNmMWLECHbt2sXXX39NUFAQS5Ys4Zlnnrmj1ymEqBwZxCuEGYwfP56mTZvy9ttvm57z9PTk2rVrpKSkmJ5LTk4mNzcXDw+PSt3n5MmTpt+vXLlCampqqRaekjw8PEhNTcXd3d308+233/L555+XOdfZ2RkXFxf++9//mp5LSkoqldb169cxGAymtADeeOONcgfy3hxo3Sw5OZmDBw+yfv16Jk+eTL9+/cjMzATubAaTu7t7qfwBjBs3jo0bN972Wg8PD86fP1/qfdmwYQMHDhwgKyuL0NBQXF1dmTBhAp9++ikBAQF8+eWXt01XCFE1EsAIYQa2trYsWrSIjIwM03Oenp7079+fkJAQEhMTSUxMNM3i8fb2rtR9vvzyS+Li4khOTmbevHm0bt2aP/zhD+WeGxgYSFJSEitWrCA1NZUdO3awbNkymjVrVuZcnU5HYGAgq1ev5rvvviMxMZGIiAjT8bZt2/LII48wZ84cEhISOHHiBCEhIVy6dImmTZuWSa+4NePEiRNcu3atzPEGDRpgZWXFF198QUZGBjt27CAqKgqgVJdZRUaPHk1CQgLvvfceaWlpfPTRR/z444/06dPntteOGzeO2NhYtmzZwpkzZ1i9ejXx8fGm7r2dO3eydOlS0tLSSExM5NChQ2W6q4QQ954EMEKYSZ8+fRg6dGip5yIiInB3dyc4OJjx48fTvn17oqOjK32PoKAgNm/ezIgRI7hy5Qpr1qypsEvI1dWVdevW8f333zN06FDefPNN/vKXvxAYGFju+ZMnT2bEiBG8/PLLTJo0iZEjR5Y6HhkZibu7Oy+++CJjxoyhadOmrF27tty0nJ2dCQgIYNasWeW2+DRv3pzQ0FA+/PBDhgwZwrp161iwYAE2NjZlWlbK06pVK9asWcO2bdsYOnQomzdvZs2aNabxRLcyePBgZs2axerVqxkyZAhfffUVa9aswdvbG1tbW6Kjozl16hTDhw9n4sSJ9O3bl6lTp942XSFE1ejUnbS/CiGEEELUINICI4QQQohaRwIYIYQQQtQ6EsAIIYQQotaRAEYIIYQQtY4EMEIIIYSodSSAEUIIIUStIwGMEEIIIWodCWCEEEIIUetIACOEEEKIWuf/AVLDTzqALH3iAAAAAElFTkSuQmCC",
=======
      "image/png": "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",
>>>>>>> bbb070ed82127933564e174f3d4a75503eb0d6de
      "text/plain": [
       "<Figure size 576x360 with 2 Axes>"
      ]
     },
     "metadata": {},
     "output_type": "display_data"
    },
    {
     "data": {
      "text/plain": [
       "<Figure size 432x288 with 0 Axes>"
      ]
     },
     "metadata": {},
     "output_type": "display_data"
    }
   ],
   "source": [
    "sns.set_style(\"ticks\")\n",
    "portee_fig, ax = plt.subplots(figsize=(8,5))\n",
    "\n",
    "# On graphe les erreurs\n",
    "ax.plot(liste_tranches, err_trapeze, label='Erreur trapèze', linestyle='dashed', color='red')\n",
    "ax.plot(liste_tranches, err_romberg, label='Erreur Romberg', linestyle='dashed', color='blue')\n",
    "ax.set_xlabel('Nombre de tranches', fontsize=14)\n",
    "ax.set_ylabel(\"Erreur\", fontsize=14)\n",
    "\n",
    "# Pour une meilleure lisibilité, le graphique doit être en log-log\n",
    "ax.set_xscale('log')\n",
    "ax.set_yscale('log')\n",
    "\n",
    "# On crée un autre axe pour grapher la portée\n",
    "ax2 = ax.twinx()\n",
    "ax2.plot(liste_tranches, portee_trapeze, label='Portée trapèze', color='red')\n",
    "ax2.plot(liste_tranches, portee_romberg, label='Portée Romberg', color='blue')\n",
    "ax2.set_ylabel(\"Portée\", fontsize=14)\n",
    "\n",
    "# On positionne la légende\n",
    "ax.legend(loc='lower right')\n",
    "ax2.legend(loc='lower left')\n",
    "plt.show()\n",
    "\n",
    "plt.savefig('portee_err.png')"
   ]
  },
  {
   "cell_type": "markdown",
   "metadata": {},
   "source": [
    "#### Temps d'éxécution\n",
    "\n",
    "Maintenant qu'on connaît le nombre de tranches nécessaires pour atteindre la précision machine pour chaque méthode, on peut déterminer le temps nécessaire au calcul à l'aide de la fonction *default_timer* du module *timeit*:"
   ]
  },
  {
   "cell_type": "code",
   "execution_count": null,
   "metadata": {},
   "outputs": [],
   "source": [
    "# i: puissance de 2 du nombre de tranches (par exemple, N=16 tranches pour i=4)\n",
    "\n",
    "def temps_execution(a, b, mil, methode, i):\n",
    "    if methode == \"trapeze\":\n",
    "        t1 = timeit.default_timer()\n",
    "        rep = milieu[mil][1] * 1000 * trapeze(inv_pouvoir_arret, 2**i, a, b, mil)\n",
    "        t2 = timeit.default_timer()\n",
    "    elif methode == \"romberg\":\n",
    "        t1 = timeit.default_timer()\n",
    "        rep = 1000*milieu[mil][1]*romberg(inv_pouvoir_arret, i, a, b, mil)[0]\n",
    "        t2 = timeit.default_timer()\n",
    "    return rep, t2-t1"
   ]
  },
  {
   "cell_type": "markdown",
   "metadata": {},
   "source": [
    "Prenons par exemple l'os compact. Nous avons calculé qu'on doit avoir $i=11$, soit $N=2048$ tranches pour obtenir la précision machine. Le temps d'éxécution est:"
   ]
  },
  {
   "cell_type": "code",
   "execution_count": null,
   "metadata": {},
   "outputs": [
    {
     "name": "stdout",
     "output_type": "stream",
     "text": [
      "L'intégrale est estimée à: 169.44552544310704\n",
      "Le temps d'éxécution est de: 0.017860109999901397 secondes pour 2048 tranches\n"
     ]
    }
   ],
   "source": [
    "i = 11\n",
    "\n",
    "rep, t = temps_execution(3, 150, \"os\", \"romberg\", i)\n",
    "\n",
    "print(\"L'intégrale est estimée à:\",rep)\n",
    "print(\"Le temps d'éxécution est de:\",t,\"secondes pour\",2**i,\"tranches\")"
   ]
  },
  {
   "cell_type": "markdown",
   "metadata": {},
   "source": [
    "Comme mentionné à la question précédente, il n'est pas raisonnable, avec le matériel dont nous disposons, de déterminer le nombre de tranches nécessaires pour atteindre avec la précision machine avec la méthode des trapèzes. Cependant, on peut déterminer le temps nécessaire pour évaluer la fonction jusqu'à quelques millions de tranches sans problème. Nous pourrons alors faire un graphique de ces valeurs, ce qui nous permettra potentiellement d'extrapoler une estimation du temps nécessaire pour atteindre une erreur de l'ordre de $1\\times 10^{-16}$. Cette fonction sera éxécutée sur la machine la plus performante en notre possession, soit un ordinateur d'environ six ans d'âge sous Windows 7 64-bits, Intel i5-6500 3.20 GHz, 16 GB de RAM. Les performances seraient sans doute meilleures avec un ordinateur plus récent et plus puissant."
   ]
  },
  {
   "cell_type": "code",
   "execution_count": 27,
   "metadata": {},
   "outputs": [],
   "source": [
    "def temps_trapezes(a, b, mil, max):\n",
    "    liste_temps = []\n",
    "    liste_err = []\n",
    "    i = 0\n",
    "    I1 = 0\n",
    "    for n in range(max+1):\n",
    "        t1 = timeit.default_timer()\n",
    "        I2 = milieu[mil][1] * 1000 * trapeze(inv_pouvoir_arret, 2**i, a, b, mil)\n",
    "        t2 = timeit.default_timer()\n",
    "        err = (I2-I1)/3\n",
    "        liste_err.append(err)\n",
    "        liste_temps.append(t2-t1)\n",
    "        i += 1\n",
    "        I1=I2\n",
    "    return liste_temps, liste_err"
   ]
  },
  {
   "cell_type": "markdown",
   "metadata": {},
   "source": [
    "Évaluons donc le temps et l'erreur atteinte jusqu'à $2^{25}=33554432$ tranches:"
   ]
  },
  {
   "cell_type": "code",
   "execution_count": 31,
   "metadata": {},
   "outputs": [
    {
     "ename": "KeyboardInterrupt",
     "evalue": "",
     "output_type": "error",
     "traceback": [
      "\u001b[1;31m---------------------------------------------------------------------------\u001b[0m",
      "\u001b[1;31mKeyboardInterrupt\u001b[0m                         Traceback (most recent call last)",
      "\u001b[1;32m<ipython-input-31-0a6d6cf0b23c>\u001b[0m in \u001b[0;36m<module>\u001b[1;34m\u001b[0m\n\u001b[0;32m      1\u001b[0m \u001b[0mmax\u001b[0m \u001b[1;33m=\u001b[0m \u001b[1;36m30\u001b[0m\u001b[1;33m\u001b[0m\u001b[1;33m\u001b[0m\u001b[0m\n\u001b[0;32m      2\u001b[0m \u001b[1;33m\u001b[0m\u001b[0m\n\u001b[1;32m----> 3\u001b[1;33m \u001b[0mtemps\u001b[0m\u001b[1;33m,\u001b[0m \u001b[0merr\u001b[0m \u001b[1;33m=\u001b[0m \u001b[0mtemps_trapezes\u001b[0m\u001b[1;33m(\u001b[0m\u001b[1;36m3\u001b[0m\u001b[1;33m,\u001b[0m \u001b[1;36m150\u001b[0m\u001b[1;33m,\u001b[0m \u001b[1;34m\"eau\"\u001b[0m\u001b[1;33m,\u001b[0m \u001b[0mmax\u001b[0m\u001b[1;33m)\u001b[0m\u001b[1;33m\u001b[0m\u001b[1;33m\u001b[0m\u001b[0m\n\u001b[0m\u001b[0;32m      4\u001b[0m \u001b[1;33m\u001b[0m\u001b[0m\n\u001b[0;32m      5\u001b[0m \u001b[0mfile\u001b[0m \u001b[1;33m=\u001b[0m \u001b[0mopen\u001b[0m\u001b[1;33m(\u001b[0m\u001b[1;34m\"donnees_temps_err.txt\"\u001b[0m\u001b[1;33m,\u001b[0m \u001b[1;34m\"w\"\u001b[0m\u001b[1;33m)\u001b[0m\u001b[1;33m\u001b[0m\u001b[1;33m\u001b[0m\u001b[0m\n",
      "\u001b[1;32m<ipython-input-27-725531a33835>\u001b[0m in \u001b[0;36mtemps_trapezes\u001b[1;34m(a, b, mil, max)\u001b[0m\n\u001b[0;32m      6\u001b[0m     \u001b[1;32mfor\u001b[0m \u001b[0mn\u001b[0m \u001b[1;32min\u001b[0m \u001b[0mrange\u001b[0m\u001b[1;33m(\u001b[0m\u001b[0mmax\u001b[0m\u001b[1;33m+\u001b[0m\u001b[1;36m1\u001b[0m\u001b[1;33m)\u001b[0m\u001b[1;33m:\u001b[0m\u001b[1;33m\u001b[0m\u001b[1;33m\u001b[0m\u001b[0m\n\u001b[0;32m      7\u001b[0m         \u001b[0mt1\u001b[0m \u001b[1;33m=\u001b[0m \u001b[0mtimeit\u001b[0m\u001b[1;33m.\u001b[0m\u001b[0mdefault_timer\u001b[0m\u001b[1;33m(\u001b[0m\u001b[1;33m)\u001b[0m\u001b[1;33m\u001b[0m\u001b[1;33m\u001b[0m\u001b[0m\n\u001b[1;32m----> 8\u001b[1;33m         \u001b[0mI2\u001b[0m \u001b[1;33m=\u001b[0m \u001b[0mmilieu\u001b[0m\u001b[1;33m[\u001b[0m\u001b[0mmil\u001b[0m\u001b[1;33m]\u001b[0m\u001b[1;33m[\u001b[0m\u001b[1;36m1\u001b[0m\u001b[1;33m]\u001b[0m \u001b[1;33m*\u001b[0m \u001b[1;36m1000\u001b[0m \u001b[1;33m*\u001b[0m \u001b[0mtrapeze\u001b[0m\u001b[1;33m(\u001b[0m\u001b[0minv_pouvoir_arret\u001b[0m\u001b[1;33m,\u001b[0m \u001b[1;36m2\u001b[0m\u001b[1;33m**\u001b[0m\u001b[0mi\u001b[0m\u001b[1;33m,\u001b[0m \u001b[0ma\u001b[0m\u001b[1;33m,\u001b[0m \u001b[0mb\u001b[0m\u001b[1;33m,\u001b[0m \u001b[0mmil\u001b[0m\u001b[1;33m)\u001b[0m\u001b[1;33m\u001b[0m\u001b[1;33m\u001b[0m\u001b[0m\n\u001b[0m\u001b[0;32m      9\u001b[0m         \u001b[0mt2\u001b[0m \u001b[1;33m=\u001b[0m \u001b[0mtimeit\u001b[0m\u001b[1;33m.\u001b[0m\u001b[0mdefault_timer\u001b[0m\u001b[1;33m(\u001b[0m\u001b[1;33m)\u001b[0m\u001b[1;33m\u001b[0m\u001b[1;33m\u001b[0m\u001b[0m\n\u001b[0;32m     10\u001b[0m         \u001b[0merr\u001b[0m \u001b[1;33m=\u001b[0m \u001b[1;33m(\u001b[0m\u001b[0mI2\u001b[0m\u001b[1;33m-\u001b[0m\u001b[0mI1\u001b[0m\u001b[1;33m)\u001b[0m\u001b[1;33m/\u001b[0m\u001b[1;36m3\u001b[0m\u001b[1;33m\u001b[0m\u001b[1;33m\u001b[0m\u001b[0m\n",
      "\u001b[1;32m<ipython-input-8-9a463005874c>\u001b[0m in \u001b[0;36mtrapeze\u001b[1;34m(f, N, a, b, *args)\u001b[0m\n\u001b[0;32m     11\u001b[0m     \u001b[0ms\u001b[0m \u001b[1;33m=\u001b[0m \u001b[1;36m0.5\u001b[0m\u001b[1;33m*\u001b[0m\u001b[0mf\u001b[0m\u001b[1;33m(\u001b[0m\u001b[0ma\u001b[0m\u001b[1;33m,\u001b[0m \u001b[1;33m*\u001b[0m\u001b[0margs\u001b[0m\u001b[1;33m)\u001b[0m\u001b[1;33m+\u001b[0m\u001b[1;36m0.5\u001b[0m\u001b[1;33m*\u001b[0m\u001b[0mf\u001b[0m\u001b[1;33m(\u001b[0m\u001b[0mb\u001b[0m\u001b[1;33m,\u001b[0m \u001b[1;33m*\u001b[0m\u001b[0margs\u001b[0m\u001b[1;33m)\u001b[0m\u001b[1;33m\u001b[0m\u001b[1;33m\u001b[0m\u001b[0m\n\u001b[0;32m     12\u001b[0m     \u001b[1;32mfor\u001b[0m \u001b[0mi\u001b[0m \u001b[1;32min\u001b[0m \u001b[0mrange\u001b[0m\u001b[1;33m(\u001b[0m\u001b[1;36m1\u001b[0m\u001b[1;33m,\u001b[0m\u001b[0mN\u001b[0m\u001b[1;33m)\u001b[0m\u001b[1;33m:\u001b[0m\u001b[1;33m\u001b[0m\u001b[1;33m\u001b[0m\u001b[0m\n\u001b[1;32m---> 13\u001b[1;33m         \u001b[0ms\u001b[0m \u001b[1;33m+=\u001b[0m \u001b[0mf\u001b[0m\u001b[1;33m(\u001b[0m\u001b[0ma\u001b[0m\u001b[1;33m+\u001b[0m\u001b[0mi\u001b[0m\u001b[1;33m*\u001b[0m\u001b[0mh\u001b[0m\u001b[1;33m,\u001b[0m \u001b[1;33m*\u001b[0m\u001b[0margs\u001b[0m\u001b[1;33m)\u001b[0m\u001b[1;33m\u001b[0m\u001b[1;33m\u001b[0m\u001b[0m\n\u001b[0m\u001b[0;32m     14\u001b[0m \u001b[1;33m\u001b[0m\u001b[0m\n\u001b[0;32m     15\u001b[0m     \u001b[1;32mreturn\u001b[0m \u001b[0mh\u001b[0m\u001b[1;33m*\u001b[0m\u001b[0ms\u001b[0m\u001b[1;33m\u001b[0m\u001b[1;33m\u001b[0m\u001b[0m\n",
      "\u001b[1;32m<ipython-input-10-0e7a7fbff5ad>\u001b[0m in \u001b[0;36minv_pouvoir_arret\u001b[1;34m(T, mil)\u001b[0m\n\u001b[0;32m      5\u001b[0m \u001b[1;33m\u001b[0m\u001b[0m\n\u001b[0;32m      6\u001b[0m \u001b[1;32mdef\u001b[0m \u001b[0minv_pouvoir_arret\u001b[0m\u001b[1;33m(\u001b[0m\u001b[0mT\u001b[0m\u001b[1;33m,\u001b[0m \u001b[0mmil\u001b[0m\u001b[1;33m)\u001b[0m\u001b[1;33m:\u001b[0m\u001b[1;33m\u001b[0m\u001b[1;33m\u001b[0m\u001b[0m\n\u001b[1;32m----> 7\u001b[1;33m     \u001b[1;32mreturn\u001b[0m \u001b[0mpouvoir_arret\u001b[0m\u001b[1;33m(\u001b[0m\u001b[0mT\u001b[0m\u001b[1;33m,\u001b[0m \u001b[0mmil\u001b[0m\u001b[1;33m)\u001b[0m\u001b[1;33m**\u001b[0m\u001b[1;33m(\u001b[0m\u001b[1;33m-\u001b[0m\u001b[1;36m1\u001b[0m\u001b[1;33m)\u001b[0m\u001b[1;33m\u001b[0m\u001b[1;33m\u001b[0m\u001b[0m\n\u001b[0m\u001b[0;32m      8\u001b[0m \u001b[1;33m\u001b[0m\u001b[0m\n\u001b[0;32m      9\u001b[0m \u001b[1;31m# Calcule la portée\u001b[0m\u001b[1;33m\u001b[0m\u001b[1;33m\u001b[0m\u001b[1;33m\u001b[0m\u001b[0m\n",
      "\u001b[1;32m<ipython-input-6-98b2c9e6f2e0>\u001b[0m in \u001b[0;36mpouvoir_arret\u001b[1;34m(T, mil)\u001b[0m\n\u001b[0;32m     14\u001b[0m     \u001b[1;31m# Calcul de gamma et beta\u001b[0m\u001b[1;33m\u001b[0m\u001b[1;33m\u001b[0m\u001b[1;33m\u001b[0m\u001b[0m\n\u001b[0;32m     15\u001b[0m     \u001b[0mgamma\u001b[0m \u001b[1;33m=\u001b[0m \u001b[0mT\u001b[0m \u001b[1;33m/\u001b[0m \u001b[1;33m(\u001b[0m\u001b[0mmp\u001b[0m \u001b[1;33m*\u001b[0m \u001b[0mc\u001b[0m\u001b[1;33m**\u001b[0m\u001b[1;36m2\u001b[0m\u001b[1;33m)\u001b[0m \u001b[1;33m+\u001b[0m \u001b[1;36m1\u001b[0m\u001b[1;33m\u001b[0m\u001b[1;33m\u001b[0m\u001b[0m\n\u001b[1;32m---> 16\u001b[1;33m     \u001b[0mbeta\u001b[0m \u001b[1;33m=\u001b[0m \u001b[0mnp\u001b[0m\u001b[1;33m.\u001b[0m\u001b[0msqrt\u001b[0m\u001b[1;33m(\u001b[0m\u001b[1;36m1\u001b[0m \u001b[1;33m-\u001b[0m \u001b[0mgamma\u001b[0m\u001b[1;33m**\u001b[0m\u001b[1;33m(\u001b[0m\u001b[1;33m-\u001b[0m\u001b[1;36m2\u001b[0m\u001b[1;33m)\u001b[0m\u001b[1;33m)\u001b[0m\u001b[1;33m\u001b[0m\u001b[1;33m\u001b[0m\u001b[0m\n\u001b[0m\u001b[0;32m     17\u001b[0m \u001b[1;33m\u001b[0m\u001b[0m\n\u001b[0;32m     18\u001b[0m     \u001b[1;31m# Calcul de l'énergie de transfert maximal\u001b[0m\u001b[1;33m\u001b[0m\u001b[1;33m\u001b[0m\u001b[1;33m\u001b[0m\u001b[0m\n",
      "\u001b[1;31mKeyboardInterrupt\u001b[0m: "
     ]
    }
   ],
   "source": [
    "max = 30\n",
    "\n",
    "temps, err = temps_trapezes(3, 150, \"eau\", max)\n",
    "\n",
    "file = open(\"donnees_temps_err.txt\", \"w\")\n",
    "file.write(f\"Donnees pour max = {2**max} tranches:\\n\"\n",
    "            +\"temps trapeze =\"+str(temps)+\"\\n\"\n",
    "            +\"erreur trapeze =\"+str(err))\n",
    "file.close()\n",
    "\n",
    "sns.set_style(\"ticks\")\n",
    "err_temps_fig, ax = plt.subplots(figsize=(8,5))\n",
    "\n",
    "# On graphe les erreurs\n",
    "ax.plot(err, temps, label='Erreur trapèze')\n",
    "ax.set_xlabel(\"Erreur\", fontsize=14)\n",
    "ax.set_ylabel(\"Temps d'éxécution\", fontsize=14)\n",
    "\n",
    "# Pour une meilleure lisibilité, le graphique doit être en log-log\n",
    "ax.set_xscale('log')\n",
    "ax.set_yscale('log')\n",
    "\n",
    "\n",
    "# On positionne la légende\n",
    "ax.legend(loc='lower right')\n",
    "plt.show()\n",
    "\n",
    "plt.savefig('temps_err.png')"
   ]
  },
  {
   "cell_type": "markdown",
   "metadata": {},
   "source": [
    "## Estimation analytique de l'erreur\n",
    "\n",
    "On veut maintenant déterminer de façon analytique l'erreur pour la méthode des trapèzes. Pour ce faire, on doit connaître la dérivée analytique de la fonction à intégrer, donc on doit connaître la dérivée analytique du pouvoir d'arrêt. On utilise l'expression pour le pouvoir d'arrêt en fonction de $\\gamma$ déterminée plus haut :\n",
    "$$S_{col} = U\\frac{\\gamma^2}{(\\gamma^2-1)}\\Bigg[\\ln\\bigg(\\frac{2m_ec^2a(\\gamma^2-1)^2}{I^2(b + \\delta\\gamma)}\\bigg)\\Bigg] - 2U$$\n",
    "On désire utiliser la formule pour la dérivée d'une multiplication et la dérivation en chaîne. On calcule les dérivées nécessaires:\n",
    "$$\\frac{\\text{d}}{\\text{d}\\gamma} \\frac{\\gamma^2}{\\gamma^2-1} = \\Bigg(\\frac{2\\gamma}{\\gamma^2-1} - \\frac{2\\gamma^3}{(\\gamma^2-1)^2}\\Bigg) = \\frac{-2\\gamma}{(\\gamma^2-1)^2}$$\n",
    "$$\\frac{\\text{d}}{\\text{d}\\gamma} \\ln\\bigg(\\frac{2m_ec^2a(\\gamma^2-1)^2}{I^2(b + \\delta\\gamma)}\\bigg)= \\frac{I^2(b+\\delta\\gamma)}{2m_ec^2a(\\gamma^2-1)} \\Bigg(\\frac{8m_ec^2a\\gamma(\\gamma^2-1)}{I^2(b+\\delta\\gamma)} - \\frac{2\\delta}{\\delta(b+\\delta \\gamma)}\\Bigg)$$\n",
    "$$\\frac{\\text{d}}{\\text{d}\\gamma} \\ln\\bigg(\\frac{2m_ec^2a(\\gamma^2-1)^2}{I^2(b + \\delta\\gamma)}\\bigg) = \\Bigg(\\frac{4\\gamma}{\\gamma^2-1} - \\frac{\\delta}{\\delta(b+\\delta \\gamma)}\\Bigg)$$\n",
    "$$\\frac{\\text{d}\\gamma}{\\text{d}T} = \\frac{1}{m_pc^2}$$\n",
    "On peut alors déterminer la dérivée première du pouvoir d'arrêt:\n",
    "$$\\frac{\\text{d}S_{col}}{\\text{d}T} = \\frac{\\text{d}S_{col}}{\\text{d}\\gamma}\\frac{\\text{d}\\gamma}{\\text{d}T}$$\n",
    "$$\\frac{\\text{d}S_{col}}{\\text{d}T} = \\frac{U}{m_pc^2}\\Bigg[\\frac{-2\\gamma}{(\\gamma^2-1)^2}\\ln\\bigg(\\frac{2m_ec^2a(\\gamma^2-1)^2}{I^2(b + \\delta\\gamma)}\\bigg) + \\frac{\\gamma^2}{(\\gamma^2-1)}\\Bigg(\\frac{4\\gamma}{\\gamma^2-1} - \\frac{\\delta}{b+\\delta \\gamma}\\Bigg)\\Bigg]$$\n",
    "$$\\frac{\\text{d}S_{col}}{\\text{d}T} = \\frac{U}{m_pc^2}\\frac{\\gamma}{(\\gamma^2-1)^2}\\Bigg[4\\gamma^2 - 2\\ln\\bigg(\\frac{2m_ec^2a(\\gamma^2-1)^2}{I^2(b + \\delta\\gamma)}\\bigg) - \\frac{\\delta\\gamma(\\gamma^2-1)}{b+\\delta\\gamma}\\Bigg]$$"
   ]
  },
  {
   "cell_type": "markdown",
   "metadata": {},
   "source": [
    "On définit maintenant une fonction pour déterminer analytiquement l'erreur sur l'intégration par la méthode des trapèzes en utilisant la dérivée de la fonction à intégrer. On sait que la formule qui donne l'erreur correspond à [6] :\n",
    "$$\\epsilon = \\frac{1}{12}\\bigg(\\frac{N}{b-a}\\bigg)^2(f'(a)-f'(b))$$\n",
    "On code la fonction :"
   ]
  },
  {
   "cell_type": "code",
   "execution_count": 79,
   "metadata": {},
   "outputs": [],
   "source": [
    "# Retourne l'erreur analytique pour la méthode des trapèzes\n",
    "# Arguments :\n",
    "# f : dérivée de la fonction à intégrer\n",
    "# N : nombre de tranches de la méthode des trapèzes\n",
    "# a, b : bornes d'intégration\n",
    "# *args : autres arguments de f\n",
    "\n",
    "def erreur_trapeze(f, N, a, b, *args):\n",
    "    return 1/12 * (N / (b - a))**2 * (f(a, *args) - f(b, *args))"
   ]
  },
  {
   "cell_type": "markdown",
   "metadata": {},
   "source": [
    "Dans le cas présent, la dérivée du pouvoir d'arrêt a déjà été déterminée analytiquement. On code la fonction *dS_dT*, qui correspond à la dérivée du pouvoir d'arrêt déterminée analytiquement. Celle-ci fonctionne de la même façon que la fonction *pouvoir_arret* et prend les mêmes arguments. On définit par la suite la dérivée de l'intégrande selon l'équation suivante :\n",
    "$$\\frac{\\text{d}}{\\text{d}T}\\frac{1}{S_{col}} = -\\frac{1}{(S_{col})^2}\\bigg(\\frac{\\text{d}S_{col}}{\\text{d}T}\\bigg)"
   ]
  },
  {
   "cell_type": "code",
   "execution_count": 80,
   "metadata": {},
   "outputs": [],
   "source": [
    "# Retourne la dérivée du pouvoir d'arrêt\n",
    "# Arguments :\n",
    "# T : énergie cinétique du proton\n",
    "# mil : milieu de propagation (\"eau\" ou \"os\")\n",
    "\n",
    "def dS_dT(T, mil):\n",
    "    T = T / 6241506479963.2\n",
    "    ne = milieu[mil][0]*10**6\n",
    "    gamma = T / (mp*c**2) + 1\n",
    "    a = 2*me*c**2\n",
    "    b = 1 + (me/mp)**2\n",
    "    d = 2 * (me/mp)\n",
    "    return 2*np.pi*re**2*me*ne*1000 / mp * gamma / (gamma**2-1) * (4*gamma**2 - 2*np.log(2*me*c**2*a*(gamma-1) / (milieu[mil][2]**2*(b+d))) - (d*gamma*(gamma**2-1)) / (b + d*gamma))\n",
    "\n",
    "# Retourne la dérivée de l'intégrande dans l'équation de la portée\n",
    "# Arguments :\n",
    "# T : énergie cinétique du proton\n",
    "# mil : milieu de programmation (\"eau\" ou \"os\")\n",
    "\n",
    "def derivee_integrande(T, mil):\n",
    "    return -milieu[mil][1]*1000 * inv_pouvoir_arret(T, mil)**2 * dS_dT(T, mil)"
   ]
  },
  {
   "cell_type": "markdown",
   "metadata": {},
   "source": [
    "On peut donc déterminer analytiquement l'erreur sur la portée des protons avec une énergie de 150 MeV déterminée par la méthode des trapèzes avec 256 tranches :"
   ]
  },
  {
   "cell_type": "code",
   "execution_count": 81,
   "metadata": {},
   "outputs": [
    {
     "name": "stdout",
     "output_type": "stream",
     "text": [
      "erreur sur la méthode des trapèzes dans l'eau : -0.7035793242517899\n",
      "erreur sur la méthode des trapèzes dans l'os compact : -0.7429340402192666\n"
     ]
    }
   ],
   "source": [
    "print(\"erreur sur la méthode des trapèzes dans l'eau :\", erreur_trapeze(derivee_integrande, 256, 0.1, 150, \"eau\"))\n",
    "print(\"erreur sur la méthode des trapèzes dans l'os compact :\", erreur_trapeze(derivee_integrande, 256, 0.1, 150, \"os\"))"
   ]
  },
  {
   "cell_type": "markdown",
   "metadata": {},
   "source": [
    "## Optimisation\n",
    "\n",
    "On veut maintenant comparer les performances des différentes méthodes d'intégration à des fins d'optimisation. Dans cette section, comme le milieu n'a pas d'impact sur la performance, tous les calculs sont effectués en considérant que le milieu est l'eau liquide. Tout d'abord, on génère aléatoirement une distribution de 10 000 protons où l'énergie cinétique initiale est donnée par une distribution de Moyal et on la représente sur un histogramme :"
   ]
  },
  {
   "cell_type": "code",
   "execution_count": 82,
   "metadata": {},
   "outputs": [
    {
     "data": {
<<<<<<< HEAD
      "image/png": "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",
=======
      "image/png": "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",
>>>>>>> bbb070ed82127933564e174f3d4a75503eb0d6de
      "text/plain": [
       "<Figure size 432x288 with 1 Axes>"
      ]
     },
     "metadata": {},
     "output_type": "display_data"
    }
   ],
   "source": [
    "# On définit la distribution de Moyal et on prend un échantillon de 10 000 protons\n",
    "sample = moyal(loc=150, scale=4).rvs(size=10000)\n",
    "\n",
    "# On représente l'échantillon sur un histogramme\n",
    "sns.set_style(\"ticks\")\n",
    "plt.figure(figsize=(6,4))\n",
    "groupes = [120, 130, 140, 150, 160, 170, 180, 200, 210, 220]\n",
    "plt.hist(sample, bins=groupes)\n",
    "plt.xlabel('Énergie cinétique initiale [MeV]', fontsize=12)\n",
    "plt.ylabel('Nombre de protons', fontsize=12)\n",
    "plt.show()"
   ]
  },
  {
   "cell_type": "markdown",
   "metadata": {},
   "source": [
    "Pour pouvoir bien comparer les performances des différentes méthodes d'intégration, on doit faire en sorte que la précision de chaque méthode est similaire. Une précision plus grande implique généralement un temps de calcul plus grand pour une même méthode, donc il est souhaitable de comparer les méthodes lorsqu'elles donnent des résultats avec la même précision. Comme on veut comparer la méthode des trapèzes, la méthode de Romberg et la méthode *scipy.integrate.quad*, on va se fier sur la précision de cette dernière pour ajuster le nombre de tranches des deux autres méthodes. La méthode *scipy.integrate.quad* retourne aussi l'incertitude sur l'intégrale, donc on peut calculer cette incertitude pour les 10 000 protons et déterminer l'incertitude moyenne. Pour intégrer avec *scipy*, on doit par contre avoir une fonction à un argument, donc on définit la fonction *integrande*. On utilise ensuite les fonctions définies plus haut pour déterminer le nombre de tranches nécessaires pour atteindre cette précision pour les deux autres méthodes. On choisit arbitrairement d'utiliser l'eau liquide comme milieu pour comparer les méthodes, mais ce choix ne devrait pas affecter les performances."
   ]
  },
  {
   "cell_type": "code",
   "execution_count": 83,
   "metadata": {},
   "outputs": [
    {
     "name": "stdout",
     "output_type": "stream",
     "text": [
      "Erreur moyenne de scipy : 2.793616973093549e-08\n"
     ]
    }
   ],
   "source": [
    "# Erreur moyenne de scipy\n",
    "\n",
    "erreur_scipy = []\n",
    "\n",
    "def integrande(T):\n",
    "    return 1000 * milieu['eau'][1] * inv_pouvoir_arret(T, 'eau')\n",
    "\n",
    "for i in sample:\n",
    "    erreur_scipy.append(sp.integrate.quad(integrande, 0, i)[1])\n",
    "\n",
    "err_sp = sum(erreur_scipy) / len(erreur_scipy)\n",
    "\n",
    "print(\"Erreur moyenne de scipy :\", err_sp)"
   ]
  },
  {
   "cell_type": "code",
   "execution_count": 84,
   "metadata": {},
   "outputs": [
    {
     "name": "stdout",
     "output_type": "stream",
     "text": [
      "7502 7\n"
     ]
    }
   ],
   "source": [
    "# Nombre de tranches, méthode des trapèzes\n",
    "\n",
    "N_trap = estim_trapeze(2, 3, 150, \"eau\", 1.15, err_sp)\n",
    "i_romb = estim_romberg(2, 3, 150, \"eau\", err_sp)\n",
    "print(i_trap, i_romb)"
   ]
  },
  {
   "cell_type": "markdown",
   "metadata": {},
   "source": [
    "On veut ensuite déterminer le nombre de portées de protons que chaque méthode d'intégration peut calculer en 1 seconde. Pour ce faire, on utilise le module *timeit* pour calculer le temps nécessaire pour calculer les 10 000 portées pour chaque méthode d'intégration. On utilise la fonction *default_timer* qui retourne une valeur de temps au moment où elle est appelée. On prend donc une mesure de temps avant et après avoir appelé chaque méthode d'intégration avec le bon nombre de tranches et on soustrait les deux valeurs pour obtenir le temps nécessaire au calcul. Pour la méthode des trapèzes, on utilise $2^{13}=8192$ tranches pour avoir au moins la précision requise. Pour la méthode des trapèzes, par contre, comme le temps de calcul est très long, on calcule seulement les 100 premières portées. On détermine ensuite le temps nécessaire pour la méthode de Romberg et pour la méthode *scipy.integrate.quad* pour les 10 000 protons. On divise ensuite 10 000 (ou 100) protons par le temps obtenu pour connaître le nombre de protons par seconde pour chaque méthode."
   ]
  },
  {
   "cell_type": "code",
   "execution_count": 102,
   "metadata": {},
   "outputs": [
    {
     "name": "stderr",
     "output_type": "stream",
     "text": [
      "<ipython-input-6-98b2c9e6f2e0>:21: RuntimeWarning: divide by zero encountered in double_scalars\n",
      "  const = 2 * np.pi * re**2 * me * c**2 * ne / beta**2\n",
      "<ipython-input-6-98b2c9e6f2e0>:22: RuntimeWarning: divide by zero encountered in log\n",
      "  parenth = np.log(2 * me * c**2 * beta**2 * gamma**2 * te_max / milieu[mil][2]**2) - (2 * beta**2)\n"
     ]
    },
    {
<<<<<<< HEAD
     "ename": "IndexError",
     "evalue": "list index out of range",
     "output_type": "error",
     "traceback": [
      "\u001b[1;31m---------------------------------------------------------------------------\u001b[0m",
      "\u001b[1;31mIndexError\u001b[0m                                Traceback (most recent call last)",
      "\u001b[1;32m<ipython-input-26-54bd2a1e6973>\u001b[0m in \u001b[0;36m<module>\u001b[1;34m\u001b[0m\n\u001b[0;32m     17\u001b[0m \u001b[0mt_3\u001b[0m \u001b[1;33m=\u001b[0m \u001b[0mtimeit\u001b[0m\u001b[1;33m.\u001b[0m\u001b[0mdefault_timer\u001b[0m\u001b[1;33m(\u001b[0m\u001b[1;33m)\u001b[0m\u001b[1;33m\u001b[0m\u001b[1;33m\u001b[0m\u001b[0m\n\u001b[0;32m     18\u001b[0m \u001b[1;32mfor\u001b[0m \u001b[0mp\u001b[0m \u001b[1;32min\u001b[0m \u001b[0msample\u001b[0m\u001b[1;33m:\u001b[0m\u001b[1;33m\u001b[0m\u001b[1;33m\u001b[0m\u001b[0m\n\u001b[1;32m---> 19\u001b[1;33m     \u001b[0mportees_romberg\u001b[0m\u001b[1;33m.\u001b[0m\u001b[0mappend\u001b[0m\u001b[1;33m(\u001b[0m\u001b[0mportee\u001b[0m\u001b[1;33m(\u001b[0m\u001b[1;36m1\u001b[0m\u001b[1;33m,\u001b[0m \u001b[1;36m0\u001b[0m\u001b[1;33m,\u001b[0m \u001b[0mp\u001b[0m\u001b[1;33m,\u001b[0m \u001b[1;34m'eau'\u001b[0m\u001b[1;33m,\u001b[0m \u001b[1;34m'romberg'\u001b[0m\u001b[1;33m)\u001b[0m\u001b[1;33m)\u001b[0m\u001b[1;33m\u001b[0m\u001b[1;33m\u001b[0m\u001b[0m\n\u001b[0m\u001b[0;32m     20\u001b[0m \u001b[0mt_4\u001b[0m \u001b[1;33m=\u001b[0m \u001b[0mtimeit\u001b[0m\u001b[1;33m.\u001b[0m\u001b[0mdefault_timer\u001b[0m\u001b[1;33m(\u001b[0m\u001b[1;33m)\u001b[0m\u001b[1;33m\u001b[0m\u001b[1;33m\u001b[0m\u001b[0m\n\u001b[0;32m     21\u001b[0m \u001b[1;33m\u001b[0m\u001b[0m\n",
      "\u001b[1;32m<ipython-input-10-0e7a7fbff5ad>\u001b[0m in \u001b[0;36mportee\u001b[1;34m(i, a, b, mil, methode)\u001b[0m\n\u001b[0;32m     18\u001b[0m         \u001b[1;32mreturn\u001b[0m \u001b[0mmilieu\u001b[0m\u001b[1;33m[\u001b[0m\u001b[0mmil\u001b[0m\u001b[1;33m]\u001b[0m\u001b[1;33m[\u001b[0m\u001b[1;36m1\u001b[0m\u001b[1;33m]\u001b[0m \u001b[1;33m*\u001b[0m \u001b[1;36m1000\u001b[0m \u001b[1;33m*\u001b[0m \u001b[0mtrapeze\u001b[0m\u001b[1;33m(\u001b[0m\u001b[0minv_pouvoir_arret\u001b[0m\u001b[1;33m,\u001b[0m \u001b[0mN\u001b[0m\u001b[1;33m,\u001b[0m \u001b[0ma\u001b[0m\u001b[1;33m,\u001b[0m \u001b[0mb\u001b[0m\u001b[1;33m,\u001b[0m \u001b[0mmil\u001b[0m\u001b[1;33m)\u001b[0m\u001b[1;33m\u001b[0m\u001b[1;33m\u001b[0m\u001b[0m\n\u001b[0;32m     19\u001b[0m     \u001b[1;32melif\u001b[0m \u001b[0mmethode\u001b[0m \u001b[1;33m==\u001b[0m \u001b[1;34m\"romberg\"\u001b[0m\u001b[1;33m:\u001b[0m\u001b[1;33m\u001b[0m\u001b[1;33m\u001b[0m\u001b[0m\n\u001b[1;32m---> 20\u001b[1;33m         \u001b[1;32mreturn\u001b[0m \u001b[0mmilieu\u001b[0m\u001b[1;33m[\u001b[0m\u001b[0mmil\u001b[0m\u001b[1;33m]\u001b[0m\u001b[1;33m[\u001b[0m\u001b[1;36m1\u001b[0m\u001b[1;33m]\u001b[0m \u001b[1;33m*\u001b[0m \u001b[1;36m1000\u001b[0m \u001b[1;33m*\u001b[0m \u001b[0mromberg\u001b[0m\u001b[1;33m(\u001b[0m\u001b[0minv_pouvoir_arret\u001b[0m\u001b[1;33m,\u001b[0m \u001b[0mi\u001b[0m\u001b[1;33m,\u001b[0m \u001b[0ma\u001b[0m\u001b[1;33m,\u001b[0m \u001b[0mb\u001b[0m\u001b[1;33m,\u001b[0m \u001b[0mmil\u001b[0m\u001b[1;33m)\u001b[0m\u001b[1;33m[\u001b[0m\u001b[1;36m0\u001b[0m\u001b[1;33m]\u001b[0m\u001b[1;33m\u001b[0m\u001b[1;33m\u001b[0m\u001b[0m\n\u001b[0m",
      "\u001b[1;32m<ipython-input-9-549a346d25c5>\u001b[0m in \u001b[0;36mromberg\u001b[1;34m(f, i_max, a, b, *args)\u001b[0m\n\u001b[0;32m     15\u001b[0m         \u001b[1;32mfor\u001b[0m \u001b[0mm\u001b[0m \u001b[1;32min\u001b[0m \u001b[0mrange\u001b[0m\u001b[1;33m(\u001b[0m\u001b[0mi\u001b[0m\u001b[1;33m)\u001b[0m\u001b[1;33m:\u001b[0m\u001b[1;33m\u001b[0m\u001b[1;33m\u001b[0m\u001b[0m\n\u001b[0;32m     16\u001b[0m             \u001b[0mRn\u001b[0m\u001b[1;33m[\u001b[0m\u001b[0mi\u001b[0m\u001b[1;33m]\u001b[0m\u001b[1;33m.\u001b[0m\u001b[0mappend\u001b[0m\u001b[1;33m(\u001b[0m\u001b[0mRn\u001b[0m\u001b[1;33m[\u001b[0m\u001b[0mi\u001b[0m\u001b[1;33m]\u001b[0m\u001b[1;33m[\u001b[0m\u001b[0mm\u001b[0m\u001b[1;33m]\u001b[0m \u001b[1;33m+\u001b[0m \u001b[1;33m(\u001b[0m\u001b[0mRn\u001b[0m\u001b[1;33m[\u001b[0m\u001b[0mi\u001b[0m\u001b[1;33m]\u001b[0m\u001b[1;33m[\u001b[0m\u001b[0mm\u001b[0m\u001b[1;33m]\u001b[0m \u001b[1;33m-\u001b[0m \u001b[0mRn\u001b[0m\u001b[1;33m[\u001b[0m\u001b[0mi\u001b[0m\u001b[1;33m-\u001b[0m\u001b[1;36m1\u001b[0m\u001b[1;33m]\u001b[0m\u001b[1;33m[\u001b[0m\u001b[0mm\u001b[0m\u001b[1;33m]\u001b[0m\u001b[1;33m)\u001b[0m \u001b[1;33m/\u001b[0m \u001b[1;33m(\u001b[0m\u001b[1;36m4\u001b[0m\u001b[1;33m**\u001b[0m\u001b[1;33m(\u001b[0m\u001b[0mm\u001b[0m\u001b[1;33m+\u001b[0m\u001b[1;36m1\u001b[0m\u001b[1;33m)\u001b[0m \u001b[1;33m-\u001b[0m \u001b[1;36m1\u001b[0m\u001b[1;33m)\u001b[0m\u001b[1;33m)\u001b[0m\u001b[1;33m\u001b[0m\u001b[1;33m\u001b[0m\u001b[0m\n\u001b[1;32m---> 17\u001b[1;33m     \u001b[0merr\u001b[0m \u001b[1;33m=\u001b[0m \u001b[1;33m(\u001b[0m\u001b[0mRn\u001b[0m\u001b[1;33m[\u001b[0m\u001b[1;33m-\u001b[0m\u001b[1;36m1\u001b[0m\u001b[1;33m]\u001b[0m\u001b[1;33m[\u001b[0m\u001b[1;33m-\u001b[0m\u001b[1;36m2\u001b[0m\u001b[1;33m]\u001b[0m \u001b[1;33m-\u001b[0m \u001b[0mRn\u001b[0m\u001b[1;33m[\u001b[0m\u001b[1;33m-\u001b[0m\u001b[1;36m2\u001b[0m\u001b[1;33m]\u001b[0m\u001b[1;33m[\u001b[0m\u001b[1;33m-\u001b[0m\u001b[1;36m1\u001b[0m\u001b[1;33m]\u001b[0m\u001b[1;33m)\u001b[0m \u001b[1;33m/\u001b[0m \u001b[1;33m(\u001b[0m\u001b[1;36m4\u001b[0m\u001b[1;33m**\u001b[0m\u001b[1;33m(\u001b[0m\u001b[0mi_max\u001b[0m\u001b[1;33m-\u001b[0m\u001b[1;36m1\u001b[0m\u001b[1;33m)\u001b[0m \u001b[1;33m-\u001b[0m \u001b[1;36m1\u001b[0m\u001b[1;33m)\u001b[0m\u001b[1;33m\u001b[0m\u001b[1;33m\u001b[0m\u001b[0m\n\u001b[0m\u001b[0;32m     18\u001b[0m     \u001b[1;32mreturn\u001b[0m \u001b[0mRn\u001b[0m\u001b[1;33m[\u001b[0m\u001b[1;33m-\u001b[0m\u001b[1;36m1\u001b[0m\u001b[1;33m]\u001b[0m\u001b[1;33m[\u001b[0m\u001b[1;33m-\u001b[0m\u001b[1;36m1\u001b[0m\u001b[1;33m]\u001b[0m\u001b[1;33m,\u001b[0m \u001b[0merr\u001b[0m\u001b[1;33m\u001b[0m\u001b[1;33m\u001b[0m\u001b[0m\n",
      "\u001b[1;31mIndexError\u001b[0m: list index out of range"
=======
     "name": "stdout",
     "output_type": "stream",
     "text": [
      "Temps pour la méthode des trapèzes : 13.135266799999954 secondes\n",
      "Temps pour la méthode de Romberg : 19.936020299999655 secondes\n",
      "Temps pour scipy.integrate.quad : 23.66958429999977 secondes\n",
      "Protons par seconde pour la méthode des trapèzes : 7.613092411644075 protons par seconde\n",
      "Protons par seconde pour la méthode de Romberg : 501.6046256734687 protons par seconde\n",
      "Protons par seconde pour scipy.integrate.quad : 422.483127428651 protons par seconde\n"
>>>>>>> bbb070ed82127933564e174f3d4a75503eb0d6de
     ]
    }
   ],
   "source": [
    "# Méthode des trapèzes\n",
    "\n",
    "portees_trapeze = []\n",
    "\n",
    "t_1 = timeit.default_timer()\n",
    "for p in sample[:100]:\n",
    "    portees_trapeze.append(portee(13, 0, p, 'eau', 'trapeze'))\n",
    "t_2 = timeit.default_timer()\n",
    "\n",
    "\n",
    "# Méthode de Romberg\n",
    "\n",
    "portees_romberg = []\n",
    "\n",
    "t_3 = timeit.default_timer()\n",
    "for p in sample:\n",
    "    portees_romberg.append(portee(i_romb, 0, p, 'eau', 'romberg'))\n",
    "t_4 = timeit.default_timer()\n",
    "\n",
    "\n",
    "# Fonction scipy.integrate.quad\n",
    "\n",
    "portees_scipy = []\n",
    "\n",
    "t_5 = timeit.default_timer()\n",
    "for p in sample:\n",
    "    portees_scipy.append(sp.integrate.quad(integrande, 0, p)[0])\n",
    "t_6 = timeit.default_timer()\n",
    "\n",
    "\n",
    "print(\"Temps pour la méthode des trapèzes :\", t_2-t_1, \"secondes\")\n",
    "print(\"Temps pour la méthode de Romberg :\", t_4-t_3, \"secondes\")\n",
    "print(\"Temps pour scipy.integrate.quad :\", t_6-t_5, \"secondes\")\n",
    "\n",
    "print(\"Protons par seconde pour la méthode des trapèzes :\", 100 / (t_2-t_1), \"protons par seconde\")\n",
    "print(\"Protons par seconde pour la méthode de Romberg :\", 10000 / (t_4-t_3), \"protons par seconde\")\n",
    "print(\"Protons par seconde pour scipy.integrate.quad :\", 10000 / (t_6-t_5), \"protons par seconde\")"
   ]
  },
  {
   "cell_type": "markdown",
   "metadata": {},
   "source": [
    "On trace un histogramme des portées obtenues pour les 10 000 protons:"
   ]
  },
  {
   "cell_type": "code",
   "execution_count": 103,
   "metadata": {},
   "outputs": [
    {
     "data": {
      "image/png": "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",
      "text/plain": [
       "<Figure size 432x288 with 1 Axes>"
      ]
     },
     "metadata": {},
     "output_type": "display_data"
    },
    {
     "data": {
      "image/png": "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",
      "text/plain": [
       "<Figure size 432x288 with 1 Axes>"
      ]
     },
     "metadata": {},
     "output_type": "display_data"
    },
    {
     "data": {
      "image/png": "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",
      "text/plain": [
       "<Figure size 432x288 with 1 Axes>"
      ]
     },
     "metadata": {},
     "output_type": "display_data"
    }
   ],
   "source": [
    "groupes_2 = [110, 120, 130, 140, 150, 160, 170, 180, 200, 210, 220, 240, 250, 260]\n",
    "\n",
    "sns.set_style(\"ticks\")\n",
    "\n",
    "plt.figure(figsize=(6,4))\n",
    "plt.hist(portees_trapeze, bins=groupes_2)\n",
    "plt.title(\"Méthode des trapèzes\", fontsize=12)\n",
    "plt.xlabel('Portée [cm]', fontsize=12)\n",
    "plt.ylabel('Nombre de protons', fontsize=12)\n",
    "plt.show()\n",
    "\n",
    "plt.figure(figsize=(6,4))\n",
    "plt.hist(portees_romberg, bins=groupes_2)\n",
    "plt.title(\"Méthode de Romberg\", fontsize=12)\n",
    "plt.xlabel('Portée [cm]', fontsize=12)\n",
    "plt.ylabel('Nombre de protons', fontsize=12)\n",
    "plt.show()\n",
    "\n",
    "plt.figure(figsize=(6,4))\n",
    "plt.hist(portees_scipy, bins=groupes_2)\n",
    "plt.title(\"Fonction native de scipy\", fontsize=12)\n",
    "plt.xlabel('Portée [cm]', fontsize=12)\n",
    "plt.ylabel('Nombre de protons', fontsize=12)\n",
    "plt.show()"
   ]
  },
  {
   "cell_type": "markdown",
   "metadata": {},
   "source": [
    "Tout d'abord, on observe que, dans les trois cas, le pic se situe entre 14 et 15 cm, ce qui concorde avec la portée calculée pour un proton de 150 MeV. On observe aussi que les trois méthodes semblent former une distribution de Moyal. Cela est logique, car les données étaient basées sur un échantillon d'une distribution de Moyal. Il est intéressant de noter que la distribution semble se rapprocher plus de Moyal pour Romberg et *scipy*. Cela est encore une fois conforme aux attentes, car, pour des raisons de temps d'exécution, l'échantillon de la méthode des trapèzes est 10 fois plus petit que celui des deux autres méthodes. On observe aussi, tel que prévu, que les résultats de Romberg et de *scipy* sont très similaires."
   ]
  },
  {
   "cell_type": "markdown",
   "metadata": {},
   "source": [
    "## Énergie déposée"
   ]
  },
  {
   "cell_type": "markdown",
   "metadata": {},
   "source": [
    "Comme le but de caractériser le passage des protons dans le milieu est important pour les applications en protonthérapie, on veut maintenant caractériser le dépôt d'énergie dans le milieu. On sait que, lorsque le proton passe d'une énergie $T_i$ à une énergie $T_f$, le pas de déplacement $s$ du proton est donné par\n",
    "$$s = \\int_{T_f}^{T_i}\\frac{\\text{d}T'}{S_{col}}$$\n",
    "Pour un pas infinitésimal $\\text{d}s$, on a donc\n",
    "$$\\text{d}s = \\frac{\\text{d}T'}{S_{col}(T)}$$\n",
    "$$\\text{d}T' = S_{col}(T)\\text{d}s$$\n",
    "On a donc une expression pour le dépôt infinitésimal d'énergie pour un pas infinitésimal à une énergie $T$ donnée. La fonction *energie_dep* représente cette expression en prenant en argument une valeur de pas $\\text{d}s$, une énergie cinétique initiale $T_i$ et le milieu de propagation. Elle retourne ensuite un *array numpy* à 1 dimensions de valeurs de profondeur allant de 0 à 20 cm avec une liste de valeurs d'énergie déposée. La fonction calcule de façon itérative l'énergie déposée pour chaque pas et soustrait la valeur calculée à l'énergie cinétique du proton avant la prochaine itération. Le processus itératif arrête lorsque la valeur d'énergie cinétique est égale ou inférieure à $T_f$. On considère donc l'énergie cinétique de tout proton ayant une énergie cinétique égale ou inférieur à $T_f$ comme nulle."
   ]
  },
  {
   "cell_type": "code",
   "execution_count": 87,
   "metadata": {},
   "outputs": [],
   "source": [
    "# Retourne l'énergie déposée en fonction de la profondeur [cm] et [MeV]\n",
    "# T_i : énergie cinétique initiale [MeV]\n",
    "# T_f : valeur minimale d'énergie [MeV]\n",
    "# ds : longueur du pas [cm], 15 doit être un multiple de ds\n",
    "# mil : milieu de propagation (\"eau\" ou \"os\")\n",
    "\n",
    "def energie_dep(T_i, T_f, ds, mil):\n",
    "    N = 15 / ds\n",
    "    x = np.linspace(0, 15, int(N))\n",
    "    T = T_i\n",
    "    dT = []\n",
    "    for i in x:\n",
    "        if T > 3:\n",
    "            dT.append(pouvoir_arret(T, mil) / 100)\n",
    "            T = T - pouvoir_arret(T, mil) * ds/100\n",
    "        else:\n",
    "            dT.append(0)\n",
    "    return x, dT"
   ]
  },
  {
   "cell_type": "markdown",
   "metadata": {},
   "source": [
    "On peut maintenant déterminer l'énergie déposée en foonction de la profondeur pour un proton ayant une énergie initiale de 150 MeV. Comme notre modèle théorique ne représente pas bien la réalité pour des protons ayant une énergie égale ou inférieure à 3 MeV, on utilise cette valeur comme borne inférieure. On utilise un pas de 0,01 mm. On trace l'énergie déposée obtenue en fonction de la profondeur."
   ]
  },
  {
   "cell_type": "code",
   "execution_count": 88,
   "metadata": {},
   "outputs": [
    {
     "data": {
      "image/png": "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",
      "text/plain": [
       "<Figure size 576x360 with 1 Axes>"
      ]
     },
     "metadata": {},
     "output_type": "display_data"
    }
   ],
   "source": [
    "# Eau liquide\n",
    "x_e, dT_e = energie_dep(150, 3, 0.001, \"eau\")\n",
    "\n",
    "# Os compact\n",
    "x_o, dT_o = energie_dep(150, 3, 0.001, \"os\")\n",
    "\n",
    "sns.set_style(\"ticks\")\n",
    "energie_dep_fig = plt.figure(figsize=(8,5))\n",
    "plt.plot(x_e, dT_e, label='Eau liquide')\n",
    "plt.plot(x_o, dT_o, label='Os compact')\n",
    "plt.xlabel('Profondeur [cm]', fontsize=14)\n",
    "plt.ylabel(\"Énergie déposée [MeV/cm]\", fontsize=14)\n",
    "plt.legend()\n",
    "plt.show()"
   ]
  },
  {
   "cell_type": "markdown",
   "metadata": {},
   "source": [
    "On observe que l'énergie déposée dans l'os compact tombe à 0 autour de 8 cm, tandis que celle dans l'eau liquide tombe à 0 autour de 14 cm. Cela est conforme avec les portées calculées plus haut, car celles-ci étaient de .\n",
    "\n",
    "On remarque également que l'énergie déposée augmente drastiquement lorsque l'énergie cinétique du proton est faible. Ce comportement se nomme le pic de Bragg du proton [7] et a des applications importantes en protonthérapie. Lorsque l'on envoie des protons dans un patient, on veut causer le plus de dommages possibles à la tumeur ciblée tout en causant le moins de dommages possibles au reste du corps. Grâce au comportement des protons, il est possible de leur donner une énergie cinétique particulière afin que le pic de Bragg se situe dans la zone ciblée. Ce faisant, on maximise le dépot d'énergie et donc les dommages causés dans la zone ciblée tout en minimisant le dépot d'énergie sur le reste du trajet du proton."
   ]
  },
  {
   "cell_type": "markdown",
   "metadata": {},
   "source": [
    "Toutefois, il n'est pas nécessaire de calculer la portée des protons jusqu'à la précision machine en protonthérapie, car ce calcul ne serait pas significatif de toute façon. Tout d'abord, notre modèle théorique ne représente pas bien ce que se passe lorsque la proton a une énergie inférieur à 3 MeV et ne tient pas compte de toutes les causes du pouvoir d'arrêt, donc il y a plusieurs incertitudes qui sont plus importantes que la précision machine. Même si utilisait un modèle théorique qui nous permet de calculer la portée du proton jusqu'à une énergie de 0 MeV avec la précision machine, ce calcul serait quand même beaucoup plus précis que nécessaire, car les faisceaux de protons utilisés en pratique vont varier de plus que la précision machine. En effet, la variation dans la portée d'un faisceau de protons d'une énergie cinétique de 50 MeV est d'environ 1 mm [8], ce qui est environ $10^{15}$ fois plus grand que la précision machine. Il n'y a donc pas de raisons pratiques de calculer la portée avec une telle précision."
   ]
  },
  {
   "cell_type": "markdown",
   "metadata": {},
   "source": [
    "À cause de sa grande précision dans son dépot d'énergie, la protonthérapie est souvent utilisée pour traiter les mélanomes oculaires. Cette méthode de traitement permet de causer des dommages à la tumeur en déposant moins d'énergie dans les structures sensibles de l'oeil [9]. La radiothérapie classique, qui consiste à envoyer des photons sur la tumeur, cause plus de dommages aux tissus non ciblés. En effet, en protonthérapie, les dommages aux tissus en santé seraient réduis de 60 % par rapport à l'envoi de photons [10]. Cet effet est causé entre autres par le pic de Bragg des protons, qui permet de concentrer le dépôt d'énergie. Cette caractéristique est très importante dans le cas d'un mélanome oculaire, car elle permet de mieux protéger les structures de l'oeil qui sont en santé."
   ]
  },
  {
   "cell_type": "markdown",
   "metadata": {},
   "source": [
    "Dans notre modèle, il est important de souligner que nous avons considéré que les protons voyagaient simplement en ligne droite dans la matière. Ce n'est évidemment pas totalement réaliste, car les interactions entre les protons est les électrons du milieu peuvent faire dévier le proton de sa trajectoire. Pour améliorer notre modèle, il faudrait modéliser la trajectoire des protons en 3D en prenant en compte les effets qui peuvent modifier la trajectoire de celui-ci. On pourrait alors avoir une meilleure idée de la proportion de protons qui seront déviés de leur trajectoire et de la distribution du dépôt d'énergie en 3D. Il serait important de modéliser ces aspects pour des traitements en protonthérapie, car elles permettraient d'évaluer les dommages possibles causés aux structures qui ne se situent pas directement sur la trajectoire du faisceau de protons."
   ]
  },
  {
   "cell_type": "markdown",
   "metadata": {},
   "source": [
    "## Médiagraphie\n",
    "\n",
    "[1] NIST. “Fundamental Physical Constants from NIST”. Consulté le 15 février 2022. https://physics.nist.gov/cuu/Constants/.\n",
    "\n",
    "[2] NIST. “Compositions of Materials Used in STAR Databases”. Consulté le 15 février 2022. https://physics.nist.gov/cgi-bin/Star/compos.pl?ap.\n",
    "\n",
    "[3] NIST. “Stopping-power and range tables for protons”. Consulté le 16 février 2022. https://physics.nist.gov/PhysRefData/Star/Text/PSTAR.html.\n",
    "\n",
    "[4] NIST. “Stopping-power and range tables for electrons”. Consulté le 16 février 2022. https://physics.nist.gov/PhysRefData/Star/Text/ESTAR.html.\n",
    "\n",
    "[5] NEWMANN, M. 2013. “Computational physics”. Section 5.4 : *Romberg Integration*.\n",
    "\n",
    "[6] NEWMANN, M. 2013. “Computational physics”. Section 5.2 : *Errors on Integrals*.\n",
    "\n",
    "[7] PROTON THERAPY TODAY, “Why is proton therapy a preferable option, and what is the Bragg peak?”. Consulté le 17 février 2022. http://www.proton-therapy-today.com/what-is-proton-therapy/why-is-proton-therapy-a-preferable-option-and-what-is-the-bragg-peak/.\n",
    "\n",
    "[8] KIM, J-W. 2009. “Why is proton therapy a preferable option, and what is the Bragg peak?”. *Journal of the Korean Physical Society* Consulté le 17 février 2022. https://www.jkps.or.kr/journal/view.html?volume=55&number=4&spage=1673&year=2009.\n",
    "\n",
    "[9] PAPAKOSTAS, T. D. LANE, A-M. MORRISON, M. 2017. “Long-term Outcomes After Proton Beam Irradiation in Patients With Large Choroidal Melanomas”. Consulté le 17 février 2022. https://jamanetwork.com/journals/jamaophthalmology/fullarticle/2657208.\n",
    "\n",
    "[10] MEDICAL NEWS TODAY. “Proton therapy as an option for treating cancer”. Consulté le 17 février 2022. https://www.medicalnewstoday.com/articles/268629."
   ]
  }
 ],
 "metadata": {
  "interpreter": {
   "hash": "5f106e3fe48bc89d6ec00d4b7b471cc3e52c569cd06a7f87d50c33db7823905d"
  },
  "kernelspec": {
   "display_name": "Python 3.7.4 64-bit ('base': conda)",
   "language": "python",
   "name": "python3"
  },
  "language_info": {
   "codemirror_mode": {
    "name": "ipython",
    "version": 3
   },
   "file_extension": ".py",
   "mimetype": "text/x-python",
   "name": "python",
   "nbconvert_exporter": "python",
   "pygments_lexer": "ipython3",
<<<<<<< HEAD
   "version": "3.8.3"
=======
   "version": "3.7.4"
>>>>>>> bbb070ed82127933564e174f3d4a75503eb0d6de
  },
  "orig_nbformat": 4
 },
 "nbformat": 4,
 "nbformat_minor": 2
}
