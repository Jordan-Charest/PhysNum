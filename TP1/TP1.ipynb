{
 "cells": [
  {
   "cell_type": "markdown",
   "metadata": {},
   "source": [
    "## Préface\n",
    "\n",
    "Dans ce travail pratique, les sources seront notées entre crochets ([X]) et détaillées dans la section *Médiagraphie* à la fin du document"
   ]
  },
  {
   "cell_type": "markdown",
   "metadata": {},
   "source": [
    "## Constantes et modules\n",
    "\n",
    "Définissons d'abord toutes les constantes qui seront utilisées par les fonction définies ci-après [1], et importons les modules nécessaires:"
   ]
  },
  {
   "cell_type": "code",
   "execution_count": 241,
   "metadata": {},
   "outputs": [],
   "source": [
    "import math\n",
    "import timeit\n",
    "import numpy as np\n",
    "import scipy as sp\n",
    "import matplotlib.pyplot as plt\n",
    "import seaborn as sns\n",
    "from scipy.stats import moyal\n",
    "\n",
    "\n",
    "c = 2.99792458 * 10**8                  # vitesse de la lumière [m/s]\n",
    "re = 2.8179409238 * 10**(-15)           # rayon classique de l'électron [m]\n",
    "me = 9.1093837015 * 10**(-31)           # masse au repos de l'électron [kg]\n",
    "mp = 1.6726219236951 * 10**(-27)        # masse au repos du proton [kg]"
   ]
  },
  {
   "cell_type": "markdown",
   "metadata": {},
   "source": [
    "### 1 - Densité électronique d'un milieu\n",
    "\n",
    "En premier lieu, on cherche à déterminer la densité électronique pour un milieu donné, en nombre d'électrons par centimètre cube. Pour ce faire, on a besoin de trois données pour chaque composant distinct du milieu: le numéro atomique ($Z_n$), la fraction massique ($F_n$) et la masse volumique ($M_n$). Toutes ces données sont tabulées sur diverses pages web, notamment celle du NIST [2].\n",
    "\n",
    "Pour obtenir la densité électronique à partir de ces trois données, on doit déterminer le nombre d'électrons de chaque composant distinct indépendamment. Cela se traduit mathématiquement par :\n",
    "\n",
    "$$N_e=\\sum_{i=1}^{n}\\frac{\\rho}{M_i}Z_i\\cdot F_n\\cdot N_A$$"
   ]
  },
  {
   "cell_type": "markdown",
   "metadata": {},
   "source": [
    "Où $N_e$ est la densité électronique en $\\text{électrons/cm}^3$, et $N_A=6.02214076\\times10^{23}$ atomes/mol est le nombre d'Avogadro. On code cette expression dans la fonction *densiteelec* qui prend en entrée la masse volumique en $\\text{g/cm}^3$ du milieu et une liste comprenant $Z$, $F$ et $M$ pour chaque composant du milieu et retourne la densité électronique en $\\text{électrons/cm}^3$."
   ]
  },
  {
   "cell_type": "code",
   "execution_count": 242,
   "metadata": {},
   "outputs": [],
   "source": [
    "# Format de données: données = [[Z1, P1, M1], [Z2, P2, M2], ...]\n",
    "# où Zn est le numéro atomique, Fn est la fraction massique et Mn est la masse volumique\n",
    "# Chaque liste individuelle dans la liste \"données\" représente un composant\n",
    "# distinct du milieu (par exemple, H et O pour l'eau).\n",
    "\n",
    "def densiteelec(rho, donnees):\n",
    "    nombreelec = []\n",
    "    for i in donnees:\n",
    "        nombreelec.append(i[1]*rho/i[2]*i[0]*6.02214076*10**(23))\n",
    "    return sum(nombreelec)"
   ]
  },
  {
   "cell_type": "markdown",
   "metadata": {},
   "source": [
    "Pouvant maintenant calculer les densités électroniques, il sera utile de les calculer et d'enregistrer ces valeurs dans un dictionnaire afin de pouvoir y accéder aisément plus tard. Définissons donc le dictionnaire *milieu*, qui contiendra trois valeurs : la densité électronique (que nous pouvons maintenant calculer), ainsi que la masse volumique et l'énergie d'excitation moyenne, toutes deux tirées directement du site du NIST [2]. Toutes les données utilisées pour faire les calculs de densité électronique ont aussi été tirées du site web du NIST:"
   ]
  },
  {
   "cell_type": "code",
   "execution_count": 243,
   "metadata": {},
   "outputs": [],
   "source": [
    "# milieu = {\"milieu1\": (densité électronique [e/cm^3], rho [g/cm^3], énergie moy d'activation [J])}\n",
    "\n",
    "rho_eau = 1\n",
    "donnees_eau = [[1, 0.111894, 1.0079], [8, 0.888106, 15.999]]\n",
    "I_eau = 75 / (6.242*10**18)\n",
    "\n",
    "rho_os = 1.85\n",
    "donnees_os = [\n",
    "    [1, 0.063984, 1.0079], \n",
    "    [6, 0.278000, 12.011], \n",
    "    [7, 0.027000, 14.007], \n",
    "    [8, 0.410016, 15.999], \n",
    "    [12, 0.002000, 24.305], \n",
    "    [15, 0.070000, 30.974], \n",
    "    [16, 0.002000, 32.06], \n",
    "    [20, 0.147000, 40.078]\n",
    "    ]\n",
    "I_os = 91.9 / (6.242*10**18)\n",
    "\n",
    "milieu = {}\n",
    "milieu[\"eau\"] = (densiteelec(rho_eau, donnees_eau), rho_eau, I_eau)\n",
    "milieu[\"os\"] = (densiteelec(rho_os, donnees_os), rho_os, I_os)"
   ]
  },
  {
   "cell_type": "markdown",
   "metadata": {},
   "source": [
    "Lorsqu'on aura des fonctions qui feront appel à l'une de ces deux variables, on pourra donc simplement passer en argument le milieu dans lequel on souhaite évaluer la fonction; cela nous évitera d'avoir à \"hard-code\" des valeurs ou encore à programmer plusieurs fonctions distinctes. Les valeurs de densité électronique pour l'eau et l'os compact sont donc :"
   ]
  },
  {
   "cell_type": "code",
   "execution_count": 244,
   "metadata": {},
   "outputs": [
    {
     "name": "stdout",
     "output_type": "stream",
     "text": [
      "densité électronique de l'eau : 3.342876611513782e+23 électrons / cm^3\n",
      "densité électronique de l'os compact : 5.9059477632844346e+23 électrons / cm^3\n"
     ]
    }
   ],
   "source": [
    "print(\"densité électronique de l'eau :\", milieu[\"eau\"][0], \"électrons / cm^3\")\n",
    "print(\"densité électronique de l'os compact :\", milieu[\"os\"][0], \"électrons / cm^3\")"
   ]
  },
  {
   "cell_type": "markdown",
   "metadata": {},
   "source": [
    "### 2 - Intéractions des protons avec le milieu"
   ]
  },
  {
   "cell_type": "markdown",
   "metadata": {},
   "source": [
    "On veut d'abord coder une fonction qui calcule le pouvoir d'arrêt d'un milieu en fonction de l'énergie cinétique du proton qui s'y trouve. On sait que le pouvoir d'arrêt est donné par la fonction mathématique suivante :\n",
    "$$S_{col}(T)=2\\pi r_e^2 m_e c^2 n_e\\beta^{-2}\\left[\\ln\\left(\\frac{2m_ec^2\\beta^2\\gamma^2 T_e^{max}}{I^2}\\right)-2\\beta^2\\right]$$\n",
    "avec les quantités suivantes :\n",
    "$$T^{max}_e = \\frac{2m_ec^2(\\gamma^2-1)}{1+\\big(\\frac{m_e}{m_p})^2 + 2\\frac{m_e}{m_p}\\gamma}$$\n",
    "$$\\gamma = \\frac{T}{m_pc^2} + 1$$\n",
    "$$\\beta = \\sqrt{1-\\gamma^{-2}}$$\n",
    "où $r_e$ est le rayon classique de l'électron, $n_e$ est la densité électronique du milieu, $Z$ est la charge de la particule, $I$ est l'énergie moyenne d'excitation du milieu et $T$ est l'énergie cinétique de la particule. On commence par coder une fonction qui retourne l'énergie maximale transférable $T_e^{max}$ :"
   ]
  },
  {
   "cell_type": "code",
   "execution_count": 245,
   "metadata": {},
   "outputs": [],
   "source": [
    "def e_transf_max(gamma):\n",
    "    te_max = 2 * me * c**2 * (gamma**2 - 1) / (1 + 2*gamma*me/mp + (me/mp)**2)\n",
    "    return te_max"
   ]
  },
  {
   "cell_type": "markdown",
   "metadata": {},
   "source": [
    "On définit ensuite la fonction *pouvoir_arret* qui retourne le pouvoir d'arrêt pour un proton en fonction du milieu et de l'énergie cinétique du proton en MeV. Tout d'abord, la fonction convertit l'énergie cinétique et la densité électronique en unités SI. Elle calcule ensuite les quantités $\\gamma$, $\\beta$ et $T_e^{max}$. Finalement elle calcule le pouvoir d'arrêt et retourne la valeur convertie en MeV."
   ]
  },
  {
   "cell_type": "code",
   "execution_count": 246,
   "metadata": {},
   "outputs": [],
   "source": [
    "# Pouvoir d'arrêt [MeV/m]\n",
    "# Arguments :\n",
    "# T : énergie cinétique du proton [MeV]\n",
    "# mil : clé pour appeler le bon milieu dans le dictionnaire \"milieu\" (\"eau\" ou \"os\")\n",
    "\n",
    "def pouvoir_arret(T, mil): \n",
    "\n",
    "    # T de MeV à J\n",
    "    T = T / 6241506479963.2\n",
    "\n",
    "    # densité électronique de g/cm-3 à kg/m-3\n",
    "    ne = milieu[mil][0]*10**6\n",
    "\n",
    "    # Calcul de gamma et beta\n",
    "    gamma = T / (mp * c**2) + 1\n",
    "    beta = np.sqrt(1 - gamma**(-2))\n",
    "\n",
    "    # Calcul de l'énergie de transfert maximal\n",
    "    te_max = e_transf_max(gamma)\n",
    "\n",
    "    const = 2 * np.pi * re**2 * me * c**2 * ne / beta**2\n",
    "    parenth = np.log(2 * me * c**2 * beta**2 * gamma**2 * te_max / milieu[mil][2]**2) - (2 * beta**2)\n",
    "\n",
    "    return (const * parenth) * 6241506479963.2"
   ]
  },
  {
   "cell_type": "markdown",
   "metadata": {},
   "source": [
    "Maintenant qu'on a une fonction qui permet de calculer le pouvoir d'arrêt, on peut tracer le pouvoir d'arrêt en fonction de l'énergie cinétique du proton pour l'eau liquide et pour l'os compact. On considère un intervalle de 3-250 MeV pour l'énergie cinétique du proton, car les faisceaux de protonthérapie ont typiquement une énergie cinétique initiale de 70-250 MeV et car notre modèle théorique ne s'applique pas pour des protons avec une énergie cinétique de moins de 3 MeV."
   ]
  },
  {
   "cell_type": "code",
   "execution_count": 247,
   "metadata": {},
   "outputs": [
    {
     "data": {
      "image/png": "[encoded data removed]",
      "text/plain": [
       "<Figure size 576x360 with 1 Axes>"
      ]
     },
     "metadata": {},
     "output_type": "display_data"
    }
   ],
   "source": [
    "# Énergie cinétique du proton\n",
    "T = np.linspace(3, 250, 1000)\n",
    "\n",
    "# Pouvoir d'arrêt de l'eau liquide en MeV/cm\n",
    "pouv_arr_eau = []\n",
    "for i in T:\n",
    "    pouv_arr_eau.append(pouvoir_arret(i, 'eau') / 100)\n",
    "\n",
    "# Pouvoir d'arrêt de l'os compact en MeV/cm\n",
    "pouv_arr_os = []\n",
    "for i in T:\n",
    "    pouv_arr_os.append(pouvoir_arret(i, 'os') / 100)\n",
    "\n",
    "sns.set_style(\"ticks\")\n",
    "pouv_arr_fig = plt.figure(figsize=(8,5))\n",
    "plt.plot(T, pouv_arr_eau, label='Eau liquide')\n",
    "plt.plot(T,pouv_arr_os, label='Os compact')\n",
    "plt.xlabel('Énergie cinétique du proton [MeV]', fontsize=14)\n",
    "plt.ylabel(\"Pouvoir d'arrêt [MeV/cm]\", fontsize=14)\n",
    "plt.xscale('log')\n",
    "plt.legend()\n",
    "plt.show()"
   ]
  },
  {
   "cell_type": "markdown",
   "metadata": {},
   "source": [
    "Figure 1. Énergie cinétique du proton en fonction du pouvoir d'arrêt"
   ]
  },
  {
   "cell_type": "markdown",
   "metadata": {},
   "source": [
    "Il est pertinent de souligner que le modèle ne considère que l'effet de l'interaction entre les électrons et les protons sur le pouvoir d'arrêt. Toutefois, cette approximation est légitime, car cet effet dépasse largement les autres effets qui influencent le pouvoir d'arrêt. Les deux autres phénomènes principaux sont l'effet Bremsstrahlung, qui cause des pertes radiatives, et l'interaction entre les protons et les noyaux atomiques. Selon les données du NIST [3] représentées à la figure 2, on observe que l'effet de l'interaction entre les protons et les noyaux atomiques dans l'os compact est faible comparée à l'interaction entre les protons et les électrons, spécialement pour la plage d'intérêt, c'est-à-dire pour une énergie cinétique de 3 à 250 MeV. Les données du NIST pour l'eau liquide [3], représentées à la figure 3, montrent un comportement similaire. Par exemple, pour une énergie cinétique de 100 MeV, selon le NIST, les pertes causées par l'interaction proton-électron dans l'eau liquide sont de 45,6 MeV tandis que les pertes causées par l'intéraction proton-noyaux atomiques est de 26,0 keV. Les pertes causées par les interactions avec les électrons sont donc environ 1754 fois plus grandes que celles causées par les interactions avec les noyaux atomiques dans cette situation."
   ]
  },
  {
   "cell_type": "markdown",
   "metadata": {},
   "source": [
    "<center><img src=\"PouvoirArretTotalOS.png\" style=\"width: 600px;\"/></center>\n",
    "<center>Figure 2. Pouvoir d'arrêt dans l'os compact [3]"
   ]
  },
  {
   "cell_type": "markdown",
   "metadata": {},
   "source": [
    "<center><img src=\"PouvoirArretTotalEau.png\" style=\"width: 600px;\"/></center>\n",
    "<center>Figure 3. Pouvoir d'arrêt dans l'eau liquide [3]"
   ]
  },
  {
   "cell_type": "markdown",
   "metadata": {},
   "source": [
    "Pour l'effet Bremsstrahlung, on peut déterminer l'ordre de grandeur des pertes radiatives des protons à partir des données sur les pertes radiatives des faisceaux d'électrons dans les différents milieux. Selon les données du NIST [4], les pertes radiatives maximales pour un faisceau d'électron dans l'eau liquide pour des énergies de 3 à 250 MeV sont de l'ordre de 1 MeV. Pour un faisceau de protons, la force électromagnétique issue de l'intéraction entre les protons et les électrons sera du même ordre de grandeur que pour un faisceau d'électrons, mais, comme la masse du proton est environ 1836 fois [1] plus grande que celle de l'électron, l'accélération des protons sera alors environ 1836 fois plus petit par la deuxième loi de Newton. Comme l'accélération cause les pertes radiatives, celles-ci seront également 1836 fois plus petites que pour un faisceau d'électrons. Les pertes seront alors de l'ordre du keV et seront négligeables comparées aux pertes dues aux interactions proton-électron, qui sont de l'ordre du MeV. On peut effectuer le même raisonnement pour l'os compact à partir des données du NIST et en arriver à la même conclusion."
   ]
  },
  {
   "cell_type": "markdown",
   "metadata": {},
   "source": [
    "## Portée des protons dans la matière\n",
    "\n",
    "On cherche maintenant à déterminer la portée des protons dans l'eau liquide et l'os compact. On sait que la portée est donnée par l'intégrale suivante :\n",
    "$$R_{CSDA}=\\rho\\int_0^{T_i}\\frac{1}{S_{col}}$$\n",
    "\n",
    "\n",
    "### 3 - Pourquoi intègre-t-on l'inverse du pouvoir d'arrêt pour déterminer la portée?\n",
    "Comme le pouvoir d'arrêt du milieu représente la quantité d'énergie que le proton perd lorsqu'il se propage dans le milieu, on voit logiquement que le proton pourra se propager plus loin si le pouvoir d'arrêt du milieu est faible. Il se propagera moins loin si le pouvoir d'arrêt est grand. Il est donc cohérent d'intégrer sur l'inverse du pouvoir d'arrêt afin de déterminer la portée du proton."
   ]
  },
  {
   "cell_type": "markdown",
   "metadata": {},
   "source": [
    "### 4 - Doit-on employer une méthode numérique pour déterminer la portée?\n",
    "On veut maintenant déterminer si on doit utiliser une méthode numérique pour calculer l'intégrale. Tout d'abord, on peut réécrire l'équation du pouvoir d'arrêt en fonction de $\\gamma$ à l'aide des relations suivantes:\n",
    "$$U = 2\\pi r_e^2m_ec^2n_e$$\n",
    "$$T = (\\gamma-1)m_pc^2$$\n",
    "$$T_e^{max} = \\frac{a(\\gamma^2-1)}{b + \\delta\\gamma}$$\n",
    "$$\\beta^2\\gamma^2 = (\\gamma^2-1)$$\n",
    "où $a$, $b$ et $\\delta$ sont des constantes qui dépendent des masses de l'électron et du proton. On En remplaçant dans dans l'équation du pouvoir d'arrêt, on a\n",
    "$$S_{col} = U\\frac{\\gamma^2}{(\\gamma^2-1)}\\Bigg[\\ln\\bigg(\\frac{2m_ec^2a(\\gamma^2-1)^2}{I^2(b + \\delta)}\\bigg)\\Bigg] - 2U$$\n",
    "En posant les changements de variable d'intégration $T = T_i - T$ et $T = (\\gamma-1)m_pc^2$, on obtient une intégrale de la forme suivante pour la portée:\n",
    "$$R_{CSDA} = \\rho m_pc^2\\int \\frac{\\text{d}\\gamma}{U\\frac{\\gamma^2}{(\\gamma^2-1)}\\Bigg[\\ln\\bigg(\\frac{2m_ec^2a(\\gamma^2-1)^2}{I^2(b + \\delta)}\\bigg)\\Bigg] - 2U}$$\n",
    "Une intégrale de cette forme ne possède pas de solution analytique connue, donc on doit la résoudre numériquement. On peut vérifier qu'elle n'a pas de solution analytique avec un logiciel de calcul tel que WolframAlpha. Alors oui, il est nécessaire d'employer une méthode numérique afin de cacluler cette intégrale et de déterminer la portée.\n",
    "\n",
    "### 5.1 - Implémentation de méthodes d'intégration\n",
    "\n",
    " Pour calculer l'intégrale numériquement, on veut utiliser deux méthodes d'intégration numérique : la méthode des trapèzes et la méthode de Romberg. Implémentons d'abord la méthode des trapèzes, étant donné que celle-ci sera nécessaire au fonctionnement de la méthode de Romberg :"
   ]
  },
  {
   "cell_type": "code",
   "execution_count": 248,
   "metadata": {},
   "outputs": [],
   "source": [
    "# Intègre une fonction selon la méthode des trapèzes\n",
    "# Arguments:\n",
    "# f : fonction à intégrer\n",
    "# N : nombre de tranches\n",
    "# a, b : bornes d'intégration\n",
    "# *args : arguments supplémentaires de f\n",
    "\n",
    "def trapeze(f, N, a, b, *args):\n",
    "    h = (b-a)/N\n",
    "\n",
    "    s = 0.5*f(a, *args)+0.5*f(b, *args)\n",
    "    for i in range(1,N):\n",
    "        s += f(a+i*h, *args)\n",
    "    \n",
    "    return h*s"
   ]
  },
  {
   "cell_type": "markdown",
   "metadata": {},
   "source": [
    "Cette fonction prend en argument la fonction à intégrer f, le nombre de tranches N, les deux bornes d'intégration a et b, ainsi que des arguments optionnels propre à la fonction à intégrer. Elle retourne la valeur de l'intégrale calculée par la méthode des trapèzes. On peut maintenant implémenter la méthode de Romberg. En partant de $N=2$ tranches, la fonction calcule l'intégrale par la méthode des trapèzes de façon itérative pour le double de tranches à chaque itération jusqu'à obtenir le nombre de tranches maximal souhaité. Pour la $i$-ième valeur donnée par la méthode des trapèzes, elle calcule $i$ valeurs $R_{i,m}$ plus précises de l'intégrales de manière itérative par l'équation suivante [5]:\n",
    "$$R_{i, m+1} = R_{i,m} + \\frac{1}{4^m-1}(R_{i,m}-R_{i-1,m})$$\n",
    "La fonction retourne ensuite la dernière valeur calculée, qui correspond à la valeur la plus précise. La fonction retourne également l'erreur sur l'avant-dernière itération telle que donnée par l'équation suivante [5] :\n",
    "$$\\epsilon = \\frac{1}{4^m-1}(R_{i,m}-R_{i-1,m})$$\n",
    "Comme la dernière itération sera plus précise que l'avant-dernière, on peut utiliser cette valeur d'erreur surestimée pour la dernière itération. L'erreur sur la dernière itération ne peut pas être calculée directement, car la valeur $R_{i-1, m}$ n'existe pas pour $m=i$."
   ]
  },
  {
   "cell_type": "code",
   "execution_count": 249,
   "metadata": {},
   "outputs": [],
   "source": [
    "# Intègre une fonction selon la méthode de Romberg\n",
    "# Retourne la valeur de l'intégrale et l'erreur\n",
    "# Arguments:\n",
    "# f : fonction à intégrer\n",
    "# i_max : nombre d'itérations (2^i tranches au maximum)\n",
    "# a, b : bornes d'intégration\n",
    "# *args : arguments supplémentaires de f\n",
    "\n",
    "def romberg(f, i_max, a, b, *args):\n",
    "    Rn = []\n",
    "    N = 1\n",
    "    for i in range(i_max):\n",
    "        Rn.append([trapeze(f, N, a, b, *args)])\n",
    "        N = 2 * N\n",
    "        for m in range(i):\n",
    "            Rn[i].append(Rn[i][m] + (Rn[i][m] - Rn[i-1][m]) / (4**(m+1) - 1))\n",
    "    err = (Rn[-1][-2] - Rn[-2][-1]) / (4**(i_max-1) - 1)\n",
    "    return Rn[-1][-1], err"
   ]
  },
  {
   "cell_type": "markdown",
   "metadata": {},
   "source": [
    "### 5.2 - Évaluation de la portée des proton dans la matière\n",
    "\n",
    "On veut maintenant, à l'aide de ces deux algorithmes, évaluer la portée des protons dans l'eau et dans l'os compact. La portée est donnée par :\n",
    "\n",
    "$$R_{CSDA}=\\rho\\int_0^{T_i}\\frac{1}{S_{col}}$$\n",
    "\n",
    "Où $\\rho$ est la masse volumique du milieu en $\\text{kg/m}^3$, $T_i$ est l'énergie d'entrée du proton en J, et $S_{col}$ est le pouvoir d'arrêt en J par mètre (alors la portée est en kg/m^2; on doit donc se rappeler de faire les conversions appropriées dans les fonctions). On définit donc tout d'abord une fonction qui retourne l'inverse du pouvoir d'arrêt. On définit ensuite une fonction *portee* qui peut calculer la portée d'un proton par la méthode des trapèzes ou par la méthode de Romberg. Cette fonction prend en argument un paramètre $i$ qui fixe à $2^i$ le nombre de tranches pour la méthode des trapèzes et le nombre de tranches maximal pour la méthode de Romberg, le nom du milieu, les bornes d'intégration et la méthode (trapèzes ou Romberg)."
   ]
  },
  {
   "cell_type": "code",
   "execution_count": 250,
   "metadata": {},
   "outputs": [],
   "source": [
    "# Retourne l'inverse du pouvoir d'arrêt\n",
    "# Arguments :\n",
    "# T : énergie cinétique du proton\n",
    "# mil : nom du milieu de propagation (\"eau\" ou \"os\")\n",
    "\n",
    "def inv_pouvoir_arret(T, mil):\n",
    "    return pouvoir_arret(T, mil)**(-1)\n",
    "\n",
    "# Calcule la portée\n",
    "# Arguments :\n",
    "# i : 2^i est le nombre (maximal) de tranches\n",
    "# a, b : énergie cinétique finale et initiale du proton [MeV]\n",
    "# mil : nom du milieu de propagation (\"eau\" ou \"os\")\n",
    "# méthode : méthode d'intégration (\"trapeze\" ou \"romberg\")\n",
    "\n",
    "def portee(i, a, b, mil, methode):\n",
    "    N = 2 ** i\n",
    "    if methode == \"trapeze\":\n",
    "        return milieu[mil][1] * 1000 * trapeze(inv_pouvoir_arret, N, a, b, mil)\n",
    "    elif methode == \"romberg\":\n",
    "        return milieu[mil][1] * 1000 * romberg(inv_pouvoir_arret, i, a, b, mil)[0]"
   ]
  },
  {
   "cell_type": "markdown",
   "metadata": {},
   "source": [
    "Il est à noter que puisque les éléments de chaque liste du dictionnaire *milieu* (défini au début du document) sont en $\\text{électrons/cm}^3$ et en $\\text{g/cm}^3$ respectivement; il est donc important de se rappeler de les convertir de façon appropriée dans les fonctions."
   ]
  },
  {
   "cell_type": "markdown",
   "metadata": {},
   "source": [
    "On peut donc spécifier tous les paramètres pour obtenir la portée. Si par exemple on veut la portée dans l'os compact avec la méthode des trapèzes, avec $N=2^8=256$ tranches avec une énergie variant de 150 MeV à 3 MeV, on écrira :"
   ]
  },
  {
   "cell_type": "code",
   "execution_count": 251,
   "metadata": {},
   "outputs": [
    {
     "name": "stdout",
     "output_type": "stream",
     "text": [
      "portée dans l'os compact avec la méthode des trapèzes = 169.44513437407602\n",
      "portée dans l'os compact avec la méthode de Romberg = 169.44552495579194\n",
      "portée dans l'eau avec la méthode des trapèzes = 157.52313194071118\n",
      "portée dans l'eau avec la méthode de Romberg = 157.52349026303548\n"
     ]
    }
   ],
   "source": [
    "# Note: toutes les portées sont en kg/m^2\n",
    "\n",
    "print(\"portée dans l'os compact avec la méthode des trapèzes =\", portee(8, 3, 150, \"os\", \"trapeze\"))\n",
    "print(\"portée dans l'os compact avec la méthode de Romberg =\", portee(8, 3, 150, \"os\", \"romberg\"))\n",
    "\n",
    "print(\"portée dans l'eau avec la méthode des trapèzes =\", portee(8, 3, 150, \"eau\", \"trapeze\"))\n",
    "print(\"portée dans l'eau avec la méthode de Romberg =\", portee(8, 3, 150, \"eau\", \"romberg\"))"
   ]
  },
  {
   "cell_type": "markdown",
   "metadata": {},
   "source": [
    "### 5.3 - Estimation du nombre de tranches nécessaires pour atteindre la précision machine"
   ]
  },
  {
   "cell_type": "markdown",
   "metadata": {},
   "source": [
    "Maintenant, on veut estimer le nombre de tranches nécessaires pour atteindre la précision machine pour chacune de ces méthodes. On prendra, comme suggéré dans les notes de cours, une valeur conservatrice de $10^{-16}$ pour l'erreur d'arrondi et on estimera le nombre de tranches nécessaires pour que l'erreur d'approximation se retrouve en déça de cette valeur.\n",
    "\n",
    "Tout d'abord, on s'attarde à la méthode des trapèzes. On peut tirer des notes de cours [6] une expression estimant l'erreur d'approximation commise par une intégration numérique, soit :\n",
    "\n",
    "$$\\epsilon_{2N}=\\frac{1}{3}(I_{2N}-I_N)$$\n",
    "\n",
    "On cherche donc la valeur 2N pour que l'expression suivante soit vraie:\n",
    "\n",
    "$$\\frac{1}{3}(I_{2N}-I_N) < 10^{-16}$$\n",
    "\n",
    "On peut programmer une fonction qui détermine ce nombre 2N de tranches par itération. On débutera donc en évaluant la fonction à 1 et 2 tranches, puis nous augmenterons le nombre de tranches d'un facteur *pas* à chaque évaluation de la fonction.\n",
    "\n",
    "Afin de discuter du temps d'éxécution des fonctions, nous calculerons aussi le temps d'éxécution à l'aide de la fonction *default_timer* du module *timeit*."
   ]
  },
  {
   "cell_type": "code",
   "execution_count": 252,
   "metadata": {},
   "outputs": [],
   "source": [
    "# Estimation le nombre de tranches requises pour atteindre la\n",
    "# précision machine avec la méthode des trapèzes\n",
    "# Arguments:\n",
    "# Ni: nombre initial de tranches à la première itération\n",
    "# a, b: énergie cinétique finale et initiale du proton\n",
    "# mil: milieu (\"eau\" ou \"os\")\n",
    "# pas: facteur multiplicatif du nombre de tranches à chaque itération\n",
    "\n",
    "def estim_trapeze(Ni, a, b, mil, pas):\n",
    "    t1 = timeit.default_timer()\n",
    "    N = Ni\n",
    "    I1 = 0\n",
    "    I2 = trapeze(inv_pouvoir_arret, N, a, b, mil) * 1000 * milieu[mil][1]\n",
    "    while (I2 - I1)/3 > 1 * 10**-16:\n",
    "        N = math.ceil(N*pas)\n",
    "        I1 = I2\n",
    "        I2 = trapeze(inv_pouvoir_arret, N, a, b, mil) * 1000 * milieu[mil][1]\n",
    "    t2 = timeit.default_timer()\n",
    "    return N, t2-t1"
   ]
  },
  {
   "cell_type": "markdown",
   "metadata": {},
   "source": [
    "Si on veut estimer le nombre de tranches requises pour l'eau, on aura donc:"
   ]
  },
  {
   "cell_type": "code",
   "execution_count": 253,
   "metadata": {},
   "outputs": [],
   "source": [
    "# ATTENTION : Le code cette cellule a été commenté, car il prend trop de temps à s'exécuter!\n",
    "\n",
    "#nb = estim_trapeze(1, 0, 150, \"eau\", 1.15, 1*10**(-16))\n",
    "#print(\"Estimé du nombre de tranches requises:\",nb)"
   ]
  },
  {
   "cell_type": "markdown",
   "metadata": {},
   "source": [
    "On remarque rapidement que la fonction ne semble pas trouver le nombre de tranches requises dans un intervalle de temps raisonnable. Même si on laisse le code fonctionner pendant plus d'une heure, on n'a toujours pas de sortie. Évaluons l'erreur à dix millions de tranches:"
   ]
  },
  {
   "cell_type": "code",
   "execution_count": 254,
   "metadata": {},
   "outputs": [
    {
     "name": "stdout",
     "output_type": "stream",
     "text": [
      "l'erreur à dix millions de tranches est de 9.748646334628575e-12\n"
     ]
    }
   ],
   "source": [
    "N1 = 5000000\n",
    "N2 = 10000000\n",
    "I1 = trapeze(inv_pouvoir_arret, N1, 3, 150, \"eau\") * 1000 * milieu[\"eau\"][1]\n",
    "I2 = trapeze(inv_pouvoir_arret, N2, 3, 150, \"eau\") * 1000 * milieu[\"eau\"][1]\n",
    "err = np.abs(I2 - I1)/3\n",
    "print(\"l'erreur à dix millions de tranches est de\",err)"
   ]
  },
  {
   "cell_type": "markdown",
   "metadata": {},
   "source": [
    "(La fonction prend quelques minutes à éxécuter, et retourne une erreur d'environ $9,75\\times 10^{-12}$)\n",
    "\n",
    "Ce qui n'est pas du tout près de l'ordre de grandeur requis pour atteindre la précision machine: nous avons une erreur plus de trois ordres de grandeur plus grande que ce qu'on souhaiterait avoir, et il faut déjà quelques minutes pour effectuer le calcul. On peut donc conclure tentativement qu'il n'est pas raisonnable de pousser le calcul avec la méthode des trapèzes jusqu'à obtenir la précision machine: le temps de calcul serait extrêmement élevé à moins de posséder une machine extrêmement performante (ce qui n'est pas notre cas, mais pourrait l'être avec l'aide d'une grappe de calcul par exemple). Cependant, au #6, il est demandé d'effectuer un graphique comportant l'estimation de l'erreur en fonction du nombre de tranches. On se réfèrera donc à ce graphique une fois qu'il sera fait, et nous reviendrons sur notre conclusion quant au nombre de tranches requises pour la méthode des trapèzes."
   ]
  },
  {
   "cell_type": "markdown",
   "metadata": {},
   "source": [
    "On implémente maintenant la fonction évaluant le nombre de tranches nécessaires pour obtenir la précision machine avec la méthode de Romberg. La précision est la même que précédemment, alors on conserve le critère que l'erreur estimée doit être inférieure à $10^{-16}$. Or, comme la fonction de la méthode de Romberg renvoie déjà une estimation de l'erreur, on peut simplement réécrire la méthode de Romberg de façon à ce qu'elle boucle tant que la précision n'est pas atteinte :"
   ]
  },
  {
   "cell_type": "code",
   "execution_count": 255,
   "metadata": {},
   "outputs": [
    {
     "name": "stdout",
     "output_type": "stream",
     "text": [
      "Estimé du nombre de tranches requises: 2048\n",
      "Calculé en  0.03348099999129772  secondes\n"
     ]
    }
   ],
   "source": [
    "# Estimation le nombre de tranches requises pour atteindre la\n",
    "# précision machine avec la méthode de Romberg\n",
    "# Arguments:\n",
    "# imax_i: dimensions initiales de la matrice de Romberg\n",
    "# a, b: énergie cinétique finale et initiale du proton\n",
    "# mil: milieu (\"eau\" ou \"os\")\n",
    "\n",
    "def estim_romberg(imax_i, a, b, mil):\n",
    "    t1 = timeit.default_timer()\n",
    "    i_max = imax_i\n",
    "    err = romberg(inv_pouvoir_arret, i_max, a, b, mil)[1] * 1000 * milieu[mil][1]\n",
    "    while err > 1*10**(-16):\n",
    "        i_max += 1\n",
    "        err = romberg(inv_pouvoir_arret, i_max, a, b, mil)[1] * 1000 * milieu[mil][1]\n",
    "    t2 = timeit.default_timer()\n",
    "    return i_max, t2-t1\n",
    "\n",
    "\n",
    "i_eau = estim_romberg(2, 3, 150, \"eau\")\n",
    "print(\"Estimé du nombre de tranches requises:\",(2**i_eau[0]))\n",
    "print(\"Calculé en \", i_eau[1], \" secondes\")"
   ]
  },
  {
   "cell_type": "markdown",
   "metadata": {},
   "source": [
    "On constate qu'on atteint la précision machine beaucoup plus rapidement avec la méthode de Romberg: il faut seulement *i_max*=11, soit $N=2^{i_{max}}=2048$ tranches afin d'atteindre la précision machine. De plus, il faut moins d'une seconde avant d'atteindre cet estimé plutôt que plusieurs heures avec la méthode des trapèzes. Le temps de calcul avec la méthode de Romberg semble donc être beaucoup plus court qu'avec la méthode des trapèzes; nous validerons cette conclusion à la lumière des résultats obtenus au #6."
   ]
  },
  {
   "cell_type": "markdown",
   "metadata": {},
   "source": [
    "### 6.1 - Portée et erreur en fonction du nombre de tranches\n",
    "\n",
    "On peut grapher la portée et l'erreur estimée en fonction du nombre de tranches pour les deux méthodes. On programme donc une fonction *donnees* qui itère sur la méthode souhaitée et qui retourne une liste des portées et des erreurs estimées à chaque itération. On double le nombre de tranches à chaque itération (ce qui correspond à doubler *N* pour la méthode des trapèzes et à augmenter *i* de 1 pour la méthode de Romberg)."
   ]
  },
  {
   "cell_type": "code",
   "execution_count": 256,
   "metadata": {},
   "outputs": [],
   "source": [
    "# Retourner sous forme de liste la portée et l'erreur estimée à chaque itération de la fonction\n",
    "# Arguments:\n",
    "# a, b: énergie cinétique finale et initiale du proton\n",
    "# mil: milieu (\"eau\" ou \"os\")\n",
    "# methode: méthode d'intégration (\"trapeze\" ou \"romberg\")\n",
    "# max: nombre maximal d'itérations de la fonction\n",
    "\n",
    "def donnees(a, b, mil, methode, max):\n",
    "    max = int(max)\n",
    "    N = 1\n",
    "    liste_portee = []\n",
    "    liste_err = []\n",
    "    if methode == \"trapeze\":\n",
    "        port1 = 0\n",
    "        for n in range(max+1):\n",
    "            port2 = milieu[mil][1] * 1000 * trapeze(inv_pouvoir_arret, N, a, b, mil)\n",
    "            err = (port2 - port1)/3\n",
    "            liste_portee.append(port2)\n",
    "            liste_err.append(abs(err))\n",
    "            N = N*2\n",
    "            port1 = port2\n",
    "    elif methode == \"romberg\":\n",
    "        for n in range(max):\n",
    "            N += 1\n",
    "            liste_portee.append(1000*milieu[mil][1]*romberg(inv_pouvoir_arret, N, a, b, mil)[0])\n",
    "            liste_err.append(abs(1000*milieu[mil][1]*romberg(inv_pouvoir_arret, N, a, b, mil)[1]))\n",
    "    return liste_portee, liste_err"
   ]
  },
  {
   "cell_type": "markdown",
   "metadata": {},
   "source": [
    "À titre d'exemple, prenons l'os compact. On doit choisir une valeur de *max* qui correspond au nombre fois qu'on doublera les tranches avant que la fonction s'arrête, tel que le nombre de tranches maximal est $N=2^{max}$ (en se souvenant que le temps d'éxécution augmente exponentiellement à chaque fois qu'on augmente *max*).\n",
    "\n",
    "On éxécute la fonction *donnees* une fois pour chaque méthode, en insérant au premier élément des listes de la méthode de Romberg les valeurs obtenues avec la méthode des trapèzes (la méthode de Romberg se réduit à la méthode des trapèzes lorsque étant donné que la matrice de Romberg devient une matrice 1x1, soit simplement un scalaire). On produit aussi *liste_tranches*, une liste contenant le nombre de tranches calculées à chaque itération de la fonction, qui constituera l'axe horizontal du graphique. Étant donné que le calcul est relativement long, on éxécute au préalable la fonction pour , c'est-à-dire tranches, et on sauvegarde les variables ainsi obtenues."
   ]
  },
  {
   "cell_type": "code",
   "execution_count": 257,
   "metadata": {},
   "outputs": [],
   "source": [
    "max = 17\n",
    "\n",
    "portee_trapeze, err_trapeze = donnees(3, 150, \"os\", \"trapeze\", max)\n",
    "portee_romberg, err_romberg = donnees(3, 150, \"os\", \"romberg\", max)\n",
    "portee_romberg.insert(0, portee_trapeze[0])\n",
    "err_romberg.insert(0, err_trapeze[0])\n",
    "liste_tranches = [2**n for n in range(max+1)]\n",
    "\n",
    "file = open(\"donnees_portee_err.txt\", \"w\")\n",
    "file.write(f\"Donnees pour max = {2**max} tranches:\\n\"\n",
    "            +\"portee_trapeze =\"+str(portee_trapeze)+\"\\n\"\n",
    "            +\"err_trapeze =\"+str(err_trapeze)+\"\\n\"\n",
    "            +\"portee_romberg =\"+str(portee_romberg)+\"\\n\"\n",
    "            +\"err_romberg =\"+str(err_romberg)+\"\\n\"\n",
    "            +\"liste_tranches =\"+str(liste_tranches)+\"\\n\")\n",
    "file.close()"
   ]
  },
  {
   "cell_type": "markdown",
   "metadata": {},
   "source": [
    "À l'aide des données obtenues, on peut grapher les erreurs et la portée pour chaque fonction. Étant donné que la portée converge rapidement et que l'erreur diminue aussi très rapidement, le graphique sera en échelle logarithmique, qui permet mieux d'examiner le comportement des courbes. Puisque le code prend presque deux heures afin de générer les données pour *max*=26, les données générées au préalable ont été entrées dans la cellule suivante et permettent de générer rapidement le graphique pour l'os compact avec *max*=26. Si on souhaite tester le code, on peut simplement utiliser une valeur inférieure de *max* (les valeurs jusqu'à environ 17 s'effectuent dans un temps très raisonnable)."
   ]
  },
  {
   "cell_type": "code",
   "execution_count": 258,
   "metadata": {},
   "outputs": [],
   "source": [
    "portee_trapeze = [151.68291633348147, 164.40152833008693, 168.05351274359418, 169.07259953746137, 169.34837238060297, 169.4207528140326, 169.439286221596, 169.44396211497275, \n",
    "                169.44513437407602, 169.4454276607123, 169.44550099655692, 169.44551933140974, 169.44552391517917, 169.4455250611247, 169.44552534761215, 169.4455254192338, \n",
    "                169.4455254371387, 169.44552544161442, 169.44552544273665, 169.44552544301348, 169.44552544308942, 169.4455254431025, 169.44552544310076, 169.4455254431083, \n",
    "                169.44552544308107, 169.4455254430709, 169.44552544310255]\n",
    "\n",
    "err_trapeze = [50.56097211116049, 4.23953733220182, 1.2173281378357501, 0.3396955979557295, 0.09192428104719852, 0.024126811143209654, 0.006177802521136755, 0.001558631125580708, \n",
    "                0.00039075303442359655, 9.776221209752596e-05, 2.4445281534705526e-05, 6.111617608439701e-06, 1.5279231414903431e-06, 3.8198184408126207e-07, 9.54958162916834e-08, \n",
    "                2.3873885387123057e-08, 5.968303184999968e-09, 1.4919028975176236e-09, 3.7407706561983406e-10, 9.227581661737834e-11, 2.53142691993465e-11, 4.3579954459952814e-12, \n",
    "                5.779080917515481e-13, 2.5105843330190205e-12, 9.075999211442346e-12, 3.3916573253615448e-12, 1.0553928101823354e-11]\n",
    "\n",
    "portee_romberg = [151.68291633348147, 168.64106566228872, 169.31282589603933, 169.423453982873, 169.442562485528, 169.44524650688942, 169.44550943045792, 169.44552495579194, \n",
    "                169.44552543618542, 169.4455254430654, 169.44552544310704, 169.4455254431067, 169.4455254431073, 169.44552544310682, 169.4455254431081, 169.44552544310767, \n",
    "                169.445525443107, 169.44552544310628, 169.4455254431111, 169.4455254431053, 169.4455254431155, 169.44552544310616, 169.44552544309963, 169.44552544311176, \n",
    "                169.4455254430685, 169.44552544306717, 169.44552544311716]\n",
    "\n",
    "err_romberg = [50.56097211116049, 4.2395373322018175, 0.04198501460941223, 0.00172856385677622, 7.464258849595135e-05, 2.6211146107789493e-06, 6.419032434439966e-08, \n",
    "                9.475911884851099e-10, 7.330222405177486e-12, 2.62450851154839e-14, 3.9713971699600736e-17, 8.569593189199599e-20, 3.6726821386443573e-20, 7.268849741124032e-21, \n",
    "                4.782137934137043e-21, 4.0648172326595186e-22, 1.6139715471345216e-22, 4.0349288671317126e-23, 7.023765064700428e-23, 2.1108655646342714e-23, 9.293412552236148e-24, \n",
    "                2.1307133050024374e-24, 3.7068573936337452e-25, 1.7220833560974933e-25, 1.536010790078468e-25, 1.2085595587018793e-27, 1.1105066133732356e-26]\n",
    "\n",
    "liste_tranches = [1, 2, 4, 8, 16, 32, 64, 128, 256, 512, 1024, 2048, 4096, 8192, 16384, 32768, 65536, 131072, 262144, 524288, 1048576, 2097152, 4194304, 8388608, 16777216, 33554432, 67108864]"
   ]
  },
  {
   "cell_type": "markdown",
   "metadata": {},
   "source": [
    "Avec ces données, on peut générer le graphique:"
   ]
  },
  {
   "cell_type": "code",
   "execution_count": 259,
   "metadata": {},
   "outputs": [
    {
     "data": {
      "image/png": "[encoded data removed]",
      "text/plain": [
       "<Figure size 576x360 with 2 Axes>"
      ]
     },
     "metadata": {},
     "output_type": "display_data"
    },
    {
     "data": {
      "text/plain": [
       "<Figure size 432x288 with 0 Axes>"
      ]
     },
     "metadata": {},
     "output_type": "display_data"
    }
   ],
   "source": [
    "sns.set_style(\"ticks\")\n",
    "portee_fig, ax = plt.subplots(figsize=(8,5))\n",
    "\n",
    "# On graphe les erreurs\n",
    "ax.plot(liste_tranches, err_trapeze, label='Erreur trapèze', linestyle='dashed', color='red')\n",
    "ax.plot(liste_tranches, err_romberg, label='Erreur Romberg', linestyle='dashed', color='blue')\n",
    "ax.set_xlabel('Nombre de tranches', fontsize=14)\n",
    "ax.set_ylabel(\"Erreur\", fontsize=14)\n",
    "\n",
    "# Pour une meilleure lisibilité, le graphique doit être en log-log\n",
    "ax.set_xscale('log')\n",
    "ax.set_yscale('log')\n",
    "\n",
    "# On crée un autre axe pour grapher la portée\n",
    "ax2 = ax.twinx()\n",
    "ax2.plot(liste_tranches, portee_trapeze, label='Portée trapèze', color='red')\n",
    "ax2.plot(liste_tranches, portee_romberg, label='Portée Romberg', color='blue')\n",
    "ax2.set_ylabel(\"Portée [kg/m^2]\", fontsize=14)\n",
    "\n",
    "# On positionne la légende\n",
    "ax.legend(loc='lower right')\n",
    "ax2.legend(loc='lower left')\n",
    "plt.show()\n",
    "\n",
    "plt.savefig('portee_err.png')"
   ]
  },
  {
   "cell_type": "markdown",
   "metadata": {},
   "source": [
    "Figure 4. Portée et erreur calculées en fonction du nombre de tranches"
   ]
  },
  {
   "cell_type": "markdown",
   "metadata": {},
   "source": [
    "### 6.2 - Temps d'éxécution et retour sur la question 5\n",
    "\n",
    "Maintenant qu'on connaît le nombre de tranches nécessaires pour atteindre la précision machine pour la méthode de Romberg, on peut déterminer le temps nécessaire au calcul à l'aide de la fonction *default_timer* du module *timeit*. Après cette analyse, on tentera aussi de conclure sur le temps d'éxécution et l'erreur de la méthode des trapèzes."
   ]
  },
  {
   "cell_type": "code",
   "execution_count": 260,
   "metadata": {},
   "outputs": [],
   "source": [
    "# i: puissance de 2 du nombre de tranches (par exemple, N=16 tranches pour i=4)\n",
    "\n",
    "def temps_execution(a, b, mil, methode, i):\n",
    "    if methode == \"trapeze\":\n",
    "        t1 = timeit.default_timer()\n",
    "        rep = milieu[mil][1] * 1000 * trapeze(inv_pouvoir_arret, 2**i, a, b, mil)\n",
    "        t2 = timeit.default_timer()\n",
    "    elif methode == \"romberg\":\n",
    "        t1 = timeit.default_timer()\n",
    "        rep = 1000*milieu[mil][1]*romberg(inv_pouvoir_arret, i, a, b, mil)[0]\n",
    "        t2 = timeit.default_timer()\n",
    "    return rep, t2-t1"
   ]
  },
  {
   "cell_type": "markdown",
   "metadata": {},
   "source": [
    "Prenons par exemple l'os compact. Nous avons calculé qu'on doit avoir $i=11$, soit $N=2048$ tranches pour obtenir la précision machine. Le temps d'éxécution est:"
   ]
  },
  {
   "cell_type": "code",
   "execution_count": 261,
   "metadata": {},
   "outputs": [
    {
     "name": "stdout",
     "output_type": "stream",
     "text": [
      "L'intégrale est estimée à: 169.44552544310704\n",
      "Le temps d'éxécution est de: 0.017084699997212738 secondes pour 2048 tranches\n"
     ]
    }
   ],
   "source": [
    "i = 11\n",
    "\n",
    "rep, t = temps_execution(3, 150, \"os\", \"romberg\", i)\n",
    "\n",
    "print(\"L'intégrale est estimée à:\",rep)\n",
    "print(\"Le temps d'éxécution est de:\",t,\"secondes pour\",2**i,\"tranches\")"
   ]
  },
  {
   "cell_type": "markdown",
   "metadata": {},
   "source": [
    "Comme mentionné à la question précédente, il n'est pas raisonnable, avec le matériel dont nous disposons, de déterminer le nombre de tranches nécessaires pour atteindre avec la précision machine avec la méthode des trapèzes. Cependant, on peut déterminer le temps nécessaire pour évaluer la fonction jusqu'à quelques millions de tranches sans problème. Nous pourrons alors faire un graphique de ces valeurs, ce qui nous permettra potentiellement d'extrapoler une estimation du temps nécessaire pour atteindre une erreur de l'ordre de $1\\times 10^{-16}$. Cette fonction sera éxécutée sur la machine la plus performante en notre possession, soit un ordinateur d'environ six ans d'âge sous Windows 7 64-bits, Intel i5-6500 3.20 GHz, 16 GB de RAM. Les performances seraient sans doute meilleures avec un ordinateur plus récent et plus puissant."
   ]
  },
  {
   "cell_type": "code",
   "execution_count": 262,
   "metadata": {},
   "outputs": [],
   "source": [
    "def temps_trapezes(a, b, mil, max):\n",
    "    liste_temps = []\n",
    "    liste_err = []\n",
    "    i = 0\n",
    "    I1 = 0\n",
    "    for n in range(max+1):\n",
    "        t1 = timeit.default_timer()\n",
    "        I2 = milieu[mil][1] * 1000 * trapeze(inv_pouvoir_arret, 2**i, a, b, mil)\n",
    "        t2 = timeit.default_timer()\n",
    "        err = (I2-I1)/3\n",
    "        liste_err.append(err)\n",
    "        liste_temps.append(t2-t1)\n",
    "        i += 1\n",
    "        I1=I2\n",
    "    return liste_temps, liste_err"
   ]
  },
  {
   "cell_type": "markdown",
   "metadata": {},
   "source": [
    "Évaluons donc le temps et l'erreur atteinte jusqu'à $2^{25}=33554432$ tranches:"
   ]
  },
  {
   "cell_type": "code",
   "execution_count": 263,
   "metadata": {},
   "outputs": [],
   "source": [
    "max = 15\n",
    "\n",
    "temps, err = temps_trapezes(3, 150, \"eau\", max)\n",
    "\n",
    "file = open(\"donnees_temps_err.txt\", \"w\")\n",
    "file.write(f\"Donnees pour max = {2**max} tranches:\\n\"\n",
    "            +\"temps trapeze =\"+str(temps)+\"\\n\"\n",
    "            +\"erreur trapeze =\"+str(err))\n",
    "file.close()"
   ]
  },
  {
   "cell_type": "markdown",
   "metadata": {},
   "source": [
    "Comme précédemment, l'éxécution de la fonction est relativement longue, mais on peut sans problème la tester pour des valeurs de *max* aux alentours de 15. Voici les valeurs générées au préalable pour *max*=25:"
   ]
  },
  {
   "cell_type": "code",
   "execution_count": 264,
   "metadata": {},
   "outputs": [],
   "source": [
    "temps = [7.25009995221626e-05, 3.304299934825394e-05, 4.747799994220259e-05, 8.244500077125849e-05, 0.00015141699986997992, 0.0002909639997596969, 0.0010153250004805159, \n",
    "        0.0012026719996356405, 0.002468862000569061, 0.005856167999809259, 0.010946270999738772, 0.02296625300004962, 0.0440891999996893, 0.08357879699997284, 0.1629115109999475, \n",
    "        0.3094677769995542, 0.6190215280003031, 1.2378281199999037, 2.4354467720004322, 4.896931760000371, 9.767807017999985, 19.410410088999924, 38.764063624999835, 78.35422936900068, \n",
    "        156.3942505289997, 310.784545298, 623.6272718119999]\n",
    "\n",
    "err = [47.04378022335222, 3.9156134012692028, 1.1218055101317834, 0.31246555992910885, 0.08444329643950255, 0.022145730148271998, 0.005668484144810766, 0.0014299586333284726, \n",
    "        0.00035848285549870223, 8.968784293491201e-05, 2.24262544653205e-05, 5.606833629675141e-06, 1.4017251999121072e-06, 3.5043246763658925e-07, 8.760810980371995e-08, \n",
    "        2.1901930343422766e-08, 5.47554653470191e-09, 1.3691211127782783e-09, 3.431258240501241e-10, 8.467774629631701e-11, 2.2727893641179737e-11, 4.206412995699793e-12, \n",
    "        1.4968766966679443e-12, -2.7284841053187847e-12, 3.4200790347919488e-12, 5.760133111228545e-12, -2.5778490453376435e-11]"
   ]
  },
  {
   "cell_type": "markdown",
   "metadata": {},
   "source": [
    "Avec lesquelles on peut générer un graphique du temps d'éxécution nécessaire pour atteindre une erreur donnée (l'axe des x a été inversé afin de mieux pouvoir observer l'acroissement du temps d'éxécution en fonction de la diminution de l'erreur)"
   ]
  },
  {
   "cell_type": "code",
   "execution_count": 265,
   "metadata": {},
   "outputs": [
    {
     "data": {
      "image/png": "[encoded data removed]",
      "text/plain": [
       "<Figure size 576x360 with 1 Axes>"
      ]
     },
     "metadata": {},
     "output_type": "display_data"
    },
    {
     "data": {
      "text/plain": [
       "<Figure size 432x288 with 0 Axes>"
      ]
     },
     "metadata": {},
     "output_type": "display_data"
    }
   ],
   "source": [
    "sns.set_style(\"ticks\")\n",
    "err_temps_fig, ax = plt.subplots(figsize=(8,5))\n",
    "\n",
    "# On graphe les erreurs\n",
    "ax.plot(err, temps, label='Erreur trapèze')\n",
    "ax.set_xlabel(\"Erreur\", fontsize=14)\n",
    "ax.set_ylabel(\"Temps d'éxécution [s]\", fontsize=14)\n",
    "ax.invert_xaxis()\n",
    "\n",
    "# Pour une meilleure lisibilité, le graphique doit être en log-log\n",
    "ax.set_xscale('log')\n",
    "ax.set_yscale('log')\n",
    "\n",
    "# On positionne la légende\n",
    "ax.legend(loc='lower right')\n",
    "plt.show()\n",
    "\n",
    "plt.savefig('temps_err.png')"
   ]
  },
  {
   "cell_type": "markdown",
   "metadata": {},
   "source": [
    "Figure 5. Temps d'éxécution en fonction de l'erreur pour la méthode des trapèzes"
   ]
  },
  {
   "cell_type": "markdown",
   "metadata": {},
   "source": [
    "Nous maintenant deux graphiques pouvant potentiellement nous aider à analyser le temps d'éxécution pour la méthode des trapèzes. Voici les graphiques générés au préalable:\n",
    "\n",
    "(Le Jupyter fait parfois disparaître les graphiques; il s'agit des mêmes que générés précédemment)"
   ]
  },
  {
   "cell_type": "markdown",
   "metadata": {},
   "source": [
    "<center><img src=\"portee_err.png\" style=\"width: 600px;\"/></center>\n",
    "\n",
    "\n",
    "<center><img src=\"err_temps.png\" style=\"width: 600px;\"/></center>"
   ]
  },
  {
   "cell_type": "markdown",
   "metadata": {},
   "source": [
    "On constate que le comportement des deux courbes devient erratique lorsqu'on s'approche d'une erreur d'environ $10^{-11}$ dans les deux cas. Dans le graphique de l'erreur en fonction du nombre de tranches, on constate que l'erreur *augmente* au lieu de diminuer lorsqu'on dépasse un certain nombre de tranches, tandis que dans le graphique du temps d'éxécution en fonction de l'erreur obtenue, plusieurs courbes se superposent à la droite du graphique, ce qui semble indiquer aussi que la précision stagne étant donné qu'on calcule plus longtemps pour obtenir une précision très semblable.\n",
    "\n",
    "On peut donc conclure que, à moins d'employer une nombre incroyablement élevé de tranches, il est en pratique quasiment impossible d'atteindre la précision machine avec la méthode des trapèzes. Il semble que l'erreur intrinsèque au calcul des trapèzes devient, à partir d'un certain nombre de tranches, trop grande par rapport à l'erreur d'estimation. Il s'agit potentiellement d'un effet du calcul numérique, ou alors c'est dû aux propriétés de la courbe à intégrer elle-même. En effet, tout dépendant de la concavité et de la forme de la courbe, il est possible qu'un certain nombre de tranches ait une erreur supérieure à un nombre moins élevé.\n",
    "\n",
    "Pour maintenant conclure sur la question 5 en ce qui concerne le nombre de tranches nécessaires à la méthode des trapèzes, c'est que c'est une tâche qui semble pratiquement impossible selon nos moyens. Augmenter le nombre de tranches ne semble plus diminuer l'erreur passé un certain nombre, au contraire, l'erreur semble augmenter à nouveau. À moins de disposer d'un superordinateur de calcul qui puisse calculer des milliard de tranches dans un délai raisonnable, ce qui n'est pas notre cas, la tâche semble irréaliste. En conséquence, le temps de calcul d'un tel programme serait extrêmement élevé. Étant donné qu'il faut déjà plusieurs minutes pour calculer quelques dizaines de millions de tranches, on peut postuler que le temps d'éxécution serait de plusieurs heures, voire de plusieurs jours tout dépendant du nombre de tranches. Il vaut donc mieux faire appel à la méthode de Romberg, qui est beaucoup plus efficace autant au niveau du nombre de tranches nécessaires que du temps d'éxécution."
   ]
  },
  {
   "cell_type": "markdown",
   "metadata": {},
   "source": [
    "## Estimation analytique de l'erreur\n",
    "\n",
    "### 7 - Expression analytique de la dérivée du pouvoir d'arrêt\n",
    "\n",
    "On veut maintenant déterminer de façon analytique l'erreur pour la méthode des trapèzes. Pour ce faire, on doit connaître la dérivée analytique de la fonction à intégrer, donc on doit connaître la dérivée analytique du pouvoir d'arrêt. On utilise l'expression pour le pouvoir d'arrêt en fonction de $\\gamma$ déterminée plus haut :\n",
    "$$S_{col} = U\\frac{\\gamma^2}{(\\gamma^2-1)}\\Bigg[\\ln\\bigg(\\frac{2m_ec^2a(\\gamma^2-1)^2}{I^2(b + \\delta\\gamma)}\\bigg)\\Bigg] - 2U$$\n",
    "On désire utiliser la formule pour la dérivée d'une multiplication et la dérivation en chaîne. On calcule les dérivées nécessaires:\n",
    "$$\\frac{\\text{d}}{\\text{d}\\gamma} \\frac{\\gamma^2}{\\gamma^2-1} = \\Bigg(\\frac{2\\gamma}{\\gamma^2-1} - \\frac{2\\gamma^3}{(\\gamma^2-1)}\\Bigg) = \\frac{-2\\gamma}{(\\gamma^2-1)^2}$$\n",
    "$$\\frac{\\text{d}}{\\text{d}\\gamma} \\ln\\bigg(\\frac{2m_ec^2a(\\gamma^2-1)^2}{I^2(b + \\delta\\gamma)}\\bigg)= \\frac{I^2(b+\\delta\\gamma)}{2m_ec^2a(\\gamma^2-1)^2} \\Bigg(\\frac{8m_ec^2a\\gamma(\\gamma^2-1)}{I^2(b+\\delta\\gamma)}\\Bigg) - \\frac{\\delta}{(b+\\delta \\gamma)}$$\n",
    "$$\\frac{\\text{d}}{\\text{d}\\gamma} \\ln\\bigg(\\frac{2m_ec^2a(\\gamma^2-1)^2}{I^2(b + \\delta\\gamma)}\\bigg) = \\Bigg(\\frac{4\\gamma}{\\gamma^2-1} - \\frac{\\delta}{(b+\\delta \\gamma)}\\Bigg)$$\n",
    "$$\\frac{\\text{d}\\gamma}{\\text{d}T} = \\frac{1}{m_pc^2}$$\n",
    "On peut alors déterminer la dérivée première du pouvoir d'arrêt:\n",
    "$$\\frac{\\text{d}S_{col}}{\\text{d}T} = \\frac{\\text{d}S_{col}}{\\text{d}\\gamma}\\frac{\\text{d}\\gamma}{\\text{d}T}$$\n",
    "$$\\frac{\\text{d}S_{col}}{\\text{d}T} = \\frac{U}{m_pc^2}\\Bigg[\\frac{-2\\gamma}{(\\gamma^2-1)^2}\\ln\\bigg(\\frac{2m_ec^2a(\\gamma^2-1)^2}{I^2(b + \\delta\\gamma)}\\bigg) + \\frac{\\gamma^2}{(\\gamma^2-1)}\\Bigg(\\frac{4\\gamma}{\\gamma^2-1} - \\frac{\\delta}{b+\\delta \\gamma}\\Bigg)\\Bigg]$$\n",
    "$$\\frac{\\text{d}S_{col}}{\\text{d}T} = \\frac{U}{m_pc^2}\\frac{\\gamma}{(\\gamma^2-1)^2}\\Bigg[4\\gamma^2 - 2\\ln\\bigg(\\frac{2m_ec^2a(\\gamma^2-1)^2}{I^2(b + \\delta\\gamma)}\\bigg) - \\frac{\\delta\\gamma(\\gamma^2-1)}{b+\\delta\\gamma}\\Bigg]$$"
   ]
  },
  {
   "cell_type": "markdown",
   "metadata": {},
   "source": [
    "On définit maintenant une fonction pour déterminer analytiquement l'erreur sur l'intégration par la méthode des trapèzes en utilisant la dérivée de la fonction à intégrer. On sait que la formule qui donne l'erreur correspond à [6] :\n",
    "$$\\epsilon = \\frac{1}{12}\\bigg(\\frac{N}{b-a}\\bigg)^2(f'(a)-f'(b))$$\n",
    "On code la fonction :"
   ]
  },
  {
   "cell_type": "code",
   "execution_count": 266,
   "metadata": {},
   "outputs": [],
   "source": [
    "# Retourne l'erreur analytique pour la méthode des trapèzes\n",
    "# Arguments :\n",
    "# f : dérivée de la fonction à intégrer\n",
    "# N : nombre de tranches de la méthode des trapèzes\n",
    "# a, b : bornes d'intégration\n",
    "# *args : autres arguments de f\n",
    "\n",
    "def erreur_trapeze(f, N, a, b, *args):\n",
    "    return 1/12 * (N / (b - a))**2 * (f(a, *args) - f(b, *args))"
   ]
  },
  {
   "cell_type": "markdown",
   "metadata": {},
   "source": [
    "Dans le cas présent, la dérivée du pouvoir d'arrêt a déjà été déterminée analytiquement. On code la fonction *dS_dT*, qui correspond à la dérivée du pouvoir d'arrêt déterminée analytiquement. Celle-ci fonctionne de la même façon que la fonction *pouvoir_arret* et prend les mêmes arguments. On définit par la suite la dérivée de l'intégrande selon l'équation suivante :\n",
    "$$\\frac{\\text{d}}{\\text{d}T}\\frac{1}{S_{col}} = -\\frac{1}{(S_{col})^2}\\bigg(\\frac{\\text{d}S_{col}}{\\text{d}T}\\bigg)"
   ]
  },
  {
   "cell_type": "code",
   "execution_count": 267,
   "metadata": {},
   "outputs": [],
   "source": [
    "# Retourne la dérivée du pouvoir d'arrêt\n",
    "# Arguments :\n",
    "# T : énergie cinétique du proton\n",
    "# mil : milieu de propagation (\"eau\" ou \"os\")\n",
    "\n",
    "def dS_dT(T, mil):\n",
    "    # Convertit les MeV en Joules\n",
    "    T = T / 6241506479963.2\n",
    "    ne = milieu[mil][0]*10**6\n",
    "    gamma = T / (mp*c**2) + 1\n",
    "    a = 2*me*c**2\n",
    "    b = 1 + (me/mp)**2\n",
    "    d = 2 * (me/mp)\n",
    "    return 2*np.pi*re**2*me*ne / mp * gamma / (gamma**2-1)**2 * (4*gamma**2 - 2*np.log(2*me*c**2*a*(gamma-1)**2 / (milieu[mil][2]**2*(b + d*gamma))) - (d*gamma*(gamma**2-1)) / (b + d*gamma))\n",
    "\n",
    "# Retourne la dérivée de l'intégrande dans l'équation de la portée\n",
    "# Arguments :\n",
    "# T : énergie cinétique du proton\n",
    "# mil : milieu de programmation (\"eau\" ou \"os\")\n",
    "\n",
    "def derivee_integrande(T, mil):\n",
    "    return -milieu[mil][1]*1000 * inv_pouvoir_arret(T, mil)**2 * dS_dT(T, mil)"
   ]
  },
  {
   "cell_type": "markdown",
   "metadata": {},
   "source": [
    "On peut donc déterminer analytiquement l'erreur sur la portée des protons avec une énergie de 150 MeV déterminée par la méthode des trapèzes avec 256 tranches :"
   ]
  },
  {
   "cell_type": "code",
   "execution_count": 268,
   "metadata": {},
   "outputs": [
    {
     "name": "stdout",
     "output_type": "stream",
     "text": [
      "erreur sur la méthode des trapèzes dans l'eau : -0.018625985423477816\n",
      "erreur sur la méthode des trapèzes dans l'os compact : -0.03749040191435741\n"
     ]
    }
   ],
   "source": [
    "print(\"erreur sur la méthode des trapèzes dans l'eau :\", erreur_trapeze(derivee_integrande, 256, 0.1, 150, \"eau\"))\n",
    "print(\"erreur sur la méthode des trapèzes dans l'os compact :\", erreur_trapeze(derivee_integrande, 256, 0.1, 150, \"os\"))"
   ]
  },
  {
   "cell_type": "markdown",
   "metadata": {},
   "source": [
    "### 8 - Portées et erreurs calculées"
   ]
  },
  {
   "cell_type": "markdown",
   "metadata": {},
   "source": [
    "On peut déterminer, à l'aide des fonctions implémentées au #5, les portées pour l'eau et l'os compact à l'aide de la méthode des trapèzes et de la méthode de Romberg, ainsi que les erreurs sur les intégrales numériques. Toutes les valeurs sont arrondies à la quatrième décimale.\n",
    "\n",
    "Pour la méthode de Romberg, on choisit les valeurs calculées pour $N=2048$ tranches ($2^{11}$), étant donné que c'est le nombre de tranches qui nous permet d'atteindre la précision machine. Afin d'avoir une comparaison intéressante, nous prendrons donc aussi les valeurs de portée et d'erreur pour $N=2048$ tranches pour la méthode des trapèzes. Cela nous permettra de comparer rapidement la différence entre les deux méthodes."
   ]
  },
  {
   "cell_type": "code",
   "execution_count": 269,
   "metadata": {},
   "outputs": [
    {
     "name": "stdout",
     "output_type": "stream",
     "text": [
      "Portée dans l'eau avec la méthode des trapèzes: 157.52348510350427\n",
      "Erreur dans l'eau avec la méthode des trapèzes: 5.606833636262465e-06\n",
      "Portée dans l'os compact avec la méthode des trapèzes: 169.44551933140974\n",
      "Erreur dans l'os compact avec la méthode des trapèzes: 6.111617603897039e-06\n",
      "Portée dans l'eau avec la méthode de Romberg: 157.52349071040987\n",
      "Erreur dans l'eau avec la méthode de Romberg: 3.7587122880283297e-17\n",
      "Portée dans l'os avec la méthode de Romberg: 169.44552544310704\n",
      "Erreur dans l'os avec la méthode de Romberg: 3.9713971699600736e-17\n"
     ]
    }
   ],
   "source": [
    "print(\"Portée dans l'eau avec la méthode des trapèzes:\",portee(11,3,150, \"eau\", \"trapeze\"))\n",
    "err_eau = (trapeze(inv_pouvoir_arret,2048, 3, 150, \"eau\") - trapeze(inv_pouvoir_arret, 1024, 3, 150, \"eau\"))* 1000*milieu[\"eau\"][1]/3\n",
    "print(\"Erreur dans l'eau avec la méthode des trapèzes:\",err_eau)\n",
    "print(\"Portée dans l'os compact avec la méthode des trapèzes:\",portee(11,3,150,\"os\",\"trapeze\"))\n",
    "err_os = (trapeze(inv_pouvoir_arret,2048, 3, 150, \"os\") - trapeze(inv_pouvoir_arret, 1024, 3, 150, \"os\"))* 1000*milieu[\"os\"][1]/3\n",
    "print(\"Erreur dans l'os compact avec la méthode des trapèzes:\",err_os)\n",
    "\n",
    "print(\"Portée dans l'eau avec la méthode de Romberg:\",milieu[\"eau\"][1]*1000*romberg(inv_pouvoir_arret,11,3,150,\"eau\")[0])\n",
    "print(\"Erreur dans l'eau avec la méthode de Romberg:\",milieu[\"eau\"][1]*1000*romberg(inv_pouvoir_arret,11,3,150,\"eau\")[1])\n",
    "print(\"Portée dans l'os avec la méthode de Romberg:\",milieu[\"os\"][1]*1000*romberg(inv_pouvoir_arret,11,3,150,\"os\")[0])\n",
    "print(\"Erreur dans l'os avec la méthode de Romberg:\",milieu[\"os\"][1]*1000*romberg(inv_pouvoir_arret,11,3,150,\"os\")[1])"
   ]
  },
  {
   "cell_type": "markdown",
   "metadata": {},
   "source": [
    "Et, comme précédemment calculé, on a l'erreur d'approximation calculée pour la méthode des trapèzes (cette fois avec 2048 tranches):"
   ]
  },
  {
   "cell_type": "code",
   "execution_count": 270,
   "metadata": {},
   "outputs": [
    {
     "name": "stdout",
     "output_type": "stream",
     "text": [
      "erreur sur la méthode des trapèzes dans l'eau : -1.1920630671025803\n",
      "erreur sur la méthode des trapèzes dans l'os compact : -2.399385722518874\n"
     ]
    }
   ],
   "source": [
    "print(\"erreur sur la méthode des trapèzes dans l'eau :\", erreur_trapeze(derivee_integrande, 2048, 0.1, 150, \"eau\"))\n",
    "print(\"erreur sur la méthode des trapèzes dans l'os compact :\", erreur_trapeze(derivee_integrande, 2048, 0.1, 150, \"os\"))"
   ]
  },
  {
   "cell_type": "markdown",
   "metadata": {},
   "source": [
    "On peut tabuler ces valeurs:\n",
    "\n",
    "<center> Tableau 1. Portée et erreurs pour les différentes méthodes de calcul et différents milieux</center>\n",
    "\n",
    "| *Milieu*     | *Portée [kg/m^2]* | *Erreur calculée (trapèze)* | *Erreur estimée (trapèze)* | *Erreur estimée (Romberg)* |\n",
    "|----------------|---------------------|-------------------------------|------------------------------|------------------------------|\n",
    "| *Eau*        | 157,5235            | -1,1921                            | 5,6068e-6                    | 3,7587e-17                   |\n",
    "| *Os compact* | 169,4455            | -2,3994                              | 6,1116e-6                    | 3,9714e-17                   |"
   ]
  },
  {
   "cell_type": "markdown",
   "metadata": {},
   "source": [
    "L'erreur calculée s'écarte des erreurs estimées; on soupçonne ici une potentielle erreur dans la conversion d'unités que, malgré nos efforts, nous n'avons pas trouvée dans les fonctions."
   ]
  },
  {
   "cell_type": "markdown",
   "metadata": {},
   "source": [
    "## Optimisation\n",
    "\n",
    "### 9 - Distribution de Moyal pour 10000 énergies\n",
    "\n",
    "On veut maintenant comparer les performances des différentes méthodes d'intégration à des fins d'optimisation. Dans cette section, comme le milieu n'a pas d'impact sur la performance, tous les calculs sont effectués en considérant que le milieu est l'eau liquide. Tout d'abord, on génère aléatoirement une distribution de 10 000 protons où l'énergie cinétique initiale est donnée par une distribution de Moyal et on la représente sur un histogramme :"
   ]
  },
  {
   "cell_type": "code",
   "execution_count": 271,
   "metadata": {},
   "outputs": [
    {
     "data": {
      "image/png": "[encoded data removed]",
      "text/plain": [
       "<Figure size 432x288 with 1 Axes>"
      ]
     },
     "metadata": {},
     "output_type": "display_data"
    }
   ],
   "source": [
    "# On définit la distribution de Moyal et on prend un échantillon de 10 000 protons\n",
    "sample = moyal(loc=150, scale=4).rvs(size=10000)\n",
    "\n",
    "# On représente l'échantillon sur un histogramme\n",
    "sns.set_style(\"ticks\")\n",
    "plt.figure(figsize=(6,4))\n",
    "groupes = [120, 130, 140, 150, 160, 170, 180, 200, 210, 220]\n",
    "plt.hist(sample, bins=groupes)\n",
    "plt.xlabel('Énergie cinétique initiale [MeV]', fontsize=12)\n",
    "plt.ylabel('Nombre de protons', fontsize=12)\n",
    "plt.show()"
   ]
  },
  {
   "cell_type": "markdown",
   "metadata": {},
   "source": [
    "Figure 6. Histogramme de l'énergie cinétique de la distribution de protons"
   ]
  },
  {
   "cell_type": "markdown",
   "metadata": {},
   "source": [
    "### 10 - Estimation du nombre de protons calculés par seconde pour trois méthodes"
   ]
  },
  {
   "cell_type": "markdown",
   "metadata": {},
   "source": [
    "Pour pouvoir bien comparer les performances des différentes méthodes d'intégration, on doit faire en sorte que la précision de chaque méthode est similaire. Une précision plus grande implique généralement un temps de calcul plus grand pour une même méthode, donc il est souhaitable de comparer les méthodes lorsqu'elles donnent des résultats avec la même précision. Comme on veut comparer la méthode des trapèzes, la méthode de Romberg et la méthode *scipy.integrate.quad*, on va se fier sur la précision de cette dernière pour ajuster le nombre de tranches des deux autres méthodes. La méthode *scipy.integrate.quad* retourne aussi l'incertitude sur l'intégrale, donc on peut calculer cette incertitude pour les 10 000 protons et déterminer l'incertitude moyenne. Pour intégrer avec *scipy*, on doit par contre avoir une fonction à un argument, donc on définit la fonction *integrande*. On redéfinit ensuite les fonctions définies plus haut pour déterminer le nombre de tranches nécessaires pour atteindre cette précision pour les deux autres méthodes. On choisit arbitrairement d'utiliser l'eau liquide comme milieu pour comparer les méthodes, mais ce choix ne devrait pas affecter les performances."
   ]
  },
  {
   "cell_type": "code",
   "execution_count": 278,
   "metadata": {},
   "outputs": [
    {
     "name": "stderr",
     "output_type": "stream",
     "text": [
      "<ipython-input-278-faa69c025767>:9: IntegrationWarning: The maximum number of subdivisions (50) has been achieved.\n",
      "  If increasing the limit yields no improvement it is advised to analyze \n",
      "  the integrand in order to determine the difficulties.  If the position of a \n",
      "  local difficulty can be determined (singularity, discontinuity) one will \n",
      "  probably gain from splitting up the interval and calling the integrator \n",
      "  on the subranges.  Perhaps a special-purpose integrator should be used.\n",
      "  erreur_scipy.append(sp.integrate.quad(integrande, 0, i)[1])\n",
      "<ipython-input-278-faa69c025767>:9: IntegrationWarning: The algorithm does not converge.  Roundoff error is detected\n",
      "  in the extrapolation table.  It is assumed that the requested tolerance\n",
      "  cannot be achieved, and that the returned result (if full_output = 1) is \n",
      "  the best which can be obtained.\n",
      "  erreur_scipy.append(sp.integrate.quad(integrande, 0, i)[1])\n"
     ]
    },
    {
     "ename": "KeyboardInterrupt",
     "evalue": "",
     "output_type": "error",
     "traceback": [
      "\u001b[1;31m---------------------------------------------------------------------------\u001b[0m",
      "\u001b[1;31mKeyboardInterrupt\u001b[0m                         Traceback (most recent call last)",
      "\u001b[1;32m<ipython-input-278-faa69c025767>\u001b[0m in \u001b[0;36m<module>\u001b[1;34m\u001b[0m\n\u001b[0;32m      7\u001b[0m \u001b[1;33m\u001b[0m\u001b[0m\n\u001b[0;32m      8\u001b[0m \u001b[1;32mfor\u001b[0m \u001b[0mi\u001b[0m \u001b[1;32min\u001b[0m \u001b[0msample\u001b[0m\u001b[1;33m:\u001b[0m\u001b[1;33m\u001b[0m\u001b[1;33m\u001b[0m\u001b[0m\n\u001b[1;32m----> 9\u001b[1;33m     \u001b[0merreur_scipy\u001b[0m\u001b[1;33m.\u001b[0m\u001b[0mappend\u001b[0m\u001b[1;33m(\u001b[0m\u001b[0msp\u001b[0m\u001b[1;33m.\u001b[0m\u001b[0mintegrate\u001b[0m\u001b[1;33m.\u001b[0m\u001b[0mquad\u001b[0m\u001b[1;33m(\u001b[0m\u001b[0mintegrande\u001b[0m\u001b[1;33m,\u001b[0m \u001b[1;36m0\u001b[0m\u001b[1;33m,\u001b[0m \u001b[0mi\u001b[0m\u001b[1;33m)\u001b[0m\u001b[1;33m[\u001b[0m\u001b[1;36m1\u001b[0m\u001b[1;33m]\u001b[0m\u001b[1;33m)\u001b[0m\u001b[1;33m\u001b[0m\u001b[1;33m\u001b[0m\u001b[0m\n\u001b[0m\u001b[0;32m     10\u001b[0m \u001b[1;33m\u001b[0m\u001b[0m\n\u001b[0;32m     11\u001b[0m \u001b[0merr_sp\u001b[0m \u001b[1;33m=\u001b[0m \u001b[0msum\u001b[0m\u001b[1;33m(\u001b[0m\u001b[0merreur_scipy\u001b[0m\u001b[1;33m)\u001b[0m \u001b[1;33m/\u001b[0m \u001b[0mlen\u001b[0m\u001b[1;33m(\u001b[0m\u001b[0merreur_scipy\u001b[0m\u001b[1;33m)\u001b[0m\u001b[1;33m\u001b[0m\u001b[1;33m\u001b[0m\u001b[0m\n",
      "\u001b[1;32m~\\anaconda3\\lib\\site-packages\\scipy\\integrate\\quadpack.py\u001b[0m in \u001b[0;36mquad\u001b[1;34m(func, a, b, args, full_output, epsabs, epsrel, limit, points, weight, wvar, wopts, maxp1, limlst)\u001b[0m\n\u001b[0;32m    349\u001b[0m \u001b[1;33m\u001b[0m\u001b[0m\n\u001b[0;32m    350\u001b[0m     \u001b[1;32mif\u001b[0m \u001b[0mweight\u001b[0m \u001b[1;32mis\u001b[0m \u001b[1;32mNone\u001b[0m\u001b[1;33m:\u001b[0m\u001b[1;33m\u001b[0m\u001b[1;33m\u001b[0m\u001b[0m\n\u001b[1;32m--> 351\u001b[1;33m         retval = _quad(func, a, b, args, full_output, epsabs, epsrel, limit,\n\u001b[0m\u001b[0;32m    352\u001b[0m                        points)\n\u001b[0;32m    353\u001b[0m     \u001b[1;32melse\u001b[0m\u001b[1;33m:\u001b[0m\u001b[1;33m\u001b[0m\u001b[1;33m\u001b[0m\u001b[0m\n",
      "\u001b[1;32m~\\anaconda3\\lib\\site-packages\\scipy\\integrate\\quadpack.py\u001b[0m in \u001b[0;36m_quad\u001b[1;34m(func, a, b, args, full_output, epsabs, epsrel, limit, points)\u001b[0m\n\u001b[0;32m    461\u001b[0m     \u001b[1;32mif\u001b[0m \u001b[0mpoints\u001b[0m \u001b[1;32mis\u001b[0m \u001b[1;32mNone\u001b[0m\u001b[1;33m:\u001b[0m\u001b[1;33m\u001b[0m\u001b[1;33m\u001b[0m\u001b[0m\n\u001b[0;32m    462\u001b[0m         \u001b[1;32mif\u001b[0m \u001b[0minfbounds\u001b[0m \u001b[1;33m==\u001b[0m \u001b[1;36m0\u001b[0m\u001b[1;33m:\u001b[0m\u001b[1;33m\u001b[0m\u001b[1;33m\u001b[0m\u001b[0m\n\u001b[1;32m--> 463\u001b[1;33m             \u001b[1;32mreturn\u001b[0m \u001b[0m_quadpack\u001b[0m\u001b[1;33m.\u001b[0m\u001b[0m_qagse\u001b[0m\u001b[1;33m(\u001b[0m\u001b[0mfunc\u001b[0m\u001b[1;33m,\u001b[0m\u001b[0ma\u001b[0m\u001b[1;33m,\u001b[0m\u001b[0mb\u001b[0m\u001b[1;33m,\u001b[0m\u001b[0margs\u001b[0m\u001b[1;33m,\u001b[0m\u001b[0mfull_output\u001b[0m\u001b[1;33m,\u001b[0m\u001b[0mepsabs\u001b[0m\u001b[1;33m,\u001b[0m\u001b[0mepsrel\u001b[0m\u001b[1;33m,\u001b[0m\u001b[0mlimit\u001b[0m\u001b[1;33m)\u001b[0m\u001b[1;33m\u001b[0m\u001b[1;33m\u001b[0m\u001b[0m\n\u001b[0m\u001b[0;32m    464\u001b[0m         \u001b[1;32melse\u001b[0m\u001b[1;33m:\u001b[0m\u001b[1;33m\u001b[0m\u001b[1;33m\u001b[0m\u001b[0m\n\u001b[0;32m    465\u001b[0m             \u001b[1;32mreturn\u001b[0m \u001b[0m_quadpack\u001b[0m\u001b[1;33m.\u001b[0m\u001b[0m_qagie\u001b[0m\u001b[1;33m(\u001b[0m\u001b[0mfunc\u001b[0m\u001b[1;33m,\u001b[0m\u001b[0mbound\u001b[0m\u001b[1;33m,\u001b[0m\u001b[0minfbounds\u001b[0m\u001b[1;33m,\u001b[0m\u001b[0margs\u001b[0m\u001b[1;33m,\u001b[0m\u001b[0mfull_output\u001b[0m\u001b[1;33m,\u001b[0m\u001b[0mepsabs\u001b[0m\u001b[1;33m,\u001b[0m\u001b[0mepsrel\u001b[0m\u001b[1;33m,\u001b[0m\u001b[0mlimit\u001b[0m\u001b[1;33m)\u001b[0m\u001b[1;33m\u001b[0m\u001b[1;33m\u001b[0m\u001b[0m\n",
      "\u001b[1;32m<ipython-input-278-faa69c025767>\u001b[0m in \u001b[0;36mintegrande\u001b[1;34m(T)\u001b[0m\n\u001b[0;32m      4\u001b[0m \u001b[1;33m\u001b[0m\u001b[0m\n\u001b[0;32m      5\u001b[0m \u001b[1;32mdef\u001b[0m \u001b[0mintegrande\u001b[0m\u001b[1;33m(\u001b[0m\u001b[0mT\u001b[0m\u001b[1;33m)\u001b[0m\u001b[1;33m:\u001b[0m\u001b[1;33m\u001b[0m\u001b[1;33m\u001b[0m\u001b[0m\n\u001b[1;32m----> 6\u001b[1;33m     \u001b[1;32mreturn\u001b[0m \u001b[1;36m1000\u001b[0m \u001b[1;33m*\u001b[0m \u001b[0mmilieu\u001b[0m\u001b[1;33m[\u001b[0m\u001b[1;34m'eau'\u001b[0m\u001b[1;33m]\u001b[0m\u001b[1;33m[\u001b[0m\u001b[1;36m1\u001b[0m\u001b[1;33m]\u001b[0m \u001b[1;33m*\u001b[0m \u001b[0minv_pouvoir_arret\u001b[0m\u001b[1;33m(\u001b[0m\u001b[0mT\u001b[0m\u001b[1;33m,\u001b[0m \u001b[1;34m'eau'\u001b[0m\u001b[1;33m)\u001b[0m\u001b[1;33m\u001b[0m\u001b[1;33m\u001b[0m\u001b[0m\n\u001b[0m\u001b[0;32m      7\u001b[0m \u001b[1;33m\u001b[0m\u001b[0m\n\u001b[0;32m      8\u001b[0m \u001b[1;32mfor\u001b[0m \u001b[0mi\u001b[0m \u001b[1;32min\u001b[0m \u001b[0msample\u001b[0m\u001b[1;33m:\u001b[0m\u001b[1;33m\u001b[0m\u001b[1;33m\u001b[0m\u001b[0m\n",
      "\u001b[1;32m<ipython-input-250-12b8ee516919>\u001b[0m in \u001b[0;36minv_pouvoir_arret\u001b[1;34m(T, mil)\u001b[0m\n\u001b[0;32m      5\u001b[0m \u001b[1;33m\u001b[0m\u001b[0m\n\u001b[0;32m      6\u001b[0m \u001b[1;32mdef\u001b[0m \u001b[0minv_pouvoir_arret\u001b[0m\u001b[1;33m(\u001b[0m\u001b[0mT\u001b[0m\u001b[1;33m,\u001b[0m \u001b[0mmil\u001b[0m\u001b[1;33m)\u001b[0m\u001b[1;33m:\u001b[0m\u001b[1;33m\u001b[0m\u001b[1;33m\u001b[0m\u001b[0m\n\u001b[1;32m----> 7\u001b[1;33m     \u001b[1;32mreturn\u001b[0m \u001b[0mpouvoir_arret\u001b[0m\u001b[1;33m(\u001b[0m\u001b[0mT\u001b[0m\u001b[1;33m,\u001b[0m \u001b[0mmil\u001b[0m\u001b[1;33m)\u001b[0m\u001b[1;33m**\u001b[0m\u001b[1;33m(\u001b[0m\u001b[1;33m-\u001b[0m\u001b[1;36m1\u001b[0m\u001b[1;33m)\u001b[0m\u001b[1;33m\u001b[0m\u001b[1;33m\u001b[0m\u001b[0m\n\u001b[0m\u001b[0;32m      8\u001b[0m \u001b[1;33m\u001b[0m\u001b[0m\n\u001b[0;32m      9\u001b[0m \u001b[1;31m# Calcule la portée\u001b[0m\u001b[1;33m\u001b[0m\u001b[1;33m\u001b[0m\u001b[1;33m\u001b[0m\u001b[0m\n",
      "\u001b[1;32m<ipython-input-246-98b2c9e6f2e0>\u001b[0m in \u001b[0;36mpouvoir_arret\u001b[1;34m(T, mil)\u001b[0m\n\u001b[0;32m     20\u001b[0m \u001b[1;33m\u001b[0m\u001b[0m\n\u001b[0;32m     21\u001b[0m     \u001b[0mconst\u001b[0m \u001b[1;33m=\u001b[0m \u001b[1;36m2\u001b[0m \u001b[1;33m*\u001b[0m \u001b[0mnp\u001b[0m\u001b[1;33m.\u001b[0m\u001b[0mpi\u001b[0m \u001b[1;33m*\u001b[0m \u001b[0mre\u001b[0m\u001b[1;33m**\u001b[0m\u001b[1;36m2\u001b[0m \u001b[1;33m*\u001b[0m \u001b[0mme\u001b[0m \u001b[1;33m*\u001b[0m \u001b[0mc\u001b[0m\u001b[1;33m**\u001b[0m\u001b[1;36m2\u001b[0m \u001b[1;33m*\u001b[0m \u001b[0mne\u001b[0m \u001b[1;33m/\u001b[0m \u001b[0mbeta\u001b[0m\u001b[1;33m**\u001b[0m\u001b[1;36m2\u001b[0m\u001b[1;33m\u001b[0m\u001b[1;33m\u001b[0m\u001b[0m\n\u001b[1;32m---> 22\u001b[1;33m     \u001b[0mparenth\u001b[0m \u001b[1;33m=\u001b[0m \u001b[0mnp\u001b[0m\u001b[1;33m.\u001b[0m\u001b[0mlog\u001b[0m\u001b[1;33m(\u001b[0m\u001b[1;36m2\u001b[0m \u001b[1;33m*\u001b[0m \u001b[0mme\u001b[0m \u001b[1;33m*\u001b[0m \u001b[0mc\u001b[0m\u001b[1;33m**\u001b[0m\u001b[1;36m2\u001b[0m \u001b[1;33m*\u001b[0m \u001b[0mbeta\u001b[0m\u001b[1;33m**\u001b[0m\u001b[1;36m2\u001b[0m \u001b[1;33m*\u001b[0m \u001b[0mgamma\u001b[0m\u001b[1;33m**\u001b[0m\u001b[1;36m2\u001b[0m \u001b[1;33m*\u001b[0m \u001b[0mte_max\u001b[0m \u001b[1;33m/\u001b[0m \u001b[0mmilieu\u001b[0m\u001b[1;33m[\u001b[0m\u001b[0mmil\u001b[0m\u001b[1;33m]\u001b[0m\u001b[1;33m[\u001b[0m\u001b[1;36m2\u001b[0m\u001b[1;33m]\u001b[0m\u001b[1;33m**\u001b[0m\u001b[1;36m2\u001b[0m\u001b[1;33m)\u001b[0m \u001b[1;33m-\u001b[0m \u001b[1;33m(\u001b[0m\u001b[1;36m2\u001b[0m \u001b[1;33m*\u001b[0m \u001b[0mbeta\u001b[0m\u001b[1;33m**\u001b[0m\u001b[1;36m2\u001b[0m\u001b[1;33m)\u001b[0m\u001b[1;33m\u001b[0m\u001b[1;33m\u001b[0m\u001b[0m\n\u001b[0m\u001b[0;32m     23\u001b[0m \u001b[1;33m\u001b[0m\u001b[0m\n\u001b[0;32m     24\u001b[0m     \u001b[1;32mreturn\u001b[0m \u001b[1;33m(\u001b[0m\u001b[0mconst\u001b[0m \u001b[1;33m*\u001b[0m \u001b[0mparenth\u001b[0m\u001b[1;33m)\u001b[0m \u001b[1;33m*\u001b[0m \u001b[1;36m6241506479963.2\u001b[0m\u001b[1;33m\u001b[0m\u001b[1;33m\u001b[0m\u001b[0m\n",
      "\u001b[1;31mKeyboardInterrupt\u001b[0m: "
     ]
    }
   ],
   "source": [
    "# Erreur moyenne de scipy\n",
    "\n",
    "erreur_scipy = []\n",
    "\n",
    "def integrande(T):\n",
    "    return 1000 * milieu['eau'][1] * inv_pouvoir_arret(T, 'eau')\n",
    "\n",
    "for i in sample:\n",
    "    erreur_scipy.append(sp.integrate.quad(integrande, 0, i)[1])\n",
    "\n",
    "err_sp = sum(erreur_scipy) / len(erreur_scipy)\n",
    "\n",
    "print(\"Erreur moyenne de scipy :\", err_sp)"
   ]
  },
  {
   "cell_type": "code",
   "execution_count": null,
   "metadata": {},
   "outputs": [
    {
     "name": "stdout",
     "output_type": "stream",
     "text": [
      "260 6\n"
     ]
    }
   ],
   "source": [
    "# Nombre de tranches\n",
    "\n",
    "def estim_trapeze2(Ni, a, b, mil, pas):\n",
    "    t1 = timeit.default_timer()\n",
    "    N = Ni\n",
    "    I1 = 0\n",
    "    I2 = trapeze(inv_pouvoir_arret, N, a, b, mil) * 1000 * milieu[mil][1]\n",
    "    while (I2 - I1)/3 > err_sp:\n",
    "        N = math.ceil(N*pas)\n",
    "        I1 = I2\n",
    "        I2 = trapeze(inv_pouvoir_arret, N, a, b, mil) * 1000 * milieu[mil][1]\n",
    "    t2 = timeit.default_timer()\n",
    "    return N, t2-t1\n",
    "\n",
    "def estim_romberg2(imax_i, a, b, mil):\n",
    "    t1 = timeit.default_timer()\n",
    "    i_max = imax_i\n",
    "    err = romberg(inv_pouvoir_arret, i_max, a, b, mil)[1] * 1000 * milieu[mil][1]\n",
    "    while err > err_sp:\n",
    "        i_max += 1\n",
    "        err = romberg(inv_pouvoir_arret, i_max, a, b, mil)[1] * 1000 * milieu[mil][1]\n",
    "    t2 = timeit.default_timer()\n",
    "    return i_max, t2-t1\n",
    "\n",
    "N_trap = estim_trapeze2(2, 3, 150, \"eau\", 1.15)[0]\n",
    "i_romb = estim_romberg2(2, 3, 150, \"eau\")[0]\n",
    "print(N_trap, i_romb)"
   ]
  },
  {
   "cell_type": "markdown",
   "metadata": {},
   "source": [
    "On veut ensuite déterminer le nombre de portées de protons que chaque méthode d'intégration peut calculer en 1 seconde. Pour ce faire, on utilise le module *timeit* pour calculer le temps nécessaire pour calculer les 10 000 portées pour chaque méthode d'intégration. On utilise la fonction *default_timer* qui retourne une valeur de temps au moment où elle est appelée. On prend donc une mesure de temps avant et après avoir appelé chaque méthode d'intégration avec le bon nombre de tranches et on soustrait les deux valeurs pour obtenir le temps nécessaire au calcul. Pour la méthode des trapèzes, on utilise $2^{13}=8192$ tranches pour avoir au moins la précision requise. Pour la méthode des trapèzes, par contre, comme le temps de calcul est très long, on calcule seulement les 100 premières portées. On détermine ensuite le temps nécessaire pour la méthode de Romberg et pour la méthode *scipy.integrate.quad* pour les 10 000 protons. On divise ensuite 10 000 (ou 100) protons par le temps obtenu pour connaître le nombre de protons par seconde pour chaque méthode."
   ]
  },
  {
   "cell_type": "code",
   "execution_count": 277,
   "metadata": {},
   "outputs": [
    {
     "name": "stderr",
     "output_type": "stream",
     "text": [
      "<ipython-input-246-98b2c9e6f2e0>:21: RuntimeWarning: divide by zero encountered in double_scalars\n",
      "  const = 2 * np.pi * re**2 * me * c**2 * ne / beta**2\n",
      "<ipython-input-246-98b2c9e6f2e0>:22: RuntimeWarning: divide by zero encountered in log\n",
      "  parenth = np.log(2 * me * c**2 * beta**2 * gamma**2 * te_max / milieu[mil][2]**2) - (2 * beta**2)\n",
      "<ipython-input-277-bdb4173b0b63>:27: IntegrationWarning: The maximum number of subdivisions (50) has been achieved.\n",
      "  If increasing the limit yields no improvement it is advised to analyze \n",
      "  the integrand in order to determine the difficulties.  If the position of a \n",
      "  local difficulty can be determined (singularity, discontinuity) one will \n",
      "  probably gain from splitting up the interval and calling the integrator \n",
      "  on the subranges.  Perhaps a special-purpose integrator should be used.\n",
      "  portees_scipy.append(sp.integrate.quad(integrande, 0, p)[0])\n",
      "<ipython-input-277-bdb4173b0b63>:27: IntegrationWarning: The algorithm does not converge.  Roundoff error is detected\n",
      "  in the extrapolation table.  It is assumed that the requested tolerance\n",
      "  cannot be achieved, and that the returned result (if full_output = 1) is \n",
      "  the best which can be obtained.\n",
      "  portees_scipy.append(sp.integrate.quad(integrande, 0, p)[0])\n"
     ]
    },
    {
     "name": "stdout",
     "output_type": "stream",
     "text": [
      "Temps pour la méthode des trapèzes : 9.626542999991216 secondes\n",
      "Temps pour la méthode de Romberg : 8.598903200007044 secondes\n",
      "Temps pour scipy.integrate.quad : 160.8198996000574 secondes\n",
      "Protons par seconde pour la méthode des trapèzes : 10.38794508060591 protons par seconde\n",
      "Protons par seconde pour la méthode de Romberg : 1162.939012965259 protons par seconde\n",
      "Protons par seconde pour scipy.integrate.quad : 62.18135955108152 protons par seconde\n"
     ]
    }
   ],
   "source": [
    "# Méthode des trapèzes\n",
    "\n",
    "portees_trapeze = []\n",
    "\n",
    "t_1 = timeit.default_timer()\n",
    "for p in sample[:100]:\n",
    "    portees_trapeze.append(portee(13, 0, p, 'eau', 'trapeze'))\n",
    "t_2 = timeit.default_timer()\n",
    "\n",
    "\n",
    "# Méthode de Romberg\n",
    "\n",
    "portees_romberg = []\n",
    "\n",
    "t_3 = timeit.default_timer()\n",
    "for p in sample:\n",
    "    portees_romberg.append(portee(i_romb, 0, p, 'eau', 'romberg'))\n",
    "t_4 = timeit.default_timer()\n",
    "\n",
    "\n",
    "# Fonction scipy.integrate.quad\n",
    "\n",
    "portees_scipy = []\n",
    "\n",
    "t_5 = timeit.default_timer()\n",
    "for p in sample:\n",
    "    portees_scipy.append(sp.integrate.quad(integrande, 0, p)[0])\n",
    "t_6 = timeit.default_timer()\n",
    "\n",
    "\n",
    "print(\"Temps pour la méthode des trapèzes :\", t_2-t_1, \"secondes\")\n",
    "print(\"Temps pour la méthode de Romberg :\", t_4-t_3, \"secondes\")\n",
    "print(\"Temps pour scipy.integrate.quad :\", t_6-t_5, \"secondes\")\n",
    "\n",
    "print(\"Protons par seconde pour la méthode des trapèzes :\", 100 / (t_2-t_1), \"protons par seconde\")\n",
    "print(\"Protons par seconde pour la méthode de Romberg :\", 10000 / (t_4-t_3), \"protons par seconde\")\n",
    "print(\"Protons par seconde pour scipy.integrate.quad :\", 10000 / (t_6-t_5), \"protons par seconde\")"
   ]
  },
  {
   "cell_type": "markdown",
   "metadata": {},
   "source": [
    "### 11 - Histogramme des portées pour 10000 protons\n",
    "\n",
    "On trace un histogramme des portées obtenues pour les 10 000 protons:"
   ]
  },
  {
   "cell_type": "code",
   "execution_count": null,
   "metadata": {},
   "outputs": [],
   "source": [
    "groupes_2 = [110, 120, 130, 140, 150, 160, 170, 180, 200, 210, 220, 240, 250, 260]\n",
    "\n",
    "sns.set_style(\"ticks\")\n",
    "\n",
    "plt.figure(figsize=(6,4))\n",
    "plt.hist(portees_trapeze, bins=groupes_2)\n",
    "plt.title(\"Méthode des trapèzes\", fontsize=12)\n",
    "plt.xlabel('Portée [cm]', fontsize=12)\n",
    "plt.ylabel('Nombre de protons', fontsize=12)\n",
    "plt.show()\n",
    "\n",
    "plt.figure(figsize=(6,4))\n",
    "plt.hist(portees_romberg, bins=groupes_2)\n",
    "plt.title(\"Méthode de Romberg\", fontsize=12)\n",
    "plt.xlabel('Portée [cm]', fontsize=12)\n",
    "plt.ylabel('Nombre de protons', fontsize=12)\n",
    "plt.show()\n",
    "\n",
    "plt.figure(figsize=(6,4))\n",
    "plt.hist(portees_scipy, bins=groupes_2)\n",
    "plt.title(\"Fonction native de scipy\", fontsize=12)\n",
    "plt.xlabel('Portée [cm]', fontsize=12)\n",
    "plt.ylabel('Nombre de protons', fontsize=12)\n",
    "plt.show()"
   ]
  },
  {
   "cell_type": "markdown",
   "metadata": {},
   "source": [
    "Figures 7, 8 et 9 - Histogrammes de portée pour la méthode des trapèzes, de Romberg et la fonction native de SciPy"
   ]
  },
  {
   "cell_type": "markdown",
   "metadata": {},
   "source": [
    "Tout d'abord, on observe que, dans les trois cas, le pic se situe entre 14 et 15 cm, ce qui concorde avec la portée calculée pour un proton de 150 MeV. On observe aussi que les trois méthodes semblent former une distribution de Moyal. Cela est logique, car les données étaient basées sur un échantillon d'une distribution de Moyal. Il est intéressant de noter que la distribution semble se rapprocher plus de Moyal pour Romberg et *scipy*. Cela est encore une fois conforme aux attentes, car, pour des raisons de temps d'exécution, l'échantillon de la méthode des trapèzes est 10 fois plus petit que celui des deux autres méthodes. On observe aussi, tel que prévu, que les résultats de Romberg et de *scipy* sont très similaires."
   ]
  },
  {
   "cell_type": "markdown",
   "metadata": {},
   "source": [
    "## Énergie déposée"
   ]
  },
  {
   "cell_type": "markdown",
   "metadata": {},
   "source": [
    "### 12 - Transport des protons et dépôt d'énergie en fonction de la profondeur"
   ]
  },
  {
   "cell_type": "markdown",
   "metadata": {},
   "source": [
    "Comme le but de caractériser le passage des protons dans le milieu est important pour les applications en protonthérapie, on veut maintenant caractériser le dépôt d'énergie dans le milieu. On sait que, lorsque le proton passe d'une énergie $T_i$ à une énergie $T_f$, le pas de déplacement $s$ du proton est donné par\n",
    "$$s = \\int_{T_f}^{T_i}\\frac{\\text{d}T'}{S_{col}}$$\n",
    "Pour un pas infinitésimal $\\text{d}s$, on a donc\n",
    "$$\\text{d}s = \\frac{\\text{d}T'}{S_{col}(T)}$$\n",
    "$$\\text{d}T' = S_{col}(T)\\text{d}s$$\n",
    "On a donc une expression pour le dépôt infinitésimal d'énergie pour un pas infinitésimal à une énergie $T$ donnée. La fonction *energie_dep* représente cette expression en prenant en argument une valeur de pas $\\text{d}s$, une énergie cinétique initiale $T_i$ et le milieu de propagation. Elle retourne ensuite un *array numpy* à 1 dimensions de valeurs de profondeur allant de 0 à 20 cm avec une liste de valeurs d'énergie déposée. La fonction calcule de façon itérative l'énergie déposée pour chaque pas et soustrait la valeur calculée à l'énergie cinétique du proton avant la prochaine itération. Le processus itératif arrête lorsque la valeur d'énergie cinétique est égale ou inférieure à $T_f$. On considère donc l'énergie cinétique de tout proton ayant une énergie cinétique égale ou inférieur à $T_f$ comme nulle."
   ]
  },
  {
   "cell_type": "code",
   "execution_count": null,
   "metadata": {},
   "outputs": [],
   "source": [
    "# Retourne l'énergie déposée en fonction de la profondeur [cm] et [MeV]\n",
    "# T_i : énergie cinétique initiale [MeV]\n",
    "# T_f : valeur minimale d'énergie [MeV]\n",
    "# ds : longueur du pas [cm], 15 doit être un multiple de ds\n",
    "# mil : milieu de propagation (\"eau\" ou \"os\")\n",
    "\n",
    "def energie_dep(T_i, T_f, ds, mil):\n",
    "    N = 15 / ds\n",
    "    x = np.linspace(0, 15, int(N))\n",
    "    T = T_i\n",
    "    dT = []\n",
    "    for i in x:\n",
    "        if T > 3:\n",
    "            dT.append(pouvoir_arret(T, mil) / 100)\n",
    "            T = T - pouvoir_arret(T, mil) * ds/100\n",
    "        else:\n",
    "            dT.append(0)\n",
    "    return x, dT"
   ]
  },
  {
   "cell_type": "markdown",
   "metadata": {},
   "source": [
    "On peut maintenant déterminer l'énergie déposée en foonction de la profondeur pour un proton ayant une énergie initiale de 150 MeV. Comme notre modèle théorique ne représente pas bien la réalité pour des protons ayant une énergie égale ou inférieure à 3 MeV, on utilise cette valeur comme borne inférieure. On utilise un pas de 0,01 mm. On trace l'énergie déposée obtenue en fonction de la profondeur."
   ]
  },
  {
   "cell_type": "code",
   "execution_count": null,
   "metadata": {},
   "outputs": [],
   "source": [
    "# Eau liquide\n",
    "x_e, dT_e = energie_dep(150, 3, 0.001, \"eau\")\n",
    "\n",
    "# Os compact\n",
    "x_o, dT_o = energie_dep(150, 3, 0.001, \"os\")\n",
    "\n",
    "sns.set_style(\"ticks\")\n",
    "energie_dep_fig = plt.figure(figsize=(8,5))\n",
    "plt.plot(x_e, dT_e, label='Eau liquide')\n",
    "plt.plot(x_o, dT_o, label='Os compact')\n",
    "plt.xlabel('Profondeur [cm]', fontsize=14)\n",
    "plt.ylabel(\"Énergie déposée [MeV/cm]\", fontsize=14)\n",
    "plt.legend()\n",
    "plt.show()"
   ]
  },
  {
   "cell_type": "markdown",
   "metadata": {},
   "source": [
    "Figure 10. Profondeur en fonction de l'énergie déposée pour l'eau et l'os compact\n",
    "\n",
    "\n",
    "On observe que l'énergie déposée dans l'os compact tombe à 0 autour de 8 cm, tandis que celle dans l'eau liquide tombe à 0 autour de 14 cm. Les valeurs calculées précédemment par notre code sont:"
   ]
  },
  {
   "cell_type": "code",
   "execution_count": null,
   "metadata": {},
   "outputs": [],
   "source": [
    "portee_os = portee(11,3,150,\"os\",\"romberg\") / milieu[\"os\"][1] /10\n",
    "portee_eau = portee(11,3,150,\"eau\",\"romberg\") / milieu[\"eau\"][1] /10\n",
    "\n",
    "print(\"Portée de l'os compact:\", portee_os,f\"cm. L'erreur est de {(portee_os-8)/8*100}%\")\n",
    "print(\"Portée de l'eau:\", portee_eau,f\"cm. L'erreur est de {(portee_eau-14)/14*100}%\")"
   ]
  },
  {
   "cell_type": "markdown",
   "metadata": {},
   "source": [
    "### 13 - Pic de Bragg\n",
    "\n",
    "On remarque également que l'énergie déposée augmente drastiquement lorsque l'énergie cinétique du proton est faible. Ce comportement se nomme le pic de Bragg du proton [7] et a des applications importantes en protonthérapie. Lorsque l'on envoie des protons dans un patient, on veut causer le plus de dommages possibles à la tumeur ciblée tout en causant le moins de dommages possibles au reste du corps. Grâce au comportement des protons, il est possible de leur donner une énergie cinétique particulière afin que le pic de Bragg se situe dans la zone ciblée. Ce faisant, on maximise le dépot d'énergie et donc les dommages causés dans la zone ciblée tout en minimisant le dépot d'énergie sur le reste du trajet du proton."
   ]
  },
  {
   "cell_type": "markdown",
   "metadata": {},
   "source": [
    "### 14 - Nécessité de calculer les portées jusqu'à la précision machine\n",
    "\n",
    "Toutefois, il n'est pas nécessaire de calculer la portée des protons jusqu'à la précision machine en protonthérapie, car ce calcul ne serait pas significatif de toute façon. Tout d'abord, notre modèle théorique ne représente pas bien ce que se passe lorsque la proton a une énergie inférieur à 3 MeV et ne tient pas compte de toutes les causes du pouvoir d'arrêt, donc il y a plusieurs incertitudes qui sont plus importantes que la précision machine. Même si utilisait un modèle théorique qui nous permet de calculer la portée du proton jusqu'à une énergie de 0 MeV avec la précision machine, ce calcul serait quand même beaucoup plus précis que nécessaire, car les faisceaux de protons utilisés en pratique vont varier de plus que la précision machine. En effet, la variation dans la portée d'un faisceau de protons d'une énergie cinétique de 50 MeV est d'environ 1 mm [8], ce qui est environ $10^{15}$ fois plus grand que la précision machine. Il n'y a donc pas de raisons pratiques de calculer la portée avec une telle précision."
   ]
  },
  {
   "cell_type": "markdown",
   "metadata": {},
   "source": [
    "### 15 - En quoi les protons sont-ils préférables aux photons pour traiter un mélanome oculaire ?\n",
    "\n",
    "À cause de sa grande précision dans son dépot d'énergie, la protonthérapie est souvent utilisée pour traiter les mélanomes oculaires. Cette méthode de traitement permet de causer des dommages à la tumeur en déposant moins d'énergie dans les structures sensibles de l'oeil [9]. La radiothérapie classique, qui consiste à envoyer des photons sur la tumeur, cause plus de dommages aux tissus non ciblés. En effet, en protonthérapie, les dommages aux tissus en santé seraient réduis de 60 % par rapport à l'envoi de photons [10]. Cet effet est causé entre autres par le pic de Bragg des protons, qui permet de concentrer le dépôt d'énergie. Cette caractéristique est très importante dans le cas d'un mélanome oculaire, car elle permet de mieux protéger les structures de l'oeil qui sont en santé."
   ]
  },
  {
   "cell_type": "markdown",
   "metadata": {},
   "source": [
    "### 16 - Est-il réaliste d'approximer que les protons voyagent en ligne droite?\n",
    "\n",
    "Dans notre modèle, il est important de souligner que nous avons considéré que les protons voyagaient simplement en ligne droite dans la matière. Ce n'est évidemment pas totalement réaliste, car les interactions entre les protons est les électrons du milieu peuvent faire dévier le proton de sa trajectoire. Pour améliorer notre modèle, il faudrait modéliser la trajectoire des protons en 3D en prenant en compte les effets qui peuvent modifier la trajectoire de celui-ci. On pourrait alors avoir une meilleure idée de la proportion de protons qui seront déviés de leur trajectoire et de la distribution du dépôt d'énergie en 3D. Il serait important de modéliser ces aspects pour des traitements en protonthérapie, car elles permettraient d'évaluer les dommages possibles causés aux structures qui ne se situent pas directement sur la trajectoire du faisceau de protons."
   ]
  },
  {
   "cell_type": "markdown",
   "metadata": {},
   "source": [
    "## Médiagraphie\n",
    "\n",
    "[1] NIST. “Fundamental Physical Constants from NIST”. Consulté le 15 février 2022. https://physics.nist.gov/cuu/Constants/.\n",
    "\n",
    "[2] NIST. “Compositions of Materials Used in STAR Databases”. Consulté le 15 février 2022. https://physics.nist.gov/cgi-bin/Star/compos.pl?ap.\n",
    "\n",
    "[3] NIST. “Stopping-power and range tables for protons”. Consulté le 16 février 2022. https://physics.nist.gov/PhysRefData/Star/Text/PSTAR.html.\n",
    "\n",
    "[4] NIST. “Stopping-power and range tables for electrons”. Consulté le 16 février 2022. https://physics.nist.gov/PhysRefData/Star/Text/ESTAR.html.\n",
    "\n",
    "[5] NEWMANN, M. 2013. “Computational physics”. Section 5.4 : *Romberg Integration*.\n",
    "\n",
    "[6] NEWMANN, M. 2013. “Computational physics”. Section 5.2 : *Errors on Integrals*.\n",
    "\n",
    "[7] PROTON THERAPY TODAY, “Why is proton therapy a preferable option, and what is the Bragg peak?”. Consulté le 17 février 2022. http://www.proton-therapy-today.com/what-is-proton-therapy/why-is-proton-therapy-a-preferable-option-and-what-is-the-bragg-peak/.\n",
    "\n",
    "[8] KIM, J-W. 2009. “Why is proton therapy a preferable option, and what is the Bragg peak?”. *Journal of the Korean Physical Society* Consulté le 17 février 2022. https://www.jkps.or.kr/journal/view.html?volume=55&number=4&spage=1673&year=2009.\n",
    "\n",
    "[9] PAPAKOSTAS, T. D. LANE, A-M. MORRISON, M. 2017. “Long-term Outcomes After Proton Beam Irradiation in Patients With Large Choroidal Melanomas”. Consulté le 17 février 2022. https://jamanetwork.com/journals/jamaophthalmology/fullarticle/2657208.\n",
    "\n",
    "[10] MEDICAL NEWS TODAY. “Proton therapy as an option for treating cancer”. Consulté le 17 février 2022. https://www.medicalnewstoday.com/articles/268629."
   ]
  }
 ],
 "metadata": {
  "interpreter": {
   "hash": "5f106e3fe48bc89d6ec00d4b7b471cc3e52c569cd06a7f87d50c33db7823905d"
  },
  "kernelspec": {
   "display_name": "Python 3.7.4 64-bit ('base': conda)",
   "language": "python",
   "name": "python3"
  },
  "language_info": {
   "codemirror_mode": {
    "name": "ipython",
    "version": 3
   },
   "file_extension": ".py",
   "mimetype": "text/x-python",
   "name": "python",
   "nbconvert_exporter": "python",
   "pygments_lexer": "ipython3",
   "version": "3.8.3"
  },
  "orig_nbformat": 4
 },
 "nbformat": 4,
 "nbformat_minor": 2
}
