{
 "cells": [
  {
   "cell_type": "markdown",
   "metadata": {},
   "source": [
    "# TP4"
   ]
  },
  {
   "cell_type": "markdown",
   "metadata": {},
   "source": [
    "## Constantes et modules"
   ]
  },
  {
   "cell_type": "code",
   "execution_count": 17,
   "metadata": {},
   "outputs": [],
   "source": [
    "import numpy as np\n",
    "import matplotlib.pyplot as plt\n",
    "from matplotlib.animation import FuncAnimation, FFMpegWriter\n",
    "%matplotlib inline"
   ]
  },
  {
   "cell_type": "markdown",
   "metadata": {},
   "source": [
    "## FTCS et l’équation d’onde"
   ]
  },
  {
   "cell_type": "markdown",
   "metadata": {},
   "source": [
    "### Question 3"
   ]
  },
  {
   "cell_type": "markdown",
   "metadata": {},
   "source": [
    "On veut caractériser les oscillations d'une corde de piano de longueur $L$ fixée aux deux bouts. La corde est frappée par un marteau à une distance $d$ d'une de ses extrémités. La situation est représentée à la figure $\\textcolor{red}{\\text{N}}$."
   ]
  },
  {
   "cell_type": "markdown",
   "metadata": {},
   "source": [
    "<center><img src=\"Q3_schéma.JPG\" style=\"width: 600px;\"/></center>\n",
    "<center>Figure N. AJOUTER LE TITRE ET LA REF AUX CONSIGNES"
   ]
  },
  {
   "cell_type": "markdown",
   "metadata": {},
   "source": [
    "$$\\textcolor{red}{\\text{AJOUTER LA REF ET LE TITER ET LE NO DE FIGURE}}$$"
   ]
  },
  {
   "cell_type": "markdown",
   "metadata": {},
   "source": [
    "On sait que le comportement de la corde tendue respecte l'équation d'onde en une dimension. L'équation d'onde à une dimension correspond à :\n",
    "$$\\frac{\\partial^2\\phi}{\\partial t^2} = v^2\\frac{\\partial^2\\phi}{\\partial x^2}$$\n",
    "On doit adapter cette équation afin de pouvoir la résoudre numériquement. Pour ce faire, on divise la corde en $N$ petits intervalles de longueur $a$. La dérivée par rapport à $x$ peut alors être approximée par une forme discrète :\n",
    "$$\\frac{\\partial^2\\phi}{\\partial x^2} = \\frac{1}{a^2}[\\phi(x+a,t) + \\phi(x-a, t) - 2\\phi(x,t)]$$\n",
    "En remplaçant dans l'équation d'onde, on obtient l'équation différentielle totale suivante :\n",
    "$$\\frac{\\partial^2\\phi}{\\partial t^2} = \\frac{v^2}{a^2}[\\phi(x+a,t) + \\phi(x-a, t) - 2\\phi(x,t)]$$\n",
    "On veut maintenant convertir l'équation différentielle d'ordre 2 en un système de 2 équations différentielles d'ordre 1. En posant le changement de variable $\\psi(x,t) = \\frac{\\text{d}\\phi}{\\text{d}t}$, on obtient le système d'équations suivant :\n",
    "$$\\psi(x,t) = \\frac{\\text{d}\\phi}{\\text{d}t}$$\n",
    "$$\\frac{\\text{d}\\psi}{\\text{d}t} = \\frac{v^2}{a^2}[\\phi(x+a,t) + \\phi(x-a, t) - 2\\phi(x,t)]$$\n",
    "En utilisant la méthode d'Euler avec un pas temporel $h$, on obtient les équations FTCS suivantes :\n",
    "$$\\phi(x,t+h) = \\phi(x, t) + h\\psi(x, t)$$\n",
    "$$\\psi(x, t+h) = \\psi(x, t) + h\\frac{v^2}{a^2}[\\phi(x+a,t) + \\phi(x-a, t) - 2\\phi(x,t)]$$\n",
    "On peut maintenant déterminer numériquement le comportement de la corde pour les conditions initiales données dans l'énoncé.  On a donc une corde de longueur $L=1$ m, de diamètre $d=10$ cm, avec $v=100\\ \\text{ms}^{-1}$. Initialement, on a $\\phi(x)=0$ et\n",
    "$$\\psi(x) = C\\frac{x(L-x)}{L^2}e^{-\\frac{(x-d)^2}{2\\sigma^2}}$$\n",
    "où $C=1\\ \\text{ms}^{-1}$ et $\\sigma = 0,3$ m."
   ]
  },
  {
   "cell_type": "markdown",
   "metadata": {},
   "source": [
    "On code la fonction *corde_FTCS*. Cette fonction prend en argument les *arrays* *phi_0* [m] et *psi_0* [m/s], qui correspondent respectivement aux conditions initiales $\\phi(x)$ et $\\psi(x)$, ainsi que la longueur *L* [m] de la corde, le nombre *N* de tranches spatiales, la valeur finale de temps *t_f* [s] qui nous intéresse, le nombre *N_t* de tranches temporelles et la valeur du paramètre *v* [$\\text{s}^{-1}$]. La fonction détermine d'abord la valeur des pas temporel *h* et spatial *a* à partir des valeurs de *L*, *N*, *t_f* et *N_t*. La fonction utilise ensuite les équations FTCS déterminées plus haut afin de calculer de manière itérative les valeurs de $\\phi$ et de $\\psi$ pour chaque valeur de temps $t$. Elle retourne ensuite les valeurs de temps *t* dans un *array numpy* à une dimension et les valeurs de *phi* et de *psi* séparément dans deux *arrays numpy* à 2 dimensions où chaque ligne représente un incrément de temps."
   ]
  },
  {
   "cell_type": "code",
   "execution_count": 18,
   "metadata": {},
   "outputs": [],
   "source": [
    "# Méthode FTCS pour déterminer le comportement de la corde\n",
    "# Arguments:\n",
    "# phi_0 : array 1D des valeurs initiales de phi [m]\n",
    "# psi_0 : array 1D des valeurs initiales de psi [m/s]\n",
    "# L : longueur de la corde [m]\n",
    "# N : nombre de divisions en x [-]\n",
    "# t_f : valeur maximale de temps [s]\n",
    "# N_t : nombre de divisions en t [-]\n",
    "# v : valeur du paramètre v [s^(-1)]\n",
    "# Retourne :\n",
    "# t : array numpy 1D représentant les valeurs de temps [s]\n",
    "# phi : array numpy 2D des valeurs de phi ou chaque rangée est associée \n",
    "#       à une valeur de temps et chaque colonne à une position [m]\n",
    "# psi : array numpy 2D des valeurs de psi ou chaque rangée est associée \n",
    "#       à une valeur de temps et chaque colonne à une position [m/s]\n",
    "\n",
    "def corde_FTCS(phi_0, psi_0, L, N, t_f, N_t, v):\n",
    "    # pas temporel et spatial\n",
    "    h = t_f / N_t\n",
    "    a = L / N\n",
    "    \n",
    "    # variables indépendantes\n",
    "    t = np.linspace(0, t_f, N_t)\n",
    "    x = np.linspace(0, L, N)\n",
    "\n",
    "    # valeurs initiales en listes\n",
    "    phi = [list(phi_0)]\n",
    "    psi = [list(psi_0)]\n",
    "\n",
    "    # processus itératif en listes (zéro au début et à la fin pour les bouts fixes)\n",
    "    for i in range(len(t)):\n",
    "        psi_i = [0]\n",
    "        phi_i = [0]\n",
    "        for j in range(len(x))[1:-1]:\n",
    "            phi_j = phi[i][j] + h*psi[i][j]\n",
    "            psi_j = psi[i][j] + h*v**2/a**2 * (phi[i][j+1] + phi[i][j-1] - 2*phi[i][j])\n",
    "            phi_i.append(phi_j)\n",
    "            psi_i.append(psi_j)\n",
    "        phi_i.append(0)\n",
    "        psi_i.append(0)\n",
    "        phi.append(phi_i)\n",
    "        psi.append(psi_i)\n",
    "    \n",
    "    # conversion en array\n",
    "    return t, np.array(phi), np.array(psi)"
   ]
  },
  {
   "cell_type": "markdown",
   "metadata": {},
   "source": [
    "On peut maintenant déterminer le comportement de la corde de $t=0$ à $t=100$ ms pour les valeurs de paramètres et les valeurs initiales données."
   ]
  },
  {
   "cell_type": "code",
   "execution_count": 19,
   "metadata": {},
   "outputs": [],
   "source": [
    "# données\n",
    "L = 1\n",
    "N = 100\n",
    "t_f = 0.1\n",
    "h = 10**(-6)\n",
    "N_t = int(t_f / h)\n",
    "C = 1\n",
    "d = 0.1\n",
    "sigma = 0.3\n",
    "v = 100\n",
    "\n",
    "# conditions initiales\n",
    "init_phi = np.zeros(N)\n",
    "x = np.linspace(0, L, N)\n",
    "init_psi = C*x*(L-x) / L**2 * np.exp(-(x-d)**2 / (2*sigma**2))\n",
    "\n",
    "t, phi, psi = corde_FTCS(init_phi, init_psi, L, N, t_f, N_t, v)"
   ]
  },
  {
   "cell_type": "markdown",
   "metadata": {},
   "source": [
    "On représente graphiquement la position de la corde au temps $t=100$ ms."
   ]
  },
  {
   "cell_type": "code",
   "execution_count": 20,
   "metadata": {},
   "outputs": [
    {
     "data": {
      "image/png": "[encoded data removed]",
      "text/plain": [
       "<Figure size 720x144 with 1 Axes>"
      ]
     },
     "metadata": {},
     "output_type": "display_data"
    }
   ],
   "source": [
    "# représentation graphique à t=0.1\n",
    "fig1 = plt.figure(figsize=(10, 2))\n",
    "fig1.patch.set_facecolor('white')\n",
    "plt.xlabel('$x$ [m]')\n",
    "plt.ylabel('$\\phi$ [m]')\n",
    "plt.plot(x, phi[-1])\n",
    "plt.title(\"Position de la corde à $t=100$ ms\")\n",
    "plt.show()"
   ]
  },
  {
   "cell_type": "markdown",
   "metadata": {},
   "source": [
    "Ce résultat, qui ne correspond pas à ce à quoi on s'attend physiquement, semble indiquer que la solution donnée par la méthode FTCS s'éloigne de la solution physique lorsque le temps avance. On pourra mieux observer ce comportement à la question 4 grâce à une animation."
   ]
  },
  {
   "cell_type": "markdown",
   "metadata": {},
   "source": [
    "### Question 4"
   ]
  },
  {
   "cell_type": "markdown",
   "metadata": {},
   "source": [
    "On veut maintenant observer le comportement de la corde dans l'intervalle de temps. Pour ce faire, on veut représenter les résultats obtenus à la question 3 dans une animation. Pour ce faire, on utilise la fonction *FuncAnimation* du module *matplotlib.animation*. À FINIR APRÈS AVOIR FAIT MARCHER TOUT ÇA"
   ]
  },
  {
   "cell_type": "code",
   "execution_count": 21,
   "metadata": {},
   "outputs": [
    {
     "data": {
      "image/png": "[encoded data removed]",
      "text/plain": [
       "<Figure size 432x288 with 1 Axes>"
      ]
     },
     "metadata": {
      "needs_background": "light"
     },
     "output_type": "display_data"
    }
   ],
   "source": [
    "# création de la figure et la ligne qui contiendra les données\n",
    "fig2 = plt.figure()\n",
    "ax = plt.axes(xlim=(0, 1), ylim=(-0.001, 0.001))\n",
    "line, = ax.plot([], [], lw=2)\n",
    "\n",
    "# 1 frame pour 50 itérations temporelles\n",
    "phi_anim = phi[::100]\n",
    "psi_anim = psi[::100]\n",
    "\n",
    "# fonction d'initialisation\n",
    "def fonc_init():\n",
    "    line.set_data([], [])\n",
    "    return line,\n",
    "\n",
    "# fonction d'animation\n",
    "def anim(i):\n",
    "    x = np.linspace(0, 1, 100)\n",
    "    y = phi_anim[i]\n",
    "    line.set_data(x, y)\n",
    "    return line,\n",
    "\n",
    "# animation\n",
    "corde1 = FuncAnimation(fig2, anim, init_func=fonc_init, frames=1000, interval=10, repeat=False)\n",
    "writervideo = FFMpegWriter(fps=60)\n",
    "corde1.save(\"corde1.mp4\", writer=writervideo)\n",
    "\n",
    "plt.show()"
   ]
  }
 ],
 "metadata": {
  "interpreter": {
   "hash": "6537d6febe7fb1246163fe1377d17bbfd38b19cd973b106333eb66b4dd5f3e76"
  },
  "kernelspec": {
   "display_name": "Python 3.8.2 64-bit",
   "language": "python",
   "name": "python3"
  },
  "language_info": {
   "codemirror_mode": {
    "name": "ipython",
    "version": 3
   },
   "file_extension": ".py",
   "mimetype": "text/x-python",
   "name": "python",
   "nbconvert_exporter": "python",
   "pygments_lexer": "ipython3",
   "version": "3.8.2"
  },
  "orig_nbformat": 4
 },
 "nbformat": 4,
 "nbformat_minor": 2
}
