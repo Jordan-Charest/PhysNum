{
 "cells": [
  {
   "cell_type": "markdown",
   "metadata": {},
   "source": [
    "# TP4"
   ]
  },
  {
   "cell_type": "markdown",
   "metadata": {},
   "source": [
    "## Constantes et modules"
   ]
  },
  {
   "cell_type": "code",
   "execution_count": 83,
   "metadata": {},
   "outputs": [],
   "source": [
    "import numpy as np\n",
    "import matplotlib.pyplot as plt"
   ]
  },
  {
   "cell_type": "markdown",
   "metadata": {},
   "source": [
    "## FTCS et l’équation d’onde"
   ]
  },
  {
   "cell_type": "markdown",
   "metadata": {},
   "source": [
    "### Question 3"
   ]
  },
  {
   "cell_type": "markdown",
   "metadata": {},
   "source": [
    "On veut caractériser les oscillations d'une corde de piano de longueur $L$ fixée aux deux bouts. La corde est frappée par un marteau à une distance $d$ d'une de ses extrémités. La situation est représentée à la figure $\\textcolor{red}{\\text{N}}$."
   ]
  },
  {
   "cell_type": "markdown",
   "metadata": {},
   "source": [
    "<center><img src=\"Q3_schéma.JPG\" style=\"width: 600px;\"/></center>\n",
    "<center>Figure N. AJOUTER LE TITRE ET LA REF AUX CONSIGNES"
   ]
  },
  {
   "cell_type": "markdown",
   "metadata": {},
   "source": [
    "$$\\textcolor{red}{\\text{AJOUTER LA REF ET LE TITER ET LE NO DE FIGURE}}$$"
   ]
  },
  {
   "cell_type": "markdown",
   "metadata": {},
   "source": [
    "On sait que le comportement de la corde tendue respecte l'équation d'onde en une dimension. L'équation d'onde à une dimension correspond à :\n",
    "$$\\frac{\\partial^2\\phi}{\\partial t^2} = v^2\\frac{\\partial^2\\phi}{\\partial x^2}$$\n",
    "On doit adapter cette équation afin de pouvoir la résoudre numériquement. Pour ce faire, on divise la corde en $N$ petits intervalles de longueur $a$. La dérivée par rapport à $x$ peut alors être approximée par une forme discrète :\n",
    "$$\\frac{\\partial^2\\phi}{\\partial x^2} = \\frac{1}{a^2}[\\phi(x+a,t) + \\phi(x-a, t) - 2\\phi(x,t)]$$\n",
    "En remplaçant dans l'équation d'onde, on obtient l'équation différentielle totale suivante :\n",
    "$$\\frac{\\partial^2\\phi}{\\partial t^2} = \\frac{v^2}{a^2}[\\phi(x+a,t) + \\phi(x-a, t) - 2\\phi(x,t)]$$\n",
    "On veut maintenant convertir l'équation différentielle d'ordre 2 en un système de 2 équations différentielles d'ordre 1. En posant le changement de variable $\\psi(x,t) = \\frac{\\text{d}\\phi}{\\text{d}t}$, on obtient le système d'équations suivant :\n",
    "$$\\psi(x,t) = \\frac{\\text{d}\\phi}{\\text{d}t}$$\n",
    "$$\\frac{\\text{d}\\psi}{\\text{d}t} = \\frac{v^2}{a^2}[\\phi(x+a,t) + \\phi(x-a, t) - 2\\phi(x,t)]$$\n",
    "En utilisant la méthode d'Euler avec un pas temporel $h$, on obtient les équations FTCS suivantes :\n",
    "$$\\phi(x,t+h) = \\phi(x, t) + h\\psi(x, t)$$\n",
    "$$\\psi(x, t+h) = \\psi(x, t) + h\\frac{v^2}{a^2}[\\phi(x+a,t) + \\phi(x-a, t) - 2\\phi(x,t)]$$\n",
    "On peut maintenant déterminer numériquement le comportement de la corde pour les conditions initiales données dans l'énoncé.  On a donc une corde de longueur $L=1$ m, de diamètre $d=10$ cm, avec $v=100\\ \\text{ms}^{-1}$. Initialement, on a $\\phi(x)=0$ et\n",
    "$$\\psi(x) = C\\frac{x(L-x)}{L^2}e^{-\\frac{(x-d)^2}{2\\sigma^2}}$$\n",
    "où $C=1\\ \\text{ms}^{-1}$ et $\\sigma = 0,3$ m."
   ]
  },
  {
   "cell_type": "markdown",
   "metadata": {},
   "source": [
    "On code la fonction *corde_FTCS*. Cette fonction prend en argument les *arrays* *phi_0* [m] et *psi_0* [m/s], qui correspondent respectivement aux conditions initiales $\\phi(x)$ et $\\psi(x)$, ainsi que la longueur *L* [m] de la corde, le nombre *N* de tranches spatiales, la valeur finale de temps *t_f* [s] qui nous intéresse, le nombre *N_t* de tranches temporelles et la valeur du paramètre *v* [$\\text{s}^{-1}$]. La fonction détermine d'abord la valeur des pas temporel *h* et spatial *a* à partir des valeurs de *L*, *N*, *t_f* et *N_t*. La fonction utilise ensuite les équations FTCS déterminées plus haut afin de calculer de manière itérative les valeurs de $\\phi$ et de $\\psi$ pour chaque valeur de temps $t$. Elle retourne ensuite les valeurs de temps *t* dans un *array numpy* à une dimension et les valeurs de *phi* et de *psi* séparément dans deux *arrays numpy* à 2 dimensions où chaque ligne représente un incrément de temps."
   ]
  },
  {
   "cell_type": "code",
   "execution_count": 118,
   "metadata": {},
   "outputs": [],
   "source": [
    "# Méthode FTCS pour déterminer le comportement de la corde\n",
    "# Arguments:\n",
    "# phi_0 : array 1D des valeurs initiales de phi [m]\n",
    "# psi_0 : array 1D des valeurs initiales de psi [m/s]\n",
    "# L : longueur de la corde [m]\n",
    "# N : nombre de divisions en x [-]\n",
    "# t_f : valeur maximale de temps [s]\n",
    "# N_t : nombre de divisions en t [-]\n",
    "# v : valeur du paramètre v [s^(-1)]\n",
    "# Retourne :\n",
    "# t : array numpy 1D représentant les valeurs de temps [s]\n",
    "# phi : array numpy 2D des valeurs de phi ou chaque rangée est associée \n",
    "#       à une valeur de temps et chaque colonne à une position [m]\n",
    "# psi : array numpy 2D des valeurs de psi ou chaque rangée est associée \n",
    "#       à une valeur de temps et chaque colonne à une position [m/s]\n",
    "\n",
    "def corde_FTCS(phi_0, psi_0, L, N, t_f, N_t, v):\n",
    "    # pas temporel et spatial\n",
    "    h = t_f / N_t\n",
    "    a = L / N\n",
    "    \n",
    "    # variables indépendantes\n",
    "    t = np.linspace(0, t_f, N_t)\n",
    "    x = np.linspace(0, L, N)\n",
    "\n",
    "    # valeurs initiales\n",
    "    phi = np.array([phi_0])\n",
    "    psi = np.array([psi_0])\n",
    "\n",
    "    # processus itératif (zéro au début et à la fin pour les bouts fixes)\n",
    "    for i in range(len(t)):\n",
    "        psi_i = [0]\n",
    "        phi_i = [0]\n",
    "        for j in range(len(x))[1:-1]:\n",
    "            phi_j = phi[i][j] + h*psi[i][j]\n",
    "            psi_j = psi[i][j] + h*v**2/a**2 * (phi[i][j+1] + phi[i][j-1] - 2*phi[i][j])\n",
    "            phi_i.append(phi_j)\n",
    "            psi_i.append(psi_j)\n",
    "        phi_i.append(0)\n",
    "        psi_i.append(0)\n",
    "        phi = np.append(phi, np.array([phi_i]), axis=0)\n",
    "        psi = np.append(psi, np.array([psi_i]), axis=0)\n",
    "    \n",
    "    return t, phi, psi"
   ]
  },
  {
   "cell_type": "code",
   "execution_count": 129,
   "metadata": {},
   "outputs": [],
   "source": [
    "# Méthode FTCS pour déterminer le comportement de la corde\n",
    "# Arguments:\n",
    "# phi_0 : array 1D des valeurs initiales de phi [m]\n",
    "# psi_0 : array 1D des valeurs initiales de psi [m/s]\n",
    "# L : longueur de la corde [m]\n",
    "# N : nombre de divisions en x [-]\n",
    "# t_f : valeur maximale de temps [s]\n",
    "# N_t : nombre de divisions en t [-]\n",
    "# v : valeur du paramètre v [s^(-1)]\n",
    "# Retourne :\n",
    "# t : array numpy 1D représentant les valeurs de temps [s]\n",
    "# phi : array numpy 2D des valeurs de phi ou chaque rangée est associée \n",
    "#       à une valeur de temps et chaque colonne à une position [m]\n",
    "# psi : array numpy 2D des valeurs de psi ou chaque rangée est associée \n",
    "#       à une valeur de temps et chaque colonne à une position [m/s]\n",
    "\n",
    "def corde_FTCS_2(phi_0, psi_0, L, N, t_f, N_t, v):\n",
    "    # pas temporel et spatial\n",
    "    h = t_f / N_t\n",
    "    a = L / N\n",
    "    \n",
    "    # variables indépendantes\n",
    "    t = np.linspace(0, t_f, N_t)\n",
    "    x = np.linspace(0, L, N)\n",
    "\n",
    "    # valeurs initiales\n",
    "    phi = np.array([phi_0])\n",
    "    psi = np.array([psi_0])\n",
    "\n",
    "    # processus itératif (zéro au début et à la fin pour les bouts fixes)\n",
    "    for i in range(len(t)):\n",
    "        phi_i = phi[i] + h*psi[i]\n",
    "        psi_i = psi[i][1:-1] + h*v**2/a**2 * (phi[i, :-2] + phi[i, 2:] - 2*phi[i, 1:-1])\n",
    "        psi_i = np.concatenate(([0], psi_i, [0]))\n",
    "        phi = np.append(phi, np.array([phi_i]), axis=0)\n",
    "        psi = np.append(psi, np.array([psi_i]), axis=0)\n",
    "    \n",
    "    return t, phi, psi"
   ]
  },
  {
   "cell_type": "markdown",
   "metadata": {},
   "source": [
    "AJOUTER DES EXPLICATIONS ICI"
   ]
  },
  {
   "cell_type": "code",
   "execution_count": 139,
   "metadata": {},
   "outputs": [],
   "source": [
    "# TEST\n",
    "# TODO: peaufiner\n",
    "\n",
    "# données\n",
    "L = 1\n",
    "N = 100\n",
    "t_f = 0.001\n",
    "h = 10**(-6)\n",
    "N_t = int(t_f / h)\n",
    "C = 1\n",
    "d = 0.1\n",
    "sigma = 0.3\n",
    "v = 100\n",
    "\n",
    "# conditions initiales\n",
    "init_phi = np.zeros(N)\n",
    "x = np.linspace(0, L, N)\n",
    "init_psi = C*x*(L-x) / L**2 * np.exp(-(x-d)**2 / (2*sigma**2))\n",
    "\n",
    "t, phi, psi = corde_FTCS(init_phi, init_psi, L, N, t_f, N_t, v)"
   ]
  },
  {
   "cell_type": "code",
   "execution_count": 150,
   "metadata": {},
   "outputs": [
    {
     "data": {
      "image/png": "[encoded data removed]",
      "text/plain": [
       "<Figure size 720x72 with 1 Axes>"
      ]
     },
     "metadata": {
      "needs_background": "light"
     },
     "output_type": "display_data"
    }
   ],
   "source": [
    "# représentation graphique\n",
    "fig1 = plt.figure(figsize=(10, 1))\n",
    "plt.plot(x, phi[-1])\n",
    "plt.show()"
   ]
  },
  {
   "cell_type": "code",
   "execution_count": 72,
   "metadata": {},
   "outputs": [
    {
     "name": "stdout",
     "output_type": "stream",
     "text": [
      "[1 2]\n",
      "[[1 2]\n",
      " [3 4]\n",
      " [4 5]]\n"
     ]
    }
   ],
   "source": [
    "gggh = np.array([[1, 2], [3, 4]])\n",
    "print(gggh[0])\n",
    "\n",
    "print(np.append(gggh, [[4, 5]], axis=0))"
   ]
  }
 ],
 "metadata": {
  "interpreter": {
   "hash": "6537d6febe7fb1246163fe1377d17bbfd38b19cd973b106333eb66b4dd5f3e76"
  },
  "kernelspec": {
   "display_name": "Python 3.8.2 64-bit",
   "language": "python",
   "name": "python3"
  },
  "language_info": {
   "codemirror_mode": {
    "name": "ipython",
    "version": 3
   },
   "file_extension": ".py",
   "mimetype": "text/x-python",
   "name": "python",
   "nbconvert_exporter": "python",
   "pygments_lexer": "ipython3",
   "version": "3.8.2"
  },
  "orig_nbformat": 4
 },
 "nbformat": 4,
 "nbformat_minor": 2
}
