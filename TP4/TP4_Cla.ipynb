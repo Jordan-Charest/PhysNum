{
 "cells": [
  {
   "cell_type": "markdown",
   "metadata": {},
   "source": [
    "# TP4"
   ]
  },
  {
   "cell_type": "markdown",
   "metadata": {},
   "source": [
    "## Constantes et modules"
   ]
  },
  {
   "cell_type": "code",
   "execution_count": null,
   "metadata": {},
   "outputs": [],
   "source": [
    "import numpy as np\n",
    "import matplotlib.pyplot as plt"
   ]
  },
  {
   "cell_type": "markdown",
   "metadata": {},
   "source": [
    "## FTCS et l’équation d’onde"
   ]
  },
  {
   "cell_type": "markdown",
   "metadata": {},
   "source": [
    "### Question 3"
   ]
  },
  {
   "cell_type": "markdown",
   "metadata": {},
   "source": [
    "On veut caractériser les oscillations d'une corde de piano de longueur $L$ fixée aux deux bouts. La corde est frappée par un marteau à une distance $d$ d'une de ses extrémités. La situation est représentée à la figure $\\textcolor{red}{\\text{N}}$."
   ]
  },
  {
   "cell_type": "markdown",
   "metadata": {},
   "source": [
    "<center><img src=\"Q3_schéma.JPG\" style=\"width: 600px;\"/></center>\n",
    "<center>Figure N. AJOUTER LE TITRE ET LA REF AUX CONSIGNES"
   ]
  },
  {
   "cell_type": "markdown",
   "metadata": {},
   "source": [
    "$$\\textcolor{red}{\\text{AJOUTER LA REF ET LE TITER ET LE NO DE FIGURE}}$$"
   ]
  },
  {
   "cell_type": "markdown",
   "metadata": {},
   "source": [
    "On sait que le comportement de la corde tendue respecte l'équation d'onde en une dimension. L'équation d'onde à une dimension correspond à :\n",
    "$$\\frac{\\partial^2\\phi}{\\partial t^2} = v^2\\frac{\\partial^2\\phi}{\\partial x^2}$$\n",
    "On doit adapter cette équation afin de pouvoir la résoudre numériquement. Pour ce faire, on divise la corde en $N$ petits intervalles de longueur $a$. La dérivée par rapport à $x$ peut alors être approximée par une forme discrète :\n",
    "$$\\frac{\\partial^2\\phi}{\\partial x^2} = \\frac{1}{a^2}[\\phi(x+a,t) + \\phi(x-a, t) - 2\\phi(x,t)]$$\n",
    "En remplaçant dans l'équation d'onde, on obtient l'équation différentielle totale suivante :\n",
    "$$\\frac{\\partial^2\\phi}{\\partial t^2} = \\frac{v^2}{a^2}[\\phi(x+a,t) + \\phi(x-a, t) - 2\\phi(x,t)]$$\n",
    "On veut maintenant convertir l'équation différentielle d'ordre 2 en un système de 2 équations différentielles d'ordre 1. En posant le changement de variable $\\psi(x,t) = \\frac{\\text{d}\\phi}{\\text{d}t}$, on obtient le système d'équations suivant :\n",
    "$$\\psi(x,t) = \\frac{\\text{d}\\phi}{\\text{d}t}$$\n",
    "$$\\frac{\\text{d}\\psi}{\\text{d}t} = \\frac{v^2}{a^2}[\\phi(x+a,t) + \\phi(x-a, t) - 2\\phi(x,t)]$$\n",
    "En utilisant la méthode d'Euler avec un pas temporel $h$, on obtient les équations FTCS suivantes :\n",
    "$$\\phi(x,t+h) = \\phi(x, t) + h\\psi(x, t)$$\n",
    "$$\\psi(x, t+h) = \\psi(x, t) + h\\frac{v^2}{a^2}[\\phi(x+a,t) + \\phi(x-a, t) - 2\\phi(x,t)]$$\n",
    "On peut maintenant déterminer numériquement le comportement de la corde pour les conditions initiales données dans l'énoncé.  On a donc une corde de longueur $L=1$ m, de diamètre $d=10$ cm, avec $v=100\\ \\text{ms}^{-1}$. Initialement, on a $\\phi(x)=0$ et\n",
    "$$\\psi(x) = C\\frac{x(L-x)}{L^2}e^{-\\frac{(x-d)^2}{2\\sigma^2}}$$\n",
    "où $C=1\\ \\text{ms}^{-1}$ et $\\sigma = 0,3$ m."
   ]
  },
  {
   "cell_type": "code",
   "execution_count": null,
   "metadata": {},
   "outputs": [],
   "source": [
    "# on code la méthode FTCS\n",
    "def FTCS(psi_0, phi_0, ):\n",
    "    # on définit les pas temporel et spatial\n",
    "    h = 10**(-6)\n",
    "    a = 10**(-6)\n",
    "    # on code les équations du Newman"
   ]
  }
 ],
 "metadata": {
  "language_info": {
   "name": "python"
  },
  "orig_nbformat": 4
 },
 "nbformat": 4,
 "nbformat_minor": 2
}
