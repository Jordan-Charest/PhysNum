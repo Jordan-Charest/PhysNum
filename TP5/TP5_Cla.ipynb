{
 "cells": [
  {
   "cell_type": "markdown",
   "metadata": {},
   "source": [
    "# TP5"
   ]
  },
  {
   "cell_type": "markdown",
   "metadata": {},
   "source": [
    "## Constantes et modules"
   ]
  },
  {
   "cell_type": "code",
   "execution_count": 1,
   "metadata": {},
   "outputs": [],
   "source": [
    "import numpy as np\n",
    "import matplotlib.pyplot as plt\n",
    "from util import readAngles, readSinogram, saveImage\n",
    "from reconstruction_copie import laminogram"
   ]
  },
  {
   "cell_type": "markdown",
   "metadata": {},
   "source": [
    "## Question 1"
   ]
  },
  {
   "cell_type": "markdown",
   "metadata": {},
   "source": [
    "Dans un but de reconstruction tomographique, on peut modéliser l'atténuation du rayonnement qui passe à travers un objet par la loi de Beer-Lambert:\n",
    "$$I = I_0e^{-\\int\\mu(x)\\text{d}x}$$\n",
    "Sous forme discrétisée, on a:\n",
    "$$I = I_0e^{-\\sum\\mu(x)\\Delta x}$$\n",
    "où $I$  est l'intensité détectée, $I_0$ est l'intensité initiale, $\\mu$ est le coefficient d'atténuation linéaire et $x$ est la distance traversée par les rayons. Sous forme linéaire, on a:\n",
    "$$\\ln\\bigg(\\frac{I_0}{I}\\bigg) = \\sum\\mu(x)\\Delta x$$\n",
    "Pour simplifier le problème, on peut considérer le corps humain comme étant composé d'eau pure. On peut alors déterminer la fraction du signal qui traverse le corps humain en utilisant le coefficient $\\mu$ de l'eau. Selon les données XCOM du NIST [1], En considérant des photons ayant une énergie initiale de 60 keV, l'atténuation dans l'eau est de $2,059\\times10^{-1}\\ \\text{cm}^2/g$. Pour une masse volumique de $1\\ \\text{g/cm}^3$, on obtient le paramètre $\\mu(x)$ suivant:\n",
    "$$\\mu(x) = 2,059\\times10^{-1}\\ \\text{cm}^2/g \\times 1\\ \\text{g/cm}^3 = 2,059\\times10^{-1}\\ \\text{cm}^{-1}$$\n",
    "On peut alors déterminer la fraction du signal qui va être mesurée après avoir parcouru une distance donnée dans l'eau. Pour une distance de 5 cm, on a\n",
    "$$\\frac{I}{I_0} = e^{-\\int \\mu(x)\\\\text{d}x}$$\n",
    "$$\\frac{I}{I_0} = e^{-\\int_0^5 2,059\\times10^{-1}\\text{d}x}$$\n",
    "$$\\frac{I}{I_0} = 0,3572$$\n",
    "On observera donc 35,8 % de l'intensité du faisceau incident pour une distance de 5 cm dans l'eau (ou le corps humain). Pour une distance de 20 cm, on a:\n",
    "$$\\frac{I}{I_0} = e^{-\\int_0^20 2,059\\times10^{-1}\\text{d}x}$$\n",
    "$$\\frac{I}{I_0} = 0,0163$$\n",
    "On mesurera donc 1,63 % de l'intensité du faisceau initial pour une distance de 20 cm parcourue dans l'eau."
   ]
  },
  {
   "cell_type": "markdown",
   "metadata": {},
   "source": [
    "$$\\textcolor{red}{\\text{VÉRIFIER LES RÉPONSES AVEC D'AUTRES GROS CERVOS}}$$"
   ]
  },
  {
   "cell_type": "markdown",
   "metadata": {},
   "source": [
    "## Question 2"
   ]
  },
  {
   "cell_type": "markdown",
   "metadata": {},
   "source": [
    "À REMPLIR QUAND CE SERA FONCTIONNEL"
   ]
  },
  {
   "cell_type": "code",
   "execution_count": 2,
   "metadata": {},
   "outputs": [
    {
     "name": "stdout",
     "output_type": "stream",
     "text": [
      "nbprj: 720\n",
      "angles min and max (rad):\n",
      "[0.008726646259971648, 6.283185307179586]\n",
      "working on image column: 1/96\n",
      "working on image column: 2/96\n",
      "working on image column: 3/96\n",
      "working on image column: 4/96\n",
      "working on image column: 5/96\n",
      "working on image column: 6/96\n",
      "working on image column: 7/96\n",
      "working on image column: 8/96\n",
      "working on image column: 9/96\n",
      "working on image column: 10/96\n",
      "working on image column: 11/96\n",
      "working on image column: 12/96\n",
      "working on image column: 13/96\n",
      "working on image column: 14/96\n",
      "working on image column: 15/96\n",
      "working on image column: 16/96\n",
      "working on image column: 17/96\n",
      "working on image column: 18/96\n",
      "working on image column: 19/96\n",
      "working on image column: 20/96\n",
      "working on image column: 21/96\n",
      "working on image column: 22/96\n",
      "working on image column: 23/96\n",
      "working on image column: 24/96\n",
      "working on image column: 25/96\n",
      "working on image column: 26/96\n",
      "working on image column: 27/96\n",
      "working on image column: 28/96\n",
      "working on image column: 29/96\n",
      "working on image column: 30/96\n",
      "working on image column: 31/96\n",
      "working on image column: 32/96\n",
      "working on image column: 33/96\n",
      "working on image column: 34/96\n",
      "working on image column: 35/96\n",
      "working on image column: 36/96\n",
      "working on image column: 37/96\n",
      "working on image column: 38/96\n",
      "working on image column: 39/96\n",
      "working on image column: 40/96\n",
      "working on image column: 41/96\n",
      "working on image column: 42/96\n",
      "working on image column: 43/96\n",
      "working on image column: 44/96\n",
      "working on image column: 45/96\n",
      "working on image column: 46/96\n",
      "working on image column: 47/96\n",
      "working on image column: 48/96\n",
      "working on image column: 49/96\n",
      "working on image column: 50/96\n",
      "working on image column: 51/96\n",
      "working on image column: 52/96\n",
      "working on image column: 53/96\n",
      "working on image column: 54/96\n",
      "working on image column: 55/96\n",
      "working on image column: 56/96\n",
      "working on image column: 57/96\n",
      "working on image column: 58/96\n",
      "working on image column: 59/96\n",
      "working on image column: 60/96\n",
      "working on image column: 61/96\n",
      "working on image column: 62/96\n",
      "working on image column: 63/96\n",
      "working on image column: 64/96\n",
      "working on image column: 65/96\n",
      "working on image column: 66/96\n",
      "working on image column: 67/96\n",
      "working on image column: 68/96\n",
      "working on image column: 69/96\n",
      "working on image column: 70/96\n",
      "working on image column: 71/96\n",
      "working on image column: 72/96\n",
      "working on image column: 73/96\n",
      "working on image column: 74/96\n",
      "working on image column: 75/96\n",
      "working on image column: 76/96\n",
      "working on image column: 77/96\n",
      "working on image column: 78/96\n",
      "working on image column: 79/96\n",
      "working on image column: 80/96\n",
      "working on image column: 81/96\n",
      "working on image column: 82/96\n",
      "working on image column: 83/96\n",
      "working on image column: 84/96\n",
      "working on image column: 85/96\n",
      "working on image column: 86/96\n",
      "working on image column: 87/96\n",
      "working on image column: 88/96\n",
      "working on image column: 89/96\n",
      "working on image column: 90/96\n",
      "working on image column: 91/96\n",
      "working on image column: 92/96\n",
      "working on image column: 93/96\n",
      "working on image column: 94/96\n",
      "working on image column: 95/96\n",
      "working on image column: 96/96\n"
     ]
    },
    {
     "data": {
      "image/png": "[encoded data removed]",
      "text/plain": [
       "<Figure size 432x288 with 2 Axes>"
      ]
     },
     "metadata": {
      "needs_background": "light"
     },
     "output_type": "display_data"
    }
   ],
   "source": [
    "laminogram()"
   ]
  }
 ],
 "metadata": {
  "interpreter": {
   "hash": "6537d6febe7fb1246163fe1377d17bbfd38b19cd973b106333eb66b4dd5f3e76"
  },
  "kernelspec": {
   "display_name": "Python 3.8.2 64-bit",
   "language": "python",
   "name": "python3"
  },
  "language_info": {
   "codemirror_mode": {
    "name": "ipython",
    "version": 3
   },
   "file_extension": ".py",
   "mimetype": "text/x-python",
   "name": "python",
   "nbconvert_exporter": "python",
   "pygments_lexer": "ipython3",
   "version": "3.8.2"
  },
  "orig_nbformat": 4
 },
 "nbformat": 4,
 "nbformat_minor": 2
}
