{
 "cells": [
  {
   "cell_type": "markdown",
   "metadata": {},
   "source": [
    "# TP5"
   ]
  },
  {
   "cell_type": "markdown",
   "metadata": {},
   "source": [
    "## Constantes et modules"
   ]
  },
  {
   "cell_type": "code",
   "execution_count": null,
   "metadata": {},
   "outputs": [],
   "source": [
    "import numpy as np\n",
    "import matplotlib.pyplot as plt"
   ]
  },
  {
   "cell_type": "markdown",
   "metadata": {},
   "source": [
    "## Question 1"
   ]
  },
  {
   "cell_type": "markdown",
   "metadata": {},
   "source": [
    "Dans un but de reconstruction tomographique, on peut modéliser l'atténuation du rayonnement qui passe à travers un objet par la loi de Beer-Lambert:\n",
    "$$I = I_0e^{-\\int\\mu(x)\\text{d}x}$$\n",
    "Sous forme discrétisée, on a:\n",
    "$$I = I_0e^{-\\sum\\mu(x)\\Delta x}$$\n",
    "où $I$  est l'intensité détectée, $I_0$ est l'intensité initiale, $\\mu$ est le coefficient d'atténuation linéaire et $x$ est la distance traversée par les rayons. Sous forme linéaire, on a:\n",
    "$$\\ln\\bigg(\\frac{I_0}{I}\\bigg) = \\sum\\mu(x)\\Delta x$$\n",
    "Pour simplifier le problème, on peut considérer le corps humain comme étant composé d'eau pure. On peut alors déterminer la fraction du signal qui traverse le corps humain en utilisant le coefficient $\\mu$ de l'eau. Selon les données XCOM du NIST [1], En considérant des photons ayant une énergie initiale de 60 keV, l'atténuation dans l'eau est de $2,059\\times10^{-1}\\ \\text{cm}^2/g$. Pour une masse volumique de $1\\ \\text{g/cm}^3$, on obtient le paramètre $\\mu(x)$ suivant:\n",
    "$$\\mu(x) = 2,059\\times10^{-1}\\ \\text{cm}^2/g \\times 1\\ \\text{g/cm}^3 = 2,059\\times10^{-1}\\ \\text{cm}^{-1}$$\n",
    "On peut alors déterminer la fraction du signal qui va être mesurée après avoir parcouru une distance donnée dans l'eau. Pour une distance de 5 cm, on a\n",
    "$$\\frac{I}{I_0} = e^{-\\int \\mu(x)\\\\text{d}x}$$\n",
    "$$\\frac{I}{I_0} = e^{-\\int_0^5 2,059\\times10^{-1}\\text{d}x}$$\n",
    "$$\\frac{I}{I_0} = 0,3572$$\n",
    "On observera donc 35,8 % de l'intensité du faisceau incident pour une distance de 5 cm dans l'eau (ou le corps humain). Pour une distance de 20 cm, on a:\n",
    "$$\\frac{I}{I_0} = e^{-\\int_0^20 2,059\\times10^{-1}\\text{d}x}$$\n",
    "$$\\frac{I}{I_0} = 0,0163$$\n",
    "On mesurera donc 1,63 % de l'intensité du faisceau initial pour une distance de 20 cm parcourue dans l'eau."
   ]
  }
 ],
 "metadata": {
  "language_info": {
   "name": "python"
  },
  "orig_nbformat": 4
 },
 "nbformat": 4,
 "nbformat_minor": 2
}
