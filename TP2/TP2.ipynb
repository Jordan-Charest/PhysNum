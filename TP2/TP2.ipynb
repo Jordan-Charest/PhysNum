{
 "cells": [
  {
   "cell_type": "code",
   "execution_count": 2,
   "metadata": {},
   "outputs": [],
   "source": [
    "## Voici notre super TP2, Ça part comme on dit\n",
    "## Oh yes\n",
    "\n",
    "import scipy as sp\n",
    "import numpy as np"
   ]
  },
  {
   "cell_type": "markdown",
   "metadata": {},
   "source": [
    "## Question 1 - Une chaîne de résistors\n",
    "\n",
    "### 1.\n",
    "\n",
    "La loi des courants de Kirchhoff, aussi appelé loi de noeuds, nous dit que le courant total qui \"arrive\" dans un noeud est égal au courant total qui en sort. Mathématiquement, elle se traduit par:\n",
    "\n",
    "$$I_1+I_2+...I_N=I_a+I_b+...I_M$$\n",
    "\n",
    "Où les courants $1,2,3...N$ sont les courants entrants et les courants $a,b,c...M$ sont les courants sortant. Sachant la loi d'Ohm, soit:\n",
    "\n",
    "$$V=RI$$\n",
    "\n",
    "On peut exprimer le courant comme la différence de potentiel entre deux noeuds divisée par la résistance de la branche. Cela est utile dans un cas comme le nôtre puisque nous ne connaissons pas *a priori* le sens du courant. On peut donc écrire, par exemple, pour un noeud arbitraire $i$ entouré de noeuds arbitraires 1 à 3:\n",
    "\n",
    "$$\\frac{V_i-V_1}{R_1}+\\frac{V_i-V_2}{R_2}+\\frac{V_i-V_3}{R_3}=0$$\n",
    "\n",
    "Si le potentiel du noeud $i$ est plus élevé que celui du noeud environnant, le courant \"sortira\" du noeud $i$, tandis que dans le cas contraire il y entrera; on constate qu'on a donc bel et bien la forme de la loi de Kirchhoff. Dans notre cas, étant donné que toutes les résistances sont identiques, on peut multiplier l'équation par $R$ pour n'avoir que les potentiels de chaque noeud dans l'équation.\n",
    "\n",
    "Déterminons donc les équations dans notre système. En observant la figure, pour le noeud $1$, on a:\n",
    "\n",
    "$$(V_1-V_+)+(V_1-V_2)+(V_1-V_3)=0$$\n",
    "$$3V_1-V_2-V_3=V_+$$\n",
    "\n",
    "Pour le noeud $2$:\n",
    "\n",
    "$$(V_2-V_+)+(V_2-V_1)+(V_2-V_3)+(V_3-V_4)=0$$\n",
    "$$-V_1-4V_2-V_3-V_4=V_+$$\n",
    "\n",
    "À partir du noeud $3$, on arrive dans la zone des \"noeuds centraux\", c'est-à-dire que tous les noeuds sont semblables jusqu'à ce que nous arrivions à $N-1$. Déterminons donc les équations de $3$ et $4$ et voyons si on peut généraliser l'équation pour tous les noeuds allant jusqu'à $N-2$ inclusivement.\n",
    "\n",
    "Pour le noeud $3$, on a:\n",
    "\n",
    "$$(V_3-V_1)+(V_3-V_2)+(V_3-V_4)+(V_3-V_5)=0$$\n",
    "$$-V_1-V_2+4V_3-V_4-V_5=0$$\n",
    "\n",
    "Pour le noeud $4$, on a:\n",
    "\n",
    "$$(V_4-V_2)+(V_4-V_3)+(V_4-V_5)+(V_4-V_6)=0$$\n",
    "$$-V_2-V_3+4V_4-V_5-V_6=0$$\n",
    "\n",
    "En observant ces équations ainsi que le schéma, on peut généraliser pour un noeud arbitraire $i$ où $2<i<N-1$:\n",
    "\n",
    "$$-V_{i-2}-V_{i-1}+4V_i-V_{i+1}-V_{i+2}=0$$\n",
    "\n",
    "Pour les deux derniers noeuds, $N-1$ et $N$, on a le \"miroir\" des noeuds $1$ et $2$. En se référant au schéma, on remarque qu'on a les équations suivantes:\n",
    "\n",
    "Noeud $N-1$:\n",
    "\n",
    "$$(V_{N-1}-V_{N-3})+(V_{N-1}-V_{N-2})+(V_{N-1}-V_{N})+(V_{N-1}-0)=0$$\n",
    "$$-V_{N-3}-V_{N-2}+4V_{N-1}-V_N=0$$\n",
    "\n",
    "Noeud $N$:\n",
    "\n",
    "$$(V_N-V_{N-2})+(V_{N}-V_{N-1})+(V_{N}-0)=0$$\n",
    "$$-V_{N-2}-V_{N-1}+3V_N=0$$\n",
    "\n",
    "On obtient donc le système d'équations suivant:\n",
    "\n",
    "\\begin{align*}\n",
    "3V_1-V_2-V_3&=V_+\\\\\n",
    "-V_1+4V_2-V_3-V_4&=V_+\\\\\n",
    "&\\vdots\\\\\n",
    "-V_{i-2}-V_{i-1}+4V_i-V_{i+1}-V_{i+2}&=0\\\\\n",
    "&\\vdots\\\\\n",
    "-V_{N-3}-V_{N-2}+4V_{N-1}-V_N&=0\\\\\n",
    "-V_{N-2}-V_{N-1}+3V_N&=0\n",
    "\\end{align*}\n",
    "\n",
    "C.Q.F.D."
   ]
  },
  {
   "cell_type": "markdown",
   "metadata": {},
   "source": [
    "### 2.\n",
    "\n",
    "On peut mettre ces équations sous forme matricielle, soit:\n",
    "\n",
    "$$\\mathbf{Av}=\\mathbf{w}$$\n",
    "\n",
    "Où $\\mathbf{A}$ est la matrice des coefficients, $\\mathbf{v}$ la matrice des tensions, et $\\mathbf{w}$ la matrice des côtés droits des équations précédemment déterminées. Alors on a:\n",
    "\n",
    "\\begin{bmatrix}\n",
    "3&-1&-1&0&0&0&0&0&\\dots&&&&&&0\\\\\n",
    "-1&4&-1&-1&0&0&0&0&\\dots&&&&&&0\\\\\n",
    "-1&-1&4&-1&-1&0&0&0&\\dots&&&&&&0\\\\\n",
    "0&-1&-1&4&-1&-1&0&0&\\dots&&&&&&0\\\\\n",
    "\\vdots&&&&&&&&\\dots&&&&&&\\vdots\\\\\n",
    "0&\\dots&&&&0&-1&-1&4&-1&-1&\\dots&&&0\\\\\n",
    "\\vdots&&&&&&&&\\dots&&&&&&\\vdots\\\\\n",
    "0&&&&&\\dots&0&0&0&0&0&-1&-1&4&-1\\\\\n",
    "0&&&&&\\dots&0&0&0&0&0&0&-1&-1&3\\\\\n",
    "\\end{bmatrix}\\begin{bmatrix}V_1\\\\V_2\\\\V_3\\\\V_4\\\\\\vdots\\\\V_i\\\\\\vdots\\\\V_{N-1}\\\\V_{N-2}\\end{bmatrix}=\\begin{bmatrix}V_+\\\\V_+\\\\0\\\\0\\\\\\vdots\\\\0\\\\\\vdots\\\\0\\\\0\\end{bmatrix}\n",
    "\n",
    "Dans le cas où $N=6$, on obtient le système suivant:\n",
    "\n",
    "\\begin{bmatrix}\n",
    "3&-1&-1&0&0&0\\\\\n",
    "-1&4&-1&-1&0&0\\\\\n",
    "-1&-1&4&-1&-1&0\\\\\n",
    "0&-1&-1&4&-1&-1\\\\\n",
    "0&0&-1&-1&4&-1\\\\\n",
    "0&0&0&-1&-1&3\n",
    "\\end{bmatrix}\\begin{bmatrix}V_1\\\\V_2\\\\V_3\\\\V_4\\\\V_5\\\\V_6\\end{bmatrix}=\\begin{bmatrix}V_+\\\\V_+\\\\0\\\\0\\\\0\\\\0\\\\\\end{bmatrix}"
   ]
  },
  {
   "cell_type": "markdown",
   "metadata": {},
   "source": [
    "On souhaite écrire un programme capable de résoudre un tel système. On utilisera la fonction *solve* de scipy: cette fonction native de scipy est faite pour résoudre de tels systèmes, sera probablement plus efficace que celle que nous pourrions coder nous-mêmes, et nous permettra de conclure sur l'utilité de *solve* à $N=10000$. Débutons par créer un programme qui génère les matrices $\\mathbf{A}$ et $\\mathbf{w}$:"
   ]
  },
  {
   "cell_type": "code",
   "execution_count": 24,
   "metadata": {},
   "outputs": [
    {
     "name": "stdout",
     "output_type": "stream",
     "text": [
      "(array([[5.],\n",
      "       [5.],\n",
      "       [0.],\n",
      "       [0.],\n",
      "       [0.],\n",
      "       [0.],\n",
      "       [0.],\n",
      "       [0.],\n",
      "       [0.],\n",
      "       [0.],\n",
      "       [0.],\n",
      "       [0.]]), array([[ 3., -1., -1.,  0.,  0.,  0.,  0.,  0.,  0.,  0.,  0.,  0.],\n",
      "       [-1.,  4., -1., -1.,  0.,  0.,  0.,  0.,  0.,  0.,  0.,  0.],\n",
      "       [ 0., -1., -1.,  4., -1., -1.,  0.,  0.,  0.,  0.,  0.,  0.],\n",
      "       [ 0.,  0., -1., -1.,  4., -1., -1.,  0.,  0.,  0.,  0.,  0.],\n",
      "       [ 0.,  0.,  0., -1., -1.,  4., -1., -1.,  0.,  0.,  0.,  0.],\n",
      "       [ 0.,  0.,  0.,  0., -1., -1.,  4., -1., -1.,  0.,  0.,  0.],\n",
      "       [ 0.,  0.,  0.,  0.,  0., -1., -1.,  4., -1., -1.,  0.,  0.],\n",
      "       [ 0.,  0.,  0.,  0.,  0.,  0., -1., -1.,  4., -1., -1.,  0.],\n",
      "       [ 0.,  0.,  0.,  0.,  0.,  0.,  0.,  0.,  0.,  0.,  0.,  0.],\n",
      "       [ 0.,  0.,  0.,  0.,  0.,  0.,  0.,  0.,  0.,  0.,  0.,  0.],\n",
      "       [ 0.,  0.,  0.,  0.,  0.,  0.,  0.,  0.,  0.,  0.,  0.,  0.],\n",
      "       [ 0.,  0.,  0.,  0.,  0.,  0.,  0.,  0.,  0.,  0.,  0.,  0.]]))\n"
     ]
    }
   ],
   "source": [
    "# But: générer les matrices A et w en vue de résoudre le système\n",
    "# Argument:\n",
    "# N: nombre de noeuds du système\n",
    "# V: valeur en volts de V+\n",
    "\n",
    "def matrices(N, V):\n",
    "    A = np.zeros((N,N))\n",
    "    b = np.zeros((N,1))\n",
    "\n",
    "    b[0,0], b[1,0] = V, V\n",
    "\n",
    "    A[0,0:3] = [3, -1, -1]\n",
    "    A[1,0:4] = [-1, 4, -1, -1]\n",
    "\n",
    "    for n in range(N-2):\n",
    "        bande = [-1, -1, 4, -1, -1]\n",
    "        A[n+2,(n+1):(n+6)] = bande\n",
    "    return b, A\n",
    "\n",
    "print(matrices(12,5))"
   ]
  },
  {
   "cell_type": "code",
   "execution_count": 1,
   "metadata": {},
   "outputs": [
    {
     "ename": "SyntaxError",
     "evalue": "invalid syntax (<ipython-input-1-d235a807ba02>, line 1)",
     "output_type": "error",
     "traceback": [
      "\u001b[1;36m  File \u001b[1;32m\"<ipython-input-1-d235a807ba02>\"\u001b[1;36m, line \u001b[1;32m1\u001b[0m\n\u001b[1;33m    from scipy import linalg.solve as solve\u001b[0m\n\u001b[1;37m                            ^\u001b[0m\n\u001b[1;31mSyntaxError\u001b[0m\u001b[1;31m:\u001b[0m invalid syntax\n"
     ]
    }
   ],
   "source": [
    "# La fonction linalg.solve accepte deux paramètres obligatoires sous la forme\n",
    "# linalg.solve(a,b), où a est la matrice des coefficients (A plus haut)\n",
    "# et b est la matrice du côté droit des équations (w plus haut)\n",
    "\n"
   ]
  },
  {
   "cell_type": "markdown",
   "metadata": {},
   "source": [
    "En observant la forme de l'équation de Schrödinger obtenue pour la série de Fourier d'un état, on décide de poser des éléments de matrice $H_{mn}$ de la façon suivante :\n",
    "$$H_{mn} = \\frac{2}{L}\\int_0^L\\sin\\frac{m\\pi x}{L}\\hat{H}\\sin\\frac{n\\pi x}{L}\\text{d}x$$"
   ]
  },
  {
   "cell_type": "markdown",
   "metadata": {},
   "source": [
    "Cette définition nous permet de réécrire l'éqauation de Schrödinger sous une forme matricielle. En insérant $H_{mn}$ dans l'équation dérivée plus haut, on a\n",
    "$$\\sum_{n=1}^{\\infty} \\psi_n\\frac{L}{2}H_{mn} = \\frac{1}{2}LE\\psi_m$$\n",
    "$$\\sum_{n=1}^{\\infty} H_{mn} \\psi_n = E\\psi_m$$\n",
    "On remarque que la partie gauche de l'équaiton correspond à une étape de la mutliplication matricielle de $\\boldsymbol{H}$ et de $\\boldsymbol{\\psi}$ où on trouve l'élément $\\psi_m$ de la matrice résultante. On remarque aussi que chaque élément de la matrice résultante est simplement l'élément de la matrice $\\psi(x)$ multiplié par le facteur $E$. On voit donc que l'équation trouvée implique l'équation aux valeurs propres suivante :\n",
    "$$\\boldsymbol{H}\\boldsymbol{\\psi} = E\\boldsymbol{\\psi}$$\n",
    "En définissant les éléments de la matrice $H$ de cette façon, on obtient donc que l'état $\\psi(x)$ est un vecteur propre de l'Hamiltonien associé à la valeur propre E.\n",
    "\n",
    "$$\\textcolor{red}{\\text{Ajouter du stock?}}"
   ]
  },
  {
   "cell_type": "markdown",
   "metadata": {},
   "source": [
    "## Question 5\n",
    "\n",
    "On sait que l'Hamiltonien correspond à :\n",
    "$$\\frac{-\\hbar}{2M}\\frac{\\text{d}^2}{\\text{d}x^2} + \\frac{ax}{L}$$"
   ]
  }
 ],
 "metadata": {
  "interpreter": {
   "hash": "6537d6febe7fb1246163fe1377d17bbfd38b19cd973b106333eb66b4dd5f3e76"
  },
  "kernelspec": {
   "display_name": "Python 3.8.2 64-bit",
   "language": "python",
   "name": "python3"
  },
  "language_info": {
   "codemirror_mode": {
    "name": "ipython",
    "version": 3
   },
   "file_extension": ".py",
   "mimetype": "text/x-python",
   "name": "python",
   "nbconvert_exporter": "python",
   "pygments_lexer": "ipython3",
   "version": "3.8.5"
  },
  "orig_nbformat": 4
 },
 "nbformat": 4,
 "nbformat_minor": 2
}
