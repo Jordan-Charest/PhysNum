{
 "cells": [
  {
   "cell_type": "markdown",
   "metadata": {},
   "source": [
    "## Constantes"
   ]
  },
  {
   "cell_type": "code",
   "execution_count": 72,
   "metadata": {},
   "outputs": [],
   "source": [
    "import numpy as np\n",
<<<<<<< HEAD
    "import matplotlib.pyplot as plt\n",
    "import seaborn as sns\n",
=======
    "from scipy import linalg\n",
    "import matplotlib.pyplot as plt\n",
    "import timeit\n",
>>>>>>> 4bbea599518d25037008f42d88803bb4ffce9859
    "\n",
    "\n",
    "me =  9.1094 * 10**(-31)\n",
    "e =  1.602 * 10**(-19)\n",
    "hbar = 1.056 * 10**(-34)\n",
    "pi = np.pi"
   ]
  },
  {
   "cell_type": "markdown",
   "metadata": {},
   "source": []
  },
  {
   "cell_type": "code",
   "execution_count": null,
   "metadata": {},
   "outputs": [],
   "source": [
    "## Voici notre super TP2, Ça part comme on dit\n",
    "## Oh yes\n",
    "\n"
   ]
  },
  {
   "cell_type": "markdown",
   "metadata": {},
   "source": [
    "## Question 1 - Une chaîne de résistors\n",
    "\n",
    "### 1.\n",
    "\n",
    "La loi des courants de Kirchhoff, aussi appelé loi de noeuds, nous dit que le courant total qui \"arrive\" dans un noeud est égal au courant total qui en sort. Mathématiquement, elle se traduit par:\n",
    "\n",
    "$$I_1+I_2+...I_N=I_a+I_b+...I_M$$\n",
    "\n",
    "Où les courants $1,2,3...N$ sont les courants entrants et les courants $a,b,c...M$ sont les courants sortant. Sachant la loi d'Ohm, soit:\n",
    "\n",
    "$$V=RI$$\n",
    "\n",
    "On peut exprimer le courant comme la différence de potentiel entre deux noeuds divisée par la résistance de la branche. Cela est utile dans un cas comme le nôtre puisque nous ne connaissons pas *a priori* le sens du courant. On peut donc écrire, par exemple, pour un noeud arbitraire $i$ entouré de noeuds arbitraires 1 à 3:\n",
    "\n",
    "$$\\frac{V_i-V_1}{R_1}+\\frac{V_i-V_2}{R_2}+\\frac{V_i-V_3}{R_3}=0$$\n",
    "\n",
    "Si le potentiel du noeud $i$ est plus élevé que celui du noeud environnant, le courant \"sortira\" du noeud $i$, tandis que dans le cas contraire il y entrera; on constate qu'on a donc bel et bien la forme de la loi de Kirchhoff. Dans notre cas, étant donné que toutes les résistances sont identiques, on peut multiplier l'équation par $R$ pour n'avoir que les potentiels de chaque noeud dans l'équation.\n",
    "\n",
    "Déterminons donc les équations dans notre système. En observant la figure, pour le noeud $1$, on a:\n",
    "\n",
    "$$(V_1-V_+)+(V_1-V_2)+(V_1-V_3)=0$$\n",
    "$$3V_1-V_2-V_3=V_+$$\n",
    "\n",
    "Pour le noeud $2$:\n",
    "\n",
    "$$(V_2-V_+)+(V_2-V_1)+(V_2-V_3)+(V_3-V_4)=0$$\n",
    "$$-V_1-4V_2-V_3-V_4=V_+$$\n",
    "\n",
    "À partir du noeud $3$, on arrive dans la zone des \"noeuds centraux\", c'est-à-dire que tous les noeuds sont semblables jusqu'à ce que nous arrivions à $N-1$. Déterminons donc les équations de $3$ et $4$ et voyons si on peut généraliser l'équation pour tous les noeuds allant jusqu'à $N-2$ inclusivement.\n",
    "\n",
    "Pour le noeud $3$, on a:\n",
    "\n",
    "$$(V_3-V_1)+(V_3-V_2)+(V_3-V_4)+(V_3-V_5)=0$$\n",
    "$$-V_1-V_2+4V_3-V_4-V_5=0$$\n",
    "\n",
    "Pour le noeud $4$, on a:\n",
    "\n",
    "$$(V_4-V_2)+(V_4-V_3)+(V_4-V_5)+(V_4-V_6)=0$$\n",
    "$$-V_2-V_3+4V_4-V_5-V_6=0$$\n",
    "\n",
    "En observant ces équations ainsi que le schéma, on peut généraliser pour un noeud arbitraire $i$ où $2<i<N-1$:\n",
    "\n",
    "$$-V_{i-2}-V_{i-1}+4V_i-V_{i+1}-V_{i+2}=0$$\n",
    "\n",
    "Pour les deux derniers noeuds, $N-1$ et $N$, on a le \"miroir\" des noeuds $1$ et $2$. En se référant au schéma, on remarque qu'on a les équations suivantes:\n",
    "\n",
    "Noeud $N-1$:\n",
    "\n",
    "$$(V_{N-1}-V_{N-3})+(V_{N-1}-V_{N-2})+(V_{N-1}-V_{N})+(V_{N-1}-0)=0$$\n",
    "$$-V_{N-3}-V_{N-2}+4V_{N-1}-V_N=0$$\n",
    "\n",
    "Noeud $N$:\n",
    "\n",
    "$$(V_N-V_{N-2})+(V_{N}-V_{N-1})+(V_{N}-0)=0$$\n",
    "$$-V_{N-2}-V_{N-1}+3V_N=0$$\n",
    "\n",
    "On obtient donc le système d'équations suivant:\n",
    "\n",
    "\\begin{align*}\n",
    "3V_1-V_2-V_3&=V_+\\\\\n",
    "-V_1+4V_2-V_3-V_4&=V_+\\\\\n",
    "&\\vdots\\\\\n",
    "-V_{i-2}-V_{i-1}+4V_i-V_{i+1}-V_{i+2}&=0\\\\\n",
    "&\\vdots\\\\\n",
    "-V_{N-3}-V_{N-2}+4V_{N-1}-V_N&=0\\\\\n",
    "-V_{N-2}-V_{N-1}+3V_N&=0\n",
    "\\end{align*}\n",
    "\n",
    "C.Q.F.D."
   ]
  },
  {
   "cell_type": "markdown",
   "metadata": {},
   "source": [
    "### 2.\n",
    "\n",
    "On peut mettre ces équations sous forme matricielle, soit:\n",
    "\n",
    "$$\\mathbf{Av}=\\mathbf{w}$$\n",
    "\n",
    "Où $\\mathbf{A}$ est la matrice des coefficients, $\\mathbf{v}$ la matrice des tensions, et $\\mathbf{w}$ la matrice des côtés droits des équations précédemment déterminées. Alors on a:\n",
    "\n",
    "\\begin{bmatrix}\n",
    "3&-1&-1&0&0&0&0&0&\\dots&&&&&&0\\\\\n",
    "-1&4&-1&-1&0&0&0&0&\\dots&&&&&&0\\\\\n",
    "-1&-1&4&-1&-1&0&0&0&\\dots&&&&&&0\\\\\n",
    "0&-1&-1&4&-1&-1&0&0&\\dots&&&&&&0\\\\\n",
    "\\vdots&&&&&&&&\\dots&&&&&&\\vdots\\\\\n",
    "0&\\dots&&&&0&-1&-1&4&-1&-1&\\dots&&&0\\\\\n",
    "\\vdots&&&&&&&&\\dots&&&&&&\\vdots\\\\\n",
    "0&&&&&\\dots&0&0&0&0&0&-1&-1&4&-1\\\\\n",
    "0&&&&&\\dots&0&0&0&0&0&0&-1&-1&3\\\\\n",
    "\\end{bmatrix}\\begin{bmatrix}V_1\\\\V_2\\\\V_3\\\\V_4\\\\\\vdots\\\\V_i\\\\\\vdots\\\\V_{N-1}\\\\V_{N-2}\\end{bmatrix}=\\begin{bmatrix}V_+\\\\V_+\\\\0\\\\0\\\\\\vdots\\\\0\\\\\\vdots\\\\0\\\\0\\end{bmatrix}\n",
    "\n",
    "Dans le cas où $N=6$, on obtient le système suivant:\n",
    "\n",
    "\\begin{bmatrix}\n",
    "3&-1&-1&0&0&0\\\\\n",
    "-1&4&-1&-1&0&0\\\\\n",
    "-1&-1&4&-1&-1&0\\\\\n",
    "0&-1&-1&4&-1&-1\\\\\n",
    "0&0&-1&-1&4&-1\\\\\n",
    "0&0&0&-1&-1&3\n",
    "\\end{bmatrix}\\begin{bmatrix}V_1\\\\V_2\\\\V_3\\\\V_4\\\\V_5\\\\V_6\\end{bmatrix}=\\begin{bmatrix}V_+\\\\V_+\\\\0\\\\0\\\\0\\\\0\\\\\\end{bmatrix}"
   ]
  },
  {
   "cell_type": "markdown",
   "metadata": {},
   "source": [
    "On souhaite écrire un programme capable de résoudre un tel système. On utilisera la fonction *solve* de scipy: cette fonction native de scipy est faite pour résoudre de tels systèmes, sera probablement plus efficace que celle que nous pourrions coder nous-mêmes, et nous permettra de conclure sur l'utilité de *solve* à $N=10000$. Débutons par créer un programme qui génère les matrices $\\mathbf{A}$ et $\\mathbf{w}$:"
   ]
  },
  {
   "cell_type": "code",
   "execution_count": null,
   "metadata": {},
   "outputs": [],
   "source": [
    "# But: générer les matrices A et w en vue de résoudre le système\n",
    "# Argument:\n",
    "# N: nombre de noeuds du système\n",
    "# V: valeur en volts de V+\n",
    "\n",
    "# À noter que le code ne fonctionne pas pour les matrices avec N < 4\n",
    "\n",
    "def matrices(N, V):\n",
    "    A = np.zeros((N,N))\n",
    "    b = np.zeros((N,1))\n",
    "\n",
    "    b[0,0], b[1,0] = V, V\n",
    "\n",
    "    A[0,0:3] = [3, -1, -1]\n",
    "    A[1,0:4] = [-1, 4, -1, -1]\n",
    "\n",
    "    for n in range(N-4):\n",
    "        A[n+2,n:(n+5)] = [-1, -1, 4, -1, -1]\n",
    "    \n",
    "    A[N-2, N-4:N] = [-1, -1, 4, -1]\n",
    "    A[N-1, N-3:N] = [-1, -1, 3]\n",
    "\n",
    "    return A, b"
   ]
  },
  {
   "cell_type": "markdown",
   "metadata": {},
   "source": [
    "On écrit maintenant un script pour résoudre la matrice ainsi obtenue. Débutons avec la matrice pour $N=6$:"
   ]
  },
  {
   "cell_type": "code",
   "execution_count": null,
   "metadata": {},
   "outputs": [
    {
     "name": "stdout",
     "output_type": "stream",
     "text": [
      "La matrice de tensions pour un système à 6 noeuds est:\n",
      " [[3.7254902 ]\n",
      " [3.43137255]\n",
      " [2.74509804]\n",
      " [2.25490196]\n",
      " [1.56862745]\n",
      " [1.2745098 ]]\n"
     ]
    }
   ],
   "source": [
    "# La fonction linalg.solve accepte deux paramètres obligatoires sous la forme\n",
    "# linalg.solve(a,b), où a est la matrice des coefficients (A plus haut)\n",
    "# et b est la matrice du côté droit des équations (w plus haut)\n",
    "\n",
    "N = 6\n",
    "V = 5\n",
    "\n",
    "A, b = matrices(N, V)\n",
    "\n",
    "x = linalg.solve(A, b)\n",
    "\n",
    "print(f\"La matrice de tensions pour un système à {N} noeuds est:\\n\",x)"
   ]
  },
  {
   "cell_type": "markdown",
   "metadata": {},
   "source": [
    "Pour générer un graphique des potentiels selon l'indice du noeud, on transforme l'*array* en liste et on génère une liste d'indices, puis on fait le graphique:"
   ]
  },
  {
   "cell_type": "code",
   "execution_count": null,
   "metadata": {},
   "outputs": [
    {
     "data": {
      "image/png": "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",
      "text/plain": [
       "<Figure size 576x360 with 1 Axes>"
      ]
     },
     "metadata": {},
     "output_type": "display_data"
    }
   ],
   "source": [
    "def V_vs_noeud(N,V):\n",
    "\n",
    "    A, b = matrices(N,V)\n",
    "    x = linalg.solve(A, b)\n",
    "    x = [e for n in x.tolist() for e in n]\n",
    "    i = [n+1 for n in range(N)]\n",
    "\n",
    "    V_vs_noeud_fig = plt.figure(figsize=(8,5))\n",
    "    #plt.scatter(i, x)\n",
    "    plt.plot(i, x)\n",
    "    plt.xlabel('Indice du noeud', fontsize=14)\n",
    "    plt.ylabel(\"Tension du noeud [V]\", fontsize=14)\n",
    "    plt.show()\n",
    "\n",
    "V_vs_noeud(10000,5)"
   ]
  },
  {
   "cell_type": "markdown",
   "metadata": {},
   "source": [
    "On peut tenter de résoudre le système à l'aide de solve pour $N=10000$ noeuds:"
   ]
  },
  {
   "cell_type": "code",
   "execution_count": null,
   "metadata": {},
   "outputs": [],
   "source": [
    "A, b = matrices(10000, 5)\n",
    "\n",
    "x = linalg.solve(A, b)"
   ]
  },
  {
   "cell_type": "markdown",
   "metadata": {},
   "source": [
    "On constate que le temps d'éxécution a beaucoup augmenté: il a fallu presque 8 secondes afin de résoudre le système. Cela est dû au fait que, lorsque la matrice $\\mathbf{A}$ est très grande, il y a énormément d'éléments (surtout des 0), ce qui rend le système long à traiter. On peut utiliser le fait que la matrice est en bande, c'est-à-dire qu'il y a une bande de 5 éléments qui se répète diagonalement tout le long de la matrice. On peut employer la fonction *banded* du Newman pour résoudre plus efficacement. Cette fonction est donnée dans l'annexe E.2 comme suit:"
   ]
  },
  {
   "cell_type": "code",
   "execution_count": null,
   "metadata": {},
   "outputs": [],
   "source": [
    "# Fonction banded tirée de l'annexe E.2 du Newman\n",
    "# But: résoudre plus efficacement un système d'équations avec une matrice A à bande\n",
    "# Arguments:\n",
    "# Aa: matrice de coefficients\n",
    "# va: matrice du côté droit du système d'équations\n",
    "# up: nombre d'éléments non nuls au-dessus de la diagonale\n",
    "# down: nombre d'éléments non nuls sous la diagonale\n",
    "\n",
    "def banded(Aa,va,up,down):\n",
    "\n",
    "    # Copy the inputs and determine the size of the system\n",
    "    A = np.copy(Aa)\n",
    "    v = np.copy(va)\n",
    "    N = len(v)\n",
    "\n",
    "    # Gaussian elimination\n",
    "    for m in range(N):\n",
    "\n",
    "        # Normalization factor\n",
    "        div = A[up,m]\n",
    "\n",
    "        # Update the vector first\n",
    "        v[m] /= div\n",
    "        for k in range(1,down+1):\n",
    "            if m+k<N:\n",
    "                v[m+k] -= A[up+k,m]*v[m]\n",
    "\n",
    "        # Now normalize the pivot row of A and subtract from lower ones\n",
    "        for i in range(up):\n",
    "            j = m + up - i\n",
    "            if j<N:\n",
    "                A[i,j] /= div\n",
    "                for k in range(1,down+1):\n",
    "                    A[i+k,j] -= A[up+k,m]*A[i,j]\n",
    "\n",
    "    # Backsubstitution\n",
    "    for m in range(N-2,-1,-1):\n",
    "        for i in range(up):\n",
    "            j = m + up - i\n",
    "            if j<N:\n",
    "                v[m] -= A[i,j]*v[j]\n",
    "\n",
    "    return v"
   ]
  },
  {
   "cell_type": "markdown",
   "metadata": {},
   "source": [
    "Ici, en observant la forme générale de matrice obtenue au 1, on remarque qu'il y a deux éléments non nuls au-dessus de la diagonale, et deux éléments non nuls sous la diagonale (*up*=*down*=2). Cependant, on doit d'abord formater la matrice $\\mathbf{A}$ pour qu'elle concorde avec la forme donnée dans le Newman (voir Figure 2). Pour ce faire, on peut remarquer qu'on a simplement à \"glisser\" les éléments non nuls de chaque colonne à la bonne position. Nous n'avons pas besoin de remplacer les autres éléments par des zéros une fois l'opération terminée car, selon Newman, \"The values in the elements marked \"-\" do not matter-you can put anything  in these elements and it will make no difference to the results\". Il faut ensuite retourner la matrice formattée en gardant seulement les 5 dernières lignes:"
   ]
  },
  {
   "cell_type": "code",
   "execution_count": null,
   "metadata": {},
   "outputs": [],
   "source": [
    "def format_A(A):\n",
    "    n = 3\n",
    "    N = len(A)\n",
    "    for col in range(N):\n",
    "        i = np.nonzero(A[:,col])[0]\n",
    "        #print(i)\n",
    "        minimum = min(i)\n",
    "        maximum = max(i)\n",
    "        #print(minimum)\n",
    "        #print(maximum)\n",
    "        slide = A[minimum:(maximum+1),col]\n",
    "\n",
    "        A[minimum+(N-n):maximum+(N-n+1),col] = slide\n",
    "        #A[minimum:(maximum+1),col] = 0\n",
    "        n += 1\n",
    "        #print(A)\n",
    "    \n",
    "    return(A[-5:])"
   ]
  },
  {
   "cell_type": "markdown",
   "metadata": {},
   "source": [
    "On peut maintenant employer la fonction *banded* pour résoudre le système à $N=10000$ noeuds."
   ]
  },
  {
   "cell_type": "code",
   "execution_count": null,
   "metadata": {},
   "outputs": [
    {
     "name": "stdout",
     "output_type": "stream",
     "text": [
      "[[4.99888228e+00]\n",
      " [4.99861842e+00]\n",
      " [4.99802841e+00]\n",
      " ...\n",
      " [1.97158611e-03]\n",
      " [1.38158071e-03]\n",
      " [1.11772227e-03]]\n",
      "Résolution avec banded: 0.6109193000011146 secondes\n"
     ]
    }
   ],
   "source": [
    "A, v = matrices(10000, 5)\n",
    "A = format_A(A)\n",
    "\n",
    "t1 = timeit.default_timer()\n",
    "x = banded(A, v, 2, 2)\n",
    "t2 = timeit.default_timer()\n",
    "\n",
    "print(x)\n",
    "print(f\"Résolution avec banded: {t2-t1} secondes\")"
   ]
  },
  {
   "cell_type": "markdown",
   "metadata": {},
   "source": [
    "On constate qu'on arrive à la solution beaucoup plus rapidement avec la fonction *banded* (moins d'une seconde versus environ 9 secondes pour *solve*. Même en comptant le temps de reformater la matrice, on a besoin de seulement 5 secondes avec la méthode *banded*). Pour 10000 noeuds, la méthode solve prend environ 18 fois plus de temps. On peut donc imaginer que, pour des systèmes beaucoup plus grands, l'efficacité de la fonction banded permettra de sauver beaucoup de temps. Essayons avec $N=15000$ (à noter que l'allocation maximale de mémoire de VSCode est d'environ 2 Gigaoctets, ce qui fait en sorte qu'il n'est pas possible d'essayer avec des matrices de taille beaucoup supérieure étant donné qu'on atteint 2 GB de préallocation pour une matrice d'environ $N=16000$)"
   ]
  },
  {
   "cell_type": "code",
   "execution_count": 32,
   "metadata": {},
   "outputs": [
    {
     "ename": "NameError",
     "evalue": "name 'linalg' is not defined",
     "output_type": "error",
     "traceback": [
      "\u001b[1;31m---------------------------------------------------------------------------\u001b[0m",
      "\u001b[1;31mNameError\u001b[0m                                 Traceback (most recent call last)",
      "\u001b[1;32m<ipython-input-32-4cfb16a10bda>\u001b[0m in \u001b[0;36m<module>\u001b[1;34m\u001b[0m\n\u001b[0;32m      6\u001b[0m \u001b[1;33m\u001b[0m\u001b[0m\n\u001b[0;32m      7\u001b[0m \u001b[0mt1\u001b[0m \u001b[1;33m=\u001b[0m \u001b[0mtimeit\u001b[0m\u001b[1;33m.\u001b[0m\u001b[0mdefault_timer\u001b[0m\u001b[1;33m(\u001b[0m\u001b[1;33m)\u001b[0m\u001b[1;33m\u001b[0m\u001b[1;33m\u001b[0m\u001b[0m\n\u001b[1;32m----> 8\u001b[1;33m \u001b[0mx\u001b[0m \u001b[1;33m=\u001b[0m \u001b[0mlinalg\u001b[0m\u001b[1;33m.\u001b[0m\u001b[0msolve\u001b[0m\u001b[1;33m(\u001b[0m\u001b[0mA\u001b[0m\u001b[1;33m,\u001b[0m \u001b[0mb\u001b[0m\u001b[1;33m)\u001b[0m\u001b[1;33m\u001b[0m\u001b[1;33m\u001b[0m\u001b[0m\n\u001b[0m\u001b[0;32m      9\u001b[0m \u001b[0mt2\u001b[0m \u001b[1;33m=\u001b[0m \u001b[0mtimeit\u001b[0m\u001b[1;33m.\u001b[0m\u001b[0mdefault_timer\u001b[0m\u001b[1;33m(\u001b[0m\u001b[1;33m)\u001b[0m\u001b[1;33m\u001b[0m\u001b[1;33m\u001b[0m\u001b[0m\n\u001b[0;32m     10\u001b[0m \u001b[1;33m\u001b[0m\u001b[0m\n",
      "\u001b[1;31mNameError\u001b[0m: name 'linalg' is not defined"
     ]
    }
   ],
   "source": [
    "N = 15000\n",
    "V = 5\n",
    "A, b = matrices(N, V)\n",
    "\n",
    "t1 = timeit.default_timer()\n",
    "x = linalg.solve(A, b)\n",
    "t2 = timeit.default_timer()\n",
    "\n",
    "print(f\"Le temps pour résoudre un système de 100000 noeuds avec la fonction solve est de {t2-t1} secondes\")\n",
    "\n",
    "A = format_A(A)\n",
    "t1 = timeit.default_timer()\n",
    "x = banded(A, b, 2, 2)\n",
    "t2 = timeit.default_timer()\n",
    "\n",
    "print(f\"Le temps pour résoudre un système de 100000 noeuds avec la fonction solve est de {t2-t1} secondes\")"
   ]
  },
  {
   "cell_type": "markdown",
   "metadata": {},
   "source": [
    "## Question 4"
   ]
  },
  {
   "cell_type": "markdown",
   "metadata": {},
   "source": [
    "Tout d'abord, on sait que n'importe quel état $\\psi(x)$ peut être représenté en série de Fourier selon la forme suivante :\n",
    "$$\\psi(x) = \\sum_{n=1}^{\\infty} \\psi_n\\sin\\frac{n\\pi x}{L}$$\n",
    "En insérant l'état $\\psi(x)$ sous cette forme dans l'équation de Schrödinger, on obtient\n",
    "$$\\hat{H}\\psi(x) = E\\psi(x)$$\n",
    "$$\\hat{H}\\sum_{n=1}^{\\infty} \\psi_n\\sin\\frac{n\\pi x}{L} = E\\sum_{n=1}^{\\infty} \\psi_n\\sin\\frac{n\\pi x}{L}$$\n",
    "Par la distributivité de $\\hat{H}$ et comme les $\\psi_n$ sont des constantes, on a\n",
    "$$\\sum_{n=1}^{\\infty} \\psi_n\\hat{H}\\sin\\frac{n\\pi x}{L} = E\\sum_{n=1}^{\\infty} \\psi_n\\sin\\frac{n\\pi x}{L}$$\n",
    "On multiplie $\\sin\\frac{m\\pi x}{L}$ par les deux côtés de l'équation et on distribue sur les sommes :\n",
    "$$\\sum_{n=1}^{\\infty} \\psi_n\\sin\\frac{m\\pi x}{L}\\hat{H}\\sin\\frac{n\\pi x}{L} = E\\sum_{n=1}^{\\infty} \\psi_n\\sin\\frac{m\\pi x}{L}\\sin\\frac{n\\pi x}{L}$$\n",
    "On intègre de 0 à $L$ des deux côtés de l'équation:\n",
    "$$\\int_0^L\\sum_{n=1}^{\\infty} \\psi_n\\sin\\frac{m\\pi x}{L}\\hat{H}\\sin\\frac{n\\pi x}{L}\\text{d}x = \\int_0^LE\\sum_{n=1}^{\\infty} \\psi_n\\sin\\frac{m\\pi x}{L}\\sin\\frac{n\\pi x}{L}\\text{d}x$$\n",
    "$$\\sum_{n=1}^{\\infty} \\psi_n\\int_0^L\\sin\\frac{m\\pi x}{L}\\hat{H}\\sin\\frac{n\\pi x}{L}\\text{d}x = E\\sum_{n=1}^{\\infty} \\psi_n\\int_0^L\\sin\\frac{m\\pi x}{L}\\sin\\frac{n\\pi x}{L}\\text{d}x$$\n",
    "Or, on sait que\n",
    "$$\\int_0^L \\sin\\frac{m\\pi x}{L}\\sin\\frac{n\\pi x}{L}\\text{d}x = 0 \\qquad \\text{pour $m\\neq n$}$$\n",
    "$$\\int_0^L \\sin\\frac{m\\pi x}{L}\\sin\\frac{n\\pi x}{L}\\text{d}x = \\frac{L}{2} \\qquad \\text{pour $m=n$}$$\n",
    "Tous les termes de la somme de droite seront donc nuls excepté celui où $n=m$. On a donc\n",
    "$$\\sum_{n=1}^{\\infty} \\psi_n\\int_0^L\\sin\\frac{m\\pi x}{L}\\hat{H}\\sin\\frac{n\\pi x}{L}\\text{d}x = \\frac{1}{2}LE\\psi_m$$"
   ]
  },
  {
   "cell_type": "markdown",
   "metadata": {},
   "source": [
    "En observant la forme de l'équation de Schrödinger obtenue pour la série de Fourier d'un état, on décide de poser des éléments de matrice $H_{mn}$ de la façon suivante :\n",
    "$$H_{mn} = \\frac{2}{L}\\int_0^L\\sin\\frac{m\\pi x}{L}\\hat{H}\\sin\\frac{n\\pi x}{L}\\text{d}x$$"
   ]
  },
  {
   "cell_type": "markdown",
   "metadata": {},
   "source": [
    "Cette définition nous permet de réécrire l'éqauation de Schrödinger sous une forme matricielle. En insérant $H_{mn}$ dans l'équation dérivée plus haut, on a\n",
    "$$\\sum_{n=1}^{\\infty} \\psi_n\\frac{L}{2}H_{mn} = \\frac{1}{2}LE\\psi_m$$\n",
    "$$\\sum_{n=1}^{\\infty} H_{mn} \\psi_n = E\\psi_m$$\n",
    "On remarque que la partie gauche de l'équaiton correspond à une étape de la mutliplication matricielle de $\\boldsymbol{H}$ et de $\\boldsymbol{\\psi}$ où on trouve l'élément $\\psi_m$ de la matrice résultante. On remarque aussi que chaque élément de la matrice résultante est simplement l'élément de la matrice $\\psi(x)$ multiplié par le facteur $E$. On voit donc que l'équation trouvée implique l'équation aux valeurs propres suivante :\n",
    "$$\\boldsymbol{H}\\boldsymbol{\\psi} = E\\boldsymbol{\\psi}$$\n",
    "En définissant les éléments de la matrice $H$ de cette façon, on obtient donc que l'état $\\psi(x)$ est un vecteur propre de l'Hamiltonien associé à la valeur propre E.\n",
    "\n",
    "$$\\textcolor{red}{\\text{Ajouter du stock? Bonjour}}"
   ]
  },
  {
   "cell_type": "markdown",
   "metadata": {},
   "source": [
    "## Question 5\n",
    "\n",
    "Le potentiel est donné par\n",
    "$$V(x) = \\frac{ax}{L}$$\n",
    "Ce qui donne l'Hamiltonien suivant :\n",
    "$$\\hat{H} = \\frac{-\\hbar^2}{2M}\\frac{\\text{d}^2}{\\text{d}x^2} + \\frac{ax}{L}$$\n",
    "Les éléments de de matrice $H_{mn}$ sont donc donnés par :\n",
    "$$H_{mn} = \\frac{2}{L}\\int_0^L\\sin\\frac{m\\pi x}{L}\\bigg(\\frac{-\\hbar^2}{2M}\\frac{\\text{d}^2}{\\text{d}x^2} + \\frac{ax}{L}\\bigg)\\sin\\frac{n\\pi x}{L}\\text{d}x$$\n",
    "$$H_{mn} = \\frac{2}{L}\\int_0^L\\sin\\frac{m\\pi x}{L}\\bigg[\\frac{-\\hbar^2}{2M}\\bigg(-\\frac{\\pi^2n^2}{L^2}\\sin\\frac{n\\pi x}{L}\\bigg) + \\frac{ax}{L}\\sin\\frac{n\\pi x}{L}\\bigg]\\text{d}x$$\n",
    "$$H_{mn} = \\frac{2}{L^2}\\int_0^L\\sin\\frac{m\\pi x}{L}\\bigg[\\frac{\\hbar^2\\pi^2n^2}{2ML}\\sin\\frac{n\\pi x}{L} + ax\\sin\\frac{n\\pi x}{L}\\bigg]\\text{d}x$$\n",
    "$$H_{mn} = \\frac{\\hbar^2\\pi^2n^2}{ML^3}\\int_0^L\\sin\\frac{m\\pi x}{L}\\sin\\frac{n\\pi x}{L}\\text{d}x + \\frac{2a}{L^2}\\int_0^Lx\\sin\\frac{m\\pi x}{L}\\sin\\frac{n\\pi x}{L}\\text{d}x$$\n",
    "Or, en plus des propriétés énoncées plus haut, on sait également que\n",
    "$$\\int_0^Lx\\sin\\frac{m\\pi x}{L}\\sin\\frac{n\\pi x}{L}\\text{d}x = 0 \\qquad \\text{pour $m\\neq n$ et $m+n$ est pair}$$\n",
    "$$\\int_0^Lx\\sin\\frac{m\\pi x}{L}\\sin\\frac{n\\pi x}{L}\\text{d}x = -\\frac{4L^2}{\\pi^2}\\frac{mn}{(m^2+n^2)^2} \\qquad \\text{pour $m\\neq n$ et $m+n$ est impair}$$\n",
    "$$\\int_0^Lx\\sin\\frac{m\\pi x}{L}\\sin\\frac{n\\pi x}{L}\\text{d}x = \\frac{L^2}{4} \\qquad \\text{pour $m=n$}$$\n",
    "On peut donc résoudre les intégralespout les différents cas. Pour $m=n$, on a\n",
    "$$H_{mn} = \\frac{\\hbar^2\\pi^2n^2}{ML^3}\\bigg(\\frac{L}{2}\\bigg) + \\frac{2a}{L^2}\\bigg(\\frac{L^2}{4}\\bigg)$$\n",
    "$$H_{mn} = \\frac{\\hbar^2\\pi^2n^2}{2ML^2} + \\frac{a}{2}$$\n",
    "Pour $m\\neq n$ avec $m+n$ impair, on a\n",
    "$$H_{mn} = \\frac{2a}{L^2}\\bigg(-\\frac{4L^2}{\\pi^2}\\frac{mn}{(m^2+n^2)^2}\\bigg)$$\n",
    "$$H_{mn} = -\\frac{8amn}{\\pi^2(m^2+n^2)^2}$$\n",
    "Pour $m\\neq n$ et $m+n$ pair, on a\n",
    "$$H_{mn} = 0$$"
   ]
  },
  {
   "cell_type": "markdown",
   "metadata": {},
   "source": [
    "La matrice $\\boldsymbol{H}$ a donc la forme suivante :\n",
    "$$\\begin{bmatrix}\n",
    "H_{nn} & H_{mn} & 0 & H_{mn} & 0 & \\ldots\\\\\n",
    "H_{mn} & H_{nn} & H_{mn} & 0 & H_{mn} & \\ldots\\\\\n",
    "0 & H_{mn} & H_{nn} & H_{mn} & 0 & \\ldots\\\\\n",
    "H_{mn} & 0 & H_{mn} & H_{nn} & H_{mn} & \\ldots\\\\\n",
    "0 & H_{mn} & 0 & H_{mn} & H_{nn} & \\ldots\\\\\n",
    "\\vdots & \\vdots & \\vdots & \\vdots & \\vdots & \\ddots\n",
    "\\end{bmatrix}$$\n",
    "où\n",
    "$$H_{nn} = \\frac{\\hbar^2\\pi^2n^2}{2ML^2} + \\frac{a}{2}$$\n",
    "$$H_{mn} = -\\frac{8amn}{\\pi^2(m^2-n^2)^2} = -\\frac{8anm}{\\pi^2(n^2-m^2)^2} = H_{nm}$$"
   ]
  },
  {
   "cell_type": "markdown",
   "metadata": {},
   "source": [
    "On observe donc que la matrice est réelle et symétrique. On code ensuite la fonction *element_H* qui calcule l'élément $m$, $n$ de la matrice $\\boldsymbol{H}$ en prenant les valeurs de $m$, $n$, $a$, $L$ et $M$. Tout d'abord, le code compare les valeurs de $m$ et $n$ et détermine la parité de $m+n$ afinde déterminer la formule qui s'applique. Elle calcule ensuite la valeur de l'élément."
   ]
  },
  {
   "cell_type": "code",
   "execution_count": 53,
   "metadata": {},
   "outputs": [],
   "source": [
    "# Fonction qui calcule les éléments de la matrice H\n",
    "# Arguments:\n",
    "# m, n : indices de l'élément\n",
    "# a : paramètre a [eV]\n",
    "# L : largeur du puit de potentiel [Angstrom]\n",
    "# M : masse de la particule [kg]\n",
    "# Retourne l'élément de matrice [eV]\n",
    "\n",
    "def element_H(m, n, a, L, M):\n",
    "    a = a / (6.241509 * 10**18)\n",
    "    L = L * 10**(-9)\n",
    "    if m == n:\n",
    "        return (hbar**2*pi**2*n**2 / (2*M*L**2) + a / 2) * 6.241509 * 10**18\n",
    "    elif (m+n) % 2 == 0:\n",
    "        return 0.\n",
    "    else:\n",
    "        return -8*a*m*n / (pi**2*(m**2-n**2)**2) * 6.241509 * 10**18"
   ]
  },
  {
   "cell_type": "markdown",
   "metadata": {},
   "source": [
    "On crée maintenant *element_H_mn*, une fonction spécifique aux données du problème, qui sont $a=10$ eV et $L=0,5$ nm avec $M$ qui correspond à la masse de l'électron. Cette fonction prend uniquement $m$ et $n$ en argument."
   ]
  },
  {
   "cell_type": "code",
   "execution_count": 54,
   "metadata": {},
   "outputs": [],
   "source": [
    "def element_H_mn(m, n):\n",
    "    return element_H(m, n, 10, 0.5, me)"
   ]
  },
  {
   "cell_type": "markdown",
   "metadata": {},
   "source": [
    "## Question 6\n",
    "\n",
    "La matrice $H$ est en théorie infinie, donc il est évidemment impossible de calculer tous ses éléments. On va donc devoir approximer que la matrice $H$ a des dimensions finies. On définit la fonction *matrice_H* qui génère un *array numpy* de la matrice $H$ de dimensions $N$ par $N$. Cette fonction construit d'abord un *array* vide de la bonne dimension et calcule ensuite chaque élément à l'aide de la fonction *element_H_mn*."
   ]
  },
  {
   "cell_type": "code",
   "execution_count": 55,
   "metadata": {},
   "outputs": [],
   "source": [
    "# Construit la matrice H à partir de la fonction elements_H_mn\n",
    "# Argument:\n",
    "# N : dimension de la matrice (NxN)\n",
    "# Retourne un array numpy de dimensions NxN représentant la matrice H\n",
    "\n",
    "def matrice_H(N):\n",
    "    H = np.zeros((N, N))\n",
    "    for m in range(N):\n",
    "        for n in range(N):\n",
    "            H[m,n] = element_H_mn(m+1, n+1)\n",
    "    return H"
   ]
  },
  {
   "cell_type": "markdown",
   "metadata": {},
   "source": [
    "En première approximation, on détermine la matrice $H$ pour $N=10$. On veut ensuite déterminer ses valeurs propres, qui correspondent aux 10 premiers niveaux d'énergie. Pour ce faire, on utilise la fonction *eigvalsh* de la librairie *numpy.linalg* [1]. Cette fonction utilise la décomposition QR de façon itérative afin de déterminer les valeurs propres d'une matrice hermitienne. La décomposition QR consiste à représenter une matrice $X$ comme le produit d'une matrice orthogonale $Q$ et d'une matrice triangulaire supérieure $R$. Pour déterminer les valeurs propres de la matrice, on décompose la matrice $X_k=Q_kR_k$ de la $k$-ième itération pour ensuite définir la prochaine itération comme $X_{k+1}=R_kQ_k$. Au fil des itérations, la matrice $X_k$ va tendre vers une matrice diagonale dont les éléments de la diagonales principale sont les valeurs propres recherchées. La fonction *eigvalsh* a été choisie entre autres pour son efficacité, car le fait que la matrice donnée en argument soit hermitienne permet à la fonction d'utiliser les propriétés des matrices hermitiennes pour réduire le temps de calcul. Dans notre cas, comme la matrice $H$ est symétrique et réelle, on sait qu'elle est hermitienne."
   ]
  },
  {
   "cell_type": "code",
   "execution_count": 56,
   "metadata": {},
   "outputs": [
    {
     "name": "stdout",
     "output_type": "stream",
     "text": [
      "Les valeurs propres de la matrice H 10x10 sont : [5.84201832068847, 11.19716835721644, 18.69923015075477, 29.20917138991124, 42.75678500075369, 59.3318232668801, 78.92891366542653, 101.54616309119842, 127.18133344813275, 155.96234690491175]\n"
     ]
    }
   ],
   "source": [
    "# On crée la matrice H 10x10\n",
    "H_10 = matrice_H(10)\n",
    "\n",
    "#print(H_10)\n",
    "\n",
    "# On trouve les valeurs propres avec la fonction de numpy\n",
    "valpropres_10 = np.linalg.eigvalsh(H_10).tolist()\n",
    "valpropres_10.sort()\n",
    "print('Les valeurs propres de la matrice H 10x10 sont :', valpropres_10)"
   ]
  },
  {
   "cell_type": "markdown",
   "metadata": {},
   "source": [
    "On a donc les 10 niveau d'énergie suivants pour le puit de potentiel :\n",
    "\n",
    "<center>\n",
    "\n",
    "| Niveau     | Énergie<br />[eV] |\n",
    "|:------------:|:--------------:|\n",
    "| 1          | 5.8420183      |\n",
    "| 2          | 11.197168      |\n",
    "| 3          | 18.699230      |\n",
    "| 4          | 29.209171      |\n",
    "| 5          | 42.756785      |\n",
    "| 6          | 59.331823      |\n",
    "| 7          | 78.928914      |\n",
    "| 8          | 101.54616      |\n",
    "| 9          | 127.18133      |\n",
    "| 10         | 155.96235      |\n",
    "\n",
    "<center>\n",
    "<center> Tableau N. Niveaux d'énergie pour une matrice 10x10 <center>"
   ]
  },
  {
   "cell_type": "markdown",
   "metadata": {},
   "source": [
    "## Question 7\n",
    "\n",
    "On veut maintenant améliorer notre modèle en considérant une matrice de dimensions 100x100. On construit donc la matrice correspondante et on trouve les valeurs propres de la même façon qu'à la question 6."
   ]
  },
  {
   "cell_type": "code",
   "execution_count": 57,
   "metadata": {},
   "outputs": [
    {
     "name": "stdout",
     "output_type": "stream",
     "text": [
      "Les valeurs propres de la matrice H 100x100 sont : [5.8420179222420785, 11.197167037678128, 18.699228285281336, 29.209162614796522, 42.75677590734573, 59.33177083204045, 78.92886199851962, 101.54553399316707, 127.18050485095517, 155.83307295064813, 187.50283009621603, 222.18952636543773, 259.89300205613245, 300.61315136087484, 344.34990198050883, 391.10320317811215, 440.8730185122354, 493.65932126996574, 549.4620915132483, 608.2813141195106, 670.1169774521167, 734.9690724397315, 802.8375919270802, 873.7225302094504, 947.6238826938844, 1024.5416456491632, 1104.4758160189301, 1187.4263912804736, 1273.3933693367223, 1362.3767484329833, 1454.3765270919685, 1549.3927040628603, 1647.4252782808699, 1748.4742488350555, 1852.5396149423548, 1959.6213759267023, 2069.7195312018916, 2182.834080257698, 2298.9650226482695, 2418.112357982732, 2540.2760859171317, 2665.456206147986, 2793.652718406519, 2924.865622454201, 3059.0949180785697, 3196.3406050900694, 3336.6026833189458, 3479.8811526130685, 3626.1760128354726, 3775.4872638629163, 3927.8149055839276, 4083.158937897816, 4241.519360713108, 4402.8961739469, 4567.289377523535, 4734.6989713743, 4905.124955436152, 5078.567329651763, 5255.026093968234, 5434.501248337506, 5616.992792714863, 5802.500727059765, 5991.0250513342335, 6182.5657655039295, 6377.122869536313, 6574.696363402267, 6775.286247073695, 6978.892520525833, 7185.515183734245, 7395.154236677889, 7607.809679335294, 7823.481511688686, 8042.169733718878, 8263.874345411095, 8488.595346747814, 8716.332737717174, 8947.08651830261, 9180.856688495292, 9417.643248278784, 9657.44619764786, 9900.265536584873, 10146.10126508955, 10394.953383140835, 10646.821890746198, 10901.70678787698, 11159.60807455472, 11420.525750734138, 11684.459816465895, 11951.410271666331, 12221.377116456084, 12494.360350652618, 12770.359974577204, 13049.375987746513, 13331.408391224651, 13616.45718334136, 13904.522369346747, 14195.603940359315, 14489.701957129831, 14786.816306748302, 15086.96059024763]\n"
     ]
    }
   ],
   "source": [
    "# On crée la matrice H 100x100\n",
    "H_100 = matrice_H(100)\n",
    "\n",
    "#print(H_10)\n",
    "\n",
    "# On trouve les valeurs propres avec la fonction de numpy\n",
    "valpropres_100 = np.linalg.eigvalsh(H_100).tolist()\n",
    "valpropres_100.sort()\n",
    "print('Les valeurs propres de la matrice H 100x100 sont :', valpropres_100)"
   ]
  },
  {
   "cell_type": "markdown",
   "metadata": {},
   "source": [
    "On regroupe les 10 premiers niveaux d'énergie pour les matrices 10x10 et 100x100 afin de comparer les valeurs obtenues :\n",
    "\n",
    "\n",
    "<center>\n",
    "\n",
    "| Niveau     | Énergie - 10x10<br />[eV]  | Énergie - 100x100<br />[eV]  | \n",
    "|:------------:|:--------------:|:--------------:|\n",
    "| 1          | 5.8420183      | 5.8420179      |\n",
    "| 2          | 11.197168      | 11.197167      |\n",
    "| 3          | 18.699230      | 18.699228      |\n",
    "| 4          | 29.209171      | 29.209163      |\n",
    "| 5          | 42.756785      | 42.756776      |\n",
    "| 6          | 59.331823      | 59.331771      |\n",
    "| 7          | 78.928914      | 78.928862      |\n",
    "| 8          | 101.54616      | 101.54553      |\n",
    "| 9          | 127.18133      | 127.18050      |\n",
    "| 10         | 155.96235      | 155.83307      |\n",
    "\n",
    "<center>\n",
    "<center> Tableau N. Niveaux d'énergie pour les matrices 10x10 et 100x100 <center>"
   ]
  },
  {
   "cell_type": "markdown",
   "metadata": {},
   "source": [
    "On observe que les valeurs d'énergie de la matrice 10x10 et de la matrice 100x100 sont très rapprochées. La différence la plus importante est pour le niveau 10 et est l'ordre de $10^{-4}$ fois la valeur du niveau d'énergie. On remarque également que l'erreur relative remble augmenter avec les niveaux d'énergie. On conclut donc qu'une matrice 10x10 permet bien d'estimer les premiers niveaux d'énergie avec une précision d'environ $10^{-5}$, ce qui est suffisant dans notre cas."
   ]
  },
  {
   "cell_type": "markdown",
   "metadata": {},
   "source": [
    "## Question 8\n",
    "\n",
    "On veut maintenant améliorer notre programme afin qu'il retourne les fonctions propres des niveaux d'énergie du puits de potentiel. Pour ce faire, on utilise la fonction *eigh* de la librairie *numpy.linalg*. Cette fonction calcule les valeurs propres et les vecteurs propres d'une matrice symétrique et hermitienne. Les valeurs propres sont déterminées la même façon que pour la fonction *eigvalsh* utilisée plus haut. Les vecteurs propres sont aussi calculés de manière itérative par décomposition QR. La fonction retourne les valeurs propres regroupées dans un *array* à 1 dimension et un *array* comprenant les vecteurs propres comme colonnes. Comme on a déterminé à la question précédente qu'une matrice 10x10 permettait d'estimer avec une précision suffisante les niveaux d'énergie, on utilise cette matrice pour trouver les vecteurs propres en économisant du temps de calcul. "
   ]
  },
  {
   "cell_type": "code",
   "execution_count": 58,
   "metadata": {},
   "outputs": [
    {
     "name": "stdout",
     "output_type": "stream",
     "text": [
      "Niveau d'énergie : [  5.84201832  11.19716836  18.69923015  29.20917139  42.756785\n",
      "  59.33182327  78.92891367 101.54616309 127.18133345 155.9623469 ]\n",
      "État fondamental : [9.36746710e-01 3.45568595e-01 5.44784601e-02 1.06453800e-02\n",
      " 2.35694057e-03 1.00108202e-03 3.29040258e-04 2.10497888e-04\n",
      " 8.25243388e-05 6.50449140e-05]\n",
      "1er niveau excité : [ 3.48199007e-01 -9.04379991e-01 -2.45300170e-01 -2.51393933e-02\n",
      " -6.94140568e-03 -1.06040376e-03 -8.62149115e-04 -1.52044067e-04\n",
      " -2.12162722e-04 -3.76184379e-05]\n",
      "1er niveau excité : [-3.46780787e-02  2.49544819e-01 -9.49985301e-01 -1.83927405e-01\n",
      " -1.38865772e-02 -5.43580992e-03 -6.13825714e-04 -7.97346699e-04\n",
      " -9.01879590e-05 -2.15137648e-04]\n"
     ]
    }
   ],
   "source": [
    "# On détermine les vecteurs propres de la matrice 10x10\n",
    "\n",
    "valpropres_10, vecpropres_10 = np.linalg.eigh(H_10)\n",
    "\n",
    "print(\"Niveau d'énergie :\", valpropres_10)\n",
    "print('État fondamental :', vecpropres_10[:, 0])\n",
    "print('1er niveau excité :', vecpropres_10[:, 1])\n",
    "print('1er niveau excité :', vecpropres_10[:, 2])"
   ]
  },
  {
   "cell_type": "markdown",
   "metadata": {},
   "source": [
    "Pour chaque niveau, les éléments du vecteur propre correspondent aux coefficients de Fourier $\\psi_n$ de la fonction propres $\\psi(x)$. Dans notre cas, comme nous avons choisi d'utiliser une matrice 10x10, la fonction d'onde est donnée par\n",
    "$$\\psi(x) = \\sum_{n=0}^{10}\\psi_n\\sin\\frac{n\\pi x}{L}$$\n",
    "On veut maintenant normaliser nos fonctions propres. On connaît la condition de normalisation des fonctions propres :\n",
    "$$\\int_0^L|{\\psi(x)}|^2 = 1$$\n",
    "$$\\int_0^L\\psi^*(x)\\psi(x) = 1$$\n",
    "Comme les coefficients $\\psi_n$ sont les éléments des vecteurs propres d'une matrice réelle et symétrique, on sait que ceux-ci sont réels (on peut aussi observer que les vecteurs propres calculés ont uniquement des éléments réels). On a donc\n",
    "$$\\int_0^L\\psi^2(x) = 1$$\n",
    "$$\\int_0^L\\bigg(\\sum_{n=0}^{10}\\psi_n\\sin\\frac{n\\pi x}{L}\\bigg)^2 = 1$$\n",
    "$$\\int_0^L\\sum_{n=0}^{10}\\sum_{m=0}^{10}\\psi_n\\psi_m\\sin\\frac{n\\pi x}{L}\\sin\\frac{m\\pi x}{L} = 1$$\n",
    "Par la linéarité de l'intégration et comme $\\psi_n$ et $\\psi_m$ sont des constantes,\n",
    "$$\\sum_{n=0}^{10}\\sum_{m=0}^{10}\\psi_n\\psi_m\\int_0^L\\sin\\frac{n\\pi x}{L}\\sin\\frac{m\\pi x}{L} = 1$$\n",
    "Selon les propriétés présentées à la question 4,\n",
    "$$\\sum_{n=0}^{10}\\psi^2_n\\bigg(\\frac{L}{2}\\bigg) = 1$$\n",
    "$$\\sum_{n=0}^{10}\\psi^2_n = \\frac{2}{L}$$\n",
    "Pour $L=0,5$ nm (on considérera que $x$ est en nm) :\n",
    "$$\\sum_{n=0}^{10}\\psi^2_n = 4$$\n",
    "Pour obtenir des fonctions propres normalisées avec des valeurs d'énergie en eV et des positions en nm, la norme au carré des vecteurs propres doit être de 4. On crée la fonction *normaliser_vp* qui prend en argument un *array* à une dimension représentant un vecteur propre et retourne un *array* à une dimension représentant un vecteur propre dont la norme au carré est 4. Pour ce faire, la fonction calcule tout d'abord la norme au carré du vecteur à partir de ses composantes et détermine la constante de normalisation afin d'avoir une norme au carré de 4. Elle retourne ensuite le vecteur propre multiplié par la constante de normalisation."
   ]
  },
  {
   "cell_type": "code",
   "execution_count": 59,
   "metadata": {},
   "outputs": [],
   "source": [
    "# Normalise les vecteurs propres à une norme de n\n",
    "# Arguments:\n",
    "# V : vecteur à normaliser (1D numpy array)\n",
    "\n",
    "def normaliser_vp(V):\n",
    "    norme_carre = 0\n",
    "    for i in V:\n",
    "        norme_carre += i**2\n",
    "    constante = np.sqrt(4 / norme_carre)\n",
    "    return np.multiply(constante, V)"
   ]
  },
  {
   "cell_type": "markdown",
   "metadata": {},
   "source": [
    "On normalise les 3 fonctions propres qui nous intéressent :"
   ]
  },
  {
   "cell_type": "code",
   "execution_count": 60,
   "metadata": {},
   "outputs": [
    {
     "name": "stdout",
     "output_type": "stream",
     "text": [
      "État fondamental : [1.87349342e+00 6.91137190e-01 1.08956920e-01 2.12907601e-02\n",
      " 4.71388113e-03 2.00216403e-03 6.58080515e-04 4.20995775e-04\n",
      " 1.65048678e-04 1.30089828e-04]\n",
      "Premier état excité : [ 6.96398014e-01 -1.80875998e+00 -4.90600340e-01 -5.02787867e-02\n",
      " -1.38828114e-02 -2.12080753e-03 -1.72429823e-03 -3.04088134e-04\n",
      " -4.24325444e-04 -7.52368758e-05]\n",
      "Deuxième état excité : [-6.93561574e-02  4.99089637e-01 -1.89997060e+00 -3.67854809e-01\n",
      " -2.77731543e-02 -1.08716198e-02 -1.22765143e-03 -1.59469340e-03\n",
      " -1.80375918e-04 -4.30275296e-04]\n"
     ]
    }
   ],
   "source": [
    "# État fondamental\n",
    "psi_0 = normaliser_vp(vecpropres_10[:, 0])\n",
    "\n",
    "# Premier état excité\n",
    "psi_1 = normaliser_vp(vecpropres_10[:, 1])\n",
    "\n",
    "# Deuxième état excité\n",
    "psi_2 = normaliser_vp(vecpropres_10[:, 2])\n",
    "\n",
    "print('État fondamental :', psi_0)\n",
    "print('Premier état excité :', psi_1)\n",
    "print('Deuxième état excité :', psi_2)"
   ]
  },
  {
   "cell_type": "markdown",
   "metadata": {},
   "source": [
    "Maintenant que nos fonctions propres sont normalisées, on veut connaître leurs densités de probabilité. On sait que la densité de probabilité d'une fonction propre est donnée par\n",
    "$$|\\psi(x)|^2 = \\sum_{n=0}^{10}\\sum_{m=0}^{10}\\psi_n\\psi_m\\sin\\frac{n\\pi x}{L}\\sin\\frac{m\\pi x}{L}$$\n",
    "On crée donc la fonction *densite_prob* qui calcule la densité de probabilité pour une fonciton donnée à une position *x* donnée en nm."
   ]
  },
  {
   "cell_type": "code",
   "execution_count": 63,
   "metadata": {},
   "outputs": [],
   "source": [
    "# Calcule la densité de probabilité\n",
    "# Arguments :\n",
    "# x : position [nm]\n",
    "# V : vecteur des coefficients de Fourier de la fonction propre\n",
    "# Retourne la densité de probabilité\n",
    "\n",
    "def densite_prob(x, V):\n",
    "    dens = 0\n",
    "    for i in range(len(V)):\n",
    "        for j in range(len(V)):\n",
    "            dens += V[i] * V[j] * np.sin((i+1)*pi*x/0.5) * np.sin((j+1)*pi*x/0.5)\n",
    "    return dens"
   ]
  },
  {
   "cell_type": "markdown",
   "metadata": {},
   "source": [
    "On calcule maintenant la densité de probabilité des trois fonctions propres qui nous intéressent et on représente le tout graphiquement."
   ]
  },
  {
   "cell_type": "code",
   "execution_count": 76,
   "metadata": {},
   "outputs": [
    {
     "data": {
      "image/png": "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",
      "text/plain": [
       "<Figure size 432x216 with 1 Axes>"
      ]
     },
     "metadata": {},
     "output_type": "display_data"
    }
   ],
   "source": [
    "x = np.linspace(0, 0.5, 100)\n",
    "\n",
    "# État fondamental\n",
    "D_0 = []\n",
    "for i in x:\n",
    "    D_0.append(densite_prob(i, psi_0))\n",
    "\n",
    "# État fondamental\n",
    "D_1 = []\n",
    "for i in x:\n",
    "    D_1.append(densite_prob(i, psi_1))\n",
    "\n",
    "# État fondamental\n",
    "D_2 = []\n",
    "for i in x:\n",
    "    D_2.append(densite_prob(i, psi_2))\n",
    "\n",
    "\n",
    "# On représente graphiquement\n",
    "sns.set_style('ticks')\n",
    "plt.figure(figsize=(6,3))\n",
    "plt.plot(x, D_0, 'r', label='État fondamental')\n",
    "plt.plot(x, D_1, 'g', label='Premier état excité')\n",
    "plt.plot(x, D_2, 'b', label='Deuxième état excité')\n",
    "plt.ylabel('Densité de probabilité')\n",
    "plt.xlabel('Position $x$ [nm]')\n",
    "plt.grid()\n",
    "plt.show()\n"
   ]
  },
  {
   "cell_type": "markdown",
   "metadata": {},
   "source": []
  },
  {
   "cell_type": "markdown",
   "metadata": {},
   "source": [
    "## Question 3\n",
    "\n",
    "### 10.\n",
    "\n"
   ]
  },
  {
   "cell_type": "markdown",
   "metadata": {},
   "source": [
    "Débutons par définir les constantes du problème:"
   ]
  },
  {
   "cell_type": "code",
   "execution_count": null,
   "metadata": {},
   "outputs": [],
   "source": [
    "toJ = 1.602176565*10**(-19) # Facteur de conversion eV --> J\n",
    "hbar = 1.054571817*10**(-34)# J s\n",
    "m = 9.1094*10**(-31) # kg\n",
    "w = 1*10**(-9) # m\n",
    "V = 20*toJ # J"
   ]
  },
  {
   "cell_type": "markdown",
   "metadata": {},
   "source": [
    "Sachant qu'on a:\n",
    "\n",
    "$$\\tan\\sqrt{w^2mE/2\\hbar^2}=\\begin{cases}\\sqrt{(V-E)/E}\\qquad \\text{pour les états pairs}\\\\\n",
    "-\\sqrt{E/(V-E)}\\qquad \\text{pour les états impairs}\\end{cases}$$\n",
    "\n",
    "On définit:\n",
    "\n",
    "$$y_1=\\tan\\sqrt{w^2mE/2\\hbar^2}$$\n",
    "$$y_2=\\sqrt{(V-E)/E}$$\n",
    "$$y_3=-\\sqrt{E/(V-E)}$$\n",
    "\n",
    "On définit la fonction *fonctions* qui retourne une liste de valeurs pour ces trois fonctions selon un *linspace* d'énergie généré à même la fonction:"
   ]
  },
  {
   "cell_type": "code",
   "execution_count": null,
   "metadata": {},
   "outputs": [],
   "source": [
    "# But: retourner une liste de valeurs des trois fonctions pour des énergies allant de 0 à max\n",
    "# Arguments:\n",
    "# N: nombre de divisions du linspace\n",
    "# max: valeur maximale d'énergie du linspace\n",
    "# w: largeur du puits en m\n",
    "# V: hauteur du puits en eV\n",
    "\n",
    "def fonctions(N, max, w, V):\n",
    "\n",
    "    n = np.linspace(0, max, N)\n",
    "\n",
    "    y1 = [np.tan(np.sqrt(w**2 * m * E*toJ / (2 * hbar**2))) for E in n]\n",
    "    y2 = [np.sqrt((V-E) / E) for E in n]\n",
    "    y3 = [-np.sqrt(E / (V-E)) for E in n]\n",
    "\n",
    "    return y1, y2, y3, n"
   ]
  },
  {
   "cell_type": "markdown",
   "metadata": {},
   "source": [
    "On peut générer une liste de 1000 valeurs pour chacune de ces fonctions afin de générer un graphique:"
   ]
  },
  {
   "cell_type": "code",
   "execution_count": null,
   "metadata": {},
   "outputs": [
    {
     "name": "stderr",
     "output_type": "stream",
     "text": [
      "<ipython-input-341-fb108e2df0af>:13: RuntimeWarning: divide by zero encountered in double_scalars\n",
      "  y2 = [np.sqrt((V-E) / E) for E in n]\n",
      "<ipython-input-341-fb108e2df0af>:14: RuntimeWarning: divide by zero encountered in double_scalars\n",
      "  y3 = [-np.sqrt(E / (V-E)) for E in n]\n"
     ]
    },
    {
     "data": {
      "image/png": "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",
      "text/plain": [
       "<Figure size 1080x576 with 1 Axes>"
      ]
     },
     "metadata": {},
     "output_type": "display_data"
    }
   ],
   "source": [
    "y1, y2, y3, E = fonctions(1000, 20, w, 20)\n",
    "\n",
    "# On effectue le graphique\n",
    "ax = plt.figure(figsize=(15,8))\n",
    "plt.plot(E, y1, label='y1')\n",
    "plt.plot(E, y2, label='y2')\n",
    "plt.plot(E, y3, label='y3')\n",
    "plt.xlabel('Énergie [eV]', fontsize=14)\n",
    "plt.ylabel(\"Valeurs des fonctions\", fontsize=14)\n",
    "#plt.ylim(-10,10)\n",
    "\n",
    "# On positionne la légende\n",
    "plt.legend(loc='lower right')\n",
    "plt.show()"
   ]
  },
  {
   "cell_type": "markdown",
   "metadata": {},
   "source": [
    "Il est difficile de percevoir les croisements entre les fonctions à cette échelle. On peut donc dé-commenter la ligne *plt.ylim(-10,10)* afin de n'avoir que la zone d'intérêt. Voici le graphique une fois ajusté:\n",
    "\n",
    "<center><img src=\"TP2_Q3_10.png\" style=\"width: 600px;\"/></center>\n",
    "<center>Figure X. blahhhhhhhhhhhhh"
   ]
  },
  {
   "cell_type": "markdown",
   "metadata": {},
   "source": [
    "Les lignes verticales rouges ont été ajoutées manuellement afin d'estimer les énergies pour lesquelles les fonctions se croisent (autrement dit, les solutions de l'équation). Il est important de noter que les lignes verticales bleues sont dû au fait que *matplotlib* relie toujours un point du linspace au suivant. Cependant, sachant que la fonction $y_1$ est une tangente, on remarque que ces lignes sont en fait les asymptotes de la fonction, et ainsi leur points de croisement avec $y_2$ et $y_3$ ne sont pas des solutions du système. On ignore donc les lignes verticales bleues dans notre analyse.\n",
    "\n",
    "On peut faire une grossière estimation de l'énergie de chacun des niveaux visuellement. On estime alors pour les six premiers états (en eV):\n",
    "\n",
    "$E_0=0,3\\\\$\n",
    "$E_1=1,24\\\\$\n",
    "$E_2=3,0\\\\$\n",
    "$E_3=5,05\\\\$\n",
    "$E_4=8,0\\\\$\n",
    "$E_5=11,3$"
   ]
  },
  {
   "cell_type": "markdown",
   "metadata": {},
   "source": [
    "### 11.\n",
    "\n",
    "On reformule d'abord les fonctions afin qu'elles soient égales à zéro:"
   ]
  },
  {
   "cell_type": "markdown",
   "metadata": {},
   "source": [
    "États pairs:\n",
    "\n",
    "$$\\tan\\sqrt{w^2mE/2\\hbar^2}=\\sqrt{(V-E)/E}$$\n",
    "\n",
    "$$\\tan\\sqrt{w^2mE/2\\hbar^2}-\\sqrt{(V-E)/E}=0$$\n",
    "\n",
    "États impairs:\n",
    "\n",
    "$$\\tan\\sqrt{w^2mE/2\\hbar^2}=-\\sqrt{E/(V-E)}$$\n",
    "\n",
    "$$\\tan\\sqrt{w^2mE/2\\hbar^2}+\\sqrt{E/(V-E)}=0$$"
   ]
  },
  {
   "cell_type": "markdown",
   "metadata": {},
   "source": [
    "On code deux fonctions, *f_pair* et *f_impair*, qui acceptent en entrée une énergie en joules et retournent la valeur de la fonction. On code aussi la méthode de la sécante, dont le code est tiré directement des notes de cours PHY-3500, exercice 6.16:"
   ]
  },
  {
   "cell_type": "code",
   "execution_count": null,
   "metadata": {},
   "outputs": [],
   "source": [
    "# Fonction pour les niveaux pairs\n",
    "def f_pair(e):\n",
    "    return np.tan(np.sqrt(w**2 * m * e /(2 * hbar**2))) - np.sqrt((V-e)/e)\n",
    "\n",
    "# Fonction pour les niveaux impairs\n",
    "def f_impair(e):\n",
    "    return np.tan(np.sqrt(w**2 * m * e /(2 * hbar**2))) + np.sqrt(e/(V-e))\n",
    "\n",
    "# Méthode de la sécante directement tirée des notes de cours\n",
    "# Arguments:\n",
    "# f: fonction dont on veut déterminer les racines\n",
    "# e0 et e1: deux énergies [eV] près de la racine recherchée pour la première itération\n",
    "# target: précision souhaitée en eV\n",
    "def secante(f, e0, e1, target):\n",
    "\n",
    "    e0 = e0*toJ\n",
    "    e1 = e1*toJ\n",
    "    target = target*toJ\n",
    "\n",
    "    while True:\n",
    "        e2=e1-f(e1)*(e1-e0)/(f(e1)-f(e0))\n",
    "        if(abs(e2-e1)<target):\n",
    "            break\n",
    "        e0=e1\n",
    "        e1=e2\n",
    "\n",
    "    return e2/toJ"
   ]
  },
  {
   "cell_type": "markdown",
   "metadata": {},
   "source": [
    "On cherche donc, avec la méthode de la sécante, à déterminer à quelle énergie la fonction croise l'axe des abscisses, ce qui correspond aux énergie des différents niveaux. La méthode de la sécante demande qu'on choisisse deux points, *e0* et *e1*, le plus proche possible de la racine; on choisira donc les points situés à $0,04 \\ eV$ de part et d'autre des estimations faites au #10:"
   ]
  },
  {
   "cell_type": "code",
   "execution_count": null,
   "metadata": {},
   "outputs": [
    {
     "name": "stdout",
     "output_type": "stream",
     "text": [
      "Énergie du niveau fondamental: 0.3179329761971772 eV\n",
      "Énergie du premier niveau: 1.2700741509244868 eV\n",
      "Énergie du second niveau: 2.8510341241806434 eV\n",
      "Énergie du troisième niveau: 5.050401008400405 eV\n",
      "Énergie du quatrième niveau: 7.849840163087997 eV\n",
      "Énergie du cinquième niveau: 11.215080174058814 eV\n"
     ]
    }
   ],
   "source": [
    "target = 0.001\n",
    "print(f\"Énergie du niveau fondamental: {secante(f_pair, 0.26, 0.34, target)} eV\")\n",
    "print(f\"Énergie du premier niveau: {secante(f_impair, 1.2, 1.28, target)} eV\")\n",
    "print(f\"Énergie du second niveau: {secante(f_pair, 2.96, 3.04, target)} eV\")\n",
    "print(f\"Énergie du troisième niveau: {secante(f_impair, 5.01, 5.09, target)} eV\")\n",
    "print(f\"Énergie du quatrième niveau: {secante(f_pair, 7.96, 8.04, target)} eV\")\n",
    "print(f\"Énergie du cinquième niveau: {secante(f_impair, 11.26, 11.34, target)} eV\")"
   ]
  },
  {
   "cell_type": "markdown",
   "metadata": {},
   "source": [
    "## Médiagraphie\n",
    "\n",
    "[1] (eigenvalues) https://numpy.org/doc/stable/reference/generated/numpy.linalg.eigvals.html"
   ]
  }
 ],
 "metadata": {
  "interpreter": {
   "hash": "6537d6febe7fb1246163fe1377d17bbfd38b19cd973b106333eb66b4dd5f3e76"
  },
  "kernelspec": {
   "display_name": "Python 3.8.2 64-bit",
   "language": "python",
   "name": "python3"
  },
  "language_info": {
   "codemirror_mode": {
    "name": "ipython",
    "version": 3
   },
   "file_extension": ".py",
   "mimetype": "text/x-python",
   "name": "python",
   "nbconvert_exporter": "python",
   "pygments_lexer": "ipython3",
   "version": "3.8.2"
  },
  "orig_nbformat": 4
 },
 "nbformat": 4,
 "nbformat_minor": 2
}
