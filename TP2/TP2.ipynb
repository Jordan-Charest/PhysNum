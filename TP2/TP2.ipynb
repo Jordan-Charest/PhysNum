{
 "cells": [
  {
   "cell_type": "markdown",
   "metadata": {},
   "source": [
    "## Constantes"
   ]
  },
  {
   "cell_type": "code",
   "execution_count": 2,
   "metadata": {},
   "outputs": [],
   "source": [
    "import numpy as np\n",
    "\n",
    "\n",
    "me =  9.1094 * 10**(-34)\n",
    "e =  1.602 * 10**(-19)\n",
    "hbar = 1.056 * 10**{-34}"
   ]
  },
  {
   "cell_type": "markdown",
   "metadata": {},
   "source": [
    "## Question 4"
   ]
  },
  {
   "cell_type": "markdown",
   "metadata": {},
   "source": [
    "Tout d'abord, on sait que n'importe quel état $\\psi(x)$ peut être représenté en série de Fourier selon la forme suivante :\n",
    "$$\\psi(x) = \\sum_{n=1}^{\\infty} \\psi_n\\sin\\frac{n\\pi x}{L}$$\n",
    "En insérant l'état $\\psi(x)$ sous cette forme dans l'équation de Schrödinger, on obtient\n",
    "$$\\hat{H}\\psi(x) = E\\psi(x)$$\n",
    "$$\\hat{H}\\sum_{n=1}^{\\infty} \\psi_n\\sin\\frac{n\\pi x}{L} = E\\sum_{n=1}^{\\infty} \\psi_n\\sin\\frac{n\\pi x}{L}$$\n",
    "Par la distributivité de $\\hat{H}$ et comme les $\\psi_n$ sont des constantes, on a\n",
    "$$\\sum_{n=1}^{\\infty} \\psi_n\\hat{H}\\sin\\frac{n\\pi x}{L} = E\\sum_{n=1}^{\\infty} \\psi_n\\sin\\frac{n\\pi x}{L}$$\n",
    "On multiplie $\\sin\\frac{m\\pi x}{L}$ par les deux côtés de l'équation et on distribue sur les sommes :\n",
    "$$\\sum_{n=1}^{\\infty} \\psi_n\\sin\\frac{m\\pi x}{L}\\hat{H}\\sin\\frac{n\\pi x}{L} = E\\sum_{n=1}^{\\infty} \\psi_n\\sin\\frac{m\\pi x}{L}\\sin\\frac{n\\pi x}{L}$$\n",
    "On intègre de 0 à $L$ des deux côtés de l'équation:\n",
    "$$\\int_0^L\\sum_{n=1}^{\\infty} \\psi_n\\sin\\frac{m\\pi x}{L}\\hat{H}\\sin\\frac{n\\pi x}{L}\\text{d}x = \\int_0^LE\\sum_{n=1}^{\\infty} \\psi_n\\sin\\frac{m\\pi x}{L}\\sin\\frac{n\\pi x}{L}\\text{d}x$$\n",
    "$$\\sum_{n=1}^{\\infty} \\psi_n\\int_0^L\\sin\\frac{m\\pi x}{L}\\hat{H}\\sin\\frac{n\\pi x}{L}\\text{d}x = E\\sum_{n=1}^{\\infty} \\psi_n\\int_0^L\\sin\\frac{m\\pi x}{L}\\sin\\frac{n\\pi x}{L}\\text{d}x$$\n",
    "Or, on sait que\n",
    "$$\\int_0^L \\sin\\frac{m\\pi x}{L}\\sin\\frac{n\\pi x}{L}\\text{d}x = 0 \\qquad \\text{pour $m\\neq n$}$$\n",
    "$$\\int_0^L \\sin\\frac{m\\pi x}{L}\\sin\\frac{n\\pi x}{L}\\text{d}x = \\frac{L}{2} \\qquad \\text{pour $m=n$}$$\n",
    "Tous les termes de la somme de droite seront donc nuls excepté celui où $n=m$. On a donc\n",
    "$$\\sum_{n=1}^{\\infty} \\psi_n\\int_0^L\\sin\\frac{m\\pi x}{L}\\hat{H}\\sin\\frac{n\\pi x}{L}\\text{d}x = \\frac{1}{2}LE\\psi_m$$"
   ]
  },
  {
   "cell_type": "markdown",
   "metadata": {},
   "source": [
    "En observant la forme de l'équation de Schrödinger obtenue pour la série de Fourier d'un état, on décide de poser des éléments de matrice $H_{mn}$ de la façon suivante :\n",
    "$$H_{mn} = \\frac{2}{L}\\int_0^L\\sin\\frac{m\\pi x}{L}\\hat{H}\\sin\\frac{n\\pi x}{L}\\text{d}x$$"
   ]
  },
  {
   "cell_type": "markdown",
   "metadata": {},
   "source": [
    "Cette définition nous permet de réécrire l'éqauation de Schrödinger sous une forme matricielle. En insérant $H_{mn}$ dans l'équation dérivée plus haut, on a\n",
    "$$\\sum_{n=1}^{\\infty} \\psi_n\\frac{L}{2}H_{mn} = \\frac{1}{2}LE\\psi_m$$\n",
    "$$\\sum_{n=1}^{\\infty} H_{mn} \\psi_n = E\\psi_m$$\n",
    "On remarque que la partie gauche de l'équaiton correspond à une étape de la mutliplication matricielle de $\\boldsymbol{H}$ et de $\\boldsymbol{\\psi}$ où on trouve l'élément $\\psi_m$ de la matrice résultante. On remarque aussi que chaque élément de la matrice résultante est simplement l'élément de la matrice $\\psi(x)$ multiplié par le facteur $E$. On voit donc que l'équation trouvée implique l'équation aux valeurs propres suivante :\n",
    "$$\\boldsymbol{H}\\boldsymbol{\\psi} = E\\boldsymbol{\\psi}$$\n",
    "En définissant les éléments de la matrice $H$ de cette façon, on obtient donc que l'état $\\psi(x)$ est un vecteur propre de l'Hamiltonien associé à la valeur propre E.\n",
    "\n",
    "$$\\textcolor{red}{\\text{Ajouter du stock? Bonjour}}"
   ]
  },
  {
   "cell_type": "markdown",
   "metadata": {},
   "source": [
    "## Question 5\n",
    "\n",
    "Le potentiel est donné par\n",
    "$$V(x) = \\frac{ax}{L}$$\n",
    "Ce qui donne l'Hamiltonien suivant :\n",
    "$$\\hat{H} = \\frac{-\\hbar^2}{2M}\\frac{\\text{d}^2}{\\text{d}x^2} + \\frac{ax}{L}$$\n",
    "Les éléments de de matrice $H_{mn}$ sont donc donnés par :\n",
    "$$H_{mn} = \\frac{2}{L}\\int_0^L\\sin\\frac{m\\pi x}{L}\\bigg(\\frac{-\\hbar^2}{2M}\\frac{\\text{d}^2}{\\text{d}x^2} + \\frac{ax}{L}\\bigg)\\sin\\frac{n\\pi x}{L}\\text{d}x$$\n",
    "$$H_{mn} = \\frac{2}{L}\\int_0^L\\sin\\frac{m\\pi x}{L}\\bigg[\\frac{-\\hbar^2}{2M}\\bigg(-\\frac{\\pi^2n^2}{L^2}\\sin\\frac{n\\pi x}{L}\\bigg) + \\frac{ax}{L}\\sin\\frac{n\\pi x}{L}\\bigg]\\text{d}x$$\n",
    "$$H_{mn} = \\frac{2}{L^2}\\int_0^L\\sin\\frac{m\\pi x}{L}\\bigg[\\frac{\\hbar^2\\pi^2n^2}{2ML}\\sin\\frac{n\\pi x}{L} + ax\\sin\\frac{n\\pi x}{L}\\bigg]\\text{d}x$$\n",
    "$$H_{mn} = \\frac{\\hbar^2\\pi^2n^2}{ML^3}\\int_0^L\\sin\\frac{m\\pi x}{L}\\sin\\frac{n\\pi x}{L}\\text{d}x + \\frac{2a}{L^2}\\int_0^Lx\\sin\\frac{m\\pi x}{L}\\sin\\frac{n\\pi x}{L}\\text{d}x$$\n",
    "Or, en plus des propriétés énoncées plus haut, on sait également que\n",
    "$$\\int_0^Lx\\sin\\frac{m\\pi x}{L}\\sin\\frac{n\\pi x}{L}\\text{d}x = 0 \\qquad \\text{pour $m\\neq n$ et $m+n$ est pair}$$\n",
    "$$\\int_0^Lx\\sin\\frac{m\\pi x}{L}\\sin\\frac{n\\pi x}{L}\\text{d}x = -\\frac{4L^2}{\\pi^2}\\frac{mn}{(m^2+n^2)^2} \\qquad \\text{pour $m\\neq n$ et $m+n$ est impair}$$\n",
    "$$\\int_0^Lx\\sin\\frac{m\\pi x}{L}\\sin\\frac{n\\pi x}{L}\\text{d}x = \\frac{L^2}{4} \\qquad \\text{pour $m=n$}$$\n",
    "On peut donc résoudre les intégralespout les différents cas. Pour $m=n$, on a\n",
    "$$H_{mn} = \\frac{\\hbar^2\\pi^2n^2}{ML^3}\\bigg(\\frac{L}{2}\\bigg) + \\frac{2a}{L^2}\\bigg(\\frac{L^2}{4}\\bigg)$$\n",
    "$$H_{mn} = \\frac{\\hbar^2\\pi^2n^2}{2ML^2} + \\frac{a}{2}$$\n",
    "Pour $m\\neq n$ avec $m+n$ impair, on a\n",
    "$$H_{mn} = \\frac{2a}{L^2}\\bigg(-\\frac{4L^2}{\\pi^2}\\frac{mn}{(m^2+n^2)^2}\\bigg)$$\n",
    "$$H_{mn} = -\\frac{8amn}{\\pi^2(m^2+n^2)^2}$$\n",
    "Pour $m\\neq n$ et $m+n$ pair, on a\n",
    "$$H_{mn} = 0$$"
   ]
  },
  {
   "cell_type": "markdown",
   "metadata": {},
   "source": [
    "La matrice $\\boldsymbol{H}$ a donc la forme suivante :\n",
    "$$\\begin{bmatrix}\n",
    "H_{nn} & H_{mn} & 0 & H_{mn} & 0 & \\ldots\\\\\n",
    "H_{mn} & H_{nn} & H_{mn} & 0 & H_{mn} & \\ldots\\\\\n",
    "0 & H_{mn} & H_{nn} & H_{mn} & 0 & \\ldots\\\\\n",
    "H_{mn} & 0 & H_{mn} & H_{nn} & H_{mn} & \\ldots\\\\\n",
    "0 & H_{mn} & 0 & H_{mn} & H_{nn} & \\ldots\\\\\n",
    "\\vdots & \\vdots & \\vdots & \\vdots & \\vdots & \\ddots\n",
    "\\end{bmatrix}$$\n",
    "où\n",
    "$$H_{nn} = \\frac{\\hbar^2\\pi^2n^2}{2ML^2} + \\frac{a}{2}$$\n",
    "$$H_{mn} = -\\frac{8amn}{\\pi^2(m^2-n^2)^2} = -\\frac{8anm}{\\pi^2(n^2-m^2)^2} = H_{nm}$$"
   ]
  },
  {
   "cell_type": "markdown",
   "metadata": {},
   "source": [
    "On observe donc que la matrice est réelle et symétrique. On code ensuite la fonction *element_H* qui calcule l'élément $m$, $n$ de la matrice $\\boldsymbol{H}$ en prenant les valeurs de $m$, $n$, $a$, $L$ et $M$. Tout d'abord, le code compare les valeurs de $m$ et $n$ et détermine la parité de $m+n$ afinde déterminer la formule qui s'applique. Elle calcule ensuite la valeur de l'élément."
   ]
  }
 ],
 "metadata": {
  "interpreter": {
   "hash": "6537d6febe7fb1246163fe1377d17bbfd38b19cd973b106333eb66b4dd5f3e76"
  },
  "kernelspec": {
   "display_name": "Python 3.8.2 64-bit",
   "language": "python",
   "name": "python3"
  },
  "language_info": {
   "codemirror_mode": {
    "name": "ipython",
    "version": 3
   },
   "file_extension": ".py",
   "mimetype": "text/x-python",
   "name": "python",
   "nbconvert_exporter": "python",
   "pygments_lexer": "ipython3",
   "version": "3.8.2"
  },
  "orig_nbformat": 4
 },
 "nbformat": 4,
 "nbformat_minor": 2
}
