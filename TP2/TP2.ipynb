{
 "cells": [
  {
   "cell_type": "markdown",
   "metadata": {},
   "source": [
    "## Constantes"
   ]
  },
  {
   "cell_type": "code",
   "execution_count": 76,
   "metadata": {},
   "outputs": [],
   "source": [
    "import numpy as np\n",
    "\n",
    "\n",
    "me =  9.1094 * 10**(-31)\n",
    "e =  1.602 * 10**(-19)\n",
    "hbar = 1.056 * 10**(-34)\n",
    "pi = np.pi"
   ]
  },
  {
   "cell_type": "markdown",
   "metadata": {},
   "source": [
    "## Question 4"
   ]
  },
  {
   "cell_type": "markdown",
   "metadata": {},
   "source": [
    "Tout d'abord, on sait que n'importe quel état $\\psi(x)$ peut être représenté en série de Fourier selon la forme suivante :\n",
    "$$\\psi(x) = \\sum_{n=1}^{\\infty} \\psi_n\\sin\\frac{n\\pi x}{L}$$\n",
    "En insérant l'état $\\psi(x)$ sous cette forme dans l'équation de Schrödinger, on obtient\n",
    "$$\\hat{H}\\psi(x) = E\\psi(x)$$\n",
    "$$\\hat{H}\\sum_{n=1}^{\\infty} \\psi_n\\sin\\frac{n\\pi x}{L} = E\\sum_{n=1}^{\\infty} \\psi_n\\sin\\frac{n\\pi x}{L}$$\n",
    "Par la distributivité de $\\hat{H}$ et comme les $\\psi_n$ sont des constantes, on a\n",
    "$$\\sum_{n=1}^{\\infty} \\psi_n\\hat{H}\\sin\\frac{n\\pi x}{L} = E\\sum_{n=1}^{\\infty} \\psi_n\\sin\\frac{n\\pi x}{L}$$\n",
    "On multiplie $\\sin\\frac{m\\pi x}{L}$ par les deux côtés de l'équation et on distribue sur les sommes :\n",
    "$$\\sum_{n=1}^{\\infty} \\psi_n\\sin\\frac{m\\pi x}{L}\\hat{H}\\sin\\frac{n\\pi x}{L} = E\\sum_{n=1}^{\\infty} \\psi_n\\sin\\frac{m\\pi x}{L}\\sin\\frac{n\\pi x}{L}$$\n",
    "On intègre de 0 à $L$ des deux côtés de l'équation:\n",
    "$$\\int_0^L\\sum_{n=1}^{\\infty} \\psi_n\\sin\\frac{m\\pi x}{L}\\hat{H}\\sin\\frac{n\\pi x}{L}\\text{d}x = \\int_0^LE\\sum_{n=1}^{\\infty} \\psi_n\\sin\\frac{m\\pi x}{L}\\sin\\frac{n\\pi x}{L}\\text{d}x$$\n",
    "$$\\sum_{n=1}^{\\infty} \\psi_n\\int_0^L\\sin\\frac{m\\pi x}{L}\\hat{H}\\sin\\frac{n\\pi x}{L}\\text{d}x = E\\sum_{n=1}^{\\infty} \\psi_n\\int_0^L\\sin\\frac{m\\pi x}{L}\\sin\\frac{n\\pi x}{L}\\text{d}x$$\n",
    "Or, on sait que\n",
    "$$\\int_0^L \\sin\\frac{m\\pi x}{L}\\sin\\frac{n\\pi x}{L}\\text{d}x = 0 \\qquad \\text{pour $m\\neq n$}$$\n",
    "$$\\int_0^L \\sin\\frac{m\\pi x}{L}\\sin\\frac{n\\pi x}{L}\\text{d}x = \\frac{L}{2} \\qquad \\text{pour $m=n$}$$\n",
    "Tous les termes de la somme de droite seront donc nuls excepté celui où $n=m$. On a donc\n",
    "$$\\sum_{n=1}^{\\infty} \\psi_n\\int_0^L\\sin\\frac{m\\pi x}{L}\\hat{H}\\sin\\frac{n\\pi x}{L}\\text{d}x = \\frac{1}{2}LE\\psi_m$$"
   ]
  },
  {
   "cell_type": "markdown",
   "metadata": {},
   "source": [
    "En observant la forme de l'équation de Schrödinger obtenue pour la série de Fourier d'un état, on décide de poser des éléments de matrice $H_{mn}$ de la façon suivante :\n",
    "$$H_{mn} = \\frac{2}{L}\\int_0^L\\sin\\frac{m\\pi x}{L}\\hat{H}\\sin\\frac{n\\pi x}{L}\\text{d}x$$"
   ]
  },
  {
   "cell_type": "markdown",
   "metadata": {},
   "source": [
    "Cette définition nous permet de réécrire l'éqauation de Schrödinger sous une forme matricielle. En insérant $H_{mn}$ dans l'équation dérivée plus haut, on a\n",
    "$$\\sum_{n=1}^{\\infty} \\psi_n\\frac{L}{2}H_{mn} = \\frac{1}{2}LE\\psi_m$$\n",
    "$$\\sum_{n=1}^{\\infty} H_{mn} \\psi_n = E\\psi_m$$\n",
    "On remarque que la partie gauche de l'équaiton correspond à une étape de la mutliplication matricielle de $\\boldsymbol{H}$ et de $\\boldsymbol{\\psi}$ où on trouve l'élément $\\psi_m$ de la matrice résultante. On remarque aussi que chaque élément de la matrice résultante est simplement l'élément de la matrice $\\psi(x)$ multiplié par le facteur $E$. On voit donc que l'équation trouvée implique l'équation aux valeurs propres suivante :\n",
    "$$\\boldsymbol{H}\\boldsymbol{\\psi} = E\\boldsymbol{\\psi}$$\n",
    "En définissant les éléments de la matrice $H$ de cette façon, on obtient donc que l'état $\\psi(x)$ est un vecteur propre de l'Hamiltonien associé à la valeur propre E.\n",
    "\n",
    "$$\\textcolor{red}{\\text{Ajouter du stock? Bonjour}}"
   ]
  },
  {
   "cell_type": "markdown",
   "metadata": {},
   "source": [
    "## Question 5\n",
    "\n",
    "Le potentiel est donné par\n",
    "$$V(x) = \\frac{ax}{L}$$\n",
    "Ce qui donne l'Hamiltonien suivant :\n",
    "$$\\hat{H} = \\frac{-\\hbar^2}{2M}\\frac{\\text{d}^2}{\\text{d}x^2} + \\frac{ax}{L}$$\n",
    "Les éléments de de matrice $H_{mn}$ sont donc donnés par :\n",
    "$$H_{mn} = \\frac{2}{L}\\int_0^L\\sin\\frac{m\\pi x}{L}\\bigg(\\frac{-\\hbar^2}{2M}\\frac{\\text{d}^2}{\\text{d}x^2} + \\frac{ax}{L}\\bigg)\\sin\\frac{n\\pi x}{L}\\text{d}x$$\n",
    "$$H_{mn} = \\frac{2}{L}\\int_0^L\\sin\\frac{m\\pi x}{L}\\bigg[\\frac{-\\hbar^2}{2M}\\bigg(-\\frac{\\pi^2n^2}{L^2}\\sin\\frac{n\\pi x}{L}\\bigg) + \\frac{ax}{L}\\sin\\frac{n\\pi x}{L}\\bigg]\\text{d}x$$\n",
    "$$H_{mn} = \\frac{2}{L^2}\\int_0^L\\sin\\frac{m\\pi x}{L}\\bigg[\\frac{\\hbar^2\\pi^2n^2}{2ML}\\sin\\frac{n\\pi x}{L} + ax\\sin\\frac{n\\pi x}{L}\\bigg]\\text{d}x$$\n",
    "$$H_{mn} = \\frac{\\hbar^2\\pi^2n^2}{ML^3}\\int_0^L\\sin\\frac{m\\pi x}{L}\\sin\\frac{n\\pi x}{L}\\text{d}x + \\frac{2a}{L^2}\\int_0^Lx\\sin\\frac{m\\pi x}{L}\\sin\\frac{n\\pi x}{L}\\text{d}x$$\n",
    "Or, en plus des propriétés énoncées plus haut, on sait également que\n",
    "$$\\int_0^Lx\\sin\\frac{m\\pi x}{L}\\sin\\frac{n\\pi x}{L}\\text{d}x = 0 \\qquad \\text{pour $m\\neq n$ et $m+n$ est pair}$$\n",
    "$$\\int_0^Lx\\sin\\frac{m\\pi x}{L}\\sin\\frac{n\\pi x}{L}\\text{d}x = -\\frac{4L^2}{\\pi^2}\\frac{mn}{(m^2+n^2)^2} \\qquad \\text{pour $m\\neq n$ et $m+n$ est impair}$$\n",
    "$$\\int_0^Lx\\sin\\frac{m\\pi x}{L}\\sin\\frac{n\\pi x}{L}\\text{d}x = \\frac{L^2}{4} \\qquad \\text{pour $m=n$}$$\n",
    "On peut donc résoudre les intégralespout les différents cas. Pour $m=n$, on a\n",
    "$$H_{mn} = \\frac{\\hbar^2\\pi^2n^2}{ML^3}\\bigg(\\frac{L}{2}\\bigg) + \\frac{2a}{L^2}\\bigg(\\frac{L^2}{4}\\bigg)$$\n",
    "$$H_{mn} = \\frac{\\hbar^2\\pi^2n^2}{2ML^2} + \\frac{a}{2}$$\n",
    "Pour $m\\neq n$ avec $m+n$ impair, on a\n",
    "$$H_{mn} = \\frac{2a}{L^2}\\bigg(-\\frac{4L^2}{\\pi^2}\\frac{mn}{(m^2+n^2)^2}\\bigg)$$\n",
    "$$H_{mn} = -\\frac{8amn}{\\pi^2(m^2+n^2)^2}$$\n",
    "Pour $m\\neq n$ et $m+n$ pair, on a\n",
    "$$H_{mn} = 0$$"
   ]
  },
  {
   "cell_type": "markdown",
   "metadata": {},
   "source": [
    "La matrice $\\boldsymbol{H}$ a donc la forme suivante :\n",
    "$$\\begin{bmatrix}\n",
    "H_{nn} & H_{mn} & 0 & H_{mn} & 0 & \\ldots\\\\\n",
    "H_{mn} & H_{nn} & H_{mn} & 0 & H_{mn} & \\ldots\\\\\n",
    "0 & H_{mn} & H_{nn} & H_{mn} & 0 & \\ldots\\\\\n",
    "H_{mn} & 0 & H_{mn} & H_{nn} & H_{mn} & \\ldots\\\\\n",
    "0 & H_{mn} & 0 & H_{mn} & H_{nn} & \\ldots\\\\\n",
    "\\vdots & \\vdots & \\vdots & \\vdots & \\vdots & \\ddots\n",
    "\\end{bmatrix}$$\n",
    "où\n",
    "$$H_{nn} = \\frac{\\hbar^2\\pi^2n^2}{2ML^2} + \\frac{a}{2}$$\n",
    "$$H_{mn} = -\\frac{8amn}{\\pi^2(m^2-n^2)^2} = -\\frac{8anm}{\\pi^2(n^2-m^2)^2} = H_{nm}$$"
   ]
  },
  {
   "cell_type": "markdown",
   "metadata": {},
   "source": [
    "On observe donc que la matrice est réelle et symétrique. On code ensuite la fonction *element_H* qui calcule l'élément $m$, $n$ de la matrice $\\boldsymbol{H}$ en prenant les valeurs de $m$, $n$, $a$, $L$ et $M$. Tout d'abord, le code compare les valeurs de $m$ et $n$ et détermine la parité de $m+n$ afinde déterminer la formule qui s'applique. Elle calcule ensuite la valeur de l'élément."
   ]
  },
  {
   "cell_type": "code",
   "execution_count": 77,
   "metadata": {},
   "outputs": [],
   "source": [
    "# Fonction qui calcule les éléments de la matrice H\n",
    "# Arguments:\n",
    "# m, n : indices de l'élément\n",
    "# a : paramètre a [eV]\n",
    "# L : largeur du puit de potentiel [Angstrom]\n",
    "# M : masse de la particule [kg]\n",
    "# Retourne l'élément de matrice [eV]\n",
    "\n",
    "def element_H(m, n, a, L, M):\n",
    "    a = a / (6.241509 * 10**18)\n",
    "    L = L * 10**(-9)\n",
    "    if m == n:\n",
    "        return (hbar**2*pi**2*n**2 / (2*M*L**2) + a / 2) * 6.241509 * 10**18\n",
    "    elif (m+n) % 2 == 0:\n",
    "        return 0.\n",
    "    else:\n",
    "        return -8*a*m*n / (pi**2*(m**2-n**2)**2) * 6.241509 * 10**18"
   ]
  },
  {
   "cell_type": "markdown",
   "metadata": {},
   "source": [
    "On crée maintenant *element_H_mn*, une fonction spécifique aux données du problème, qui sont $a=10$ eV et $L=0,5$ nm avec $M$ qui correspond à la masse de l'électron. Cette fonction prend uniquement $m$ et $n$ en argument."
   ]
  },
  {
   "cell_type": "code",
   "execution_count": 78,
   "metadata": {},
   "outputs": [],
   "source": [
    "def element_H_mn(m, n):\n",
    "    return element_H(m, n, 10, 0.5, me)"
   ]
  },
  {
   "cell_type": "markdown",
   "metadata": {},
   "source": [
    "## Question 6\n",
    "\n",
    "La matrice $H$ est en théorie infinie, donc il est évidemment impossible de calculer tous ses éléments. On va donc devoir approximer que la matrice $H$ a des dimensions finies. On définit la fonction *matrice_H* qui génère un *array numpy* de la matrice $H$ de dimensions $N$ par $N$. Cette fonction construit d'abord un *array* vide de la bonne dimension et calcule ensuite chaque élément à l'aide de la fonction *element_H_mn*."
   ]
  },
  {
   "cell_type": "code",
   "execution_count": 79,
   "metadata": {},
   "outputs": [],
   "source": [
    "# Construit la matrice H à partir de la fonction elements_H_mn\n",
    "# Argument:\n",
    "# N : dimension de la matrice (NxN)\n",
    "# Retourne un array numpy de dimensions NxN représentant la matrice H\n",
    "\n",
    "def matrice_H(N):\n",
    "    H = np.zeros((N, N))\n",
    "    for m in range(N):\n",
    "        for n in range(N):\n",
    "            H[m,n] = element_H_mn(m+1, n+1)\n",
    "    return H"
   ]
  },
  {
   "cell_type": "markdown",
   "metadata": {},
   "source": [
    "En première approximation, on détermine la matrice $H$ pour $N=10$. On veut ensuite déterminer ses valeurs propres, qui correspondent aux 10 premiers niveaux d'énergie. Pour ce faire, on utilise la fonction *eigvalsh* de la librairie *numpy.linalg* [1]. Cette fonction utilise la décomposition QR de façon itérative afin de déterminer les valeurs propres d'une matrice hermitienne. La décomposition QR consiste à représenter une matrice $X$ comme le produit d'une matrice orthogonale $Q$ et d'une matrice triangulaire supérieure $R$. Pour déterminer les valeurs propres de la matrice, on décompose la matrice $X_k=Q_kR_k$ de la $k$-ième itération pour ensuite définir la prochaine itération comme $X_{k+1}=R_kQ_k$. Au fil des itérations, la matrice $X_k$ va tendre vers une matrice diagonale dont les éléments de la diagonales principale sont les valeurs propres recherchées. La fonction *eigvalsh* a été choisie entre autres pour son efficacité, car le fait que la matrice donnée en argument soit hermitienne permet à la fonction d'utiliser les propriétés des matrices hermitiennes pour réduire le temps de calcul. Dans notre cas, comme la matrice $H$ est symétrique et réelle, on sait qu'elle est hermitienne."
   ]
  },
  {
   "cell_type": "code",
   "execution_count": 81,
   "metadata": {},
   "outputs": [
    {
     "name": "stdout",
     "output_type": "stream",
     "text": [
      "Les valeurs propres de la matrice H 10x10 sont : [5.84201832068847, 11.19716835721644, 18.69923015075477, 29.20917138991124, 42.75678500075369, 59.3318232668801, 78.92891366542653, 101.54616309119842, 127.18133344813275, 155.96234690491175]\n"
     ]
    }
   ],
   "source": [
    "# On crée la matrice H 10x10\n",
    "H_10 = matrice_H(10)\n",
    "\n",
    "#print(H_10)\n",
    "\n",
    "# On trouve les valeurs propres avec la fonction de numpy\n",
    "valpropres_10 = np.linalg.eigvalsh(H_10).tolist()\n",
    "valpropres_10.sort()\n",
    "print('Les valeurs propres de la matrice H 10x10 sont :', valpropres_10)"
   ]
  },
  {
   "cell_type": "markdown",
   "metadata": {},
   "source": [
    "On a donc les 10 niveau d'énergie suivants pour le puit de potentiel :\n",
    "\n",
    "<center>\n",
    "\n",
    "| Niveau     | Énergie<br />[eV] |\n",
    "|:------------:|:--------------:|\n",
    "| 1          | 5.8420183      |\n",
    "| 2          | 11.197168      |\n",
    "| 3          | 18.699230      |\n",
    "| 4          | 29.209171      |\n",
    "| 5          | 42.756785      |\n",
    "| 6          | 59.331823      |\n",
    "| 7          | 78.928914      |\n",
    "| 8          | 101.54616      |\n",
    "| 9          | 127.18133      |\n",
    "| 10         | 155.96235      |\n",
    "\n",
    "<center>\n",
    "<center> Tableau N. Niveaux d'énergie pour une matrice 10x10 <center>"
   ]
  },
  {
   "cell_type": "markdown",
   "metadata": {},
   "source": [
    "## Question 7\n",
    "\n",
    "On veut maintenant améliorer notre modèle en considérant une matrice de dimensions 100x100. On construit donc la matrice correspondante et on trouve les valeurs propres de la même façon qu'à la question 6."
   ]
  },
  {
   "cell_type": "code",
   "execution_count": 83,
   "metadata": {},
   "outputs": [
    {
     "name": "stdout",
     "output_type": "stream",
     "text": [
      "Les valeurs propres de la matrice H 100x100 sont : [5.8420179222420785, 11.197167037678128, 18.699228285281336, 29.209162614796522, 42.75677590734573, 59.33177083204045, 78.92886199851962, 101.54553399316707, 127.18050485095517, 155.83307295064813, 187.50283009621603, 222.18952636543773, 259.89300205613245, 300.61315136087484, 344.34990198050883, 391.10320317811215, 440.8730185122354, 493.65932126996574, 549.4620915132483, 608.2813141195106, 670.1169774521167, 734.9690724397315, 802.8375919270802, 873.7225302094504, 947.6238826938844, 1024.5416456491632, 1104.4758160189301, 1187.4263912804736, 1273.3933693367223, 1362.3767484329833, 1454.3765270919685, 1549.3927040628603, 1647.4252782808699, 1748.4742488350555, 1852.5396149423548, 1959.6213759267023, 2069.7195312018916, 2182.834080257698, 2298.9650226482695, 2418.112357982732, 2540.2760859171317, 2665.456206147986, 2793.652718406519, 2924.865622454201, 3059.0949180785697, 3196.3406050900694, 3336.6026833189458, 3479.8811526130685, 3626.1760128354726, 3775.4872638629163, 3927.8149055839276, 4083.158937897816, 4241.519360713108, 4402.8961739469, 4567.289377523535, 4734.6989713743, 4905.124955436152, 5078.567329651763, 5255.026093968234, 5434.501248337506, 5616.992792714863, 5802.500727059765, 5991.0250513342335, 6182.5657655039295, 6377.122869536313, 6574.696363402267, 6775.286247073695, 6978.892520525833, 7185.515183734245, 7395.154236677889, 7607.809679335294, 7823.481511688686, 8042.169733718878, 8263.874345411095, 8488.595346747814, 8716.332737717174, 8947.08651830261, 9180.856688495292, 9417.643248278784, 9657.44619764786, 9900.265536584873, 10146.10126508955, 10394.953383140835, 10646.821890746198, 10901.70678787698, 11159.60807455472, 11420.525750734138, 11684.459816465895, 11951.410271666331, 12221.377116456084, 12494.360350652618, 12770.359974577204, 13049.375987746513, 13331.408391224651, 13616.45718334136, 13904.522369346747, 14195.603940359315, 14489.701957129831, 14786.816306748302, 15086.96059024763]\n"
     ]
    }
   ],
   "source": [
    "# On crée la matrice H 100x100\n",
    "H_100 = matrice_H(100)\n",
    "\n",
    "#print(H_10)\n",
    "\n",
    "# On trouve les valeurs propres avec la fonction de numpy\n",
    "valpropres_100 = np.linalg.eigvalsh(H_100).tolist()\n",
    "valpropres_100.sort()\n",
    "print('Les valeurs propres de la matrice H 100x100 sont :', valpropres_100)"
   ]
  },
  {
   "cell_type": "markdown",
   "metadata": {},
   "source": [
    "On regroupe les 10 premiers niveaux d'énergie pour les matrices 10x10 et 100x100 afin de comparer les valeurs obtenues :\n",
    "\n",
    "\n",
    "<center>\n",
    "\n",
    "| Niveau     | Énergie - 10x10<br />[eV]  | Énergie - 100x100<br />[eV]  | \n",
    "|:------------:|:--------------:|:--------------:|\n",
    "| 1          | 5.8420183      | 5.8420179      |\n",
    "| 2          | 11.197168      | 11.197167      |\n",
    "| 3          | 18.699230      | 18.699228      |\n",
    "| 4          | 29.209171      | 29.209163      |\n",
    "| 5          | 42.756785      | 42.756776      |\n",
    "| 6          | 59.331823      | 59.331771      |\n",
    "| 7          | 78.928914      | 78.928862      |\n",
    "| 8          | 101.54616      | 101.54553      |\n",
    "| 9          | 127.18133      | 127.18050      |\n",
    "| 10         | 155.96235      | 155.83307      |\n",
    "\n",
    "<center>\n",
    "<center> Tableau N. Niveaux d'énergie pour les matrices 10x10 et 100x100 <center>"
   ]
  },
  {
   "cell_type": "markdown",
   "metadata": {},
   "source": [
    "On observe que les valeurs d'énergie de la matrice 10x10 et de la matrice 100x100 sont très rapprochées. La différence la plus importante est pour le niveau 10 et est l'ordre de $10^{-4}$ fois la valeur du niveau d'énergie. On remarque également que l'erreur relative remble augmenter avec les niveaux d'énergie."
   ]
  },
  {
   "cell_type": "markdown",
   "metadata": {},
   "source": [
    "## Médiagraphie\n",
    "\n",
    "[1] (eigenvalues) https://numpy.org/doc/stable/reference/generated/numpy.linalg.eigvals.html"
   ]
  }
 ],
 "metadata": {
  "interpreter": {
   "hash": "6537d6febe7fb1246163fe1377d17bbfd38b19cd973b106333eb66b4dd5f3e76"
  },
  "kernelspec": {
   "display_name": "Python 3.8.2 64-bit",
   "language": "python",
   "name": "python3"
  },
  "language_info": {
   "codemirror_mode": {
    "name": "ipython",
    "version": 3
   },
   "file_extension": ".py",
   "mimetype": "text/x-python",
   "name": "python",
   "nbconvert_exporter": "python",
   "pygments_lexer": "ipython3",
   "version": "3.8.2"
  },
  "orig_nbformat": 4
 },
 "nbformat": 4,
 "nbformat_minor": 2
}
