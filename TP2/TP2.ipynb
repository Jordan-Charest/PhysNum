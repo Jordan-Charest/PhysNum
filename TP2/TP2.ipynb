{
 "cells": [
  {
   "cell_type": "markdown",
   "metadata": {},
   "source": [
    "## Constantes"
   ]
  },
  {
   "cell_type": "code",
   "execution_count": 50,
   "metadata": {},
   "outputs": [],
   "source": [
    "import numpy as np\n",
    "import scipy as sp\n",
    "import random as rd\n",
    "import matplotlib.pyplot as plt\n",
    "import seaborn as sns\n",
    "\n",
    "\n",
    "me =  9.1094 * 10**(-31)\n",
    "e =  1.602 * 10**(-19)\n",
    "hbar = 1.056 * 10**(-34)\n",
    "pi = np.pi"
   ]
  },
  {
   "cell_type": "markdown",
   "metadata": {},
   "source": [
    "## Question 4"
   ]
  },
  {
   "cell_type": "markdown",
   "metadata": {},
   "source": [
    "Tout d'abord, on sait que n'importe quel état $\\psi(x)$ peut être représenté en série de Fourier selon la forme suivante :\n",
    "$$\\psi(x) = \\sum_{n=1}^{\\infty} \\psi_n\\sin\\frac{n\\pi x}{L}$$\n",
    "En insérant l'état $\\psi(x)$ sous cette forme dans l'équation de Schrödinger, on obtient\n",
    "$$\\hat{H}\\psi(x) = E\\psi(x)$$\n",
    "$$\\hat{H}\\sum_{n=1}^{\\infty} \\psi_n\\sin\\frac{n\\pi x}{L} = E\\sum_{n=1}^{\\infty} \\psi_n\\sin\\frac{n\\pi x}{L}$$\n",
    "Par la distributivité de $\\hat{H}$ et comme les $\\psi_n$ sont des constantes, on a\n",
    "$$\\sum_{n=1}^{\\infty} \\psi_n\\hat{H}\\sin\\frac{n\\pi x}{L} = E\\sum_{n=1}^{\\infty} \\psi_n\\sin\\frac{n\\pi x}{L}$$\n",
    "On multiplie $\\sin\\frac{m\\pi x}{L}$ par les deux côtés de l'équation et on distribue sur les sommes :\n",
    "$$\\sum_{n=1}^{\\infty} \\psi_n\\sin\\frac{m\\pi x}{L}\\hat{H}\\sin\\frac{n\\pi x}{L} = E\\sum_{n=1}^{\\infty} \\psi_n\\sin\\frac{m\\pi x}{L}\\sin\\frac{n\\pi x}{L}$$\n",
    "On intègre de 0 à $L$ des deux côtés de l'équation:\n",
    "$$\\int_0^L\\sum_{n=1}^{\\infty} \\psi_n\\sin\\frac{m\\pi x}{L}\\hat{H}\\sin\\frac{n\\pi x}{L}\\text{d}x = \\int_0^LE\\sum_{n=1}^{\\infty} \\psi_n\\sin\\frac{m\\pi x}{L}\\sin\\frac{n\\pi x}{L}\\text{d}x$$\n",
    "$$\\sum_{n=1}^{\\infty} \\psi_n\\int_0^L\\sin\\frac{m\\pi x}{L}\\hat{H}\\sin\\frac{n\\pi x}{L}\\text{d}x = E\\sum_{n=1}^{\\infty} \\psi_n\\int_0^L\\sin\\frac{m\\pi x}{L}\\sin\\frac{n\\pi x}{L}\\text{d}x$$\n",
    "Or, on sait que\n",
    "$$\\int_0^L \\sin\\frac{m\\pi x}{L}\\sin\\frac{n\\pi x}{L}\\text{d}x = 0 \\qquad \\text{pour $m\\neq n$}$$\n",
    "$$\\int_0^L \\sin\\frac{m\\pi x}{L}\\sin\\frac{n\\pi x}{L}\\text{d}x = \\frac{L}{2} \\qquad \\text{pour $m=n$}$$\n",
    "Tous les termes de la somme de droite seront donc nuls excepté celui où $n=m$. On a donc\n",
    "$$\\sum_{n=1}^{\\infty} \\psi_n\\int_0^L\\sin\\frac{m\\pi x}{L}\\hat{H}\\sin\\frac{n\\pi x}{L}\\text{d}x = \\frac{1}{2}LE\\psi_m$$"
   ]
  },
  {
   "cell_type": "markdown",
   "metadata": {},
   "source": [
    "En observant la forme de l'équation de Schrödinger obtenue pour la série de Fourier d'un état, on décide de poser des éléments de matrice $H_{mn}$ de la façon suivante :\n",
    "$$H_{mn} = \\frac{2}{L}\\int_0^L\\sin\\frac{m\\pi x}{L}\\hat{H}\\sin\\frac{n\\pi x}{L}\\text{d}x$$"
   ]
  },
  {
   "cell_type": "markdown",
   "metadata": {},
   "source": [
    "Cette définition nous permet de réécrire l'éqauation de Schrödinger sous une forme matricielle. En insérant $H_{mn}$ dans l'équation dérivée plus haut, on a\n",
    "$$\\sum_{n=1}^{\\infty} \\psi_n\\frac{L}{2}H_{mn} = \\frac{1}{2}LE\\psi_m$$\n",
    "$$\\sum_{n=1}^{\\infty} H_{mn} \\psi_n = E\\psi_m$$\n",
    "On remarque que la partie gauche de l'équaiton correspond à une étape de la mutliplication matricielle de $\\boldsymbol{H}$ et de $\\boldsymbol{\\psi}$ où on trouve l'élément $\\psi_m$ de la matrice résultante. On remarque aussi que chaque élément de la matrice résultante est simplement l'élément de la matrice $\\psi(x)$ multiplié par le facteur $E$. On voit donc que l'équation trouvée implique l'équation aux valeurs propres suivante :\n",
    "$$\\boldsymbol{H}\\boldsymbol{\\psi} = E\\boldsymbol{\\psi}$$\n",
    "En définissant les éléments de la matrice $H$ de cette façon, on obtient donc que l'état $\\psi(x)$ est un vecteur propre de l'Hamiltonien associé à la valeur propre E.\n",
    "\n",
    "$$\\textcolor{red}{\\text{Ajouter du stock? Bonjour}}"
   ]
  },
  {
   "cell_type": "markdown",
   "metadata": {},
   "source": [
    "## Question 5\n",
    "\n",
    "Le potentiel est donné par\n",
    "$$V(x) = \\frac{ax}{L}$$\n",
    "Ce qui donne l'Hamiltonien suivant :\n",
    "$$\\hat{H} = \\frac{-\\hbar^2}{2M}\\frac{\\text{d}^2}{\\text{d}x^2} + \\frac{ax}{L}$$\n",
    "Les éléments de de matrice $H_{mn}$ sont donc donnés par :\n",
    "$$H_{mn} = \\frac{2}{L}\\int_0^L\\sin\\frac{m\\pi x}{L}\\bigg(\\frac{-\\hbar^2}{2M}\\frac{\\text{d}^2}{\\text{d}x^2} + \\frac{ax}{L}\\bigg)\\sin\\frac{n\\pi x}{L}\\text{d}x$$\n",
    "$$H_{mn} = \\frac{2}{L}\\int_0^L\\sin\\frac{m\\pi x}{L}\\bigg[\\frac{-\\hbar^2}{2M}\\bigg(-\\frac{\\pi^2n^2}{L^2}\\sin\\frac{n\\pi x}{L}\\bigg) + \\frac{ax}{L}\\sin\\frac{n\\pi x}{L}\\bigg]\\text{d}x$$\n",
    "$$H_{mn} = \\frac{2}{L^2}\\int_0^L\\sin\\frac{m\\pi x}{L}\\bigg[\\frac{\\hbar^2\\pi^2n^2}{2ML}\\sin\\frac{n\\pi x}{L} + ax\\sin\\frac{n\\pi x}{L}\\bigg]\\text{d}x$$\n",
    "$$H_{mn} = \\frac{\\hbar^2\\pi^2n^2}{ML^3}\\int_0^L\\sin\\frac{m\\pi x}{L}\\sin\\frac{n\\pi x}{L}\\text{d}x + \\frac{2a}{L^2}\\int_0^Lx\\sin\\frac{m\\pi x}{L}\\sin\\frac{n\\pi x}{L}\\text{d}x$$\n",
    "Or, en plus des propriétés énoncées plus haut, on sait également que\n",
    "$$\\int_0^Lx\\sin\\frac{m\\pi x}{L}\\sin\\frac{n\\pi x}{L}\\text{d}x = 0 \\qquad \\text{pour $m\\neq n$ et $m+n$ est pair}$$\n",
    "$$\\int_0^Lx\\sin\\frac{m\\pi x}{L}\\sin\\frac{n\\pi x}{L}\\text{d}x = -\\frac{4L^2}{\\pi^2}\\frac{mn}{(m^2+n^2)^2} \\qquad \\text{pour $m\\neq n$ et $m+n$ est impair}$$\n",
    "$$\\int_0^Lx\\sin\\frac{m\\pi x}{L}\\sin\\frac{n\\pi x}{L}\\text{d}x = \\frac{L^2}{4} \\qquad \\text{pour $m=n$}$$\n",
    "On peut donc résoudre les intégralespout les différents cas. Pour $m=n$, on a\n",
    "$$H_{mn} = \\frac{\\hbar^2\\pi^2n^2}{ML^3}\\bigg(\\frac{L}{2}\\bigg) + \\frac{2a}{L^2}\\bigg(\\frac{L^2}{4}\\bigg)$$\n",
    "$$H_{mn} = \\frac{\\hbar^2\\pi^2n^2}{2ML^2} + \\frac{a}{2}$$\n",
    "Pour $m\\neq n$ avec $m+n$ impair, on a\n",
    "$$H_{mn} = \\frac{2a}{L^2}\\bigg(-\\frac{4L^2}{\\pi^2}\\frac{mn}{(m^2+n^2)^2}\\bigg)$$\n",
    "$$H_{mn} = -\\frac{8amn}{\\pi^2(m^2+n^2)^2}$$\n",
    "Pour $m\\neq n$ et $m+n$ pair, on a\n",
    "$$H_{mn} = 0$$"
   ]
  },
  {
   "cell_type": "markdown",
   "metadata": {},
   "source": [
    "La matrice $\\boldsymbol{H}$ a donc la forme suivante :\n",
    "$$\\begin{bmatrix}\n",
    "H_{nn} & H_{mn} & 0 & H_{mn} & 0 & \\ldots\\\\\n",
    "H_{mn} & H_{nn} & H_{mn} & 0 & H_{mn} & \\ldots\\\\\n",
    "0 & H_{mn} & H_{nn} & H_{mn} & 0 & \\ldots\\\\\n",
    "H_{mn} & 0 & H_{mn} & H_{nn} & H_{mn} & \\ldots\\\\\n",
    "0 & H_{mn} & 0 & H_{mn} & H_{nn} & \\ldots\\\\\n",
    "\\vdots & \\vdots & \\vdots & \\vdots & \\vdots & \\ddots\n",
    "\\end{bmatrix}$$\n",
    "où\n",
    "$$H_{nn} = \\frac{\\hbar^2\\pi^2n^2}{2ML^2} + \\frac{a}{2}$$\n",
    "$$H_{mn} = -\\frac{8amn}{\\pi^2(m^2-n^2)^2} = -\\frac{8anm}{\\pi^2(n^2-m^2)^2} = H_{nm}$$"
   ]
  },
  {
   "cell_type": "markdown",
   "metadata": {},
   "source": [
    "On observe donc que la matrice est réelle et symétrique. On code ensuite la fonction *element_H* qui calcule l'élément $m$, $n$ de la matrice $\\boldsymbol{H}$ en prenant les valeurs de $m$, $n$, $a$, $L$ et $M$. Tout d'abord, le code compare les valeurs de $m$ et $n$ et détermine la parité de $m+n$ afinde déterminer la formule qui s'applique. Elle calcule ensuite la valeur de l'élément."
   ]
  },
  {
   "cell_type": "code",
   "execution_count": 51,
   "metadata": {},
   "outputs": [],
   "source": [
    "# Fonction qui calcule les éléments de la matrice H\n",
    "# Arguments:\n",
    "# m, n : indices de l'élément\n",
    "# a : paramètre a [eV]\n",
    "# L : largeur du puit de potentiel [Angstrom]\n",
    "# M : masse de la particule [kg]\n",
    "# Retourne l'élément de matrice [eV]\n",
    "\n",
    "def element_H(m, n, a, L, M):\n",
    "    a = a / (6.241509 * 10**18)\n",
    "    L = L * 10**(-9)\n",
    "    if m == n:\n",
    "        return (hbar**2*pi**2*n**2 / (2*M*L**2) + a / 2) * 6.241509 * 10**18\n",
    "    elif (m+n) % 2 == 0:\n",
    "        return 0.\n",
    "    else:\n",
    "        return -8*a*m*n / (pi**2*(m**2-n**2)**2) * 6.241509 * 10**18"
   ]
  },
  {
   "cell_type": "markdown",
   "metadata": {},
   "source": [
    "On crée maintenant *element_H_mn*, une fonction spécifique aux données du problème, qui sont $a=10$ eV et $L=0,5$ nm avec $M$ qui correspond à la masse de l'électron. Cette fonction prend uniquement $m$ et $n$ en argument."
   ]
  },
  {
   "cell_type": "code",
   "execution_count": 52,
   "metadata": {},
   "outputs": [],
   "source": [
    "def element_H_mn(m, n):\n",
    "    return element_H(m, n, 10, 0.5, me)"
   ]
  },
  {
   "cell_type": "markdown",
   "metadata": {},
   "source": [
    "## Question 6\n",
    "\n",
    "La matrice $H$ est en théorie infinie, donc il est évidemment impossible de calculer tous ses éléments. On va donc devoir approximer que la matrice $H$ a des dimensions finies. On définit la fonction *matrice_H* qui génère un *array numpy* de la matrice $H$ de dimensions $N$ par $N$. Cette fonction construit d'abord un *array* vide de la bonne dimension et calcule ensuite chaque élément à l'aide de la fonction *element_H_mn*."
   ]
  },
  {
   "cell_type": "code",
   "execution_count": 53,
   "metadata": {},
   "outputs": [],
   "source": [
    "# Construit la matrice H à partir de la fonction elements_H_mn\n",
    "# Argument:\n",
    "# N : dimension de la matrice (NxN)\n",
    "# Retourne un array numpy de dimensions NxN représentant la matrice H\n",
    "\n",
    "def matrice_H(N):\n",
    "    H = np.zeros((N, N))\n",
    "    for m in range(N):\n",
    "        for n in range(N):\n",
    "            H[m,n] = element_H_mn(m+1, n+1)\n",
    "    return H"
   ]
  },
  {
   "cell_type": "markdown",
   "metadata": {},
   "source": [
    "En première approximation, on détermine la matrice $H$ pour $N=10$. On veut ensuite déterminer ses valeurs propres, qui correspondent aux 10 premiers niveaux d'énergie. Pour ce faire, on utilise la fonction *eigvalsh* de la librairie *numpy.linalg* [1]. Cette fonction utilise la décomposition QR de façon itérative afin de déterminer les valeurs propres d'une matrice hermitienne. La décomposition QR consiste à représenter une matrice $X$ comme le produit d'une matrice orthogonale $Q$ et d'une matrice triangulaire supérieure $R$. Pour déterminer les valeurs propres de la matrice, on décompose la matrice $X_k=Q_kR_k$ de la $k$-ième itération pour ensuite définir la prochaine itération comme $X_{k+1}=R_kQ_k$. Au fil des itérations, la matrice $X_k$ va tendre vers une matrice diagonale dont les éléments de la diagonales principale sont les valeurs propres recherchées. La fonction *eigvalsh* a été choisie entre autres pour son efficacité, car le fait que la matrice donnée en argument soit hermitienne permet à la fonction d'utiliser les propriétés des matrices hermitiennes pour réduire le temps de calcul. Dans notre cas, comme la matrice $H$ est symétrique et réelle, on sait qu'elle est hermitienne."
   ]
  },
  {
   "cell_type": "code",
   "execution_count": 54,
   "metadata": {},
   "outputs": [
    {
     "name": "stdout",
     "output_type": "stream",
     "text": [
      "Les valeurs propres de la matrice H 10x10 sont : [5.84201832068847, 11.19716835721644, 18.69923015075477, 29.20917138991124, 42.75678500075369, 59.3318232668801, 78.92891366542653, 101.54616309119842, 127.18133344813275, 155.96234690491175]\n"
     ]
    }
   ],
   "source": [
    "# On crée la matrice H 10x10\n",
    "H_10 = matrice_H(10)\n",
    "\n",
    "#print(H_10)\n",
    "\n",
    "# On trouve les valeurs propres avec la fonction de numpy\n",
    "valpropres_10 = np.linalg.eigvalsh(H_10).tolist()\n",
    "valpropres_10.sort()\n",
    "print('Les valeurs propres de la matrice H 10x10 sont :', valpropres_10)"
   ]
  },
  {
   "cell_type": "markdown",
   "metadata": {},
   "source": [
    "On a donc les 10 niveau d'énergie suivants pour le puit de potentiel :\n",
    "\n",
    "<center>\n",
    "\n",
    "| Niveau     | Énergie<br />[eV] |\n",
    "|:------------:|:--------------:|\n",
    "| 1          | 5.8420183      |\n",
    "| 2          | 11.197168      |\n",
    "| 3          | 18.699230      |\n",
    "| 4          | 29.209171      |\n",
    "| 5          | 42.756785      |\n",
    "| 6          | 59.331823      |\n",
    "| 7          | 78.928914      |\n",
    "| 8          | 101.54616      |\n",
    "| 9          | 127.18133      |\n",
    "| 10         | 155.96235      |\n",
    "\n",
    "<center>\n",
    "<center> Tableau N. Niveaux d'énergie pour une matrice 10x10 <center>"
   ]
  },
  {
   "cell_type": "markdown",
   "metadata": {},
   "source": [
    "## Question 7\n",
    "\n",
    "On veut maintenant améliorer notre modèle en considérant une matrice de dimensions 100x100. On construit donc la matrice correspondante et on trouve les valeurs propres de la même façon qu'à la question 6."
   ]
  },
  {
   "cell_type": "code",
   "execution_count": 55,
   "metadata": {},
   "outputs": [
    {
     "name": "stdout",
     "output_type": "stream",
     "text": [
      "Les valeurs propres de la matrice H 100x100 sont : [5.8420179222420785, 11.197167037678128, 18.699228285281336, 29.209162614796522, 42.75677590734573, 59.33177083204045, 78.92886199851962, 101.54553399316707, 127.18050485095517, 155.83307295064813, 187.50283009621603, 222.18952636543773, 259.89300205613245, 300.61315136087484, 344.34990198050883, 391.10320317811215, 440.8730185122354, 493.65932126996574, 549.4620915132483, 608.2813141195106, 670.1169774521167, 734.9690724397315, 802.8375919270802, 873.7225302094504, 947.6238826938844, 1024.5416456491632, 1104.4758160189301, 1187.4263912804736, 1273.3933693367223, 1362.3767484329833, 1454.3765270919685, 1549.3927040628603, 1647.4252782808699, 1748.4742488350555, 1852.5396149423548, 1959.6213759267023, 2069.7195312018916, 2182.834080257698, 2298.9650226482695, 2418.112357982732, 2540.2760859171317, 2665.456206147986, 2793.652718406519, 2924.865622454201, 3059.0949180785697, 3196.3406050900694, 3336.6026833189458, 3479.8811526130685, 3626.1760128354726, 3775.4872638629163, 3927.8149055839276, 4083.158937897816, 4241.519360713108, 4402.8961739469, 4567.289377523535, 4734.6989713743, 4905.124955436152, 5078.567329651763, 5255.026093968234, 5434.501248337506, 5616.992792714863, 5802.500727059765, 5991.0250513342335, 6182.5657655039295, 6377.122869536313, 6574.696363402267, 6775.286247073695, 6978.892520525833, 7185.515183734245, 7395.154236677889, 7607.809679335294, 7823.481511688686, 8042.169733718878, 8263.874345411095, 8488.595346747814, 8716.332737717174, 8947.08651830261, 9180.856688495292, 9417.643248278784, 9657.44619764786, 9900.265536584873, 10146.10126508955, 10394.953383140835, 10646.821890746198, 10901.70678787698, 11159.60807455472, 11420.525750734138, 11684.459816465895, 11951.410271666331, 12221.377116456084, 12494.360350652618, 12770.359974577204, 13049.375987746513, 13331.408391224651, 13616.45718334136, 13904.522369346747, 14195.603940359315, 14489.701957129831, 14786.816306748302, 15086.96059024763]\n"
     ]
    }
   ],
   "source": [
    "# On crée la matrice H 100x100\n",
    "H_100 = matrice_H(100)\n",
    "\n",
    "#print(H_10)\n",
    "\n",
    "# On trouve les valeurs propres avec la fonction de numpy\n",
    "valpropres_100 = np.linalg.eigvalsh(H_100).tolist()\n",
    "valpropres_100.sort()\n",
    "print('Les valeurs propres de la matrice H 100x100 sont :', valpropres_100)"
   ]
  },
  {
   "cell_type": "markdown",
   "metadata": {},
   "source": [
    "On regroupe les 10 premiers niveaux d'énergie pour les matrices 10x10 et 100x100 afin de comparer les valeurs obtenues :\n",
    "\n",
    "\n",
    "<center>\n",
    "\n",
    "| Niveau     | Énergie - 10x10<br />[eV]  | Énergie - 100x100<br />[eV]  | \n",
    "|:------------:|:--------------:|:--------------:|\n",
    "| 1          | 5.8420183      | 5.8420179      |\n",
    "| 2          | 11.197168      | 11.197167      |\n",
    "| 3          | 18.699230      | 18.699228      |\n",
    "| 4          | 29.209171      | 29.209163      |\n",
    "| 5          | 42.756785      | 42.756776      |\n",
    "| 6          | 59.331823      | 59.331771      |\n",
    "| 7          | 78.928914      | 78.928862      |\n",
    "| 8          | 101.54616      | 101.54553      |\n",
    "| 9          | 127.18133      | 127.18050      |\n",
    "| 10         | 155.96235      | 155.83307      |\n",
    "\n",
    "<center>\n",
    "<center> Tableau N. Niveaux d'énergie pour les matrices 10x10 et 100x100 <center>"
   ]
  },
  {
   "cell_type": "markdown",
   "metadata": {},
   "source": [
    "On observe que les valeurs d'énergie de la matrice 10x10 et de la matrice 100x100 sont très rapprochées. La différence la plus importante est pour le niveau 10 et est l'ordre de $10^{-4}$ fois la valeur du niveau d'énergie. On remarque également que l'erreur relative remble augmenter avec les niveaux d'énergie. On conclut donc qu'une matrice 10x10 permet bien d'estimer les premiers niveaux d'énergie avec une précision d'environ $10^{-5}$, ce qui est suffisant dans notre cas."
   ]
  },
  {
   "cell_type": "markdown",
   "metadata": {},
   "source": [
    "## Question 8\n",
    "\n",
    "On veut maintenant améliorer notre programme afin qu'il retourne les fonctions propres des niveaux d'énergie du puits de potentiel. Pour ce faire, on utilise la fonction *eigh* de la librairie *numpy.linalg*. Cette fonction calcule les valeurs propres et les vecteurs propres d'une matrice symétrique et hermitienne. Les valeurs propres sont déterminées la même façon que pour la fonction *eigvalsh* utilisée plus haut. Les vecteurs propres sont aussi calculés de manière itérative par décomposition QR. La fonction retourne les valeurs propres regroupées dans un *array* à 1 dimension et un *array* comprenant les vecteurs propres comme colonnes. Comme on a déterminé à la question précédente qu'une matrice 10x10 permettait d'estimer avec une précision suffisante les niveaux d'énergie, on utilise cette matrice pour trouver les vecteurs propres en économisant du temps de calcul. "
   ]
  },
  {
   "cell_type": "code",
   "execution_count": 56,
   "metadata": {},
   "outputs": [
    {
     "name": "stdout",
     "output_type": "stream",
     "text": [
      "Niveau d'énergie : [  5.84201832  11.19716836  18.69923015  29.20917139  42.756785\n",
      "  59.33182327  78.92891367 101.54616309 127.18133345 155.9623469 ]\n",
      "État fondamental : [9.36746710e-01 3.45568595e-01 5.44784601e-02 1.06453800e-02\n",
      " 2.35694057e-03 1.00108202e-03 3.29040258e-04 2.10497888e-04\n",
      " 8.25243388e-05 6.50449140e-05]\n",
      "1er niveau excité : [ 3.48199007e-01 -9.04379991e-01 -2.45300170e-01 -2.51393933e-02\n",
      " -6.94140568e-03 -1.06040376e-03 -8.62149115e-04 -1.52044067e-04\n",
      " -2.12162722e-04 -3.76184379e-05]\n",
      "1er niveau excité : [-3.46780787e-02  2.49544819e-01 -9.49985301e-01 -1.83927405e-01\n",
      " -1.38865772e-02 -5.43580992e-03 -6.13825714e-04 -7.97346699e-04\n",
      " -9.01879590e-05 -2.15137648e-04]\n"
     ]
    }
   ],
   "source": [
    "# On détermine les vecteurs propres de la matrice 10x10\n",
    "\n",
    "valpropres_10, vecpropres_10 = np.linalg.eigh(H_10)\n",
    "\n",
    "print(\"Niveau d'énergie :\", valpropres_10)\n",
    "print('État fondamental :', vecpropres_10[:, 0])\n",
    "print('1er niveau excité :', vecpropres_10[:, 1])\n",
    "print('1er niveau excité :', vecpropres_10[:, 2])"
   ]
  },
  {
   "cell_type": "markdown",
   "metadata": {},
   "source": [
    "Pour chaque niveau, les éléments du vecteur propre correspondent aux coefficients de Fourier $\\psi_n$ de la fonction propres $\\psi(x)$. Dans notre cas, comme nous avons choisi d'utiliser une matrice 10x10, la fonction d'onde est donnée par\n",
    "$$\\psi(x) = \\sum_{n=0}^{10}\\psi_n\\sin\\frac{n\\pi x}{L}$$\n",
    "On veut maintenant normaliser nos fonctions propres. On connaît la condition de normalisation des fonctions propres :\n",
    "$$\\int_0^L|{\\psi(x)}|^2 = 1$$\n",
    "$$\\int_0^L\\psi^*(x)\\psi(x) = 1$$\n",
    "Comme les coefficients $\\psi_n$ sont les éléments des vecteurs propres d'une matrice réelle et symétrique, on sait que ceux-ci sont réels (on peut aussi observer que les vecteurs propres calculés ont uniquement des éléments réels). On a donc\n",
    "$$\\int_0^L\\psi^2(x) = 1$$\n",
    "$$\\int_0^L\\bigg(\\sum_{n=0}^{10}\\psi_n\\sin\\frac{n\\pi x}{L}\\bigg)^2 = 1$$\n",
    "$$\\int_0^L\\sum_{n=0}^{10}\\sum_{m=0}^{10}\\psi_n\\psi_m\\sin\\frac{n\\pi x}{L}\\sin\\frac{m\\pi x}{L} = 1$$\n",
    "Par la linéarité de l'intégration et comme $\\psi_n$ et $\\psi_m$ sont des constantes,\n",
    "$$\\sum_{n=0}^{10}\\sum_{m=0}^{10}\\psi_n\\psi_m\\int_0^L\\sin\\frac{n\\pi x}{L}\\sin\\frac{m\\pi x}{L} = 1$$\n",
    "Selon les propriétés présentées à la question 4,\n",
    "$$\\sum_{n=0}^{10}\\psi^2_n\\bigg(\\frac{L}{2}\\bigg) = 1$$\n",
    "$$\\sum_{n=0}^{10}\\psi^2_n = \\frac{2}{L}$$\n",
    "Pour $L=0,5$ nm (on considérera que $x$ est en nm) :\n",
    "$$\\sum_{n=0}^{10}\\psi^2_n = 4$$\n",
    "Pour obtenir des fonctions propres normalisées avec des valeurs d'énergie en eV et des positions en nm, la norme au carré des vecteurs propres doit être de 4. On crée la fonction *normaliser_vp* qui prend en argument un *array* à une dimension représentant un vecteur propre et retourne un *array* à une dimension représentant un vecteur propre dont la norme au carré est 4. Pour ce faire, la fonction calcule tout d'abord la norme au carré du vecteur à partir de ses composantes et détermine la constante de normalisation afin d'avoir une norme au carré de 4. Elle retourne ensuite le vecteur propre multiplié par la constante de normalisation."
   ]
  },
  {
   "cell_type": "code",
   "execution_count": 57,
   "metadata": {},
   "outputs": [],
   "source": [
    "# Normalise les vecteurs propres à une norme de n\n",
    "# Arguments:\n",
    "# V : vecteur à normaliser (1D numpy array)\n",
    "\n",
    "def normaliser_vp(V):\n",
    "    norme_carre = 0\n",
    "    for i in V:\n",
    "        norme_carre += i**2\n",
    "    constante = np.sqrt(4 / norme_carre)\n",
    "    return np.multiply(constante, V)"
   ]
  },
  {
   "cell_type": "markdown",
   "metadata": {},
   "source": [
    "On normalise les 3 fonctions propres qui nous intéressent :"
   ]
  },
  {
   "cell_type": "code",
   "execution_count": 58,
   "metadata": {},
   "outputs": [
    {
     "name": "stdout",
     "output_type": "stream",
     "text": [
      "État fondamental : [1.87349342e+00 6.91137190e-01 1.08956920e-01 2.12907601e-02\n",
      " 4.71388113e-03 2.00216403e-03 6.58080515e-04 4.20995775e-04\n",
      " 1.65048678e-04 1.30089828e-04]\n",
      "Premier état excité : [ 6.96398014e-01 -1.80875998e+00 -4.90600340e-01 -5.02787867e-02\n",
      " -1.38828114e-02 -2.12080753e-03 -1.72429823e-03 -3.04088134e-04\n",
      " -4.24325444e-04 -7.52368758e-05]\n",
      "Deuxième état excité : [-6.93561574e-02  4.99089637e-01 -1.89997060e+00 -3.67854809e-01\n",
      " -2.77731543e-02 -1.08716198e-02 -1.22765143e-03 -1.59469340e-03\n",
      " -1.80375918e-04 -4.30275296e-04]\n"
     ]
    }
   ],
   "source": [
    "# État fondamental\n",
    "psi_0 = normaliser_vp(vecpropres_10[:, 0])\n",
    "\n",
    "# Premier état excité\n",
    "psi_1 = normaliser_vp(vecpropres_10[:, 1])\n",
    "\n",
    "# Deuxième état excité\n",
    "psi_2 = normaliser_vp(vecpropres_10[:, 2])\n",
    "\n",
    "print('État fondamental :', psi_0)\n",
    "print('Premier état excité :', psi_1)\n",
    "print('Deuxième état excité :', psi_2)"
   ]
  },
  {
   "cell_type": "markdown",
   "metadata": {},
   "source": [
    "Maintenant que nos fonctions propres sont normalisées, on veut connaître leurs densités de probabilité. On sait que la densité de probabilité d'une fonction propre est donnée par\n",
    "$$|\\psi(x)|^2 = \\sum_{n=0}^{10}\\sum_{m=0}^{10}\\psi_n\\psi_m\\sin\\frac{n\\pi x}{L}\\sin\\frac{m\\pi x}{L}$$\n",
    "On crée donc la fonction *densite_prob* qui calcule la densité de probabilité pour une fonciton donnée à une position *x* donnée en nm."
   ]
  },
  {
   "cell_type": "code",
   "execution_count": 59,
   "metadata": {},
   "outputs": [],
   "source": [
    "# Calcule la densité de probabilité\n",
    "# Arguments :\n",
    "# x : position [nm]\n",
    "# V : vecteur des coefficients de Fourier de la fonction propre\n",
    "# Retourne la densité de probabilité\n",
    "\n",
    "def densite_prob(x, V):\n",
    "    dens = 0\n",
    "    for i in range(len(V)):\n",
    "        for j in range(len(V)):\n",
    "            dens += V[i] * V[j] * np.sin((i+1)*pi*x/0.5) * np.sin((j+1)*pi*x/0.5)\n",
    "    return dens"
   ]
  },
  {
   "cell_type": "markdown",
   "metadata": {},
   "source": [
    "On calcule maintenant la densité de probabilité des trois fonctions propres qui nous intéressent et on représente le tout graphiquement."
   ]
  },
  {
   "cell_type": "code",
   "execution_count": 60,
   "metadata": {},
   "outputs": [
    {
     "data": {
      "image/png": "[encoded data removed]",
      "text/plain": [
       "<Figure size 432x216 with 1 Axes>"
      ]
     },
     "metadata": {},
     "output_type": "display_data"
    }
   ],
   "source": [
    "x = np.linspace(0, 0.5, 100)\n",
    "\n",
    "# État fondamental\n",
    "D_0 = []\n",
    "for i in x:\n",
    "    D_0.append(densite_prob(i, psi_0))\n",
    "\n",
    "# État fondamental\n",
    "D_1 = []\n",
    "for i in x:\n",
    "    D_1.append(densite_prob(i, psi_1))\n",
    "\n",
    "# État fondamental\n",
    "D_2 = []\n",
    "for i in x:\n",
    "    D_2.append(densite_prob(i, psi_2))\n",
    "\n",
    "\n",
    "# On représente graphiquement\n",
    "sns.set_style('ticks')\n",
    "plt.figure(figsize=(6,3))\n",
    "plt.plot(x, D_0, 'r', label='État fondamental')\n",
    "plt.plot(x, D_1, 'g', label='Premier état excité')\n",
    "plt.plot(x, D_2, 'b', label='Deuxième état excité')\n",
    "plt.ylabel('Densité de probabilité')\n",
    "plt.xlabel('Position $x$ [nm]')\n",
    "plt.grid()\n",
    "plt.show()\n"
   ]
  },
  {
   "cell_type": "markdown",
   "metadata": {},
   "source": [
    "On remarque que les densités de probabilité ne sont pas symétrique. C'était attendu, car le puit de potentiel n'est pas symétrique. On remarque aussi que la densité de probabilité est nulle à 0 et à 0,5 nm, ce qui est normal dans un puit de potentiel infini. Finalement, on remarque que l'état fondamental comporte un maximum, le premier état excité comporte 2 maximums et le deuxième état excité comporte 3 maximums. Ces résultats sont conformes aux attentes."
   ]
  },
  {
   "cell_type": "markdown",
   "metadata": {},
   "source": [
    "## Question 9\n",
    "\n",
    "On considère maintenant le potentiel suivant :\n",
    "$$V(x) = \\frac{ax^2}{L}$$\n",
    "Ce qui donne l'hamiltonien suivant :\n",
    "$$\\hat{H} = \\frac{-\\hbar^2}{2M}\\frac{\\text{d}^2}{\\text{d}x^2} + \\frac{ax^2}{L}$$\n",
    "On insère notre nouvel hamiltonien dans l'équation dérivée à la question 4 pour déterminer les éléments de matrice $H_{mn}$ :\n",
    "$$H_{mn} = \\frac{2}{L}\\int_0^L\\sin\\frac{m\\pi x}{L}\\hat{H}\\sin\\frac{n\\pi x}{L}\\text{d}x$$\n",
    "$$H_{mn} = \\frac{2}{L}\\int_0^L\\sin\\frac{m\\pi x}{L}\\bigg(\\frac{-\\hbar^2}{2M}\\frac{\\text{d}^2}{\\text{d}x^2} + \\frac{ax^2}{L}\\bigg)\\sin\\frac{n\\pi x}{L}\\text{d}x$$\n",
    "$$H_{mn} = \\frac{2}{L}\\int_0^L\\sin\\frac{m\\pi x}{L}\\bigg[\\frac{-\\hbar^2}{2M}\\bigg(-\\frac{\\pi^2n^2}{L^2}\\sin\\frac{n\\pi x}{L}\\bigg) + \\frac{ax^2}{L}\\sin\\frac{n\\pi x}{L}\\bigg]\\text{d}x$$\n",
    "$$H_{mn} = \\frac{\\hbar^2\\pi^2n^2}{ML^3}\\int_0^L\\sin\\frac{m\\pi x}{L}\\sin\\frac{n\\pi x}{L}\\text{d}x + \\frac{2a}{L^2}\\int_0^Lx^2\\sin\\frac{m\\pi x}{L}\\sin\\frac{n\\pi x}{L}\\text{d}x$$\n",
    "On peut résoudre facilement la première intégrale grâce aux propriétés présentées à la question 4. On obtient alors\n",
    "$$H_{mn} = \\frac{\\hbar^2\\pi^2n^2}{2ML^2} + \\frac{2a}{L^2}\\int_0^Lx^2\\sin^2\\frac{n\\pi x}{L}\\text{d}x \\qquad \\text{pour $m=n$}$$\n",
    "$$H_{mn} = \\frac{2a}{L^2}\\int_0^Lx^2\\sin\\frac{m\\pi x}{L}\\sin\\frac{n\\pi x}{L}\\text{d}x \\qquad \\text{pour $m\\neq n$}$$"
   ]
  },
  {
   "cell_type": "markdown",
   "metadata": {},
   "source": [
    "Pour la deuxième intégrale, nous n'avons malheureusement pas de propriété qui nous permet de résoudre facilement l'intégrale. Nous nous replierons donc sur les méthodes numériques. Pour résoudre l'intégrale, on utilisera la méthode *integrate.quad* de la librairie *scipy*. Cette méthode a l'avantage de donner non seulement la valeur de l'intégrale, mais aussi une estimation de l'erreur sur le résultat. On définit la fonction *element_H_mn_2* qui calcule la valeur d'un élément de matrice pour le puit qui nous intéresse. La fonction prend en argument $m$ et $n$ et retourne l'élément de matrice en calculant l'intégrale avec *scipy.integrate.quad*. Elle retourne également l'erreur sur l'élément causée par l'intégration numérique."
   ]
  },
  {
   "cell_type": "code",
   "execution_count": 61,
   "metadata": {},
   "outputs": [],
   "source": [
    "# Détermine les éléments de la matrice H_mn\n",
    "# Arguments :\n",
    "# m, n : indices de l'élément\n",
    "# Retourne la valeur de l'élément ainsi que son incertitude causée par l'intégration\n",
    "\n",
    "def element_H_mn_2(m, n):\n",
    "    a = 10 / (6.241509 * 10**18)\n",
    "    L = 0.5 * 10**(-9)\n",
    "    M = me\n",
    "    def integrande(x):\n",
    "        return x**2 * np.sin(n*pi*x/L) * np.sin(m*pi*x/L)\n",
    "    result, err = sp.integrate.quad(integrande, 0, L)\n",
    "    if m == n :\n",
    "        return [(hbar**2*pi**2*n**2 / (2*M*L**2) + 2*a/(L**2) * result) * 6.241509 * 10**18, 2*a/(L**2) * err * 6.241509 * 10**18]\n",
    "    else:\n",
    "        return [2*a/(L**2) * result * 6.241509 * 10**18, 2*a/(L**2) * err * 6.241509 * 10**18]"
   ]
  },
  {
   "cell_type": "markdown",
   "metadata": {},
   "source": [
    "On construit ensuite la matrice $H$ 10x10 dans le but de déterminer les premiers niveaux d'énergie. On aimerait toutefois pouvoir propager l'erreur sur les éléments dans le calcul des valeurs propres. Pour ce faire, on utilise la méthode *random* du module *random*, qui permet de générer une valeur aléatoire dans l'intervalle [0, 1]. On crée donc 1000 matrices $H$ 10x10 avec des valeurs aléatoires dans les intervalles d'incertitude et on calcule les valeurs propres de chacune. On prend ensuite l'écart-type de la distribution des valeurs propres obtenues pour chaque niveau afin d'estimer l'erreur sur les niveaux d'énergie calculés. Les valeurs propres sont calculées de la même façon qu'à la question 6."
   ]
  },
  {
   "cell_type": "code",
   "execution_count": 67,
   "metadata": {},
   "outputs": [
    {
     "name": "stdout",
     "output_type": "stream",
     "text": [
      "Niveau d'énergie en eV : [1.5081946860779718, 6.032778740261776, 13.573752163619993, 24.131114956284545, 37.70486711827174, 54.29500864958553, 73.90153955022728, 96.52445982019759, 122.16376945949683, 150.81946846812497]\n",
      "Erreur sur chaque niveau : [4.440892098500626e-16, 3.547269414518773e-15, 1.8732134746273846e-13, 2.7753568347584366e-11, 2.7561365632296633e-14, 7.067382523127505e-14, 6.906503886339926e-12, 9.910715071331454e-11, 1.2452368896013694e-09, 1.1835548123331347e-09]\n"
     ]
    }
   ],
   "source": [
    "# On définit la matrice H et la matrice d'erreur Err\n",
    "H = np.zeros((10, 10))\n",
    "Err = np.zeros((10, 10))\n",
    "for m in range(10):\n",
    "    for n in range(10):\n",
    "        H[m,n], Err[m,n] = element_H_mn_2(m+1, n+1)\n",
    "\n",
    "# On calcule les valeurs propres de la matrice H\n",
    "valpropres_2 = np.linalg.eigvalsh(H).tolist()\n",
    "valpropres_2.sort()\n",
    "\n",
    "# On crée 1000 matrices H avec des valeurs extrêmes aléatoires des domaines d'incertitude\n",
    "# et on calcule leurs valeurs propres en les regroupant dans des listes.\n",
    "# On calcule ensuite l'écart-type des listes.\n",
    "val1 = []\n",
    "val2 = []\n",
    "val3 = []\n",
    "val4 = []\n",
    "val5 = []\n",
    "val6 = []\n",
    "val7 = []\n",
    "val8 = []\n",
    "val9 = []\n",
    "val10 = []\n",
    "\n",
    "i = 0\n",
    "\n",
    "while i < 1000:\n",
    "    H_err = np.zeros((10, 10))\n",
    "\n",
    "    # On ajoute aléatoirement + ou - l'incertitude\n",
    "    for m in range(10):\n",
    "        for n in range(10):\n",
    "            H_err[m,n] = H[m,n] + rd.choice([-1, 1]) * Err[m,n]\n",
    "\n",
    "\n",
    "    # On calcule les valeurs propres\n",
    "    valpropres_err = np.linalg.eigvalsh(H_err).tolist()\n",
    "    valpropres_err.sort()\n",
    "\n",
    "    # On assigne les valeurs aux bonnes listes (méthode rustique mais ça va pour 10 valeurs)\n",
    "    val1.append(valpropres_err[0])\n",
    "    val2.append(valpropres_err[1])\n",
    "    val3.append(valpropres_err[2])\n",
    "    val4.append(valpropres_err[3])\n",
    "    val5.append(valpropres_err[4])\n",
    "    val6.append(valpropres_err[5])\n",
    "    val7.append(valpropres_err[6])\n",
    "    val8.append(valpropres_err[7])\n",
    "    val9.append(valpropres_err[8])\n",
    "    val10.append(valpropres_err[9])\n",
    "\n",
    "    i += 1\n",
    "\n",
    "# On calcule la différence entre le max et le min pour chaque valeur et on regroupe dans une liste\n",
    "err_finale = []\n",
    "\n",
    "err_finale.append(np.std(val1))\n",
    "err_finale.append(np.std(val2))\n",
    "err_finale.append(np.std(val3))\n",
    "err_finale.append(np.std(val4))\n",
    "err_finale.append(np.std(val5))\n",
    "err_finale.append(np.std(val6))\n",
    "err_finale.append(np.std(val7))\n",
    "err_finale.append(np.std(val8))\n",
    "err_finale.append(np.std(val9))\n",
    "err_finale.append(np.std(val10))\n",
    "\n",
    "print(\"Niveau d'énergie en eV :\", valpropres_2)\n",
    "print(\"Erreur sur chaque niveau :\", err_finale)"
   ]
  },
  {
   "cell_type": "markdown",
   "metadata": {},
   "source": [
    "On voit que les erreurs varient de l'ordre de $10^{-16}$ à $10^{-9}$. L'erreur est également plus faible pour les premiers niveaux d'énergie. On peut se fier aux niveaux d'énergie obtenus, car l'approche statistique montre que l'effet de l'erreur causée par l'intégration numérique est négligeable pour les premiers niveaux d'énergie. On obtient des valeurs avec une précision semblable à la précision machine, qui est de $10^{-16}$."
   ]
  },
  {
   "cell_type": "markdown",
   "metadata": {},
   "source": [
    "## Médiagraphie\n",
    "\n",
    "[1] (eigenvalues) https://numpy.org/doc/stable/reference/generated/numpy.linalg.eigvals.html"
   ]
  }
 ],
 "metadata": {
  "interpreter": {
   "hash": "6537d6febe7fb1246163fe1377d17bbfd38b19cd973b106333eb66b4dd5f3e76"
  },
  "kernelspec": {
   "display_name": "Python 3.8.2 64-bit",
   "language": "python",
   "name": "python3"
  },
  "language_info": {
   "codemirror_mode": {
    "name": "ipython",
    "version": 3
   },
   "file_extension": ".py",
   "mimetype": "text/x-python",
   "name": "python",
   "nbconvert_exporter": "python",
   "pygments_lexer": "ipython3",
   "version": "3.8.2"
  },
  "orig_nbformat": 4
 },
 "nbformat": 4,
 "nbformat_minor": 2
}
