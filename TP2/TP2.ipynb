{
 "cells": [
  {
   "cell_type": "code",
   "execution_count": 1,
   "metadata": {},
   "outputs": [],
   "source": [
    "## Voici notre super TP2, Ça part comme on dit"
   ]
  },
  {
   "cell_type": "markdown",
   "metadata": {},
   "source": [
    "## Question 4"
   ]
  },
  {
   "cell_type": "markdown",
   "metadata": {},
   "source": [
    "Tout d'abord, on sait que n'importe quel état $\\psi(x)$ peut être représenté en série de Fourier selon la forme suivante :\n",
    "$$\\psi(x) = \\sum_{n=1}^{\\infty} \\psi_n\\sin\\frac{n\\pi x}{L}$$\n",
    "En insérant l'état $\\psi(x)$ sous cette forme dans l'équation de Schrödinger, on obtient\n",
    "$$\\hat{H}\\psi(x) = E\\psi(x)$$\n",
    "$$\\hat{H}\\sum_{n=1}^{\\infty} \\psi_n\\sin\\frac{n\\pi x}{L} = E\\sum_{n=1}^{\\infty} \\psi_n\\sin\\frac{n\\pi x}{L}$$\n",
    "Par la distributivité de $\\hat{H}$ et comme les $\\psi_n$ sont des constantes, on a\n",
    "$$\\sum_{n=1}^{\\infty} \\psi_n\\hat{H}\\sin\\frac{n\\pi x}{L} = E\\sum_{n=1}^{\\infty} \\psi_n\\sin\\frac{n\\pi x}{L}$$\n",
    "On multiplie $\\sin\\frac{m\\pi x}{L}$ par les deux côtés de l'équation et on distribue sur les sommes :\n",
    "$$\\sum_{n=1}^{\\infty} \\psi_n\\sin\\frac{m\\pi x}{L}\\hat{H}\\sin\\frac{n\\pi x}{L} = E\\sum_{n=1}^{\\infty} \\psi_n\\sin\\frac{m\\pi x}{L}\\sin\\frac{n\\pi x}{L}$$\n",
    "On intègre de 0 à $L$ des deux côtés de l'équation:\n",
    "$$\\int_0^L\\sum_{n=1}^{\\infty} \\psi_n\\sin\\frac{m\\pi x}{L}\\hat{H}\\sin\\frac{n\\pi x}{L}\\text{d}x = \\int_0^LE\\sum_{n=1}^{\\infty} \\psi_n\\sin\\frac{m\\pi x}{L}\\sin\\frac{n\\pi x}{L}\\text{d}x$$\n",
    "$$\\sum_{n=1}^{\\infty} \\psi_n\\int_0^L\\sin\\frac{m\\pi x}{L}\\hat{H}\\sin\\frac{n\\pi x}{L}\\text{d}x = E\\sum_{n=1}^{\\infty} \\psi_n\\int_0^L\\sin\\frac{m\\pi x}{L}\\sin\\frac{n\\pi x}{L}\\text{d}x$$\n",
    "Or, on sait que\n",
    "$$\\int_0^L \\sin\\frac{m\\pi x}{L}\\sin\\frac{n\\pi x}{L}\\text{d}x = 0 \\qquad \\text{pour $m\\neq n$}$$\n",
    "$$\\int_0^L \\sin\\frac{m\\pi x}{L}\\sin\\frac{n\\pi x}{L}\\text{d}x = \\frac{L}{2} \\qquad \\text{pour $m=n$}$$\n",
    "Tous les termes de la somme de droite seront donc nuls excepté celui où $n=m$. On a donc\n",
    "$$\\sum_{n=1}^{\\infty} \\psi_n\\int_0^L\\sin\\frac{m\\pi x}{L}\\hat{H}\\sin\\frac{n\\pi x}{L}\\text{d}x = \\frac{1}{2}LE\\psi_m$$"
   ]
  }
 ],
 "metadata": {
  "interpreter": {
   "hash": "6537d6febe7fb1246163fe1377d17bbfd38b19cd973b106333eb66b4dd5f3e76"
  },
  "kernelspec": {
   "display_name": "Python 3.8.2 64-bit",
   "language": "python",
   "name": "python3"
  },
  "language_info": {
   "codemirror_mode": {
    "name": "ipython",
    "version": 3
   },
   "file_extension": ".py",
   "mimetype": "text/x-python",
   "name": "python",
   "nbconvert_exporter": "python",
   "pygments_lexer": "ipython3",
   "version": "3.8.2"
  },
  "orig_nbformat": 4
 },
 "nbformat": 4,
 "nbformat_minor": 2
}
