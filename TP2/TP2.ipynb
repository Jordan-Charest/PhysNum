{
 "cells": [
  {
   "cell_type": "code",
   "execution_count": 1,
   "metadata": {},
   "outputs": [],
   "source": [
    "## Voici notre super TP2, Ça part comme on dit"
   ]
  },
  {
   "cell_type": "markdown",
   "metadata": {},
   "source": [
    "## Question 4"
   ]
  },
  {
   "cell_type": "markdown",
   "metadata": {},
   "source": [
    "Tout d'abord, on sait que n'importe quel état $\\psi(x)$ peut être représenté en série de Fourier selon la forme suivante :\n",
    "$$\\psi(x) = \\sum_{n=1}^{\\infty} \\psi_n\\sin\\frac{n\\pi x}{L}$$\n",
    "En insérant l'état $\\psi(x)$ sous cette forme dans l'équation de Schrödinger, on obtient\n",
    "$$\\hat{H}\\psi(x) = E\\psi(x)$$\n",
    "$$\\hat{H}\\sum_{n=1}^{\\infty} \\psi_n\\sin\\frac{n\\pi x}{L} = E\\sum_{n=1}^{\\infty} \\psi_n\\sin\\frac{n\\pi x}{L}$$\n",
    "Par la distributivité de $\\hat{H}$ et comme les $\\psi_n$ sont des constantes, on a\n",
    "$$\\sum_{n=1}^{\\infty} \\psi_n\\hat{H}\\sin\\frac{n\\pi x}{L} = E\\sum_{n=1}^{\\infty} \\psi_n\\sin\\frac{n\\pi x}{L}$$\n",
    "On multiplie $\\sin\\frac{m\\pi x}{L}$ par les deux côtés de l'équation et on distribue sur les sommes :\n",
    "$$\\sum_{n=1}^{\\infty} \\psi_n\\sin\\frac{m\\pi x}{L}\\hat{H}\\sin\\frac{n\\pi x}{L} = E\\sum_{n=1}^{\\infty} \\psi_n\\sin\\frac{m\\pi x}{L}\\sin\\frac{n\\pi x}{L}$$\n",
    "On intègre de 0 à $L$ des deux côtés de l'équation:\n",
    "$$\\int_0^L\\sum_{n=1}^{\\infty} \\psi_n\\sin\\frac{m\\pi x}{L}\\hat{H}\\sin\\frac{n\\pi x}{L}\\text{d}x = \\int_0^LE\\sum_{n=1}^{\\infty} \\psi_n\\sin\\frac{m\\pi x}{L}\\sin\\frac{n\\pi x}{L}\\text{d}x$$\n",
    "$$\\sum_{n=1}^{\\infty} \\psi_n\\int_0^L\\sin\\frac{m\\pi x}{L}\\hat{H}\\sin\\frac{n\\pi x}{L}\\text{d}x = E\\sum_{n=1}^{\\infty} \\psi_n\\int_0^L\\sin\\frac{m\\pi x}{L}\\sin\\frac{n\\pi x}{L}\\text{d}x$$\n",
    "Or, on sait que\n",
    "$$\\int_0^L \\sin\\frac{m\\pi x}{L}\\sin\\frac{n\\pi x}{L}\\text{d}x = 0 \\qquad \\text{pour $m\\neq n$}$$\n",
    "$$\\int_0^L \\sin\\frac{m\\pi x}{L}\\sin\\frac{n\\pi x}{L}\\text{d}x = \\frac{L}{2} \\qquad \\text{pour $m=n$}$$\n",
    "Tous les termes de la somme de droite seront donc nuls excepté celui où $n=m$. On a donc\n",
    "$$\\sum_{n=1}^{\\infty} \\psi_n\\int_0^L\\sin\\frac{m\\pi x}{L}\\hat{H}\\sin\\frac{n\\pi x}{L}\\text{d}x = \\frac{1}{2}LE\\psi_m$$"
    "### 2.\n",
    "\n",
    "On peut mettre ces équations sous forme matricielle, soit:\n",
    "\n",
    "$$\\mathbf{Av}=\\mathbf{w}$$\n",
    "\n",
    "Où $\\mathbf{A}$ est la matrice des coefficients, $\\mathbf{v}$ la matrice des tensions, et $\\mathbf{w}$ la matrice des côtés droits des équations précédemment déterminées. Alors on a:\n",
    "\n",
    "\\begin{bmatrix}\n",
    "3&-1&-1&0&0&0&0&0&\\dots&&&&&&0\\\\\n",
    "-1&4&-1&-1&0&0&0&0&\\dots&&&&&&0\\\\\n",
    "-1&-1&4&-1&-1&0&0&0&\\dots&&&&&&0\\\\\n",
    "0&-1&-1&4&-1&-1&0&0&\\dots&&&&&&0\\\\\n",
    "\\vdots&&&&&&&&\\dots&&&&&&\\vdots\\\\\n",
    "0&\\dots&&&&0&-1&-1&4&-1&-1&\\dots&&&0\\\\\n",
    "\\vdots&&&&&&&&\\dots&&&&&&\\vdots\\\\\n",
    "0&&&&&\\dots&0&0&0&0&0&-1&-1&4&-1\\\\\n",
    "0&&&&&\\dots&0&0&0&0&0&0&-1&-1&3\\\\\n",
    "\\end{bmatrix}\\begin{bmatrix}V_1\\\\V_2\\\\V_3\\\\V_4\\\\\\vdots\\\\V_i\\\\\\vdots\\\\V_{N-1}\\\\V_{N-2}\\end{bmatrix}=\\begin{bmatrix}V_+\\\\V_+\\\\0\\\\0\\\\\\vdots\\\\0\\\\\\vdots\\\\0\\\\0\\end{bmatrix}\n",
    "\n",
    "Dans le cas où $N=6$, on obtient le système suivant:\n",
    "\n",
    "\\begin{bmatrix}\n",
    "3&-1&-1&0&0&0\\\\\n",
    "-1&4&-1&-1&0&0\\\\\n",
    "-1&-1&4&-1&-1&0\\\\\n",
    "0&-1&-1&4&-1&-1\\\\\n",
    "0&0&-1&-1&4&-1\\\\\n",
    "0&0&0&-1&-1&3\n",
    "\\end{bmatrix}\\begin{bmatrix}V_1\\\\V_2\\\\V_3\\\\V_4\\\\V_5\\\\V_6\\end{bmatrix}=\\begin{bmatrix}V_+\\\\V_+\\\\0\\\\0\\\\0\\\\0\\\\\\end{bmatrix}"
   ]
  },
  {
   "cell_type": "markdown",
   "metadata": {},
   "source": [
    "On souhaite écrire un programme capable de résoudre un tel système. On utilisera la fonction *solve* de scipy: cette fonction native de scipy est faite pour résoudre de tels systèmes, sera probablement plus efficace que celle que nous pourrions coder nous-mêmes, et nous permettra de conclure sur l'utilité de *solve* à $N=10000$. Débutons par créer un programme qui génère les matrices $\\mathbf{A}$ et $\\mathbf{w}$:"
   ]
  },
  {
   "cell_type": "code",
   "execution_count": 31,
   "metadata": {},
   "outputs": [],
   "source": [
    "# But: générer les matrices A et w en vue de résoudre le système\n",
    "# Argument:\n",
    "# N: nombre de noeuds du système\n",
    "# V: valeur en volts de V+\n",
    "\n",
    "def matrices(N, V):\n",
    "    A = np.zeros((N,N))\n",
    "    b = np.zeros((N,1))\n",
    "\n",
    "    b[0,0], b[1,0] = V, V\n",
    "\n",
    "    A[0,0:3] = [3, -1, -1]\n",
    "    A[1,0:4] = [-1, 4, -1, -1]\n",
    "\n",
    "    for n in range(N-4):\n",
    "        A[n+2,n:(n+5)] = [-1, -1, 4, -1, -1]\n",
    "    \n",
    "    A[N-2, N-4:N] = [-1, -1, 4, -1]\n",
    "    A[N-1, N-3:N] = [-1, -1, 3]\n",
    "\n",
    "    return A, b"
   ]
  },
  {
   "cell_type": "code",
   "execution_count": 1,
   "metadata": {},
   "outputs": [
    {
     "ename": "SyntaxError",
     "evalue": "invalid syntax (<ipython-input-1-d235a807ba02>, line 1)",
     "output_type": "error",
     "traceback": [
      "\u001b[1;36m  File \u001b[1;32m\"<ipython-input-1-d235a807ba02>\"\u001b[1;36m, line \u001b[1;32m1\u001b[0m\n\u001b[1;33m    from scipy import linalg.solve as solve\u001b[0m\n\u001b[1;37m                            ^\u001b[0m\n\u001b[1;31mSyntaxError\u001b[0m\u001b[1;31m:\u001b[0m invalid syntax\n"
     ]
    }
   ],
   "source": [
    "# La fonction linalg.solve accepte deux paramètres obligatoires sous la forme\n",
    "# linalg.solve(a,b), où a est la matrice des coefficients (A plus haut)\n",
    "# et b est la matrice du côté droit des équations (w plus haut)\n",
    "\n"
   ]
  },
  {
   "cell_type": "markdown",
   "metadata": {},
   "source": [
    "En observant la forme de l'équation de Schrödinger obtenue pour la série de Fourier d'un état, on décide de poser des éléments de matrice $H_{mn}$ de la façon suivante :\n",
    "$$H_{mn} = \\frac{2}{L}\\int_0^L\\sin\\frac{m\\pi x}{L}\\hat{H}\\sin\\frac{n\\pi x}{L}\\text{d}x$$"
   ]
  },
  {
   "cell_type": "markdown",
   "metadata": {},
   "source": [
    "Cette définition nous permet de réécrire l'éqauation de Schrödinger sous une forme matricielle. En insérant $H_{mn}$ dans l'équation dérivée plus haut, on a\n",
    "$$\\sum_{n=1}^{\\infty} \\psi_n\\frac{L}{2}H_{mn} = \\frac{1}{2}LE\\psi_m$$\n",
    "$$\\sum_{n=1}^{\\infty} H_{mn} \\psi_n = E\\psi_m$$\n",
    "On remarque que la partie gauche de l'équaiton correspond à une étape de la mutliplication matricielle de $\\boldsymbol{H}$ et de $\\boldsymbol{\\psi}$ où on trouve l'élément $\\psi_m$ de la matrice résultante. On remarque aussi que chaque élément de la matrice résultante est simplement l'élément de la matrice $\\psi(x)$ multiplié par le facteur $E$. On voit donc que l'équation trouvée implique l'équation aux valeurs propres suivante :\n",
    "$$\\boldsymbol{H}\\boldsymbol{\\psi} = E\\boldsymbol{\\psi}$$\n",
    "En définissant les éléments de la matrice $H$ de cette façon, on obtient donc que l'état $\\psi(x)$ est un vecteur propre de l'Hamiltonien associé à la valeur propre E.\n",
    "\n",
    "$$\\textcolor{red}{\\text{Ajouter du stock?}}"
   ]
  },
  {
   "cell_type": "markdown",
   "metadata": {},
   "source": [
    "## Question 5\n",
    "\n",
    "On sait que l'Hamiltonien correspond à :\n",
    "$$\\frac{-\\hbar}{2M}\\frac{\\text{d}^2}{\\text{d}x^2} + \\frac{ax}{L}$$"
   ]
  }
 ],
 "metadata": {
  "interpreter": {
   "hash": "6537d6febe7fb1246163fe1377d17bbfd38b19cd973b106333eb66b4dd5f3e76"
  },
  "kernelspec": {
   "display_name": "Python 3.8.2 64-bit",
   "language": "python",
   "name": "python3"
  },
  "language_info": {
   "codemirror_mode": {
    "name": "ipython",
    "version": 3
   },
   "file_extension": ".py",
   "mimetype": "text/x-python",
   "name": "python",
   "nbconvert_exporter": "python",
   "pygments_lexer": "ipython3",
   "version": "3.8.2"
  },
  "orig_nbformat": 4
 },
 "nbformat": 4,
 "nbformat_minor": 2
}
