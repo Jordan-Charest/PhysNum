{
 "cells": [
  {
   "cell_type": "code",
   "execution_count": 6,
   "metadata": {},
   "outputs": [],
   "source": [
    "## Voici notre super TP2, Ça part comme on dit\n",
    "## Oh yes\n",
    "\n",
    "from scipy import linalg\n",
    "import numpy as np"
   ]
  },
  {
   "cell_type": "markdown",
   "metadata": {},
   "source": [
    "## Question 1 - Une chaîne de résistors\n",
    "\n",
    "### 1.\n",
    "\n",
    "La loi des courants de Kirchhoff, aussi appelé loi de noeuds, nous dit que le courant total qui \"arrive\" dans un noeud est égal au courant total qui en sort. Mathématiquement, elle se traduit par:\n",
    "\n",
    "$$I_1+I_2+...I_N=I_a+I_b+...I_M$$\n",
    "\n",
    "Où les courants $1,2,3...N$ sont les courants entrants et les courants $a,b,c...M$ sont les courants sortant. Sachant la loi d'Ohm, soit:\n",
    "\n",
    "$$V=RI$$\n",
    "\n",
    "On peut exprimer le courant comme la différence de potentiel entre deux noeuds divisée par la résistance de la branche. Cela est utile dans un cas comme le nôtre puisque nous ne connaissons pas *a priori* le sens du courant. On peut donc écrire, par exemple, pour un noeud arbitraire $i$ entouré de noeuds arbitraires 1 à 3:\n",
    "\n",
    "$$\\frac{V_i-V_1}{R_1}+\\frac{V_i-V_2}{R_2}+\\frac{V_i-V_3}{R_3}=0$$\n",
    "\n",
    "Si le potentiel du noeud $i$ est plus élevé que celui du noeud environnant, le courant \"sortira\" du noeud $i$, tandis que dans le cas contraire il y entrera; on constate qu'on a donc bel et bien la forme de la loi de Kirchhoff. Dans notre cas, étant donné que toutes les résistances sont identiques, on peut multiplier l'équation par $R$ pour n'avoir que les potentiels de chaque noeud dans l'équation.\n",
    "\n",
    "Déterminons donc les équations dans notre système. En observant la figure, pour le noeud $1$, on a:\n",
    "\n",
    "$$(V_1-V_+)+(V_1-V_2)+(V_1-V_3)=0$$\n",
    "$$3V_1-V_2-V_3=V_+$$\n",
    "\n",
    "Pour le noeud $2$:\n",
    "\n",
    "$$(V_2-V_+)+(V_2-V_1)+(V_2-V_3)+(V_3-V_4)=0$$\n",
    "$$-V_1-4V_2-V_3-V_4=V_+$$\n",
    "\n",
    "À partir du noeud $3$, on arrive dans la zone des \"noeuds centraux\", c'est-à-dire que tous les noeuds sont semblables jusqu'à ce que nous arrivions à $N-1$. Déterminons donc les équations de $3$ et $4$ et voyons si on peut généraliser l'équation pour tous les noeuds allant jusqu'à $N-2$ inclusivement.\n",
    "\n",
    "Pour le noeud $3$, on a:\n",
    "\n",
    "$$(V_3-V_1)+(V_3-V_2)+(V_3-V_4)+(V_3-V_5)=0$$\n",
    "$$-V_1-V_2+4V_3-V_4-V_5=0$$\n",
    "\n",
    "Pour le noeud $4$, on a:\n",
    "\n",
    "$$(V_4-V_2)+(V_4-V_3)+(V_4-V_5)+(V_4-V_6)=0$$\n",
    "$$-V_2-V_3+4V_4-V_5-V_6=0$$\n",
    "\n",
    "En observant ces équations ainsi que le schéma, on peut généraliser pour un noeud arbitraire $i$ où $2<i<N-1$:\n",
    "\n",
    "$$-V_{i-2}-V_{i-1}+4V_i-V_{i+1}-V_{i+2}=0$$\n",
    "\n",
    "Pour les deux derniers noeuds, $N-1$ et $N$, on a le \"miroir\" des noeuds $1$ et $2$. En se référant au schéma, on remarque qu'on a les équations suivantes:\n",
    "\n",
    "Noeud $N-1$:\n",
    "\n",
    "$$(V_{N-1}-V_{N-3})+(V_{N-1}-V_{N-2})+(V_{N-1}-V_{N})+(V_{N-1}-0)=0$$\n",
    "$$-V_{N-3}-V_{N-2}+4V_{N-1}-V_N=0$$\n",
    "\n",
    "Noeud $N$:\n",
    "\n",
    "$$(V_N-V_{N-2})+(V_{N}-V_{N-1})+(V_{N}-0)=0$$\n",
    "$$-V_{N-2}-V_{N-1}+3V_N=0$$\n",
    "\n",
    "On obtient donc le système d'équations suivant:\n",
    "\n",
    "\\begin{align*}\n",
    "3V_1-V_2-V_3&=V_+\\\\\n",
    "-V_1+4V_2-V_3-V_4&=V_+\\\\\n",
    "&\\vdots\\\\\n",
    "-V_{i-2}-V_{i-1}+4V_i-V_{i+1}-V_{i+2}&=0\\\\\n",
    "&\\vdots\\\\\n",
    "-V_{N-3}-V_{N-2}+4V_{N-1}-V_N&=0\\\\\n",
    "-V_{N-2}-V_{N-1}+3V_N&=0\n",
    "\\end{align*}\n",
    "\n",
    "C.Q.F.D."
   ]
  },
  {
   "cell_type": "markdown",
   "metadata": {},
   "source": [
    "### 2.\n",
    "\n",
    "On peut mettre ces équations sous forme matricielle, soit:\n",
    "\n",
    "$$\\mathbf{Av}=\\mathbf{w}$$\n",
    "\n",
    "Où $\\mathbf{A}$ est la matrice des coefficients, $\\mathbf{v}$ la matrice des tensions, et $\\mathbf{w}$ la matrice des côtés droits des équations précédemment déterminées. Alors on a:\n",
    "\n",
    "\\begin{bmatrix}\n",
    "3&-1&-1&0&0&0&0&0&\\dots&&&&&&0\\\\\n",
    "-1&4&-1&-1&0&0&0&0&\\dots&&&&&&0\\\\\n",
    "-1&-1&4&-1&-1&0&0&0&\\dots&&&&&&0\\\\\n",
    "0&-1&-1&4&-1&-1&0&0&\\dots&&&&&&0\\\\\n",
    "\\vdots&&&&&&&&\\dots&&&&&&\\vdots\\\\\n",
    "0&\\dots&&&&0&-1&-1&4&-1&-1&\\dots&&&0\\\\\n",
    "\\vdots&&&&&&&&\\dots&&&&&&\\vdots\\\\\n",
    "0&&&&&\\dots&0&0&0&0&0&-1&-1&4&-1\\\\\n",
    "0&&&&&\\dots&0&0&0&0&0&0&-1&-1&3\\\\\n",
    "\\end{bmatrix}\\begin{bmatrix}V_1\\\\V_2\\\\V_3\\\\V_4\\\\\\vdots\\\\V_i\\\\\\vdots\\\\V_{N-1}\\\\V_{N-2}\\end{bmatrix}=\\begin{bmatrix}V_+\\\\V_+\\\\0\\\\0\\\\\\vdots\\\\0\\\\\\vdots\\\\0\\\\0\\end{bmatrix}\n",
    "\n",
    "Dans le cas où $N=6$, on obtient le système suivant:\n",
    "\n",
    "\\begin{bmatrix}\n",
    "3&-1&-1&0&0&0\\\\\n",
    "-1&4&-1&-1&0&0\\\\\n",
    "-1&-1&4&-1&-1&0\\\\\n",
    "0&-1&-1&4&-1&-1\\\\\n",
    "0&0&-1&-1&4&-1\\\\\n",
    "0&0&0&-1&-1&3\n",
    "\\end{bmatrix}\\begin{bmatrix}V_1\\\\V_2\\\\V_3\\\\V_4\\\\V_5\\\\V_6\\end{bmatrix}=\\begin{bmatrix}V_+\\\\V_+\\\\0\\\\0\\\\0\\\\0\\\\\\end{bmatrix}"
   ]
  },
  {
   "cell_type": "markdown",
   "metadata": {},
   "source": [
    "On souhaite écrire un programme capable de résoudre un tel système. On utilisera la fonction *solve* de scipy: cette fonction native de scipy est faite pour résoudre de tels systèmes, sera probablement plus efficace que celle que nous pourrions coder nous-mêmes, et nous permettra de conclure sur l'utilité de *solve* à $N=10000$. Débutons par créer un programme qui génère les matrices $\\mathbf{A}$ et $\\mathbf{w}$:"
   ]
  },
  {
   "cell_type": "code",
   "execution_count": 123,
   "metadata": {},
   "outputs": [],
   "source": [
    "# But: générer les matrices A et w en vue de résoudre le système\n",
    "# Argument:\n",
    "# N: nombre de noeuds du système\n",
    "# V: valeur en volts de V+\n",
    "\n",
    "# À noter que le code ne fonctionne pas pour les matrices avec N < 4\n",
    "\n",
    "def matrices(N, V):\n",
    "    A = np.zeros((N,N))\n",
    "    b = np.zeros((N,1))\n",
    "\n",
    "    b[0,0], b[1,0] = V, V\n",
    "\n",
    "    A[0,0:3] = [3, -1, -1]\n",
    "    A[1,0:4] = [-1, 4, -1, -1]\n",
    "\n",
    "    for n in range(N-4):\n",
    "        A[n+2,n:(n+5)] = [-1, -1, 4, -1, -1]\n",
    "    \n",
    "    A[N-2, N-4:N] = [-1, -1, 4, -1]\n",
    "    A[N-1, N-3:N] = [-1, -1, 3]\n",
    "\n",
    "    return A, b"
   ]
  },
  {
   "cell_type": "markdown",
   "metadata": {},
   "source": [
    "On écrit maintenant un script pour résoudre la matrice ainsi obtenue. Débutons avec la matrice pour $N=6$:"
   ]
  },
  {
   "cell_type": "code",
   "execution_count": 139,
   "metadata": {},
   "outputs": [
    {
     "name": "stdout",
     "output_type": "stream",
     "text": [
      "La matrice de tensions pour un système à 6 noeuds est:\n",
      " [[3.7254902 ]\n",
      " [3.43137255]\n",
      " [2.74509804]\n",
      " [2.25490196]\n",
      " [1.56862745]\n",
      " [1.2745098 ]]\n"
     ]
    }
   ],
   "source": [
    "# La fonction linalg.solve accepte deux paramètres obligatoires sous la forme\n",
    "# linalg.solve(a,b), où a est la matrice des coefficients (A plus haut)\n",
    "# et b est la matrice du côté droit des équations (w plus haut)\n",
    "\n",
    "N = 6\n",
    "V = 5\n",
    "\n",
    "A, b = matrices(N, V)\n",
    "\n",
    "x = linalg.solve(A, b)\n",
    "\n",
    "print(f\"La matrice de tensions pour un système à {N} noeuds est:\\n\",x)"
   ]
  },
  {
   "cell_type": "markdown",
   "metadata": {},
   "source": [
    "Pour générer un graphique des potentiels selon l'indice du noeud, on transforme l'*array* en liste et on génère une liste d'indices, puis on fait le graphique:"
   ]
  },
  {
   "cell_type": "code",
   "execution_count": 47,
   "metadata": {},
   "outputs": [
    {
     "data": {
      "image/png": "[encoded data removed]",
      "text/plain": [
       "<Figure size 576x360 with 1 Axes>"
      ]
     },
     "metadata": {
      "needs_background": "light"
     },
     "output_type": "display_data"
    }
   ],
   "source": [
    "import matplotlib.pyplot as plt\n",
    "\n",
    "def V_vs_noeud(N,V):\n",
    "\n",
    "    A, b = matrices(N,V)\n",
    "    x = linalg.solve(A, b)\n",
    "    x = [e for n in x.tolist() for e in n]\n",
    "    i = [n+1 for n in range(N)]\n",
    "\n",
    "    V_vs_noeud_fig = plt.figure(figsize=(8,5))\n",
    "    #plt.scatter(i, x)\n",
    "    plt.plot(i, x)\n",
    "    plt.xlabel('Indice du noeud', fontsize=14)\n",
    "    plt.ylabel(\"Tension du noeud [V]\", fontsize=14)\n",
    "    plt.show()\n",
    "\n",
    "V_vs_noeud(10000,5)"
   ]
  },
  {
   "cell_type": "markdown",
   "metadata": {},
   "source": [
    "On peut tenter de résoudre le système à l'aide de solve pour $N=10000$ noeuds:"
   ]
  },
  {
   "cell_type": "code",
   "execution_count": 45,
   "metadata": {},
   "outputs": [],
   "source": [
    "A, b = matrices(10000, 5)\n",
    "\n",
    "x = linalg.solve(A, b)"
   ]
  },
  {
   "cell_type": "markdown",
   "metadata": {},
   "source": [
    "On constate que le temps d'éxécution a beaucoup augmenté: il a fallu presque 8 secondes afin de résoudre le système. Cela est dû au fait que, lorsque la matrice $\\mathbf{A}$ est très grande, il y a énormément d'éléments (surtout des 0), ce qui rend le système long à traiter. On peut utiliser le fait que la matrice est en bande, c'est-à-dire qu'il y a une bande de 5 éléments qui se répète diagonalement tout le long de la matrice. On peut employer la fonction *banded* du Newman pour résoudre plus efficacement. Cette fonction est donnée dans l'annexe E.2 comme suit:"
   ]
  },
  {
   "cell_type": "code",
   "execution_count": 56,
   "metadata": {},
   "outputs": [],
   "source": [
    "# Fonction banded tirée de l'annexe E.2 du Newman\n",
    "# But: résoudre plus efficacement un système d'équations avec une matrice A à bande\n",
    "# Arguments:\n",
    "# Aa: matrice de coefficients\n",
    "# va: matrice du côté droit du système d'équations\n",
    "# up: nombre d'éléments non nuls au-dessus de la diagonale\n",
    "# down: nombre d'éléments non nuls sous la diagonale\n",
    "\n",
    "from numpy import copy\n",
    "\n",
    "def banded(Aa,va,up,down):\n",
    "\n",
    "    # Copy the inputs and determine the size of the system\n",
    "    A = copy(Aa)\n",
    "    v = copy(va)\n",
    "    N = len(v)\n",
    "\n",
    "    # Gaussian elimination\n",
    "    for m in range(N):\n",
    "\n",
    "        # Normalization factor\n",
    "        div = A[up,m]\n",
    "\n",
    "        # Update the vector first\n",
    "        v[m] /= div\n",
    "        for k in range(1,down+1):\n",
    "            if m+k<N:\n",
    "                v[m+k] -= A[up+k,m]*v[m]\n",
    "\n",
    "        # Now normalize the pivot row of A and subtract from lower ones\n",
    "        for i in range(up):\n",
    "            j = m + up - i\n",
    "            if j<N:\n",
    "                A[i,j] /= div\n",
    "                for k in range(1,down+1):\n",
    "                    A[i+k,j] -= A[up+k,m]*A[i,j]\n",
    "\n",
    "    # Backsubstitution\n",
    "    for m in range(N-2,-1,-1):\n",
    "        for i in range(up):\n",
    "            j = m + up - i\n",
    "            if j<N:\n",
    "                v[m] -= A[i,j]*v[j]\n",
    "\n",
    "    return v"
   ]
  },
  {
   "cell_type": "markdown",
   "metadata": {},
   "source": [
    "Ici, en observant la forme générale de matrice obtenue au 1, on remarque qu'il y a deux éléments non nuls au-dessus de la diagonale, et deux éléments non nuls sous la diagonale (*up*=*down*=2). Cependant, on doit d'abord formater la matrice $\\mathbf{A}$ pour qu'elle concorde avec la forme donnée dans le Newman (voir Figure 2). Pour ce faire, on peut remarquer qu'on a simplement à \"glisser\" les éléments non nuls de chaque colonne à la bonne position. Nous n'avons pas besoin de remplacer les autres éléments par des zéros une fois l'opération terminée car, selon Newman, \"The values in the elements marked \"-\" do not matter-you can put anything  in these elements and it will make no difference to the results\". Il faut ensuite retourner la matrice formattée en gardant seulement les 5 dernières lignes:"
   ]
  },
  {
   "cell_type": "code",
   "execution_count": 157,
   "metadata": {},
   "outputs": [],
   "source": [
    "def format_A(A):\n",
    "    n = 3\n",
    "    N = len(A)\n",
    "    for col in range(N):\n",
    "        i = np.nonzero(A[:,col])[0]\n",
    "        #print(i)\n",
    "        minimum = min(i)\n",
    "        maximum = max(i)\n",
    "        #print(minimum)\n",
    "        #print(maximum)\n",
    "        slide = A[minimum:(maximum+1),col]\n",
    "\n",
    "        A[minimum+(N-n):maximum+(N-n+1),col] = slide\n",
    "        #A[minimum:(maximum+1),col] = 0\n",
    "        n += 1\n",
    "        #print(A)\n",
    "    \n",
    "    return(A[-5:])"
   ]
  },
  {
   "cell_type": "markdown",
   "metadata": {},
   "source": [
    "On peut maintenant employer la fonction *banded* pour résoudre le système à $N=10000$ noeuds."
   ]
  },
  {
   "cell_type": "code",
   "execution_count": 174,
   "metadata": {},
   "outputs": [
    {
     "name": "stdout",
     "output_type": "stream",
     "text": [
      "[[4.99888228e+00]\n",
      " [4.99861842e+00]\n",
      " [4.99802841e+00]\n",
      " ...\n",
      " [1.97158611e-03]\n",
      " [1.38158071e-03]\n",
      " [1.11772227e-03]]\n",
      "Résolution avec banded: 0.6109193000011146 secondes\n"
     ]
    }
   ],
   "source": [
    "import timeit\n",
    "\n",
    "A, v = matrices(10000, 5)\n",
    "A = format_A(A)\n",
    "\n",
    "t1 = timeit.default_timer()\n",
    "x = banded(A, v, 2, 2)\n",
    "t2 = timeit.default_timer()\n",
    "\n",
    "print(x)\n",
    "print(f\"Résolution avec banded: {t2-t1} secondes\")"
   ]
  },
  {
   "cell_type": "markdown",
   "metadata": {},
   "source": [
    "On constate qu'on arrive à la solution beaucoup plus rapidement avec la fonction *banded* (moins d'une seconde versus environ 9 secondes pour *solve*. Même en comptant le temps de reformater la matrice, on a besoin de seulement 5 secondes avec la méthode *banded*). Pour 10000 noeuds, la méthode solve prend environ 18 fois plus de temps. On peut donc imaginer que, pour des systèmes beaucoup plus grands, l'efficacité de la fonction banded permettra de sauver beaucoup de temps. Essayons avec $N=15000$ (à noter que l'allocation maximale de mémoire de VSCode est d'environ 2 Gigaoctets, ce qui fait en sorte qu'il n'est pas possible d'essayer avec des matrices de taille beaucoup supérieure étant donné qu'on atteint 2 GB de préallocation pour une matrice d'environ $N=16000$)"
   ]
  },
  {
   "cell_type": "code",
   "execution_count": 177,
   "metadata": {},
   "outputs": [
    {
     "ename": "MemoryError",
     "evalue": "Unable to allocate 1.68 GiB for an array with shape (15000, 15000) and data type float64",
     "output_type": "error",
     "traceback": [
      "\u001b[1;31m---------------------------------------------------------------------------\u001b[0m",
      "\u001b[1;31mMemoryError\u001b[0m                               Traceback (most recent call last)",
      "\u001b[1;32m<ipython-input-177-4cfb16a10bda>\u001b[0m in \u001b[0;36m<module>\u001b[1;34m\u001b[0m\n\u001b[0;32m      3\u001b[0m \u001b[0mN\u001b[0m \u001b[1;33m=\u001b[0m \u001b[1;36m15000\u001b[0m\u001b[1;33m\u001b[0m\u001b[1;33m\u001b[0m\u001b[0m\n\u001b[0;32m      4\u001b[0m \u001b[0mV\u001b[0m \u001b[1;33m=\u001b[0m \u001b[1;36m5\u001b[0m\u001b[1;33m\u001b[0m\u001b[1;33m\u001b[0m\u001b[0m\n\u001b[1;32m----> 5\u001b[1;33m \u001b[0mA\u001b[0m\u001b[1;33m,\u001b[0m \u001b[0mb\u001b[0m \u001b[1;33m=\u001b[0m \u001b[0mmatrices\u001b[0m\u001b[1;33m(\u001b[0m\u001b[0mN\u001b[0m\u001b[1;33m,\u001b[0m \u001b[0mV\u001b[0m\u001b[1;33m)\u001b[0m\u001b[1;33m\u001b[0m\u001b[1;33m\u001b[0m\u001b[0m\n\u001b[0m\u001b[0;32m      6\u001b[0m \u001b[1;33m\u001b[0m\u001b[0m\n\u001b[0;32m      7\u001b[0m \u001b[0mt1\u001b[0m \u001b[1;33m=\u001b[0m \u001b[0mtimeit\u001b[0m\u001b[1;33m.\u001b[0m\u001b[0mdefault_timer\u001b[0m\u001b[1;33m(\u001b[0m\u001b[1;33m)\u001b[0m\u001b[1;33m\u001b[0m\u001b[1;33m\u001b[0m\u001b[0m\n",
      "\u001b[1;32m<ipython-input-123-fa3e85a40e36>\u001b[0m in \u001b[0;36mmatrices\u001b[1;34m(N, V)\u001b[0m\n\u001b[0;32m      7\u001b[0m \u001b[1;33m\u001b[0m\u001b[0m\n\u001b[0;32m      8\u001b[0m \u001b[1;32mdef\u001b[0m \u001b[0mmatrices\u001b[0m\u001b[1;33m(\u001b[0m\u001b[0mN\u001b[0m\u001b[1;33m,\u001b[0m \u001b[0mV\u001b[0m\u001b[1;33m)\u001b[0m\u001b[1;33m:\u001b[0m\u001b[1;33m\u001b[0m\u001b[1;33m\u001b[0m\u001b[0m\n\u001b[1;32m----> 9\u001b[1;33m     \u001b[0mA\u001b[0m \u001b[1;33m=\u001b[0m \u001b[0mnp\u001b[0m\u001b[1;33m.\u001b[0m\u001b[0mzeros\u001b[0m\u001b[1;33m(\u001b[0m\u001b[1;33m(\u001b[0m\u001b[0mN\u001b[0m\u001b[1;33m,\u001b[0m\u001b[0mN\u001b[0m\u001b[1;33m)\u001b[0m\u001b[1;33m)\u001b[0m\u001b[1;33m\u001b[0m\u001b[1;33m\u001b[0m\u001b[0m\n\u001b[0m\u001b[0;32m     10\u001b[0m     \u001b[0mb\u001b[0m \u001b[1;33m=\u001b[0m \u001b[0mnp\u001b[0m\u001b[1;33m.\u001b[0m\u001b[0mzeros\u001b[0m\u001b[1;33m(\u001b[0m\u001b[1;33m(\u001b[0m\u001b[0mN\u001b[0m\u001b[1;33m,\u001b[0m\u001b[1;36m1\u001b[0m\u001b[1;33m)\u001b[0m\u001b[1;33m)\u001b[0m\u001b[1;33m\u001b[0m\u001b[1;33m\u001b[0m\u001b[0m\n\u001b[0;32m     11\u001b[0m \u001b[1;33m\u001b[0m\u001b[0m\n",
      "\u001b[1;31mMemoryError\u001b[0m: Unable to allocate 1.68 GiB for an array with shape (15000, 15000) and data type float64"
     ]
    }
   ],
   "source": [
    "import timeit\n",
    "\n",
    "N = 15000\n",
    "V = 5\n",
    "A, b = matrices(N, V)\n",
    "\n",
    "t1 = timeit.default_timer()\n",
    "x = linalg.solve(A, b)\n",
    "t2 = timeit.default_timer()\n",
    "\n",
    "print(f\"Le temps pour résoudre un système de 100000 noeuds avec la fonction solve est de {t2-t1} secondes\")\n",
    "\n",
    "A = format_A(A)\n",
    "t1 = timeit.default_timer()\n",
    "x = banded(A, b, 2, 2)\n",
    "t2 = timeit.default_timer()\n",
    "\n",
    "print(f\"Le temps pour résoudre un système de 100000 noeuds avec la fonction solve est de {t2-t1} secondes\")"
   ]
  },
  {
   "cell_type": "markdown",
   "metadata": {},
   "source": [
    "En observant la forme de l'équation de Schrödinger obtenue pour la série de Fourier d'un état, on décide de poser des éléments de matrice $H_{mn}$ de la façon suivante :\n",
    "$$H_{mn} = \\frac{2}{L}\\int_0^L\\sin\\frac{m\\pi x}{L}\\hat{H}\\sin\\frac{n\\pi x}{L}\\text{d}x$$"
   ]
  },
  {
   "cell_type": "markdown",
   "metadata": {},
   "source": [
    "Cette définition nous permet de réécrire l'éqauation de Schrödinger sous une forme matricielle. En insérant $H_{mn}$ dans l'équation dérivée plus haut, on a\n",
    "$$\\sum_{n=1}^{\\infty} \\psi_n\\frac{L}{2}H_{mn} = \\frac{1}{2}LE\\psi_m$$\n",
    "$$\\sum_{n=1}^{\\infty} H_{mn} \\psi_n = E\\psi_m$$\n",
    "On remarque que la partie gauche de l'équaiton correspond à une étape de la mutliplication matricielle de $\\boldsymbol{H}$ et de $\\boldsymbol{\\psi}$ où on trouve l'élément $\\psi_m$ de la matrice résultante. On remarque aussi que chaque élément de la matrice résultante est simplement l'élément de la matrice $\\psi(x)$ multiplié par le facteur $E$. On voit donc que l'équation trouvée implique l'équation aux valeurs propres suivante :\n",
    "$$\\boldsymbol{H}\\boldsymbol{\\psi} = E\\boldsymbol{\\psi}$$\n",
    "En définissant les éléments de la matrice $H$ de cette façon, on obtient donc que l'état $\\psi(x)$ est un vecteur propre de l'Hamiltonien associé à la valeur propre E.\n",
    "\n",
    "$$\\textcolor{red}{\\text{Ajouter du stock?}}"
   ]
  },
  {
   "cell_type": "markdown",
   "metadata": {},
   "source": [
    "## Question 5\n",
    "\n",
    "On sait que l'Hamiltonien correspond à :\n",
    "$$\\frac{-\\hbar}{2M}\\frac{\\text{d}^2}{\\text{d}x^2} + \\frac{ax}{L}$$"
   ]
  },
  {
   "cell_type": "markdown",
   "metadata": {},
   "source": [
    "## Question 3\n",
    "\n",
    "### 10.\n",
    "\n"
   ]
  },
  {
   "cell_type": "markdown",
   "metadata": {},
   "source": [
    "Débutons par définir les constantes du problème:"
   ]
  },
  {
   "cell_type": "code",
   "execution_count": 320,
   "metadata": {},
   "outputs": [],
   "source": [
    "toJ = 1.602176565*10**(-19) # Facteur de conversion eV --> J\n",
    "hbar = 1.054571817*10**(-34)# J s\n",
    "m = 9.1094*10**(-31) # kg\n",
    "w = 1*10**(-9) # m\n",
    "V = 20*toJ # J"
   ]
  },
  {
   "cell_type": "markdown",
   "metadata": {},
   "source": [
    "Sachant qu'on a:\n",
    "\n",
    "$$\\tan\\sqrt{w^2mE/2\\hbar^2}=\\begin{cases}\\sqrt{(V-E)/E}\\qquad \\text{pour les états pairs}\\\\\n",
    "-\\sqrt{E/(V-E)}\\qquad \\text{pour les états impairs}\\end{cases}$$\n",
    "\n",
    "On définit:\n",
    "\n",
    "$$y_1=\\tan\\sqrt{w^2mE/2\\hbar^2}$$\n",
    "$$y_2=\\sqrt{(V-E)/E}$$\n",
    "$$y_3=-\\sqrt{E/(V-E)}$$\n",
    "\n",
    "On définit la fonction *fonctions* qui retourne une liste de valeurs pour ces trois fonctions selon un *linspace* d'énergie généré à même la fonction:"
   ]
  },
  {
   "cell_type": "code",
   "execution_count": 341,
   "metadata": {},
   "outputs": [],
   "source": [
    "# But: retourner une liste de valeurs des trois fonctions pour des énergies allant de 0 à max\n",
    "# Arguments:\n",
    "# N: nombre de divisions du linspace\n",
    "# max: valeur maximale d'énergie du linspace\n",
    "# w: largeur du puits en m\n",
    "# V: hauteur du puits en eV\n",
    "\n",
    "def fonctions(N, max, w, V):\n",
    "\n",
    "    n = np.linspace(0, max, N)\n",
    "\n",
    "    y1 = [np.tan(np.sqrt(w**2 * m * E*toJ / (2 * hbar**2))) for E in n]\n",
    "    y2 = [np.sqrt((V-E) / E) for E in n]\n",
    "    y3 = [-np.sqrt(E / (V-E)) for E in n]\n",
    "\n",
    "    return y1, y2, y3, n"
   ]
  },
  {
   "cell_type": "markdown",
   "metadata": {},
   "source": [
    "On peut générer une liste de 1000 valeurs pour chacune de ces fonctions afin de générer un graphique:"
   ]
  },
  {
   "cell_type": "code",
   "execution_count": 348,
   "metadata": {},
   "outputs": [
    {
     "name": "stderr",
     "output_type": "stream",
     "text": [
      "<ipython-input-341-fb108e2df0af>:13: RuntimeWarning: divide by zero encountered in double_scalars\n",
      "  y2 = [np.sqrt((V-E) / E) for E in n]\n",
      "<ipython-input-341-fb108e2df0af>:14: RuntimeWarning: divide by zero encountered in double_scalars\n",
      "  y3 = [-np.sqrt(E / (V-E)) for E in n]\n"
     ]
    },
    {
     "data": {
      "image/png": "[encoded data removed]",
      "text/plain": [
       "<Figure size 1080x576 with 1 Axes>"
      ]
     },
     "metadata": {
      "needs_background": "light"
     },
     "output_type": "display_data"
    }
   ],
   "source": [
    "y1, y2, y3, E = fonctions(1000, 20, w, 20)\n",
    "\n",
    "# On effectue le graphique\n",
    "ax = plt.figure(figsize=(15,8))\n",
    "plt.plot(E, y1, label='y1')\n",
    "plt.plot(E, y2, label='y2')\n",
    "plt.plot(E, y3, label='y3')\n",
    "plt.xlabel('Énergie [eV]', fontsize=14)\n",
    "plt.ylabel(\"Valeurs des fonctions\", fontsize=14)\n",
    "#plt.ylim(-10,10)\n",
    "\n",
    "# On positionne la légende\n",
    "plt.legend(loc='lower right')\n",
    "plt.show()"
   ]
  },
  {
   "cell_type": "markdown",
   "metadata": {},
   "source": [
    "Il est difficile de percevoir les croisements entre les fonctions à cette échelle. On peut donc dé-commenter la ligne *plt.ylim(-10,10)* afin de n'avoir que la zone d'intérêt. Voici le graphique une fois ajusté:\n",
    "\n",
    "<center><img src=\"TP2_Q3_10.png\" style=\"width: 600px;\"/></center>\n",
    "<center>Figure X. blahhhhhhhhhhhhh"
   ]
  },
  {
   "cell_type": "markdown",
   "metadata": {},
   "source": [
    "Les lignes verticales rouges ont été ajoutées manuellement afin d'estimer les énergies pour lesquelles les fonctions se croisent (autrement dit, les solutions de l'équation). Il est important de noter que les lignes verticales bleues sont dû au fait que *matplotlib* relie toujours un point du linspace au suivant. Cependant, sachant que la fonction $y_1$ est une tangente, on remarque que ces lignes sont en fait les asymptotes de la fonction, et ainsi leur points de croisement avec $y_2$ et $y_3$ ne sont pas des solutions du système. On ignore donc les lignes verticales bleues dans notre analyse.\n",
    "\n",
    "On peut faire une grossière estimation de l'énergie de chacun des niveaux visuellement. On estime alors pour les six premiers états (en eV):\n",
    "\n",
    "$E_0=0,3\\\\$\n",
    "$E_1=1,24\\\\$\n",
    "$E_2=3,0\\\\$\n",
    "$E_3=5,05\\\\$\n",
    "$E_4=8,0\\\\$\n",
    "$E_5=11,3$"
   ]
  },
  {
   "cell_type": "markdown",
   "metadata": {},
   "source": [
    "### 11.\n",
    "\n",
    "On reformule d'abord les fonctions afin qu'elles soient égales à zéro:"
   ]
  },
  {
   "cell_type": "markdown",
   "metadata": {},
   "source": [
    "États pairs:\n",
    "\n",
    "$$\\tan\\sqrt{w^2mE/2\\hbar^2}=\\sqrt{(V-E)/E}$$\n",
    "\n",
    "$$\\tan\\sqrt{w^2mE/2\\hbar^2}-\\sqrt{(V-E)/E}=0$$\n",
    "\n",
    "États impairs:\n",
    "\n",
    "$$\\tan\\sqrt{w^2mE/2\\hbar^2}=-\\sqrt{E/(V-E)}$$\n",
    "\n",
    "$$\\tan\\sqrt{w^2mE/2\\hbar^2}+\\sqrt{E/(V-E)}=0$$"
   ]
  },
  {
   "cell_type": "markdown",
   "metadata": {},
   "source": [
    "On code deux fonctions, *f_pair* et *f_impair*, qui acceptent en entrée une énergie en joules et retournent la valeur de la fonction. On code aussi la méthode de la sécante, dont le code est tiré directement des notes de cours PHY-3500, exercice 6.16:"
   ]
  },
  {
   "cell_type": "code",
   "execution_count": 349,
   "metadata": {},
   "outputs": [],
   "source": [
    "# Fonction pour les niveaux pairs\n",
    "def f_pair(e):\n",
    "    return np.tan(np.sqrt(w**2 * m * e /(2 * hbar**2))) - np.sqrt((V-e)/e)\n",
    "\n",
    "# Fonction pour les niveaux impairs\n",
    "def f_impair(e):\n",
    "    return np.tan(np.sqrt(w**2 * m * e /(2 * hbar**2))) + np.sqrt(e/(V-e))\n",
    "\n",
    "# Méthode de la sécante directement tirée des notes de cours\n",
    "# Arguments:\n",
    "# f: fonction dont on veut déterminer les racines\n",
    "# e0 et e1: deux énergies [eV] près de la racine recherchée pour la première itération\n",
    "# target: précision souhaitée en eV\n",
    "def secante(f, e0, e1, target):\n",
    "\n",
    "    e0 = e0*toJ\n",
    "    e1 = e1*toJ\n",
    "    target = target*toJ\n",
    "\n",
    "    while True:\n",
    "        e2=e1-f(e1)*(e1-e0)/(f(e1)-f(e0))\n",
    "        if(abs(e2-e1)<target):\n",
    "            break\n",
    "        e0=e1\n",
    "        e1=e2\n",
    "\n",
    "    return e2/toJ"
   ]
  },
  {
   "cell_type": "markdown",
   "metadata": {},
   "source": [
    "On cherche donc, avec la méthode de la sécante, à déterminer à quelle énergie la fonction croise l'axe des abscisses, ce qui correspond aux énergie des différents niveaux. La méthode de la sécante demande qu'on choisisse deux points, *e0* et *e1*, le plus proche possible de la racine; on choisira donc les points situés à $0,04 \\ eV$ de part et d'autre des estimations faites au #10:"
   ]
  },
  {
   "cell_type": "code",
   "execution_count": 350,
   "metadata": {},
   "outputs": [
    {
     "name": "stdout",
     "output_type": "stream",
     "text": [
      "Énergie du niveau fondamental: 0.3179329761971772 eV\n",
      "Énergie du premier niveau: 1.2700741509244868 eV\n",
      "Énergie du second niveau: 2.8510341241806434 eV\n",
      "Énergie du troisième niveau: 5.050401008400405 eV\n",
      "Énergie du quatrième niveau: 7.849840163087997 eV\n",
      "Énergie du cinquième niveau: 11.215080174058814 eV\n"
     ]
    }
   ],
   "source": [
    "target = 0.001\n",
    "print(f\"Énergie du niveau fondamental: {secante(f_pair, 0.26, 0.34, target)} eV\")\n",
    "print(f\"Énergie du premier niveau: {secante(f_impair, 1.2, 1.28, target)} eV\")\n",
    "print(f\"Énergie du second niveau: {secante(f_pair, 2.96, 3.04, target)} eV\")\n",
    "print(f\"Énergie du troisième niveau: {secante(f_impair, 5.01, 5.09, target)} eV\")\n",
    "print(f\"Énergie du quatrième niveau: {secante(f_pair, 7.96, 8.04, target)} eV\")\n",
    "print(f\"Énergie du cinquième niveau: {secante(f_impair, 11.26, 11.34, target)} eV\")"
   ]
  }
 ],
 "metadata": {
  "interpreter": {
   "hash": "6537d6febe7fb1246163fe1377d17bbfd38b19cd973b106333eb66b4dd5f3e76"
  },
  "kernelspec": {
   "display_name": "Python 3.8.2 64-bit",
   "language": "python",
   "name": "python3"
  },
  "language_info": {
   "codemirror_mode": {
    "name": "ipython",
    "version": 3
   },
   "file_extension": ".py",
   "mimetype": "text/x-python",
   "name": "python",
   "nbconvert_exporter": "python",
   "pygments_lexer": "ipython3",
   "version": "3.8.5"
  },
  "orig_nbformat": 4
 },
 "nbformat": 4,
 "nbformat_minor": 2
}
